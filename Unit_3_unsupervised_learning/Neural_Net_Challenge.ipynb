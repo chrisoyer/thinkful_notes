{
 "cells": [
  {
   "cell_type": "markdown",
   "metadata": {},
   "source": [
    "# Challenge\n",
    "Use RBM to perform feature extraction on an image-based dataset that you find or create. If you go this route, present the features you extract and explain why this is a useful feature extraction method in the context you’re operating in. DO NOT USE either the MNIST digit recognition database or the iris data set. They’ve been worked on in very public ways very very many times and the code is easily available. (However, that code could be a useful resource to refer to)"
   ]
  },
  {
   "cell_type": "code",
   "execution_count": 29,
   "metadata": {},
   "outputs": [],
   "source": [
    "import numpy as np\n",
    "import pandas as pd\n",
    "\n",
    "from zipfile import ZipFile\n",
    "from sklearn.model_selection import train_test_split\n",
    "from sklearn.neural_network import BernoulliRBM\n",
    "from sklearn.metrics import classification_report\n",
    "from sklearn.linear_model import LogisticRegression\n",
    "from sklearn.preprocessing import StandardScaler\n",
    "from sklearn.pipeline import Pipeline\n"
   ]
  },
  {
   "cell_type": "raw",
   "metadata": {},
   "source": [
    "import cv2"
   ]
  },
  {
   "cell_type": "code",
   "execution_count": 2,
   "metadata": {},
   "outputs": [
    {
     "name": "stdout",
     "output_type": "stream",
     "text": [
      "30\n",
      "Neural_Net_Challenge.ipynb\n",
      "supervised_neural_network.ipynb\n",
      "test_zip.zip\n",
      "train_zip.zip\n"
     ]
    },
    {
     "name": "stderr",
     "output_type": "stream",
     "text": [
      "The system cannot find the path specified.\n"
     ]
    }
   ],
   "source": [
    "!cd ../../data_sets/f & ls"
   ]
  },
  {
   "cell_type": "markdown",
   "metadata": {},
   "source": [
    "data source: https://www.kaggle.com/sirsolim/images-of-primitive-3d-objects-for-classification/"
   ]
  },
  {
   "cell_type": "raw",
   "metadata": {},
   "source": [
    "zippath = r'../../data_sets/images-of-primitive-3d-objects-for-classification.zip'\n",
    "with ZipFile(zippath, 'r') as zfile:\n",
    "    zfile.extractall(path=r'../../data_sets/3d_images')"
   ]
  },
  {
   "cell_type": "code",
   "execution_count": 3,
   "metadata": {},
   "outputs": [
    {
     "name": "stdout",
     "output_type": "stream",
     "text": [
      "features_csv.csv\n",
      "features_npy.npy\n",
      "labels_csv.csv\n",
      "labels_npy.npy\n"
     ]
    }
   ],
   "source": [
    "!cd ../../data_sets/3d_images/ & ls"
   ]
  },
  {
   "cell_type": "code",
   "execution_count": 4,
   "metadata": {},
   "outputs": [
    {
     "data": {
      "text/html": [
       "<div>\n",
       "<style scoped>\n",
       "    .dataframe tbody tr th:only-of-type {\n",
       "        vertical-align: middle;\n",
       "    }\n",
       "\n",
       "    .dataframe tbody tr th {\n",
       "        vertical-align: top;\n",
       "    }\n",
       "\n",
       "    .dataframe thead th {\n",
       "        text-align: right;\n",
       "    }\n",
       "</style>\n",
       "<table border=\"1\" class=\"dataframe\">\n",
       "  <thead>\n",
       "    <tr style=\"text-align: right;\">\n",
       "      <th></th>\n",
       "      <th>0</th>\n",
       "      <th>0.1</th>\n",
       "      <th>0.2</th>\n",
       "      <th>0.3</th>\n",
       "      <th>0.4</th>\n",
       "      <th>0.5</th>\n",
       "      <th>0.6</th>\n",
       "      <th>0.7</th>\n",
       "      <th>0.8</th>\n",
       "      <th>0.9</th>\n",
       "      <th>...</th>\n",
       "      <th>0.1443</th>\n",
       "      <th>0.1444</th>\n",
       "      <th>0.1445</th>\n",
       "      <th>0.1446</th>\n",
       "      <th>0.1447</th>\n",
       "      <th>0.1448</th>\n",
       "      <th>0.1449</th>\n",
       "      <th>0.1450</th>\n",
       "      <th>0.1451</th>\n",
       "      <th>0.1452</th>\n",
       "    </tr>\n",
       "  </thead>\n",
       "  <tbody>\n",
       "    <tr>\n",
       "      <th>0</th>\n",
       "      <td>0</td>\n",
       "      <td>0</td>\n",
       "      <td>0</td>\n",
       "      <td>0</td>\n",
       "      <td>0</td>\n",
       "      <td>0</td>\n",
       "      <td>0</td>\n",
       "      <td>0</td>\n",
       "      <td>0</td>\n",
       "      <td>0</td>\n",
       "      <td>...</td>\n",
       "      <td>0</td>\n",
       "      <td>0</td>\n",
       "      <td>0</td>\n",
       "      <td>0</td>\n",
       "      <td>0</td>\n",
       "      <td>0</td>\n",
       "      <td>0</td>\n",
       "      <td>0</td>\n",
       "      <td>0</td>\n",
       "      <td>0</td>\n",
       "    </tr>\n",
       "    <tr>\n",
       "      <th>1</th>\n",
       "      <td>0</td>\n",
       "      <td>0</td>\n",
       "      <td>0</td>\n",
       "      <td>0</td>\n",
       "      <td>0</td>\n",
       "      <td>0</td>\n",
       "      <td>0</td>\n",
       "      <td>0</td>\n",
       "      <td>0</td>\n",
       "      <td>0</td>\n",
       "      <td>...</td>\n",
       "      <td>0</td>\n",
       "      <td>0</td>\n",
       "      <td>0</td>\n",
       "      <td>0</td>\n",
       "      <td>0</td>\n",
       "      <td>0</td>\n",
       "      <td>0</td>\n",
       "      <td>0</td>\n",
       "      <td>0</td>\n",
       "      <td>0</td>\n",
       "    </tr>\n",
       "    <tr>\n",
       "      <th>2</th>\n",
       "      <td>0</td>\n",
       "      <td>0</td>\n",
       "      <td>0</td>\n",
       "      <td>0</td>\n",
       "      <td>0</td>\n",
       "      <td>0</td>\n",
       "      <td>0</td>\n",
       "      <td>0</td>\n",
       "      <td>0</td>\n",
       "      <td>0</td>\n",
       "      <td>...</td>\n",
       "      <td>0</td>\n",
       "      <td>0</td>\n",
       "      <td>0</td>\n",
       "      <td>0</td>\n",
       "      <td>0</td>\n",
       "      <td>0</td>\n",
       "      <td>0</td>\n",
       "      <td>0</td>\n",
       "      <td>0</td>\n",
       "      <td>0</td>\n",
       "    </tr>\n",
       "    <tr>\n",
       "      <th>3</th>\n",
       "      <td>0</td>\n",
       "      <td>0</td>\n",
       "      <td>0</td>\n",
       "      <td>0</td>\n",
       "      <td>0</td>\n",
       "      <td>0</td>\n",
       "      <td>0</td>\n",
       "      <td>0</td>\n",
       "      <td>0</td>\n",
       "      <td>0</td>\n",
       "      <td>...</td>\n",
       "      <td>0</td>\n",
       "      <td>0</td>\n",
       "      <td>0</td>\n",
       "      <td>0</td>\n",
       "      <td>0</td>\n",
       "      <td>0</td>\n",
       "      <td>0</td>\n",
       "      <td>0</td>\n",
       "      <td>0</td>\n",
       "      <td>0</td>\n",
       "    </tr>\n",
       "    <tr>\n",
       "      <th>4</th>\n",
       "      <td>0</td>\n",
       "      <td>0</td>\n",
       "      <td>0</td>\n",
       "      <td>0</td>\n",
       "      <td>0</td>\n",
       "      <td>0</td>\n",
       "      <td>0</td>\n",
       "      <td>0</td>\n",
       "      <td>0</td>\n",
       "      <td>0</td>\n",
       "      <td>...</td>\n",
       "      <td>0</td>\n",
       "      <td>0</td>\n",
       "      <td>0</td>\n",
       "      <td>0</td>\n",
       "      <td>0</td>\n",
       "      <td>0</td>\n",
       "      <td>0</td>\n",
       "      <td>0</td>\n",
       "      <td>0</td>\n",
       "      <td>0</td>\n",
       "    </tr>\n",
       "  </tbody>\n",
       "</table>\n",
       "<p>5 rows × 1600 columns</p>\n",
       "</div>"
      ],
      "text/plain": [
       "   0  0.1  0.2  0.3  0.4  0.5  0.6  0.7  0.8  0.9  ...  0.1443  0.1444  \\\n",
       "0  0    0    0    0    0    0    0    0    0    0  ...       0       0   \n",
       "1  0    0    0    0    0    0    0    0    0    0  ...       0       0   \n",
       "2  0    0    0    0    0    0    0    0    0    0  ...       0       0   \n",
       "3  0    0    0    0    0    0    0    0    0    0  ...       0       0   \n",
       "4  0    0    0    0    0    0    0    0    0    0  ...       0       0   \n",
       "\n",
       "   0.1445  0.1446  0.1447  0.1448  0.1449  0.1450  0.1451  0.1452  \n",
       "0       0       0       0       0       0       0       0       0  \n",
       "1       0       0       0       0       0       0       0       0  \n",
       "2       0       0       0       0       0       0       0       0  \n",
       "3       0       0       0       0       0       0       0       0  \n",
       "4       0       0       0       0       0       0       0       0  \n",
       "\n",
       "[5 rows x 1600 columns]"
      ]
     },
     "execution_count": 4,
     "metadata": {},
     "output_type": "execute_result"
    }
   ],
   "source": [
    "data_df = pd.read_csv(r'../../data_sets/3d_images/features_csv.csv')\n",
    "data_df.head()"
   ]
  },
  {
   "cell_type": "code",
   "execution_count": 5,
   "metadata": {},
   "outputs": [
    {
     "data": {
      "text/plain": [
       "(479999, 1600)"
      ]
     },
     "execution_count": 5,
     "metadata": {},
     "output_type": "execute_result"
    }
   ],
   "source": [
    "data_df.shape"
   ]
  },
  {
   "cell_type": "code",
   "execution_count": 6,
   "metadata": {},
   "outputs": [],
   "source": [
    "data2_df = data_df.astype('bool').iloc[0:50_000,:]"
   ]
  },
  {
   "cell_type": "code",
   "execution_count": 7,
   "metadata": {},
   "outputs": [],
   "source": [
    "y = pd.read_csv(r'../../data_sets/3d_images/labels_csv.csv')\n",
    "y = y[0:50_000]"
   ]
  },
  {
   "cell_type": "code",
   "execution_count": 8,
   "metadata": {},
   "outputs": [
    {
     "data": {
      "text/html": [
       "<div>\n",
       "<style scoped>\n",
       "    .dataframe tbody tr th:only-of-type {\n",
       "        vertical-align: middle;\n",
       "    }\n",
       "\n",
       "    .dataframe tbody tr th {\n",
       "        vertical-align: top;\n",
       "    }\n",
       "\n",
       "    .dataframe thead th {\n",
       "        text-align: right;\n",
       "    }\n",
       "</style>\n",
       "<table border=\"1\" class=\"dataframe\">\n",
       "  <thead>\n",
       "    <tr style=\"text-align: right;\">\n",
       "      <th></th>\n",
       "      <th>0</th>\n",
       "      <th>0.1</th>\n",
       "      <th>1</th>\n",
       "      <th>0.2</th>\n",
       "    </tr>\n",
       "  </thead>\n",
       "  <tbody>\n",
       "    <tr>\n",
       "      <th>0</th>\n",
       "      <td>0</td>\n",
       "      <td>0</td>\n",
       "      <td>1</td>\n",
       "      <td>0</td>\n",
       "    </tr>\n",
       "    <tr>\n",
       "      <th>1</th>\n",
       "      <td>0</td>\n",
       "      <td>0</td>\n",
       "      <td>1</td>\n",
       "      <td>0</td>\n",
       "    </tr>\n",
       "    <tr>\n",
       "      <th>2</th>\n",
       "      <td>0</td>\n",
       "      <td>0</td>\n",
       "      <td>0</td>\n",
       "      <td>1</td>\n",
       "    </tr>\n",
       "    <tr>\n",
       "      <th>3</th>\n",
       "      <td>0</td>\n",
       "      <td>0</td>\n",
       "      <td>0</td>\n",
       "      <td>1</td>\n",
       "    </tr>\n",
       "    <tr>\n",
       "      <th>4</th>\n",
       "      <td>0</td>\n",
       "      <td>0</td>\n",
       "      <td>0</td>\n",
       "      <td>1</td>\n",
       "    </tr>\n",
       "  </tbody>\n",
       "</table>\n",
       "</div>"
      ],
      "text/plain": [
       "   0  0.1  1  0.2\n",
       "0  0    0  1    0\n",
       "1  0    0  1    0\n",
       "2  0    0  0    1\n",
       "3  0    0  0    1\n",
       "4  0    0  0    1"
      ]
     },
     "execution_count": 8,
     "metadata": {},
     "output_type": "execute_result"
    }
   ],
   "source": [
    "y.head()"
   ]
  },
  {
   "cell_type": "code",
   "execution_count": 9,
   "metadata": {},
   "outputs": [],
   "source": [
    "# Un-OHE y\n",
    "y = y.idxmax(1)"
   ]
  },
  {
   "cell_type": "code",
   "execution_count": 10,
   "metadata": {},
   "outputs": [],
   "source": [
    "X_train, X_test, y_train, y_test = train_test_split(data2_df, y, test_size=0.33)"
   ]
  },
  {
   "cell_type": "code",
   "execution_count": 11,
   "metadata": {
    "scrolled": true
   },
   "outputs": [
    {
     "name": "stdout",
     "output_type": "stream",
     "text": [
      "[BernoulliRBM] Iteration 1, pseudo-likelihood = -89.07, time = 79.90s\n",
      "[BernoulliRBM] Iteration 2, pseudo-likelihood = -96.52, time = 78.69s\n",
      "[BernoulliRBM] Iteration 3, pseudo-likelihood = -76.91, time = 80.34s\n",
      "[BernoulliRBM] Iteration 4, pseudo-likelihood = -62.70, time = 77.44s\n",
      "[BernoulliRBM] Iteration 5, pseudo-likelihood = -55.45, time = 79.38s\n",
      "[BernoulliRBM] Iteration 6, pseudo-likelihood = -59.09, time = 76.85s\n",
      "[BernoulliRBM] Iteration 7, pseudo-likelihood = -48.45, time = 78.05s\n",
      "[BernoulliRBM] Iteration 8, pseudo-likelihood = -49.04, time = 77.48s\n",
      "[BernoulliRBM] Iteration 9, pseudo-likelihood = -53.79, time = 77.28s\n",
      "[BernoulliRBM] Iteration 10, pseudo-likelihood = -56.59, time = 74.99s\n",
      "[BernoulliRBM] Iteration 11, pseudo-likelihood = -55.86, time = 75.19s\n",
      "[BernoulliRBM] Iteration 12, pseudo-likelihood = -54.04, time = 75.37s\n",
      "[BernoulliRBM] Iteration 13, pseudo-likelihood = -53.82, time = 75.24s\n",
      "[BernoulliRBM] Iteration 14, pseudo-likelihood = -45.61, time = 75.34s\n",
      "[BernoulliRBM] Iteration 15, pseudo-likelihood = -41.87, time = 75.27s\n",
      "[BernoulliRBM] Iteration 16, pseudo-likelihood = -49.29, time = 75.05s\n",
      "[BernoulliRBM] Iteration 17, pseudo-likelihood = -57.42, time = 75.59s\n",
      "[BernoulliRBM] Iteration 18, pseudo-likelihood = -49.74, time = 74.77s\n",
      "[BernoulliRBM] Iteration 19, pseudo-likelihood = -51.24, time = 75.28s\n",
      "[BernoulliRBM] Iteration 20, pseudo-likelihood = -60.64, time = 75.60s\n"
     ]
    },
    {
     "data": {
      "text/plain": [
       "array([[1.03082748e-46, 9.30662375e-27, 4.11849241e-29, ...,\n",
       "        7.18410357e-27, 1.13055316e-36, 1.37203019e-03],\n",
       "       [3.17321650e-36, 1.38326035e-07, 1.59648740e-09, ...,\n",
       "        9.00356249e-20, 4.93128901e-47, 3.74385687e-54],\n",
       "       [9.80285791e-23, 6.28860634e-11, 1.77132014e-09, ...,\n",
       "        6.68386578e-35, 3.01741813e-59, 2.41167442e-55],\n",
       "       ...,\n",
       "       [4.38831131e-29, 3.28476690e-27, 3.98546694e-23, ...,\n",
       "        3.19566011e-18, 9.99965006e-01, 5.72068534e-08],\n",
       "       [3.20629062e-55, 1.29743238e-43, 4.70171620e-69, ...,\n",
       "        2.28043329e-53, 1.37314004e-68, 1.00000000e+00],\n",
       "       [6.95061108e-41, 1.94289416e-29, 1.68003512e-36, ...,\n",
       "        2.60946920e-17, 9.99999995e-01, 1.00000000e+00]])"
      ]
     },
     "execution_count": 11,
     "metadata": {},
     "output_type": "execute_result"
    }
   ],
   "source": [
    "bern_rbm = BernoulliRBM(learning_rate=.05, n_iter=20, verbose=1)\n",
    "bern_rbm.fit_transform(X_train, y_train)"
   ]
  },
  {
   "cell_type": "code",
   "execution_count": null,
   "metadata": {},
   "outputs": [],
   "source": [
    "raw_logit = LogisticRegression(multi_class='multinomial', tol=1e-2, solver='saga', C=400)\n",
    "raw_logit.fit(X_train, y_train)\n",
    "raw_logit_pred = raw_logit.predict(X_test)"
   ]
  },
  {
   "cell_type": "code",
   "execution_count": 35,
   "metadata": {},
   "outputs": [],
   "source": [
    "raw_class_report = pd.DataFrame(classification_report(y_true=y_test, y_pred = raw_logit_pred, output_dict=True))"
   ]
  },
  {
   "cell_type": "code",
   "execution_count": null,
   "metadata": {},
   "outputs": [],
   "source": [
    "FE_logit = LogisticRegression(multi_class='multinomial', tol=1e-3, solver='saga', C=400)"
   ]
  },
  {
   "cell_type": "code",
   "execution_count": null,
   "metadata": {},
   "outputs": [],
   "source": [
    "nn_pipe = Pipeline(steps=[('nn_feat_ext', bern_rbm), ('logit', FE_logit)]) \n",
    "nn_pipe.fit(X_train, y_train)"
   ]
  },
  {
   "cell_type": "code",
   "execution_count": 32,
   "metadata": {
    "scrolled": true
   },
   "outputs": [],
   "source": [
    "FE_pred = nn_pipe.predict(X_test)"
   ]
  },
  {
   "cell_type": "code",
   "execution_count": 34,
   "metadata": {},
   "outputs": [],
   "source": [
    "nn_class_report = pd.DataFrame(classification_report(y_true=y_test, y_pred=FE_pred, output_dict=True))"
   ]
  },
  {
   "cell_type": "code",
   "execution_count": 36,
   "metadata": {},
   "outputs": [
    {
     "data": {
      "text/html": [
       "<div>\n",
       "<style scoped>\n",
       "    .dataframe tbody tr th:only-of-type {\n",
       "        vertical-align: middle;\n",
       "    }\n",
       "\n",
       "    .dataframe tbody tr th {\n",
       "        vertical-align: top;\n",
       "    }\n",
       "\n",
       "    .dataframe thead th {\n",
       "        text-align: right;\n",
       "    }\n",
       "</style>\n",
       "<table border=\"1\" class=\"dataframe\">\n",
       "  <thead>\n",
       "    <tr style=\"text-align: right;\">\n",
       "      <th></th>\n",
       "      <th>0</th>\n",
       "      <th>0.1</th>\n",
       "      <th>0.2</th>\n",
       "      <th>1</th>\n",
       "      <th>accuracy</th>\n",
       "      <th>macro avg</th>\n",
       "      <th>weighted avg</th>\n",
       "    </tr>\n",
       "  </thead>\n",
       "  <tbody>\n",
       "    <tr>\n",
       "      <th>f1-score</th>\n",
       "      <td>0.996963</td>\n",
       "      <td>0.983567</td>\n",
       "      <td>0.984381</td>\n",
       "      <td>0.986128</td>\n",
       "      <td>0.987758</td>\n",
       "      <td>0.987760</td>\n",
       "      <td>0.987757</td>\n",
       "    </tr>\n",
       "    <tr>\n",
       "      <th>precision</th>\n",
       "      <td>0.996842</td>\n",
       "      <td>0.983092</td>\n",
       "      <td>0.984986</td>\n",
       "      <td>0.986128</td>\n",
       "      <td>0.987758</td>\n",
       "      <td>0.987762</td>\n",
       "      <td>0.987757</td>\n",
       "    </tr>\n",
       "    <tr>\n",
       "      <th>recall</th>\n",
       "      <td>0.997084</td>\n",
       "      <td>0.984043</td>\n",
       "      <td>0.983776</td>\n",
       "      <td>0.986128</td>\n",
       "      <td>0.987758</td>\n",
       "      <td>0.987757</td>\n",
       "      <td>0.987758</td>\n",
       "    </tr>\n",
       "    <tr>\n",
       "      <th>support</th>\n",
       "      <td>4115.000000</td>\n",
       "      <td>4136.000000</td>\n",
       "      <td>4068.000000</td>\n",
       "      <td>4181.000000</td>\n",
       "      <td>0.987758</td>\n",
       "      <td>16500.000000</td>\n",
       "      <td>16500.000000</td>\n",
       "    </tr>\n",
       "  </tbody>\n",
       "</table>\n",
       "</div>"
      ],
      "text/plain": [
       "                     0          0.1          0.2            1  accuracy  \\\n",
       "f1-score      0.996963     0.983567     0.984381     0.986128  0.987758   \n",
       "precision     0.996842     0.983092     0.984986     0.986128  0.987758   \n",
       "recall        0.997084     0.984043     0.983776     0.986128  0.987758   \n",
       "support    4115.000000  4136.000000  4068.000000  4181.000000  0.987758   \n",
       "\n",
       "              macro avg  weighted avg  \n",
       "f1-score       0.987760      0.987757  \n",
       "precision      0.987762      0.987757  \n",
       "recall         0.987757      0.987758  \n",
       "support    16500.000000  16500.000000  "
      ]
     },
     "execution_count": 36,
     "metadata": {},
     "output_type": "execute_result"
    }
   ],
   "source": [
    "raw_class_report"
   ]
  },
  {
   "cell_type": "code",
   "execution_count": 37,
   "metadata": {},
   "outputs": [
    {
     "data": {
      "text/html": [
       "<div>\n",
       "<style scoped>\n",
       "    .dataframe tbody tr th:only-of-type {\n",
       "        vertical-align: middle;\n",
       "    }\n",
       "\n",
       "    .dataframe tbody tr th {\n",
       "        vertical-align: top;\n",
       "    }\n",
       "\n",
       "    .dataframe thead th {\n",
       "        text-align: right;\n",
       "    }\n",
       "</style>\n",
       "<table border=\"1\" class=\"dataframe\">\n",
       "  <thead>\n",
       "    <tr style=\"text-align: right;\">\n",
       "      <th></th>\n",
       "      <th>0</th>\n",
       "      <th>0.1</th>\n",
       "      <th>0.2</th>\n",
       "      <th>1</th>\n",
       "      <th>accuracy</th>\n",
       "      <th>macro avg</th>\n",
       "      <th>weighted avg</th>\n",
       "    </tr>\n",
       "  </thead>\n",
       "  <tbody>\n",
       "    <tr>\n",
       "      <th>f1-score</th>\n",
       "      <td>0.894873</td>\n",
       "      <td>0.660503</td>\n",
       "      <td>0.692022</td>\n",
       "      <td>0.725938</td>\n",
       "      <td>0.745091</td>\n",
       "      <td>0.743334</td>\n",
       "      <td>0.743305</td>\n",
       "    </tr>\n",
       "    <tr>\n",
       "      <th>precision</th>\n",
       "      <td>0.866940</td>\n",
       "      <td>0.673793</td>\n",
       "      <td>0.697552</td>\n",
       "      <td>0.730332</td>\n",
       "      <td>0.745091</td>\n",
       "      <td>0.742154</td>\n",
       "      <td>0.742147</td>\n",
       "    </tr>\n",
       "    <tr>\n",
       "      <th>recall</th>\n",
       "      <td>0.924666</td>\n",
       "      <td>0.647727</td>\n",
       "      <td>0.686578</td>\n",
       "      <td>0.721598</td>\n",
       "      <td>0.745091</td>\n",
       "      <td>0.745142</td>\n",
       "      <td>0.745091</td>\n",
       "    </tr>\n",
       "    <tr>\n",
       "      <th>support</th>\n",
       "      <td>4115.000000</td>\n",
       "      <td>4136.000000</td>\n",
       "      <td>4068.000000</td>\n",
       "      <td>4181.000000</td>\n",
       "      <td>0.745091</td>\n",
       "      <td>16500.000000</td>\n",
       "      <td>16500.000000</td>\n",
       "    </tr>\n",
       "  </tbody>\n",
       "</table>\n",
       "</div>"
      ],
      "text/plain": [
       "                     0          0.1          0.2            1  accuracy  \\\n",
       "f1-score      0.894873     0.660503     0.692022     0.725938  0.745091   \n",
       "precision     0.866940     0.673793     0.697552     0.730332  0.745091   \n",
       "recall        0.924666     0.647727     0.686578     0.721598  0.745091   \n",
       "support    4115.000000  4136.000000  4068.000000  4181.000000  0.745091   \n",
       "\n",
       "              macro avg  weighted avg  \n",
       "f1-score       0.743334      0.743305  \n",
       "precision      0.742154      0.742147  \n",
       "recall         0.745142      0.745091  \n",
       "support    16500.000000  16500.000000  "
      ]
     },
     "execution_count": 37,
     "metadata": {},
     "output_type": "execute_result"
    }
   ],
   "source": [
    "nn_class_report"
   ]
  },
  {
   "cell_type": "code",
   "execution_count": null,
   "metadata": {},
   "outputs": [],
   "source": []
  }
 ],
 "metadata": {
  "kernelspec": {
   "display_name": "Python 3",
   "language": "python",
   "name": "python3"
  },
  "language_info": {
   "codemirror_mode": {
    "name": "ipython",
    "version": 3
   },
   "file_extension": ".py",
   "mimetype": "text/x-python",
   "name": "python",
   "nbconvert_exporter": "python",
   "pygments_lexer": "ipython3",
   "version": "3.7.4"
  }
 },
 "nbformat": 4,
 "nbformat_minor": 2
}

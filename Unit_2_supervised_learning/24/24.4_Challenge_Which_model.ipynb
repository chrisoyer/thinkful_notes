{
 "cells": [
  {
   "cell_type": "markdown",
   "metadata": {},
   "source": [
    "You now have a fairly substantial starting toolbox of supervised learning methods that you can use to tackle a host of exciting problems. To make sure all of these ideas are organized in your mind, please go through the list of problems below. For each, identify which supervised learning method(s) would be best for addressing that particular problem. Explain your reasoning and discuss your answers with your mentor. Not graded."
   ]
  },
  {
   "cell_type": "markdown",
   "metadata": {},
   "source": [
    "1. Predict the running times of prospective Olympic sprinters using data from the last 20 Olympics.\n",
    "    * A: A regression model. \n",
    "* You have more features (columns) than rows in your dataset.\n",
    "    * A: Use regularization model (eg LASSO) that penalizes features with low additive value\n",
    "* Identify the most important characteristic predicting likelihood of being jailed before age 20.\n",
    "    * A: use correlation to the target, or from model look for the largest coefficient. Linear regression model might give most interpretable model.\n",
    "* Implement a filter to “highlight” emails that might be important to the recipient\n",
    "    * A: naive bays with features from word counts\n",
    "* You have 1000+ features.\n",
    "    * A: PCA or other feature reduction\n",
    "* Predict whether someone who adds items to their cart on a website will purchase the items.\n",
    "    * A: A KNN model is commonly used.\n",
    "* Your dataset dimensions are 982400 x 500\n",
    "    * Use sample of data to test models. \n",
    "* Identify faces in an image.\n",
    "    * A: not sure. \n",
    "* Predict which of three flavors of ice cream will be most popular with boys vs girls.\n",
    "    * A: "
   ]
  },
  {
   "cell_type": "markdown",
   "metadata": {},
   "source": []
  }
 ],
 "metadata": {
  "kernelspec": {
   "display_name": "Python 3",
   "language": "python",
   "name": "python3"
  },
  "language_info": {
   "codemirror_mode": {
    "name": "ipython",
    "version": 3
   },
   "file_extension": ".py",
   "mimetype": "text/x-python",
   "name": "python",
   "nbconvert_exporter": "python",
   "pygments_lexer": "ipython3",
   "version": "3.7.4"
  }
 },
 "nbformat": 4,
 "nbformat_minor": 2
}

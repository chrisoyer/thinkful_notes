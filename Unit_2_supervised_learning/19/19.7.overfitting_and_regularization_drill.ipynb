{
 "cells": [
  {
   "cell_type": "markdown",
   "metadata": {},
   "source": [
    "## Assignment\n",
    "\n",
    "In this assignment, you'll continue working with the house prices data. To complete this assignment, submit a link to a Jupyter notebook containing your solutions to the following tasks:\n",
    "\n",
    "* Load the **houseprices** data from Thinkful's database.\n",
    "* Reimplement your model from the previous checkpoint.\n",
    "* Try OLS, Lasso, Ridge, and ElasticNet regression using the same model specification. This time, you need to do **k-fold cross-validation** to choose the best hyperparameter values for your models. Which model is the best? Why?\n",
    "\n",
    "This is not a graded checkpoint, but you should discuss your solution with your mentor. After you've submitted your work, take a moment to compare your solution to [this example solution](https://github.com/Thinkful-Ed/machine-learning-regression-problems/blob/master/notebooks/7.solution_overfitting_and_regularization.ipynb)."
   ]
  },
  {
   "cell_type": "code",
   "execution_count": 1,
   "metadata": {},
   "outputs": [],
   "source": [
    "import numpy as np\n",
    "import pandas as pd\n",
    "from sklearn.model_selection import train_test_split\n",
    "import matplotlib.pyplot as plt\n",
    "import seaborn as sns\n",
    "from sqlalchemy import create_engine\n",
    "from scipy.stats import mode\n",
    "import statsmodels.api as sm\n",
    "from statsmodels.tools.eval_measures import mse, rmse\n",
    "from sklearn.linear_model import LinearRegression\n",
    "from sklearn.linear_model import Ridge\n",
    "from sklearn.linear_model import Lasso\n",
    "from sklearn.linear_model import ElasticNet\n"
   ]
  },
  {
   "cell_type": "code",
   "execution_count": 2,
   "metadata": {},
   "outputs": [],
   "source": [
    "import warnings\n",
    "warnings.filterwarnings(action=\"ignore\")"
   ]
  },
  {
   "cell_type": "code",
   "execution_count": 3,
   "metadata": {
    "code_folding": []
   },
   "outputs": [
    {
     "data": {
      "text/plain": [
       "{'numpy': '1.16.2',\n",
       " 'pandas': '0.24.2',\n",
       " 'sklearn': '0.0',\n",
       " 'matplotlib': '3.0.3',\n",
       " 'seaborn': '0.9.0',\n",
       " 'sqlalchemy': '1.3.5',\n",
       " 'scipy': '1.2.1',\n",
       " 'statsmodels': '0.10.1'}"
      ]
     },
     "execution_count": 3,
     "metadata": {},
     "output_type": "execute_result"
    }
   ],
   "source": [
    "# %load ../utility/overhead.py\n",
    "#record module versions used in cell 1\n",
    "#\n",
    "def version_recorder():\n",
    "    '''\n",
    "    only works if import is first cell run. prints and then returns dictionary with modules:version.\n",
    "    '''\n",
    "    import pkg_resources\n",
    "    resources = In[1].splitlines()\n",
    "    ##ADD: drop lines if not _from_ or _import_\n",
    "    version_dict = { resource.split()[1].split(\".\")[0] : pkg_resources.get_distribution(resource.split()[1].split(\".\")[0]).version for resource in resources }\n",
    "    return version_dict\n",
    "version_recorder()"
   ]
  },
  {
   "cell_type": "code",
   "execution_count": 4,
   "metadata": {},
   "outputs": [],
   "source": [
    "#credentials\n",
    "user = 'dsbc_student'\n",
    "pw = '7*.8G9QH21'\n",
    "host = '142.93.121.174'\n",
    "port = '5432'\n",
    "db = 'houseprices'\n",
    "dialect = 'postgresql'\n",
    "\n",
    "engine = create_engine('{}://{}:{}@{}:{}/{}'.format(dialect, user, pw, host, port, db))\n",
    "engine.table_names()\n",
    "\n",
    "sql_query = '''\n",
    "SELECT\n",
    "    *\n",
    "FROM\n",
    "    houseprices\n",
    "'''\n",
    "source_df = pd.read_sql(sql_query, con=engine)\n",
    "engine.dispose()\n",
    "house_df = source_df.copy()"
   ]
  },
  {
   "cell_type": "code",
   "execution_count": 5,
   "metadata": {},
   "outputs": [],
   "source": [
    "#create df with categorical variables to select some features from\n",
    "categorical_feat = house_df.dtypes[house_df.dtypes == 'object'].index\n",
    "new_categories_df = pd.DataFrame()\n",
    "for feature in categorical_feat:\n",
    "    new_categories_df = pd.concat([new_categories_df, \n",
    "                                   pd.get_dummies(house_df[feature], columns=categorical_feat, drop_first=True, prefix = feature)], axis=1)\n",
    "#append numerical features to new df\n",
    "new_categories_df = pd.concat([new_categories_df, \n",
    "                               house_df.filter(items=(house_df.columns[(house_df.dtypes.values != 'object').tolist()]), axis=1) ], \n",
    "                              axis=1) #tolist() needed to avoid hashability issue\n",
    "\n",
    "#create X & y\n",
    "X = house_df[[\"overallqual\", \"grlivarea\", \"fullbath\", \"yearbuilt\",]]\n",
    "pd.concat([X, new_categories_df[['exterqual_TA', 'foundation_CBlock']]])\n",
    "X[\"overalqual_x_year\"] = house_df.overallqual * house_df.yearbuilt\n",
    "y = house_df.saleprice"
   ]
  },
  {
   "cell_type": "code",
   "execution_count": 6,
   "metadata": {},
   "outputs": [],
   "source": [
    "def test_model(X=X, y=y, kfold = 5, alpha_lambda_start=100, alpha_lambda_stop=1_000_000, LASSO_amt=0, Ridge_amt=0):\n",
    "    for i, alpha_lambda in enumerate(np.logspace(np.log(alpha_lambda_start), np.log(alpha_lambda_stop), num=5)):\n",
    "        #split into training and testing sets\n",
    "        X_train, X_test, y_train, y_test = train_test_split(X, y, test_size=0.2, random_state=int(42*(alpha_lambda**.5)))\n",
    "        \n",
    "        if LASSO_amt + Ridge_amt == 0:\n",
    "            sklModel = LinearRegression()\n",
    "            sm.add_constant(X_train)\n",
    "            smModel = sm.OLS(y_train, X_train).fit()\n",
    "            OLS_switch = True\n",
    "        elif (LASSO_amt==1) & (Ridge_amt==0):\n",
    "            sklModel = Lasso()\n",
    "            sm.add_constant(X_train)\n",
    "            smModel = sm.OLS(y_train, X_train).fit_regularized(L1_wt=LASSO_amt, alpha=alpha_lambda)\n",
    "        elif (LASSO_amt==0) & (Ridge_amt==1):\n",
    "            sklModel = Ridge()\n",
    "            sm.add_constant(X_train)\n",
    "            smModel = sm.OLS(y_train, X_train).fit_regularized(L1_wt=LASSO_amt, alpha=alpha_lambda)\n",
    "        else:\n",
    "            sklModel = ElasticNet()\n",
    "            sm.add_constant(X_train)\n",
    "            smModel = sm.OLS(y_train, X_train).fit_regularized(L1_wt=LASSO_amt, alpha=alpha_lambda)\n",
    "               \n",
    "        sklModel = sklModel.fit(X_train, y_train)\n",
    "        \n",
    "        y_preds = smModel.predict(X_test)\n",
    "        print('-----------{}-FOLD-------------'.format(i))\n",
    "        print(\"lambda is {}\".format(alpha_lambda))\n",
    "        print('adjusted R^2 is {}'.format(sklModel.score(X_train, y_train)))\n",
    "        try:\n",
    "            aic, bic = smModel.aic, smModel.bic\n",
    "        except:\n",
    "            aic = \"not calculated\"\n",
    "            bic = \"not calculated\"\n",
    "        print('AIC is {} and BIC is {}'.format(aic, bic))\n",
    "        print(\"root mean squared error is: {}\".format(rmse(y_test, y_preds)))\n",
    "        print(\"mean squared error is: {}\\n\".format(mse(y_test, y_preds)))\n",
    "       "
   ]
  },
  {
   "cell_type": "code",
   "execution_count": 7,
   "metadata": {},
   "outputs": [
    {
     "name": "stdout",
     "output_type": "stream",
     "text": [
      "-----------0-FOLD-------------\n",
      "lambda is 200.71743249053017\n",
      "adjusted R^2 is 0.7555160641583969\n",
      "AIC is 28056.80910761802 and BIC is 28082.12434843496\n",
      "root mean squared error is: 40615.77377008059\n",
      "mean squared error is: 1649641078.9423661\n",
      "\n",
      "-----------1-FOLD-------------\n",
      "lambda is 2843.6598062637377\n",
      "adjusted R^2 is 0.7426663155426882\n",
      "AIC is 28103.617776532865 and BIC is 28128.933017349806\n",
      "root mean squared error is: 37252.622822450925\n",
      "mean squared error is: 1387757907.1517916\n",
      "\n",
      "-----------2-FOLD-------------\n",
      "lambda is 40287.487705590545\n",
      "adjusted R^2 is 0.7588547816888873\n",
      "AIC is 28041.590624299704 and BIC is 28066.905865116645\n",
      "root mean squared error is: 41439.30764819615\n",
      "mean squared error is: 1717216218.3618479\n",
      "\n",
      "-----------3-FOLD-------------\n",
      "lambda is 570772.0951897759\n",
      "adjusted R^2 is 0.7529078091453837\n",
      "AIC is 28152.521421440266 and BIC is 28177.836662257207\n",
      "root mean squared error is: 33460.0301195766\n",
      "mean squared error is: 1119573615.6029735\n",
      "\n",
      "-----------4-FOLD-------------\n",
      "lambda is 8086401.093759918\n",
      "adjusted R^2 is 0.7383172979899311\n",
      "AIC is 28053.83127091099 and BIC is 28079.14651172793\n",
      "root mean squared error is: 41655.90135680706\n",
      "mean squared error is: 1735214117.8480403\n",
      "\n"
     ]
    }
   ],
   "source": [
    "#Original Model\n",
    "test_model(X, y, alpha_lambda_start=10, alpha_lambda_stop=1_000, LASSO_amt=0, Ridge_amt=0)"
   ]
  },
  {
   "cell_type": "code",
   "execution_count": 8,
   "metadata": {},
   "outputs": [
    {
     "name": "stdout",
     "output_type": "stream",
     "text": [
      "-----------0-FOLD-------------\n",
      "lambda is 200.71743249053017\n",
      "adjusted R^2 is 0.7417182343455404\n",
      "AIC is not calculated and BIC is not calculated\n",
      "root mean squared error is: 42649.12381543864\n",
      "mean squared error is: 1818947762.224615\n",
      "\n",
      "-----------1-FOLD-------------\n",
      "lambda is 151640.936978285\n",
      "adjusted R^2 is 0.7622849412977937\n",
      "AIC is not calculated and BIC is not calculated\n",
      "root mean squared error is: 46835.817927350836\n",
      "mean squared error is: 2193593840.923958\n",
      "\n",
      "-----------2-FOLD-------------\n",
      "lambda is 114563909.48373185\n",
      "adjusted R^2 is 0.7376287989409189\n",
      "AIC is not calculated and BIC is not calculated\n",
      "root mean squared error is: 47629.51768843334\n",
      "mean squared error is: 2268570955.2327847\n",
      "\n",
      "-----------3-FOLD-------------\n",
      "lambda is 86552415315.63667\n",
      "adjusted R^2 is 0.7666555797032376\n",
      "AIC is not calculated and BIC is not calculated\n",
      "root mean squared error is: 196648.87956499474\n",
      "mean squared error is: 38670781834.16781\n",
      "\n",
      "-----------4-FOLD-------------\n",
      "lambda is 65389882649161.6\n",
      "adjusted R^2 is 0.7685656117117678\n",
      "AIC is not calculated and BIC is not calculated\n",
      "root mean squared error is: 192640.81485023984\n",
      "mean squared error is: 37110483546.16438\n",
      "\n"
     ]
    }
   ],
   "source": [
    "#Ridge Regression\n",
    "test_model(X, y, alpha_lambda_start=10, alpha_lambda_stop=1_000_000, LASSO_amt=1, Ridge_amt=0)"
   ]
  },
  {
   "cell_type": "code",
   "execution_count": 9,
   "metadata": {},
   "outputs": [
    {
     "name": "stdout",
     "output_type": "stream",
     "text": [
      "-----------0-FOLD-------------\n",
      "lambda is 200.71743249053017\n",
      "adjusted R^2 is 0.737771355472431\n",
      "AIC is not calculated and BIC is not calculated\n",
      "root mean squared error is: 42859.470570931575\n",
      "mean squared error is: 1836934217.6205494\n",
      "\n",
      "-----------1-FOLD-------------\n",
      "lambda is 151640.936978285\n",
      "adjusted R^2 is 0.7566345992771841\n",
      "AIC is not calculated and BIC is not calculated\n",
      "root mean squared error is: 46560.31782607827\n",
      "mean squared error is: 2167863196.0654225\n",
      "\n",
      "-----------2-FOLD-------------\n",
      "lambda is 114563909.48373185\n",
      "adjusted R^2 is 0.7348960313131602\n",
      "AIC is not calculated and BIC is not calculated\n",
      "root mean squared error is: 68660.43781365936\n",
      "mean squared error is: 4714255720.763384\n",
      "\n",
      "-----------3-FOLD-------------\n",
      "lambda is 86552415315.63667\n",
      "adjusted R^2 is 0.7605857992283367\n",
      "AIC is not calculated and BIC is not calculated\n",
      "root mean squared error is: 196648.87956499474\n",
      "mean squared error is: 38670781834.16781\n",
      "\n",
      "-----------4-FOLD-------------\n",
      "lambda is 65389882649161.6\n",
      "adjusted R^2 is 0.7610775997780613\n",
      "AIC is not calculated and BIC is not calculated\n",
      "root mean squared error is: 192640.81485023984\n",
      "mean squared error is: 37110483546.16438\n",
      "\n"
     ]
    }
   ],
   "source": [
    "#elasticnet\n",
    "test_model(X, y, alpha_lambda_start=10, alpha_lambda_stop=1_000_000, LASSO_amt=.5, Ridge_amt=.5)"
   ]
  },
  {
   "cell_type": "markdown",
   "metadata": {},
   "source": [
    "All of the models have relatively similar results..."
   ]
  }
 ],
 "metadata": {
  "kernelspec": {
   "display_name": "Python 3",
   "language": "python",
   "name": "python3"
  },
  "language_info": {
   "codemirror_mode": {
    "name": "ipython",
    "version": 3
   },
   "file_extension": ".py",
   "mimetype": "text/x-python",
   "name": "python",
   "nbconvert_exporter": "python",
   "pygments_lexer": "ipython3",
   "version": "3.7.3"
  }
 },
 "nbformat": 4,
 "nbformat_minor": 2
}

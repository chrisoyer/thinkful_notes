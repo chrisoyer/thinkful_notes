{
 "cells": [
  {
   "cell_type": "markdown",
   "metadata": {},
   "source": [
    "## Assignment\n",
    "\n",
    "In this assignment, you'll continue working with the house prices data. To complete this assignment, submit a link to a Jupyter notebook containing your solutions to the following tasks:\n",
    "\n",
    "* Load the **houseprices** data from Thinkful's database.\n",
    "* Reimplement your model from the previous checkpoint.\n",
    "* Try OLS, Lasso, Ridge, and ElasticNet regression using the same model specification. This time, you need to do **k-fold cross-validation** to choose the best hyperparameter values for your models. Which model is the best? Why?\n",
    "\n",
    "This is not a graded checkpoint, but you should discuss your solution with your mentor. After you've submitted your work, take a moment to compare your solution to [this example solution](https://github.com/Thinkful-Ed/machine-learning-regression-problems/blob/master/notebooks/7.solution_overfitting_and_regularization.ipynb)."
   ]
  },
  {
   "cell_type": "code",
   "execution_count": 1,
   "metadata": {},
   "outputs": [],
   "source": [
    "import numpy as np\n",
    "import pandas as pd\n",
    "from sklearn.model_selection import train_test_split\n",
    "import matplotlib.pyplot as plt\n",
    "import seaborn as sns\n",
    "from sqlalchemy import create_engine\n",
    "from scipy.stats import mode\n",
    "import statsmodels.api as sm\n",
    "from statsmodels.tools.eval_measures import mse, rmse\n",
    "from sklearn.linear_model import LinearRegression\n",
    "from sklearn.linear_model import Ridge\n",
    "from sklearn.linear_model import Lasso\n",
    "from sklearn.linear_model import ElasticNet"
   ]
  },
  {
   "cell_type": "code",
   "execution_count": 2,
   "metadata": {
    "code_folding": []
   },
   "outputs": [
    {
     "data": {
      "text/plain": [
       "{'numpy': '1.16.2',\n",
       " 'pandas': '0.24.2',\n",
       " 'sklearn': '0.0',\n",
       " 'matplotlib': '3.0.3',\n",
       " 'seaborn': '0.9.0',\n",
       " 'sqlalchemy': '1.3.5',\n",
       " 'scipy': '1.2.1',\n",
       " 'statsmodels': '0.10.1'}"
      ]
     },
     "execution_count": 2,
     "metadata": {},
     "output_type": "execute_result"
    }
   ],
   "source": [
    "# %load ../utility/overhead.py\n",
    "#record module versions used in cell 1\n",
    "#\n",
    "def version_recorder():\n",
    "    '''\n",
    "    only works if import is first cell run. prints and then returns dictionary with modules:version.\n",
    "    '''\n",
    "    import pkg_resources\n",
    "    resources = In[1].splitlines()\n",
    "    ##ADD: drop lines if not _from_ or _import_\n",
    "    version_dict = { resource.split()[1].split(\".\")[0] : pkg_resources.get_distribution(resource.split()[1].split(\".\")[0]).version for resource in resources }\n",
    "    return version_dict\n",
    "version_recorder()"
   ]
  },
  {
   "cell_type": "code",
   "execution_count": 3,
   "metadata": {},
   "outputs": [],
   "source": [
    "#credentials\n",
    "user = 'dsbc_student'\n",
    "pw = '7*.8G9QH21'\n",
    "host = '142.93.121.174'\n",
    "port = '5432'\n",
    "db = 'houseprices'\n",
    "dialect = 'postgresql'\n",
    "\n",
    "engine = create_engine('{}://{}:{}@{}:{}/{}'.format(dialect, user, pw, host, port, db))\n",
    "engine.table_names()\n",
    "\n",
    "sql_query = '''\n",
    "SELECT\n",
    "    *\n",
    "FROM\n",
    "    houseprices\n",
    "'''\n",
    "source_df = pd.read_sql(sql_query, con=engine)\n",
    "engine.dispose()\n",
    "house_df = source_df.copy()"
   ]
  },
  {
   "cell_type": "code",
   "execution_count": 4,
   "metadata": {},
   "outputs": [
    {
     "name": "stderr",
     "output_type": "stream",
     "text": [
      "c:\\users\\chris\\appdata\\local\\programs\\python\\python37-32\\lib\\site-packages\\ipykernel_launcher.py:14: FutureWarning: Sorting because non-concatenation axis is not aligned. A future version\n",
      "of pandas will change to not sort by default.\n",
      "\n",
      "To accept the future behavior, pass 'sort=False'.\n",
      "\n",
      "To retain the current behavior and silence the warning, pass 'sort=True'.\n",
      "\n",
      "  \n",
      "c:\\users\\chris\\appdata\\local\\programs\\python\\python37-32\\lib\\site-packages\\ipykernel_launcher.py:15: SettingWithCopyWarning: \n",
      "A value is trying to be set on a copy of a slice from a DataFrame.\n",
      "Try using .loc[row_indexer,col_indexer] = value instead\n",
      "\n",
      "See the caveats in the documentation: http://pandas.pydata.org/pandas-docs/stable/indexing.html#indexing-view-versus-copy\n",
      "  from ipykernel import kernelapp as app\n"
     ]
    }
   ],
   "source": [
    "#create df with categorical variables to select some features from\n",
    "categorical_feat = house_df.dtypes[house_df.dtypes == 'object'].index\n",
    "new_categories_df = pd.DataFrame()\n",
    "for feature in categorical_feat:\n",
    "    new_categories_df = pd.concat([new_categories_df, \n",
    "                                   pd.get_dummies(house_df[feature], columns=categorical_feat, drop_first=True, prefix = feature)], axis=1)\n",
    "#append numerical features to new df\n",
    "new_categories_df = pd.concat([new_categories_df, \n",
    "                               house_df.filter(items=(house_df.columns[(house_df.dtypes.values != 'object').tolist()]), axis=1) ], \n",
    "                              axis=1) #tolist() needed to avoid hashability issue\n",
    "\n",
    "#create X & y\n",
    "X = house_df[[\"overallqual\", \"grlivarea\", \"fullbath\", \"yearbuilt\",]]\n",
    "pd.concat([X, new_categories_df[['exterqual_TA', 'foundation_CBlock']]])\n",
    "X[\"overalqual_x_year\"] = house_df.overallqual * house_df.yearbuilt\n",
    "y = house_df.saleprice"
   ]
  },
  {
   "cell_type": "code",
   "execution_count": 92,
   "metadata": {},
   "outputs": [],
   "source": [
    "def test_model(X=X, y=y, kfold = 5, alpha_lambda_start=100, alpha_lambda_stop=1_000_000, LASSO_amt=0, Ridge_amt=0):\n",
    "    for i, alpha_lambda in enumerate(np.logspace(np.log(alpha_lambda_start), np.log(alpha_lambda_stop), num=5)):\n",
    "        #split into training and testing sets\n",
    "        X_train, X_test, y_train, y_test = train_test_split(X, y, test_size=0.2, random_state=int(42/(alpha_lambda**.5)))\n",
    "        \n",
    "        if LASSO_amt + Ridge_amt == 0:\n",
    "            sklModel = LinearRegression()\n",
    "            sm.add_constant(X_train)\n",
    "            smModel = sm.OLS(y_train, X_train).fit()\n",
    "            OLS_switch = True\n",
    "        elif (LASSO_amt==1) & (Ridge_amt==0):\n",
    "            sklModel = Lasso()\n",
    "            sm.add_constant(X_train)\n",
    "            smModel = sm.OLS(y_train, X_train).fit_regularized(L1_wt=LASSO_amt, alpha=alpha_lambda)\n",
    "        elif (LASSO_amt==0) & (Ridge_amt==1):\n",
    "            sklModel = Ridge()\n",
    "            sm.add_constant(X_train)\n",
    "            smModel = sm.OLS(y_train, X_train).fit_regularized(L1_wt=LASSO_amt, alpha=alpha_lambda)\n",
    "        else:\n",
    "            sklModel = ElasticNet()\n",
    "            sm.add_constant(X_train)\n",
    "            smModel = sm.OLS(y_train, X_train).fit_regularized(L1_wt=LASSO_amt, alpha=alpha_lambda)\n",
    "               \n",
    "        sklModel = sklModel.fit(X_train, y_train)\n",
    "        \n",
    "        y_preds = smModel.predict(X_test)\n",
    "        print('-----------{}-FOLD-------------'.format(i))\n",
    "        print('adjusted R^2 is {}'.format(sklModel.score(X_train, y_train)))\n",
    "        try:\n",
    "            aic, bic = smModel.aic, smModel.bic\n",
    "        except:\n",
    "            aic = \"not calculated\"\n",
    "            bic = \"not calculated\"\n",
    "        print('AIC is {} and BIC is {}'.format(aic, bic))\n",
    "        print(\"root mean squared error is: {}\".format(rmse(y_test, y_preds)))\n",
    "        print(\"mean squared error is: {}\\n\".format(mse(y_test, y_preds)))\n",
    "       "
   ]
  },
  {
   "cell_type": "code",
   "execution_count": 93,
   "metadata": {},
   "outputs": [
    {
     "name": "stdout",
     "output_type": "stream",
     "text": [
      "-----------0-FOLD-------------\n",
      "adjusted R^2 is 0.7448195078485127\n",
      "AIC is 28134.704376175985 and BIC is 28160.019616992926\n",
      "root mean squared error is: 34692.07982273649\n",
      "mean squared error is: 1203540402.4271202\n",
      "\n",
      "-----------1-FOLD-------------\n",
      "adjusted R^2 is 0.7720052401391067\n",
      "AIC is 27943.82126508257 and BIC is 27969.13650589951\n",
      "root mean squared error is: 47355.158296741785\n",
      "mean squared error is: 2242511017.3094726\n",
      "\n",
      "-----------2-FOLD-------------\n",
      "adjusted R^2 is 0.7720052401391067\n",
      "AIC is 27943.82126508257 and BIC is 27969.13650589951\n",
      "root mean squared error is: 47355.158296741785\n",
      "mean squared error is: 2242511017.3094726\n",
      "\n",
      "-----------3-FOLD-------------\n",
      "adjusted R^2 is 0.7720052401391067\n",
      "AIC is 27943.82126508257 and BIC is 27969.13650589951\n",
      "root mean squared error is: 47355.158296741785\n",
      "mean squared error is: 2242511017.3094726\n",
      "\n",
      "-----------4-FOLD-------------\n",
      "adjusted R^2 is 0.7720052401391067\n",
      "AIC is 27943.82126508257 and BIC is 27969.13650589951\n",
      "root mean squared error is: 47355.158296741785\n",
      "mean squared error is: 2242511017.3094726\n",
      "\n"
     ]
    },
    {
     "name": "stderr",
     "output_type": "stream",
     "text": [
      "c:\\users\\chris\\appdata\\local\\programs\\python\\python37-32\\lib\\site-packages\\numpy\\core\\fromnumeric.py:2389: FutureWarning: Method .ptp is deprecated and will be removed in a future version. Use numpy.ptp instead.\n",
      "  return ptp(axis=axis, out=out, **kwargs)\n",
      "c:\\users\\chris\\appdata\\local\\programs\\python\\python37-32\\lib\\site-packages\\numpy\\core\\fromnumeric.py:2389: FutureWarning: Method .ptp is deprecated and will be removed in a future version. Use numpy.ptp instead.\n",
      "  return ptp(axis=axis, out=out, **kwargs)\n",
      "c:\\users\\chris\\appdata\\local\\programs\\python\\python37-32\\lib\\site-packages\\numpy\\core\\fromnumeric.py:2389: FutureWarning: Method .ptp is deprecated and will be removed in a future version. Use numpy.ptp instead.\n",
      "  return ptp(axis=axis, out=out, **kwargs)\n",
      "c:\\users\\chris\\appdata\\local\\programs\\python\\python37-32\\lib\\site-packages\\numpy\\core\\fromnumeric.py:2389: FutureWarning: Method .ptp is deprecated and will be removed in a future version. Use numpy.ptp instead.\n",
      "  return ptp(axis=axis, out=out, **kwargs)\n",
      "c:\\users\\chris\\appdata\\local\\programs\\python\\python37-32\\lib\\site-packages\\numpy\\core\\fromnumeric.py:2389: FutureWarning: Method .ptp is deprecated and will be removed in a future version. Use numpy.ptp instead.\n",
      "  return ptp(axis=axis, out=out, **kwargs)\n"
     ]
    }
   ],
   "source": [
    "#Original Model\n",
    "test_model(X, y, alpha_lambda_start=10, alpha_lambda_stop=1_000_000, LASSO_amt=0, Ridge_amt=0)"
   ]
  },
  {
   "cell_type": "code",
   "execution_count": 94,
   "metadata": {},
   "outputs": [
    {
     "name": "stderr",
     "output_type": "stream",
     "text": [
      "c:\\users\\chris\\appdata\\local\\programs\\python\\python37-32\\lib\\site-packages\\numpy\\core\\fromnumeric.py:2389: FutureWarning: Method .ptp is deprecated and will be removed in a future version. Use numpy.ptp instead.\n",
      "  return ptp(axis=axis, out=out, **kwargs)\n",
      "c:\\users\\chris\\appdata\\local\\programs\\python\\python37-32\\lib\\site-packages\\sklearn\\linear_model\\coordinate_descent.py:475: ConvergenceWarning: Objective did not converge. You might want to increase the number of iterations. Duality gap: 1002587296760.7627, tolerance: 754392416.300526\n",
      "  positive)\n",
      "c:\\users\\chris\\appdata\\local\\programs\\python\\python37-32\\lib\\site-packages\\numpy\\core\\fromnumeric.py:2389: FutureWarning: Method .ptp is deprecated and will be removed in a future version. Use numpy.ptp instead.\n",
      "  return ptp(axis=axis, out=out, **kwargs)\n"
     ]
    },
    {
     "name": "stdout",
     "output_type": "stream",
     "text": [
      "-----------0-FOLD-------------\n",
      "adjusted R^2 is 0.7342035716170321\n",
      "AIC is not calculated and BIC is not calculated\n",
      "root mean squared error is: 36351.05735391397\n",
      "mean squared error is: 1321399370.747543\n",
      "\n",
      "-----------1-FOLD-------------\n",
      "adjusted R^2 is 0.7623524326063086\n",
      "AIC is not calculated and BIC is not calculated\n",
      "root mean squared error is: 48940.74438199695\n",
      "mean squared error is: 2395196460.663966\n",
      "\n",
      "-----------2-FOLD-------------\n",
      "adjusted R^2 is 0.7623524326063086\n",
      "AIC is not calculated and BIC is not calculated\n",
      "root mean squared error is: 56331.881509439765\n",
      "mean squared error is: 3173280874.393562\n",
      "\n",
      "-----------3-FOLD-------------\n",
      "adjusted R^2 is 0.7623524326063086\n",
      "AIC is not calculated and BIC is not calculated\n",
      "root mean squared error is: 201164.81662151174\n",
      "mean squared error is: 40467283446.36644\n",
      "\n",
      "-----------4-FOLD-------------\n",
      "adjusted R^2 is 0.7623524326063086\n",
      "AIC is not calculated and BIC is not calculated\n",
      "root mean squared error is: 201164.81662151174\n",
      "mean squared error is: 40467283446.36644\n",
      "\n"
     ]
    },
    {
     "name": "stderr",
     "output_type": "stream",
     "text": [
      "c:\\users\\chris\\appdata\\local\\programs\\python\\python37-32\\lib\\site-packages\\sklearn\\linear_model\\coordinate_descent.py:475: ConvergenceWarning: Objective did not converge. You might want to increase the number of iterations. Duality gap: 852914112483.8354, tolerance: 717785316.078406\n",
      "  positive)\n",
      "c:\\users\\chris\\appdata\\local\\programs\\python\\python37-32\\lib\\site-packages\\numpy\\core\\fromnumeric.py:2389: FutureWarning: Method .ptp is deprecated and will be removed in a future version. Use numpy.ptp instead.\n",
      "  return ptp(axis=axis, out=out, **kwargs)\n",
      "c:\\users\\chris\\appdata\\local\\programs\\python\\python37-32\\lib\\site-packages\\sklearn\\linear_model\\coordinate_descent.py:475: ConvergenceWarning: Objective did not converge. You might want to increase the number of iterations. Duality gap: 852914112483.8354, tolerance: 717785316.078406\n",
      "  positive)\n",
      "c:\\users\\chris\\appdata\\local\\programs\\python\\python37-32\\lib\\site-packages\\numpy\\core\\fromnumeric.py:2389: FutureWarning: Method .ptp is deprecated and will be removed in a future version. Use numpy.ptp instead.\n",
      "  return ptp(axis=axis, out=out, **kwargs)\n",
      "c:\\users\\chris\\appdata\\local\\programs\\python\\python37-32\\lib\\site-packages\\sklearn\\linear_model\\coordinate_descent.py:475: ConvergenceWarning: Objective did not converge. You might want to increase the number of iterations. Duality gap: 852914112483.8354, tolerance: 717785316.078406\n",
      "  positive)\n",
      "c:\\users\\chris\\appdata\\local\\programs\\python\\python37-32\\lib\\site-packages\\numpy\\core\\fromnumeric.py:2389: FutureWarning: Method .ptp is deprecated and will be removed in a future version. Use numpy.ptp instead.\n",
      "  return ptp(axis=axis, out=out, **kwargs)\n",
      "c:\\users\\chris\\appdata\\local\\programs\\python\\python37-32\\lib\\site-packages\\sklearn\\linear_model\\coordinate_descent.py:475: ConvergenceWarning: Objective did not converge. You might want to increase the number of iterations. Duality gap: 852914112483.8354, tolerance: 717785316.078406\n",
      "  positive)\n"
     ]
    }
   ],
   "source": [
    "#Ridge Regression\n",
    "test_model(X, y, alpha_lambda_start=10, alpha_lambda_stop=1_000_000, LASSO_amt=1, Ridge_amt=0)"
   ]
  },
  {
   "cell_type": "code",
   "execution_count": 95,
   "metadata": {},
   "outputs": [
    {
     "name": "stderr",
     "output_type": "stream",
     "text": [
      "c:\\users\\chris\\appdata\\local\\programs\\python\\python37-32\\lib\\site-packages\\numpy\\core\\fromnumeric.py:2389: FutureWarning: Method .ptp is deprecated and will be removed in a future version. Use numpy.ptp instead.\n",
      "  return ptp(axis=axis, out=out, **kwargs)\n",
      "c:\\users\\chris\\appdata\\local\\programs\\python\\python37-32\\lib\\site-packages\\numpy\\core\\fromnumeric.py:2389: FutureWarning: Method .ptp is deprecated and will be removed in a future version. Use numpy.ptp instead.\n",
      "  return ptp(axis=axis, out=out, **kwargs)\n"
     ]
    },
    {
     "name": "stdout",
     "output_type": "stream",
     "text": [
      "-----------0-FOLD-------------\n",
      "adjusted R^2 is 0.7302676630179219\n",
      "AIC is not calculated and BIC is not calculated\n",
      "root mean squared error is: 36470.611062508906\n",
      "mean squared error is: 1330105471.272797\n",
      "\n",
      "-----------1-FOLD-------------\n",
      "adjusted R^2 is 0.7580737928321917\n",
      "AIC is not calculated and BIC is not calculated\n",
      "root mean squared error is: 48701.95553925165\n",
      "mean squared error is: 2371880473.3472443\n",
      "\n",
      "-----------2-FOLD-------------\n",
      "adjusted R^2 is 0.7580737928321917\n",
      "AIC is not calculated and BIC is not calculated\n",
      "root mean squared error is: 78977.73180532893\n",
      "mean squared error is: 6237482121.114465\n",
      "\n",
      "-----------3-FOLD-------------\n",
      "adjusted R^2 is 0.7580737928321917\n",
      "AIC is not calculated and BIC is not calculated\n",
      "root mean squared error is: 201164.81662151174\n",
      "mean squared error is: 40467283446.36644\n",
      "\n",
      "-----------4-FOLD-------------\n",
      "adjusted R^2 is 0.7580737928321917\n",
      "AIC is not calculated and BIC is not calculated\n",
      "root mean squared error is: 201164.81662151174\n",
      "mean squared error is: 40467283446.36644\n",
      "\n"
     ]
    },
    {
     "name": "stderr",
     "output_type": "stream",
     "text": [
      "c:\\users\\chris\\appdata\\local\\programs\\python\\python37-32\\lib\\site-packages\\numpy\\core\\fromnumeric.py:2389: FutureWarning: Method .ptp is deprecated and will be removed in a future version. Use numpy.ptp instead.\n",
      "  return ptp(axis=axis, out=out, **kwargs)\n",
      "c:\\users\\chris\\appdata\\local\\programs\\python\\python37-32\\lib\\site-packages\\numpy\\core\\fromnumeric.py:2389: FutureWarning: Method .ptp is deprecated and will be removed in a future version. Use numpy.ptp instead.\n",
      "  return ptp(axis=axis, out=out, **kwargs)\n",
      "c:\\users\\chris\\appdata\\local\\programs\\python\\python37-32\\lib\\site-packages\\numpy\\core\\fromnumeric.py:2389: FutureWarning: Method .ptp is deprecated and will be removed in a future version. Use numpy.ptp instead.\n",
      "  return ptp(axis=axis, out=out, **kwargs)\n"
     ]
    }
   ],
   "source": [
    "#elasticnet\n",
    "test_model(X, y, alpha_lambda_start=10, alpha_lambda_stop=1_000_000, LASSO_amt=.5, Ridge_amt=.5)"
   ]
  },
  {
   "cell_type": "code",
   "execution_count": null,
   "metadata": {},
   "outputs": [],
   "source": []
  },
  {
   "cell_type": "code",
   "execution_count": null,
   "metadata": {},
   "outputs": [],
   "source": []
  },
  {
   "cell_type": "code",
   "execution_count": null,
   "metadata": {},
   "outputs": [],
   "source": []
  }
 ],
 "metadata": {
  "kernelspec": {
   "display_name": "Python 3",
   "language": "python",
   "name": "python3"
  },
  "language_info": {
   "codemirror_mode": {
    "name": "ipython",
    "version": 3
   },
   "file_extension": ".py",
   "mimetype": "text/x-python",
   "name": "python",
   "nbconvert_exporter": "python",
   "pygments_lexer": "ipython3",
   "version": "3.7.3"
  }
 },
 "nbformat": 4,
 "nbformat_minor": 2
}

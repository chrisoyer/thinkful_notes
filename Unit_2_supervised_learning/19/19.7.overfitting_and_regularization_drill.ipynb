{
 "cells": [
  {
   "cell_type": "markdown",
   "metadata": {},
   "source": [
    "## Assignment\n",
    "\n",
    "In this assignment, you'll continue working with the house prices data. To complete this assignment, submit a link to a Jupyter notebook containing your solutions to the following tasks:\n",
    "\n",
    "* Load the **houseprices** data from Thinkful's database.\n",
    "* Reimplement your model from the previous checkpoint.\n",
    "* Try OLS, Lasso, Ridge, and ElasticNet regression using the same model specification. This time, you need to do **k-fold cross-validation** to choose the best hyperparameter values for your models. Which model is the best? Why?\n",
    "\n",
    "This is not a graded checkpoint, but you should discuss your solution with your mentor. After you've submitted your work, take a moment to compare your solution to [this example solution](https://github.com/Thinkful-Ed/machine-learning-regression-problems/blob/master/notebooks/7.solution_overfitting_and_regularization.ipynb)."
   ]
  },
  {
   "cell_type": "code",
   "execution_count": 1,
   "metadata": {},
   "outputs": [],
   "source": [
    "import numpy as np\n",
    "import pandas as pd\n",
    "from sklearn.model_selection import train_test_split\n",
    "import matplotlib.pyplot as plt\n",
    "import seaborn as sns\n",
    "from sqlalchemy import create_engine\n",
    "from scipy.stats import mode\n",
    "import statsmodels.api as sm\n",
    "from statsmodels.tools.eval_measures import mse, rmse\n",
    "from sklearn.linear_model import LinearRegression\n",
    "from sklearn.linear_model import Ridge\n",
    "from sklearn.linear_model import Lasso\n",
    "from sklearn.linear_model import ElasticNet\n"
   ]
  },
  {
   "cell_type": "code",
   "execution_count": 2,
   "metadata": {},
   "outputs": [],
   "source": [
    "import warnings\n",
    "warnings.filterwarnings(action=\"ignore\")"
   ]
  },
  {
   "cell_type": "code",
   "execution_count": 3,
   "metadata": {
    "code_folding": []
   },
   "outputs": [
    {
     "data": {
      "text/plain": [
       "{'numpy': '1.16.2',\n",
       " 'pandas': '0.24.2',\n",
       " 'sklearn': '0.0',\n",
       " 'matplotlib': '3.0.3',\n",
       " 'seaborn': '0.9.0',\n",
       " 'sqlalchemy': '1.3.5',\n",
       " 'scipy': '1.2.1',\n",
       " 'statsmodels': '0.10.1'}"
      ]
     },
     "execution_count": 3,
     "metadata": {},
     "output_type": "execute_result"
    }
   ],
   "source": [
    "# %load ../utility/overhead.py\n",
    "#record module versions used in cell 1\n",
    "#\n",
    "def version_recorder():\n",
    "    '''\n",
    "    only works if import is first cell run. prints and then returns dictionary with modules:version.\n",
    "    '''\n",
    "    import pkg_resources\n",
    "    resources = In[1].splitlines()\n",
    "    ##ADD: drop lines if not _from_ or _import_\n",
    "    version_dict = { resource.split()[1].split(\".\")[0] : pkg_resources.get_distribution(resource.split()[1].split(\".\")[0]).version for resource in resources }\n",
    "    return version_dict\n",
    "version_recorder()"
   ]
  },
  {
   "cell_type": "code",
   "execution_count": 4,
   "metadata": {},
   "outputs": [],
   "source": [
    "#credentials\n",
    "user = 'dsbc_student'\n",
    "pw = '7*.8G9QH21'\n",
    "host = '142.93.121.174'\n",
    "port = '5432'\n",
    "db = 'houseprices'\n",
    "dialect = 'postgresql'\n",
    "\n",
    "engine = create_engine('{}://{}:{}@{}:{}/{}'.format(dialect, user, pw, host, port, db))\n",
    "engine.table_names()\n",
    "\n",
    "sql_query = '''\n",
    "SELECT\n",
    "    *\n",
    "FROM\n",
    "    houseprices\n",
    "'''\n",
    "source_df = pd.read_sql(sql_query, con=engine)\n",
    "engine.dispose()\n",
    "house_df = source_df.copy()"
   ]
  },
  {
   "cell_type": "code",
   "execution_count": 5,
   "metadata": {},
   "outputs": [],
   "source": [
    "#create df with categorical variables to select some features from\n",
    "categorical_feat = house_df.dtypes[house_df.dtypes == 'object'].index\n",
    "new_categories_df = pd.DataFrame()\n",
    "for feature in categorical_feat:\n",
    "    new_categories_df = pd.concat([new_categories_df, \n",
    "                                   pd.get_dummies(house_df[feature], columns=categorical_feat, drop_first=True, prefix = feature)], axis=1)\n",
    "#append numerical features to new df\n",
    "new_categories_df = pd.concat([new_categories_df, \n",
    "                               house_df.filter(items=(house_df.columns[(house_df.dtypes.values != 'object').tolist()]), axis=1) ], \n",
    "                              axis=1) #tolist() needed to avoid hashability issue\n",
    "\n",
    "#create X & y\n",
    "X = house_df[[\"overallqual\", \"grlivarea\", \"fullbath\", \"yearbuilt\",]]\n",
    "pd.concat([X, new_categories_df[['exterqual_TA', 'foundation_CBlock']]])\n",
    "X[\"overalqual_x_year\"] = house_df.overallqual * house_df.yearbuilt\n",
    "y = house_df.saleprice"
   ]
  },
  {
   "cell_type": "code",
   "execution_count": 13,
   "metadata": {},
   "outputs": [],
   "source": [
    "def test_model(X=X, y=y, kfold = 5, alpha_lambda_start=.01, alpha_lambda_stop=1_000, LASSO_amt=0, Ridge_amt=0):\n",
    "    for i, alpha_lambda in enumerate(np.logspace(np.log(alpha_lambda_start), np.log(alpha_lambda_stop), num=5)):\n",
    "        #split into training and testing sets\n",
    "        X_train, X_test, y_train, y_test = train_test_split(X, y, test_size=0.2, random_state=int(42*(alpha_lambda**.5)))\n",
    "        \n",
    "        if LASSO_amt + Ridge_amt == 0:\n",
    "            sklModel = LinearRegression()\n",
    "            sm.add_constant(X_train)\n",
    "            smModel = sm.OLS(y_train, X_train).fit()\n",
    "            OLS_switch = True\n",
    "        elif (LASSO_amt==1) & (Ridge_amt==0):\n",
    "            sklModel = Lasso()\n",
    "            sm.add_constant(X_train)\n",
    "            smModel = sm.OLS(y_train, X_train).fit_regularized(L1_wt=LASSO_amt, alpha=alpha_lambda)\n",
    "        elif (LASSO_amt==0) & (Ridge_amt==1):\n",
    "            sklModel = Ridge()\n",
    "            sm.add_constant(X_train)\n",
    "            smModel = sm.OLS(y_train, X_train).fit_regularized(L1_wt=LASSO_amt, alpha=alpha_lambda)\n",
    "        else:\n",
    "            sklModel = ElasticNet()\n",
    "            sm.add_constant(X_train)\n",
    "            smModel = sm.OLS(y_train, X_train).fit_regularized(L1_wt=LASSO_amt, alpha=alpha_lambda)\n",
    "               \n",
    "        sklModel = sklModel.fit(X_train, y_train)\n",
    "        \n",
    "        y_preds = smModel.predict(X_test)\n",
    "        print('-----------{}-FOLD-------------'.format(i))\n",
    "        print(\"lambda is {}\".format(alpha_lambda))\n",
    "        print('adjusted R^2 is {}'.format(sklModel.score(X_train, y_train)))\n",
    "        try:\n",
    "            aic, bic = smModel.aic, smModel.bic\n",
    "        except:\n",
    "            aic = \"not calculated\"\n",
    "            bic = \"not calculated\"\n",
    "        print('AIC is {} and BIC is {}'.format(aic, bic))\n",
    "        print(\"root mean squared error is: {}\".format(rmse(y_test, y_preds)))\n",
    "        print(\"mean squared error is: {}\\n\".format(mse(y_test, y_preds)))\n",
    "       "
   ]
  },
  {
   "cell_type": "code",
   "execution_count": 19,
   "metadata": {},
   "outputs": [
    {
     "name": "stdout",
     "output_type": "stream",
     "text": [
      "-----------0-FOLD-------------\n",
      "lambda is 2.4821602362195342e-05\n",
      "adjusted R^2 is 0.7720052401391067\n",
      "AIC is 27943.82126508257 and BIC is 27969.13650589951\n",
      "root mean squared error is: 47355.158296741785\n",
      "mean squared error is: 2242511017.3094726\n",
      "\n",
      "-----------1-FOLD-------------\n",
      "lambda is 0.018752586622904802\n",
      "adjusted R^2 is 0.7420590116328556\n",
      "AIC is 28098.335155602163 and BIC is 28123.650396419103\n",
      "root mean squared error is: 37878.57620111166\n",
      "mean squared error is: 1434786535.0234225\n",
      "\n",
      "-----------2-FOLD-------------\n",
      "lambda is 14.167477986237698\n",
      "adjusted R^2 is 0.7454712541660629\n",
      "AIC is 28120.617132577627 and BIC is 28145.932373394568\n",
      "root mean squared error is: 35851.18727381184\n",
      "mean squared error is: 1285307628.941928\n",
      "\n",
      "-----------3-FOLD-------------\n",
      "lambda is 10703.453156983138\n",
      "adjusted R^2 is 0.7752317788376137\n",
      "AIC is 28005.75657358243 and BIC is 28031.07181439937\n",
      "root mean squared error is: 44691.359948722136\n",
      "mean squared error is: 1997317654.0662448\n",
      "\n",
      "-----------4-FOLD-------------\n",
      "lambda is 8086401.093759918\n",
      "adjusted R^2 is 0.7383172979899311\n",
      "AIC is 28053.83127091099 and BIC is 28079.14651172793\n",
      "root mean squared error is: 41655.90135680706\n",
      "mean squared error is: 1735214117.8480403\n",
      "\n"
     ]
    }
   ],
   "source": [
    "#Original Model\n",
    "test_model(X, y, LASSO_amt=0, Ridge_amt=0)"
   ]
  },
  {
   "cell_type": "code",
   "execution_count": 20,
   "metadata": {},
   "outputs": [
    {
     "name": "stdout",
     "output_type": "stream",
     "text": [
      "-----------0-FOLD-------------\n",
      "lambda is 2.4821602362195342e-05\n",
      "adjusted R^2 is 0.7623524326063086\n",
      "AIC is not calculated and BIC is not calculated\n",
      "root mean squared error is: 49830.83036975853\n",
      "mean squared error is: 2483111655.3396487\n",
      "\n",
      "-----------1-FOLD-------------\n",
      "lambda is 0.018752586622904802\n",
      "adjusted R^2 is 0.733123480593342\n",
      "AIC is not calculated and BIC is not calculated\n",
      "root mean squared error is: 42194.605046887904\n",
      "mean squared error is: 1780384695.062858\n",
      "\n",
      "-----------2-FOLD-------------\n",
      "lambda is 14.167477986237698\n",
      "adjusted R^2 is 0.73667359401947\n",
      "AIC is not calculated and BIC is not calculated\n",
      "root mean squared error is: 40085.01500948741\n",
      "mean squared error is: 1606808428.310831\n",
      "\n",
      "-----------3-FOLD-------------\n",
      "lambda is 10703.453156983138\n",
      "adjusted R^2 is 0.7624770846457819\n",
      "AIC is not calculated and BIC is not calculated\n",
      "root mean squared error is: 47261.601490162706\n",
      "mean squared error is: 2233658975.41495\n",
      "\n",
      "-----------4-FOLD-------------\n",
      "lambda is 8086401.093759918\n",
      "adjusted R^2 is 0.7286632335284928\n",
      "AIC is not calculated and BIC is not calculated\n",
      "root mean squared error is: 60624.64546010128\n",
      "mean squared error is: 3675347637.162979\n",
      "\n"
     ]
    }
   ],
   "source": [
    "#Ridge Regression\n",
    "test_model(X, y, LASSO_amt=1, Ridge_amt=0)"
   ]
  },
  {
   "cell_type": "code",
   "execution_count": 21,
   "metadata": {},
   "outputs": [
    {
     "name": "stdout",
     "output_type": "stream",
     "text": [
      "-----------0-FOLD-------------\n",
      "lambda is 2.4821602362195342e-05\n",
      "adjusted R^2 is 0.7580737928321917\n",
      "AIC is not calculated and BIC is not calculated\n",
      "root mean squared error is: 49830.79153953853\n",
      "mean squared error is: 2483107785.4569445\n",
      "\n",
      "-----------1-FOLD-------------\n",
      "lambda is 0.018752586622904802\n",
      "adjusted R^2 is 0.7303924485695552\n",
      "AIC is not calculated and BIC is not calculated\n",
      "root mean squared error is: 42154.46112831652\n",
      "mean squared error is: 1776998593.0187488\n",
      "\n",
      "-----------2-FOLD-------------\n",
      "lambda is 14.167477986237698\n",
      "adjusted R^2 is 0.7341618152791721\n",
      "AIC is not calculated and BIC is not calculated\n",
      "root mean squared error is: 39974.31500466891\n",
      "mean squared error is: 1597945860.0924983\n",
      "\n",
      "-----------3-FOLD-------------\n",
      "lambda is 10703.453156983138\n",
      "adjusted R^2 is 0.7563862750032105\n",
      "AIC is not calculated and BIC is not calculated\n",
      "root mean squared error is: 44196.85555688533\n",
      "mean squared error is: 1953362041.116186\n",
      "\n",
      "-----------4-FOLD-------------\n",
      "lambda is 8086401.093759918\n",
      "adjusted R^2 is 0.7252703780096638\n",
      "AIC is not calculated and BIC is not calculated\n",
      "root mean squared error is: 61895.656709366056\n",
      "mean squared error is: 3831072319.483691\n",
      "\n"
     ]
    }
   ],
   "source": [
    "#elasticnet\n",
    "test_model(X, y, LASSO_amt=.5, Ridge_amt=.5)"
   ]
  },
  {
   "cell_type": "markdown",
   "metadata": {},
   "source": [
    "All of the models have relatively similar results... lamda values around 10-100 seem the best."
   ]
  },
  {
   "cell_type": "code",
   "execution_count": null,
   "metadata": {},
   "outputs": [],
   "source": []
  }
 ],
 "metadata": {
  "kernelspec": {
   "display_name": "Python 3",
   "language": "python",
   "name": "python3"
  },
  "language_info": {
   "codemirror_mode": {
    "name": "ipython",
    "version": 3
   },
   "file_extension": ".py",
   "mimetype": "text/x-python",
   "name": "python",
   "nbconvert_exporter": "python",
   "pygments_lexer": "ipython3",
   "version": "3.7.4"
  }
 },
 "nbformat": 4,
 "nbformat_minor": 2
}

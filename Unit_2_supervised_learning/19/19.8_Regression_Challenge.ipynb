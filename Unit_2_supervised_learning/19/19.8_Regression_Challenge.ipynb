{
 "cells": [
  {
   "cell_type": "markdown",
   "metadata": {},
   "source": [
    "# Instructions\n",
    "1. Load the houseprices data from Thinkful's database.\n",
    "2. Do data cleaning, exploratory data analysis, and feature engineering. You can use your previous work in this module. But make sure that your work is satisfactory.\n",
    "3. Now, split your data into train and test sets where 20% of the data resides in the test set.\n",
    "4. Build several linear regression models including Lasso, Ridge, or ElasticNet and train them in the training set. Use k-fold cross-validation to select the best hyperparameters if your models include one!\n",
    "5. Evaluate your best model on the test set.\n",
    "6. So far, you have only used the features in the dataset. However, house prices can be affected by many factors like economic activity and the interest rates at the time they are sold. So, try to find some useful factors that are not included in the dataset. Integrate these factors into your model and assess the prediction performance of your model. Discuss the implications of adding these external variables into your model.\n"
   ]
  },
  {
   "cell_type": "markdown",
   "metadata": {},
   "source": [
    "### Start Notebook environment"
   ]
  },
  {
   "cell_type": "code",
   "execution_count": 1,
   "metadata": {},
   "outputs": [],
   "source": [
    "import numpy as np\n",
    "import pandas as pd\n",
    "from sklearn.model_selection import train_test_split\n",
    "from sklearn.linear_model import LinearRegression\n",
    "from sklearn.linear_model import Ridge\n",
    "from sklearn.linear_model import Lasso\n",
    "from sklearn.linear_model import ElasticNet\n",
    "from sklearn.model_selection import GridSearchCV\n",
    "from sklearn.model_selection import cross_val_score\n",
    "import statsmodels.api as sm\n",
    "import matplotlib.pyplot as plt\n",
    "import seaborn as sns\n",
    "from sqlalchemy import create_engine"
   ]
  },
  {
   "cell_type": "code",
   "execution_count": 2,
   "metadata": {},
   "outputs": [
    {
     "data": {
      "text/plain": [
       "{'numpy': '1.16.2',\n",
       " 'pandas': '0.24.2',\n",
       " 'sklearn': '0.0',\n",
       " 'statsmodels': '0.10.1',\n",
       " 'matplotlib': '3.0.3',\n",
       " 'seaborn': '0.9.0',\n",
       " 'sqlalchemy': '1.3.5'}"
      ]
     },
     "execution_count": 2,
     "metadata": {},
     "output_type": "execute_result"
    }
   ],
   "source": [
    "# %load ../utility/overhead.py\n",
    "#record module versions used in cell 1\n",
    "#\n",
    "def version_recorder():\n",
    "    '''\n",
    "    only works if import is first cell run. prints and then returns dictionary with modules:version.\n",
    "    '''\n",
    "    import pkg_resources\n",
    "    resources = In[1].splitlines()\n",
    "    ##ADD: drop lines if not _from_ or _import_\n",
    "    version_dict = { resource.split()[1].split(\".\")[0] : pkg_resources.get_distribution(resource.split()[1].split(\".\")[0]).version for resource in resources }\n",
    "    return version_dict\n",
    "version_recorder()"
   ]
  },
  {
   "cell_type": "markdown",
   "metadata": {},
   "source": [
    "# Data Cleaning"
   ]
  },
  {
   "cell_type": "code",
   "execution_count": 3,
   "metadata": {},
   "outputs": [],
   "source": [
    "#credentials\n",
    "user = 'dsbc_student'\n",
    "pw = '7*.8G9QH21'\n",
    "host = '142.93.121.174'\n",
    "port = '5432'\n",
    "db = 'houseprices'\n",
    "dialect = 'postgresql'\n",
    "\n",
    "db_addr = f'{dialect}://{user}:{pw}@{host}:{port}/{db}'\n",
    "engine = create_engine(db_addr)\n",
    "\n",
    "query = '''\n",
    "SELECT\n",
    "    *\n",
    "FROM\n",
    "    houseprices\n",
    "'''\n",
    "\n",
    "raw_df = pd.read_sql(query, con=engine)\n",
    "engine.dispose()"
   ]
  },
  {
   "cell_type": "code",
   "execution_count": 4,
   "metadata": {},
   "outputs": [
    {
     "data": {
      "text/html": [
       "<div>\n",
       "<style scoped>\n",
       "    .dataframe tbody tr th:only-of-type {\n",
       "        vertical-align: middle;\n",
       "    }\n",
       "\n",
       "    .dataframe tbody tr th {\n",
       "        vertical-align: top;\n",
       "    }\n",
       "\n",
       "    .dataframe thead th {\n",
       "        text-align: right;\n",
       "    }\n",
       "</style>\n",
       "<table border=\"1\" class=\"dataframe\">\n",
       "  <thead>\n",
       "    <tr style=\"text-align: right;\">\n",
       "      <th></th>\n",
       "      <th>id</th>\n",
       "      <th>mssubclass</th>\n",
       "      <th>mszoning</th>\n",
       "      <th>lotfrontage</th>\n",
       "      <th>lotarea</th>\n",
       "      <th>street</th>\n",
       "      <th>alley</th>\n",
       "      <th>lotshape</th>\n",
       "      <th>landcontour</th>\n",
       "      <th>utilities</th>\n",
       "      <th>...</th>\n",
       "      <th>poolarea</th>\n",
       "      <th>poolqc</th>\n",
       "      <th>fence</th>\n",
       "      <th>miscfeature</th>\n",
       "      <th>miscval</th>\n",
       "      <th>mosold</th>\n",
       "      <th>yrsold</th>\n",
       "      <th>saletype</th>\n",
       "      <th>salecondition</th>\n",
       "      <th>saleprice</th>\n",
       "    </tr>\n",
       "  </thead>\n",
       "  <tbody>\n",
       "    <tr>\n",
       "      <th>0</th>\n",
       "      <td>1</td>\n",
       "      <td>60</td>\n",
       "      <td>RL</td>\n",
       "      <td>65.0</td>\n",
       "      <td>8450</td>\n",
       "      <td>Pave</td>\n",
       "      <td>None</td>\n",
       "      <td>Reg</td>\n",
       "      <td>Lvl</td>\n",
       "      <td>AllPub</td>\n",
       "      <td>...</td>\n",
       "      <td>0</td>\n",
       "      <td>None</td>\n",
       "      <td>None</td>\n",
       "      <td>None</td>\n",
       "      <td>0</td>\n",
       "      <td>2</td>\n",
       "      <td>2008</td>\n",
       "      <td>WD</td>\n",
       "      <td>Normal</td>\n",
       "      <td>208500</td>\n",
       "    </tr>\n",
       "    <tr>\n",
       "      <th>1</th>\n",
       "      <td>2</td>\n",
       "      <td>20</td>\n",
       "      <td>RL</td>\n",
       "      <td>80.0</td>\n",
       "      <td>9600</td>\n",
       "      <td>Pave</td>\n",
       "      <td>None</td>\n",
       "      <td>Reg</td>\n",
       "      <td>Lvl</td>\n",
       "      <td>AllPub</td>\n",
       "      <td>...</td>\n",
       "      <td>0</td>\n",
       "      <td>None</td>\n",
       "      <td>None</td>\n",
       "      <td>None</td>\n",
       "      <td>0</td>\n",
       "      <td>5</td>\n",
       "      <td>2007</td>\n",
       "      <td>WD</td>\n",
       "      <td>Normal</td>\n",
       "      <td>181500</td>\n",
       "    </tr>\n",
       "    <tr>\n",
       "      <th>2</th>\n",
       "      <td>3</td>\n",
       "      <td>60</td>\n",
       "      <td>RL</td>\n",
       "      <td>68.0</td>\n",
       "      <td>11250</td>\n",
       "      <td>Pave</td>\n",
       "      <td>None</td>\n",
       "      <td>IR1</td>\n",
       "      <td>Lvl</td>\n",
       "      <td>AllPub</td>\n",
       "      <td>...</td>\n",
       "      <td>0</td>\n",
       "      <td>None</td>\n",
       "      <td>None</td>\n",
       "      <td>None</td>\n",
       "      <td>0</td>\n",
       "      <td>9</td>\n",
       "      <td>2008</td>\n",
       "      <td>WD</td>\n",
       "      <td>Normal</td>\n",
       "      <td>223500</td>\n",
       "    </tr>\n",
       "    <tr>\n",
       "      <th>3</th>\n",
       "      <td>4</td>\n",
       "      <td>70</td>\n",
       "      <td>RL</td>\n",
       "      <td>60.0</td>\n",
       "      <td>9550</td>\n",
       "      <td>Pave</td>\n",
       "      <td>None</td>\n",
       "      <td>IR1</td>\n",
       "      <td>Lvl</td>\n",
       "      <td>AllPub</td>\n",
       "      <td>...</td>\n",
       "      <td>0</td>\n",
       "      <td>None</td>\n",
       "      <td>None</td>\n",
       "      <td>None</td>\n",
       "      <td>0</td>\n",
       "      <td>2</td>\n",
       "      <td>2006</td>\n",
       "      <td>WD</td>\n",
       "      <td>Abnorml</td>\n",
       "      <td>140000</td>\n",
       "    </tr>\n",
       "    <tr>\n",
       "      <th>4</th>\n",
       "      <td>5</td>\n",
       "      <td>60</td>\n",
       "      <td>RL</td>\n",
       "      <td>84.0</td>\n",
       "      <td>14260</td>\n",
       "      <td>Pave</td>\n",
       "      <td>None</td>\n",
       "      <td>IR1</td>\n",
       "      <td>Lvl</td>\n",
       "      <td>AllPub</td>\n",
       "      <td>...</td>\n",
       "      <td>0</td>\n",
       "      <td>None</td>\n",
       "      <td>None</td>\n",
       "      <td>None</td>\n",
       "      <td>0</td>\n",
       "      <td>12</td>\n",
       "      <td>2008</td>\n",
       "      <td>WD</td>\n",
       "      <td>Normal</td>\n",
       "      <td>250000</td>\n",
       "    </tr>\n",
       "  </tbody>\n",
       "</table>\n",
       "<p>5 rows × 81 columns</p>\n",
       "</div>"
      ],
      "text/plain": [
       "   id  mssubclass mszoning  lotfrontage  lotarea street alley lotshape  \\\n",
       "0   1          60       RL         65.0     8450   Pave  None      Reg   \n",
       "1   2          20       RL         80.0     9600   Pave  None      Reg   \n",
       "2   3          60       RL         68.0    11250   Pave  None      IR1   \n",
       "3   4          70       RL         60.0     9550   Pave  None      IR1   \n",
       "4   5          60       RL         84.0    14260   Pave  None      IR1   \n",
       "\n",
       "  landcontour utilities  ... poolarea poolqc fence miscfeature miscval mosold  \\\n",
       "0         Lvl    AllPub  ...        0   None  None        None       0      2   \n",
       "1         Lvl    AllPub  ...        0   None  None        None       0      5   \n",
       "2         Lvl    AllPub  ...        0   None  None        None       0      9   \n",
       "3         Lvl    AllPub  ...        0   None  None        None       0      2   \n",
       "4         Lvl    AllPub  ...        0   None  None        None       0     12   \n",
       "\n",
       "  yrsold  saletype  salecondition  saleprice  \n",
       "0   2008        WD         Normal     208500  \n",
       "1   2007        WD         Normal     181500  \n",
       "2   2008        WD         Normal     223500  \n",
       "3   2006        WD        Abnorml     140000  \n",
       "4   2008        WD         Normal     250000  \n",
       "\n",
       "[5 rows x 81 columns]"
      ]
     },
     "execution_count": 4,
     "metadata": {},
     "output_type": "execute_result"
    }
   ],
   "source": [
    "house_df = raw_df.copy(deep=True)\n",
    "house_df.head()"
   ]
  },
  {
   "cell_type": "code",
   "execution_count": 5,
   "metadata": {},
   "outputs": [
    {
     "data": {
      "text/plain": [
       "Index(['id', 'mssubclass', 'mszoning', 'lotfrontage', 'lotarea', 'street',\n",
       "       'alley', 'lotshape', 'landcontour', 'utilities', 'lotconfig',\n",
       "       'landslope', 'neighborhood', 'condition1', 'condition2', 'bldgtype',\n",
       "       'housestyle', 'overallqual', 'overallcond', 'yearbuilt', 'yearremodadd',\n",
       "       'roofstyle', 'roofmatl', 'exterior1st', 'exterior2nd', 'masvnrtype',\n",
       "       'masvnrarea', 'exterqual', 'extercond', 'foundation', 'bsmtqual',\n",
       "       'bsmtcond', 'bsmtexposure', 'bsmtfintype1', 'bsmtfinsf1',\n",
       "       'bsmtfintype2', 'bsmtfinsf2', 'bsmtunfsf', 'totalbsmtsf', 'heating',\n",
       "       'heatingqc', 'centralair', 'electrical', 'firstflrsf', 'secondflrsf',\n",
       "       'lowqualfinsf', 'grlivarea', 'bsmtfullbath', 'bsmthalfbath', 'fullbath',\n",
       "       'halfbath', 'bedroomabvgr', 'kitchenabvgr', 'kitchenqual',\n",
       "       'totrmsabvgrd', 'functional', 'fireplaces', 'fireplacequ', 'garagetype',\n",
       "       'garageyrblt', 'garagefinish', 'garagecars', 'garagearea', 'garagequal',\n",
       "       'garagecond', 'paveddrive', 'wooddecksf', 'openporchsf',\n",
       "       'enclosedporch', 'threessnporch', 'screenporch', 'poolarea', 'poolqc',\n",
       "       'fence', 'miscfeature', 'miscval', 'mosold', 'yrsold', 'saletype',\n",
       "       'salecondition', 'saleprice'],\n",
       "      dtype='object')"
      ]
     },
     "execution_count": 5,
     "metadata": {},
     "output_type": "execute_result"
    }
   ],
   "source": [
    "house_df.columns"
   ]
  },
  {
   "cell_type": "code",
   "execution_count": 6,
   "metadata": {},
   "outputs": [
    {
     "data": {
      "text/plain": [
       "Index(['id', 'mssubclass', 'lotfrontage', 'lotarea', 'overallqual',\n",
       "       'overallcond', 'yearbuilt', 'yearremodadd', 'masvnrarea', 'bsmtfinsf1',\n",
       "       'bsmtfinsf2', 'bsmtunfsf', 'totalbsmtsf', 'firstflrsf', 'secondflrsf',\n",
       "       'lowqualfinsf', 'grlivarea', 'bsmtfullbath', 'bsmthalfbath', 'fullbath',\n",
       "       'halfbath', 'bedroomabvgr', 'kitchenabvgr', 'totrmsabvgrd',\n",
       "       'fireplaces', 'garageyrblt', 'garagecars', 'garagearea', 'wooddecksf',\n",
       "       'openporchsf', 'enclosedporch', 'threessnporch', 'screenporch',\n",
       "       'poolarea', 'miscval', 'mosold', 'yrsold', 'saleprice'],\n",
       "      dtype='object')"
      ]
     },
     "execution_count": 6,
     "metadata": {},
     "output_type": "execute_result"
    }
   ],
   "source": [
    "house_df.columns[house_df.dtypes != 'object']"
   ]
  },
  {
   "cell_type": "code",
   "execution_count": 7,
   "metadata": {
    "scrolled": true
   },
   "outputs": [
    {
     "data": {
      "text/plain": [
       "saleprice        1.000000\n",
       "overallqual      0.790982\n",
       "grlivarea        0.708624\n",
       "garagecars       0.640409\n",
       "garagearea       0.623431\n",
       "totalbsmtsf      0.613581\n",
       "firstflrsf       0.605852\n",
       "fullbath         0.560664\n",
       "totrmsabvgrd     0.533723\n",
       "yearbuilt        0.522897\n",
       "yearremodadd     0.507101\n",
       "garageyrblt      0.486362\n",
       "masvnrarea       0.477493\n",
       "fireplaces       0.466929\n",
       "bsmtfinsf1       0.386420\n",
       "lotfrontage      0.351799\n",
       "wooddecksf       0.324413\n",
       "secondflrsf      0.319334\n",
       "openporchsf      0.315856\n",
       "halfbath         0.284108\n",
       "lotarea          0.263843\n",
       "bsmtfullbath     0.227122\n",
       "bsmtunfsf        0.214479\n",
       "bedroomabvgr     0.168213\n",
       "kitchenabvgr     0.135907\n",
       "enclosedporch    0.128578\n",
       "screenporch      0.111447\n",
       "poolarea         0.092404\n",
       "mssubclass       0.084284\n",
       "overallcond      0.077856\n",
       "mosold           0.046432\n",
       "threessnporch    0.044584\n",
       "yrsold           0.028923\n",
       "lowqualfinsf     0.025606\n",
       "id               0.021917\n",
       "miscval          0.021190\n",
       "bsmthalfbath     0.016844\n",
       "bsmtfinsf2       0.011378\n",
       "Name: saleprice, dtype: float64"
      ]
     },
     "execution_count": 7,
     "metadata": {},
     "output_type": "execute_result"
    }
   ],
   "source": [
    "house_df.corr()[\"saleprice\"].abs().sort_values(ascending=False)"
   ]
  },
  {
   "cell_type": "code",
   "execution_count": 8,
   "metadata": {},
   "outputs": [],
   "source": [
    "#create df with categorical variables to select some features from\n",
    "categorical_feat = house_df.dtypes[house_df.dtypes == 'object'].index\n",
    "new_categories_df = house_df[[\"saleprice\"]]\n",
    "for feature in categorical_feat:\n",
    "    new_categories_df = pd.concat([new_categories_df, \n",
    "                                   pd.get_dummies(house_df[feature], columns=categorical_feat, drop_first=True, prefix = feature)], axis=1)"
   ]
  },
  {
   "cell_type": "code",
   "execution_count": 9,
   "metadata": {
    "scrolled": true
   },
   "outputs": [
    {
     "data": {
      "text/html": [
       "<div>\n",
       "<style scoped>\n",
       "    .dataframe tbody tr th:only-of-type {\n",
       "        vertical-align: middle;\n",
       "    }\n",
       "\n",
       "    .dataframe tbody tr th {\n",
       "        vertical-align: top;\n",
       "    }\n",
       "\n",
       "    .dataframe thead th {\n",
       "        text-align: right;\n",
       "    }\n",
       "</style>\n",
       "<table border=\"1\" class=\"dataframe\">\n",
       "  <thead>\n",
       "    <tr style=\"text-align: right;\">\n",
       "      <th></th>\n",
       "      <th>saleprice</th>\n",
       "    </tr>\n",
       "  </thead>\n",
       "  <tbody>\n",
       "    <tr>\n",
       "      <th>saleprice</th>\n",
       "      <td>1.000000</td>\n",
       "    </tr>\n",
       "    <tr>\n",
       "      <th>exterqual_TA</th>\n",
       "      <td>0.589044</td>\n",
       "    </tr>\n",
       "    <tr>\n",
       "      <th>kitchenqual_TA</th>\n",
       "      <td>0.519298</td>\n",
       "    </tr>\n",
       "    <tr>\n",
       "      <th>foundation_PConc</th>\n",
       "      <td>0.497734</td>\n",
       "    </tr>\n",
       "    <tr>\n",
       "      <th>exterqual_Gd</th>\n",
       "      <td>0.452466</td>\n",
       "    </tr>\n",
       "    <tr>\n",
       "      <th>bsmtqual_TA</th>\n",
       "      <td>0.452394</td>\n",
       "    </tr>\n",
       "    <tr>\n",
       "      <th>bsmtfintype1_GLQ</th>\n",
       "      <td>0.434597</td>\n",
       "    </tr>\n",
       "    <tr>\n",
       "      <th>garagefinish_Unf</th>\n",
       "      <td>0.410608</td>\n",
       "    </tr>\n",
       "    <tr>\n",
       "      <th>neighborhood_NridgHt</th>\n",
       "      <td>0.402149</td>\n",
       "    </tr>\n",
       "    <tr>\n",
       "      <th>masvnrtype_None</th>\n",
       "      <td>0.374468</td>\n",
       "    </tr>\n",
       "    <tr>\n",
       "      <th>saletype_New</th>\n",
       "      <td>0.357509</td>\n",
       "    </tr>\n",
       "    <tr>\n",
       "      <th>garagetype_Detchd</th>\n",
       "      <td>0.354141</td>\n",
       "    </tr>\n",
       "    <tr>\n",
       "      <th>salecondition_Partial</th>\n",
       "      <td>0.352060</td>\n",
       "    </tr>\n",
       "    <tr>\n",
       "      <th>foundation_CBlock</th>\n",
       "      <td>0.343263</td>\n",
       "    </tr>\n",
       "    <tr>\n",
       "      <th>fireplacequ_Gd</th>\n",
       "      <td>0.339329</td>\n",
       "    </tr>\n",
       "    <tr>\n",
       "      <th>garagetype_Attchd</th>\n",
       "      <td>0.335961</td>\n",
       "    </tr>\n",
       "    <tr>\n",
       "      <th>masvnrtype_Stone</th>\n",
       "      <td>0.330476</td>\n",
       "    </tr>\n",
       "    <tr>\n",
       "      <th>neighborhood_NoRidge</th>\n",
       "      <td>0.330424</td>\n",
       "    </tr>\n",
       "    <tr>\n",
       "      <th>kitchenqual_Gd</th>\n",
       "      <td>0.321641</td>\n",
       "    </tr>\n",
       "    <tr>\n",
       "      <th>heatingqc_TA</th>\n",
       "      <td>0.312677</td>\n",
       "    </tr>\n",
       "  </tbody>\n",
       "</table>\n",
       "</div>"
      ],
      "text/plain": [
       "                       saleprice\n",
       "saleprice               1.000000\n",
       "exterqual_TA            0.589044\n",
       "kitchenqual_TA          0.519298\n",
       "foundation_PConc        0.497734\n",
       "exterqual_Gd            0.452466\n",
       "bsmtqual_TA             0.452394\n",
       "bsmtfintype1_GLQ        0.434597\n",
       "garagefinish_Unf        0.410608\n",
       "neighborhood_NridgHt    0.402149\n",
       "masvnrtype_None         0.374468\n",
       "saletype_New            0.357509\n",
       "garagetype_Detchd       0.354141\n",
       "salecondition_Partial   0.352060\n",
       "foundation_CBlock       0.343263\n",
       "fireplacequ_Gd          0.339329\n",
       "garagetype_Attchd       0.335961\n",
       "masvnrtype_Stone        0.330476\n",
       "neighborhood_NoRidge    0.330424\n",
       "kitchenqual_Gd          0.321641\n",
       "heatingqc_TA            0.312677"
      ]
     },
     "execution_count": 9,
     "metadata": {},
     "output_type": "execute_result"
    }
   ],
   "source": [
    "new_categories_df.corr()[[\"saleprice\"]].abs().sort_values(by='saleprice', ascending=False).head(20)"
   ]
  },
  {
   "cell_type": "code",
   "execution_count": 10,
   "metadata": {},
   "outputs": [],
   "source": [
    "#append numerical features to new df\n",
    "new_categories_df = pd.concat([new_categories_df.loc[:,new_categories_df.columns != 'saleprice'], \n",
    "                               house_df.filter(items=(house_df.columns[(house_df.dtypes.values != 'object').tolist()]), axis=1)], \n",
    "                              axis=1) #tolist() needed to avoid hashability issue"
   ]
  },
  {
   "cell_type": "code",
   "execution_count": 11,
   "metadata": {},
   "outputs": [
    {
     "data": {
      "image/png": "[encoded data removed]",
      "text/plain": [
       "<Figure size 720x360 with 1 Axes>"
      ]
     },
     "metadata": {},
     "output_type": "display_data"
    }
   ],
   "source": [
    "# view saleprice dist\n",
    "sns.set_style('darkgrid')\n",
    "fig = plt.figure(figsize=(10, 5))\n",
    "dp = sns.distplot(new_categories_df.saleprice, hist=False)\n",
    "plt.ylabel('Instances', fontsize=15)\n",
    "plt.xlabel('Sale Price', fontsize=15)\n",
    "plt.title('Sale Price Distribution', fontsize=15);"
   ]
  },
  {
   "cell_type": "code",
   "execution_count": 12,
   "metadata": {},
   "outputs": [],
   "source": [
    "#This is right skewed. Lets normalize \n",
    "new_categories_df[\"log_saleprice\"] = np.log(new_categories_df.saleprice)"
   ]
  },
  {
   "cell_type": "code",
   "execution_count": 13,
   "metadata": {},
   "outputs": [
    {
     "data": {
      "image/png": "[encoded data removed]",
      "text/plain": [
       "<Figure size 720x360 with 1 Axes>"
      ]
     },
     "metadata": {},
     "output_type": "display_data"
    }
   ],
   "source": [
    "fig2 = plt.figure(figsize=(10,5))\n",
    "dp2 = sns.distplot(new_categories_df.log_saleprice, hist=False)\n",
    "plt.ylabel('Instances', fontsize=15)\n",
    "plt.xlabel('Natural Log Sale Price', fontsize=15)\n",
    "plt.title('Log Transformed Sale Price Distribution', fontsize=15);"
   ]
  },
  {
   "cell_type": "code",
   "execution_count": 14,
   "metadata": {},
   "outputs": [
    {
     "data": {
      "text/plain": [
       "'C:\\\\Users\\\\Chris\\\\Documents\\\\thinkful\\\\thinkful_notes\\\\Unit_2_supervised_learning\\\\19'"
      ]
     },
     "execution_count": 14,
     "metadata": {},
     "output_type": "execute_result"
    }
   ],
   "source": [
    "pwd"
   ]
  },
  {
   "cell_type": "code",
   "execution_count": 15,
   "metadata": {},
   "outputs": [],
   "source": [
    "def corr_finder(df, min=.65):\n",
    "    dfcorr = df.corr()\n",
    "    filtered = dfcorr[(dfcorr.abs() > min) & ~(dfcorr == 1)]\n",
    "    for i, row in filtered.iterrows():\n",
    "        if row.sum() > 0: \n",
    "            print(\"--->{} is correlated with: \".format(i), end = '') \n",
    "            for ind, col in row.iteritems():\n",
    "                if ~np.isnan(col):\n",
    "                    print(\"    {} at {}\".format(ind, col))\n"
   ]
  },
  {
   "cell_type": "code",
   "execution_count": 16,
   "metadata": {
    "scrolled": true
   },
   "outputs": [
    {
     "name": "stdout",
     "output_type": "stream",
     "text": [
      "--->saleprice is correlated with:     log_saleprice at 0.9483737306090593\n",
      "    overallqual at 0.7909816005838048\n",
      "    grlivarea at 0.7086244776126511\n",
      "    garagecars at 0.640409197258349\n",
      "    garagearea at 0.6234314389183598\n",
      "    totalbsmtsf at 0.6135805515591944\n",
      "    firstflrsf at 0.6058521846919166\n",
      "    exterqual_TA at -0.5890435234097631\n",
      "    fullbath at 0.5606637627484452\n",
      "    totrmsabvgrd at 0.5337231555820237\n",
      "    yearbuilt at 0.5228973328794967\n",
      "    kitchenqual_TA at -0.5192978536548846\n",
      "    yearremodadd at 0.5071009671113867\n",
      "--->log_saleprice is correlated with:     saleprice at 0.9483737306090593\n",
      "    overallqual at 0.8171844179216822\n",
      "    grlivarea at 0.7009266525441293\n",
      "    garagecars at 0.6806248074360438\n",
      "    garagearea at 0.6508875559020062\n",
      "    totalbsmtsf at 0.6121339753697865\n",
      "    firstflrsf at 0.596981045034374\n",
      "    exterqual_TA at -0.5958814190862858\n",
      "    fullbath at 0.5947705420075314\n",
      "    totrmsabvgrd at 0.5344222037231195\n",
      "    yearbuilt at 0.5865702403842263\n",
      "    kitchenqual_TA at -0.5382371448464456\n",
      "    yearremodadd at 0.5656078325911801\n",
      "    foundation_PConc at 0.5308399984857224\n",
      "    garageyrblt at 0.541072862595876\n",
      "    exterqual_Gd at 0.5096749069312408\n",
      "--->overallqual is correlated with:     saleprice at 0.7909816005838048\n",
      "    log_saleprice at 0.8171844179216822\n",
      "    grlivarea at 0.5930074300286511\n",
      "    garagecars at 0.6006707165907189\n",
      "    garagearea at 0.5620217566126066\n",
      "    totalbsmtsf at 0.5378084986123927\n",
      "    exterqual_TA at -0.646246668277156\n",
      "    fullbath at 0.5505997093682553\n",
      "    yearbuilt at 0.5723227689623621\n",
      "    kitchenqual_TA at -0.5538908114230887\n",
      "    yearremodadd at 0.5506839241941741\n",
      "    foundation_PConc at 0.5682106716460765\n",
      "    garageyrblt at 0.5477658448351637\n",
      "    exterqual_Gd at 0.5477311929682153\n",
      "--->grlivarea is correlated with:     saleprice at 0.7086244776126511\n",
      "    log_saleprice at 0.7009266525441293\n",
      "    overallqual at 0.5930074300286511\n",
      "    firstflrsf at 0.5660239689357486\n",
      "    fullbath at 0.6300116462511144\n",
      "    totrmsabvgrd at 0.8254893743088377\n",
      "--->garagecars is correlated with:     saleprice at 0.640409197258349\n",
      "    log_saleprice at 0.6806248074360438\n",
      "    overallqual at 0.6006707165907189\n",
      "    garagearea at 0.8824754142814603\n",
      "    yearbuilt at 0.5378500917111045\n",
      "    garageyrblt at 0.5889200070047019\n",
      "--->garagearea is correlated with:     saleprice at 0.6234314389183598\n",
      "    log_saleprice at 0.6508875559020062\n",
      "    overallqual at 0.5620217566126066\n",
      "    garagecars at 0.8824754142814603\n",
      "    garageyrblt at 0.5645670607230588\n",
      "--->totalbsmtsf is correlated with:     saleprice at 0.6135805515591944\n",
      "    log_saleprice at 0.6121339753697865\n",
      "    overallqual at 0.5378084986123927\n",
      "    firstflrsf at 0.8195299750050355\n",
      "--->firstflrsf is correlated with:     saleprice at 0.6058521846919166\n",
      "    log_saleprice at 0.596981045034374\n",
      "    grlivarea at 0.5660239689357486\n",
      "    totalbsmtsf at 0.8195299750050355\n",
      "--->fullbath is correlated with:     saleprice at 0.5606637627484452\n",
      "    log_saleprice at 0.5947705420075314\n",
      "    overallqual at 0.5505997093682553\n",
      "    grlivarea at 0.6300116462511144\n",
      "    totrmsabvgrd at 0.5547842535334817\n",
      "--->totrmsabvgrd is correlated with:     saleprice at 0.5337231555820237\n",
      "    log_saleprice at 0.5344222037231195\n",
      "    grlivarea at 0.8254893743088377\n",
      "    fullbath at 0.5547842535334817\n",
      "--->yearbuilt is correlated with:     saleprice at 0.5228973328794967\n",
      "    log_saleprice at 0.5865702403842263\n",
      "    overallqual at 0.5723227689623621\n",
      "    garagecars at 0.5378500917111045\n",
      "    exterqual_TA at -0.5891256992710596\n",
      "    yearremodadd at 0.5928549763436497\n",
      "    foundation_PConc at 0.6511992774741444\n",
      "    garageyrblt at 0.8256674841743434\n",
      "    exterqual_Gd at 0.5579098795405896\n",
      "    bsmtqual_TA at -0.6317344918363901\n",
      "--->yearremodadd is correlated with:     saleprice at 0.5071009671113867\n",
      "    log_saleprice at 0.5656078325911801\n",
      "    overallqual at 0.5506839241941741\n",
      "    exterqual_TA at -0.5654235164377603\n",
      "    yearbuilt at 0.5928549763436497\n",
      "    kitchenqual_TA at -0.5769641228227586\n",
      "    foundation_PConc at 0.5697283889349526\n",
      "    garageyrblt at 0.6422767797035414\n",
      "    exterqual_Gd at 0.531482204743533\n",
      "--->foundation_PConc is correlated with:     log_saleprice at 0.5308399984857224\n",
      "    overallqual at 0.5682106716460765\n",
      "    exterqual_TA at -0.6208361707448782\n",
      "    yearbuilt at 0.6511992774741444\n",
      "    kitchenqual_TA at -0.5535084174703403\n",
      "    yearremodadd at 0.5697283889349526\n",
      "    garageyrblt at 0.6619982958722963\n",
      "    exterqual_Gd at 0.5867480481214732\n",
      "    bsmtqual_TA at -0.6037972450836326\n",
      "--->garageyrblt is correlated with:     log_saleprice at 0.541072862595876\n",
      "    overallqual at 0.5477658448351637\n",
      "    garagecars at 0.5889200070047019\n",
      "    garagearea at 0.5645670607230588\n",
      "    exterqual_TA at -0.5965021012186128\n",
      "    yearbuilt at 0.8256674841743434\n",
      "    yearremodadd at 0.6422767797035414\n",
      "    foundation_PConc at 0.6619982958722963\n",
      "    exterqual_Gd at 0.5364563256870517\n",
      "    bsmtqual_TA at -0.6001236937203709\n",
      "--->exterqual_Gd is correlated with:     log_saleprice at 0.5096749069312408\n",
      "    overallqual at 0.5477311929682153\n",
      "    exterqual_TA at -0.9061205814782315\n",
      "    yearbuilt at 0.5579098795405896\n",
      "    kitchenqual_TA at -0.6175980103656968\n",
      "    yearremodadd at 0.531482204743533\n",
      "    foundation_PConc at 0.5867480481214732\n",
      "    garageyrblt at 0.5364563256870517\n",
      "    bsmtqual_TA at -0.5111301155723872\n"
     ]
    }
   ],
   "source": [
    "#create X & y\n",
    "#X = house_df[[\"overallqual\", \"grlivarea\", \"fullbath\", \"yearbuilt\", \"yearremodadd\", \"garagecars\", \"fireplaces\", \"yrsold\"]]\n",
    "feature_list = new_categories_df.corr()[['saleprice']].abs().sort_values(by='saleprice', ascending=False).head(20)\n",
    "corr_finder(new_categories_df[feature_list.index], min=.5)"
   ]
  },
  {
   "cell_type": "code",
   "execution_count": 18,
   "metadata": {},
   "outputs": [
    {
     "name": "stderr",
     "output_type": "stream",
     "text": [
      "c:\\users\\chris\\appdata\\local\\programs\\python\\python37\\lib\\site-packages\\ipykernel_launcher.py:3: SettingWithCopyWarning: \n",
      "A value is trying to be set on a copy of a slice from a DataFrame.\n",
      "Try using .loc[row_indexer,col_indexer] = value instead\n",
      "\n",
      "See the caveats in the documentation: http://pandas.pydata.org/pandas-docs/stable/indexing.html#indexing-view-versus-copy\n",
      "  This is separate from the ipykernel package so we can avoid doing imports until\n"
     ]
    }
   ],
   "source": [
    "X = new_categories_df[[\"overallqual\", \"grlivarea\", \"garagecars\", \"garagearea\", \"totalbsmtsf\", \"firstflrsf\", \"exterqual_TA\", \n",
    "              \"fullbath\", \"totrmsabvgrd\", \"yearbuilt\", \"kitchenqual_TA\", \"yearremodadd\", \"yrsold\"]]\n",
    "X[\"overalqual_x_year\"] = house_df.overallqual * house_df.yearbuilt\n",
    "y = house_df.saleprice"
   ]
  },
  {
   "cell_type": "markdown",
   "metadata": {},
   "source": [
    "# Model Comparison\n",
    "## Split data"
   ]
  },
  {
   "cell_type": "code",
   "execution_count": 19,
   "metadata": {},
   "outputs": [],
   "source": [
    "X_train, X_test, y_train, y_test = train_test_split(X, y, test_size=.15)"
   ]
  },
  {
   "cell_type": "code",
   "execution_count": 20,
   "metadata": {},
   "outputs": [
    {
     "name": "stderr",
     "output_type": "stream",
     "text": [
      "c:\\users\\chris\\appdata\\local\\programs\\python\\python37\\lib\\site-packages\\numpy\\core\\fromnumeric.py:2389: FutureWarning: Method .ptp is deprecated and will be removed in a future version. Use numpy.ptp instead.\n",
      "  return ptp(axis=axis, out=out, **kwargs)\n"
     ]
    },
    {
     "data": {
      "text/html": [
       "<table class=\"simpletable\">\n",
       "<caption>OLS Regression Results</caption>\n",
       "<tr>\n",
       "  <th>Dep. Variable:</th>        <td>saleprice</td>    <th>  R-squared:         </th> <td>   0.774</td> \n",
       "</tr>\n",
       "<tr>\n",
       "  <th>Model:</th>                   <td>OLS</td>       <th>  Adj. R-squared:    </th> <td>   0.771</td> \n",
       "</tr>\n",
       "<tr>\n",
       "  <th>Method:</th>             <td>Least Squares</td>  <th>  F-statistic:       </th> <td>   299.5</td> \n",
       "</tr>\n",
       "<tr>\n",
       "  <th>Date:</th>             <td>Sat, 10 Aug 2019</td> <th>  Prob (F-statistic):</th>  <td>  0.00</td>  \n",
       "</tr>\n",
       "<tr>\n",
       "  <th>Time:</th>                 <td>14:55:22</td>     <th>  Log-Likelihood:    </th> <td> -14819.</td> \n",
       "</tr>\n",
       "<tr>\n",
       "  <th>No. Observations:</th>      <td>  1241</td>      <th>  AIC:               </th> <td>2.967e+04</td>\n",
       "</tr>\n",
       "<tr>\n",
       "  <th>Df Residuals:</th>          <td>  1226</td>      <th>  BIC:               </th> <td>2.974e+04</td>\n",
       "</tr>\n",
       "<tr>\n",
       "  <th>Df Model:</th>              <td>    14</td>      <th>                     </th>     <td> </td>    \n",
       "</tr>\n",
       "<tr>\n",
       "  <th>Covariance Type:</th>      <td>nonrobust</td>    <th>                     </th>     <td> </td>    \n",
       "</tr>\n",
       "</table>\n",
       "<table class=\"simpletable\">\n",
       "<tr>\n",
       "          <td></td>             <th>coef</th>     <th>std err</th>      <th>t</th>      <th>P>|t|</th>  <th>[0.025</th>    <th>0.975]</th>  \n",
       "</tr>\n",
       "<tr>\n",
       "  <th>const</th>             <td> 1.389e+06</td> <td> 1.65e+06</td> <td>    0.842</td> <td> 0.400</td> <td>-1.85e+06</td> <td> 4.63e+06</td>\n",
       "</tr>\n",
       "<tr>\n",
       "  <th>overallqual</th>       <td>-3.145e+05</td> <td>  5.5e+04</td> <td>   -5.716</td> <td> 0.000</td> <td>-4.22e+05</td> <td>-2.07e+05</td>\n",
       "</tr>\n",
       "<tr>\n",
       "  <th>grlivarea</th>         <td>   47.3434</td> <td>    4.620</td> <td>   10.248</td> <td> 0.000</td> <td>   38.280</td> <td>   56.407</td>\n",
       "</tr>\n",
       "<tr>\n",
       "  <th>garagecars</th>        <td> 1.335e+04</td> <td> 3229.351</td> <td>    4.134</td> <td> 0.000</td> <td> 7015.247</td> <td> 1.97e+04</td>\n",
       "</tr>\n",
       "<tr>\n",
       "  <th>garagearea</th>        <td>   -0.8675</td> <td>   10.952</td> <td>   -0.079</td> <td> 0.937</td> <td>  -22.354</td> <td>   20.619</td>\n",
       "</tr>\n",
       "<tr>\n",
       "  <th>totalbsmtsf</th>       <td>   15.9584</td> <td>    4.681</td> <td>    3.409</td> <td> 0.001</td> <td>    6.775</td> <td>   25.142</td>\n",
       "</tr>\n",
       "<tr>\n",
       "  <th>firstflrsf</th>        <td>   14.2637</td> <td>    5.365</td> <td>    2.659</td> <td> 0.008</td> <td>    3.739</td> <td>   24.789</td>\n",
       "</tr>\n",
       "<tr>\n",
       "  <th>exterqual_TA</th>      <td>-1763.9462</td> <td> 3521.273</td> <td>   -0.501</td> <td> 0.617</td> <td>-8672.336</td> <td> 5144.443</td>\n",
       "</tr>\n",
       "<tr>\n",
       "  <th>fullbath</th>          <td>-7827.4574</td> <td> 2855.578</td> <td>   -2.741</td> <td> 0.006</td> <td>-1.34e+04</td> <td>-2225.097</td>\n",
       "</tr>\n",
       "<tr>\n",
       "  <th>totrmsabvgrd</th>      <td>  549.8765</td> <td> 1216.673</td> <td>    0.452</td> <td> 0.651</td> <td>-1837.115</td> <td> 2936.868</td>\n",
       "</tr>\n",
       "<tr>\n",
       "  <th>yearbuilt</th>         <td> -781.6076</td> <td>  174.706</td> <td>   -4.474</td> <td> 0.000</td> <td>-1124.363</td> <td> -438.852</td>\n",
       "</tr>\n",
       "<tr>\n",
       "  <th>kitchenqual_TA</th>    <td>-6047.3092</td> <td> 3070.038</td> <td>   -1.970</td> <td> 0.049</td> <td>-1.21e+04</td> <td>  -24.199</td>\n",
       "</tr>\n",
       "<tr>\n",
       "  <th>yearremodadd</th>      <td>  210.4399</td> <td>   72.172</td> <td>    2.916</td> <td> 0.004</td> <td>   68.845</td> <td>  352.035</td>\n",
       "</tr>\n",
       "<tr>\n",
       "  <th>yrsold</th>            <td> -162.1736</td> <td>  800.545</td> <td>   -0.203</td> <td> 0.839</td> <td>-1732.763</td> <td> 1408.416</td>\n",
       "</tr>\n",
       "<tr>\n",
       "  <th>overalqual_x_year</th> <td>  169.6125</td> <td>   27.992</td> <td>    6.059</td> <td> 0.000</td> <td>  114.695</td> <td>  224.531</td>\n",
       "</tr>\n",
       "</table>\n",
       "<table class=\"simpletable\">\n",
       "<tr>\n",
       "  <th>Omnibus:</th>       <td>464.575</td> <th>  Durbin-Watson:     </th> <td>   2.035</td> \n",
       "</tr>\n",
       "<tr>\n",
       "  <th>Prob(Omnibus):</th> <td> 0.000</td>  <th>  Jarque-Bera (JB):  </th> <td>53008.653</td>\n",
       "</tr>\n",
       "<tr>\n",
       "  <th>Skew:</th>          <td>-0.700</td>  <th>  Prob(JB):          </th> <td>    0.00</td> \n",
       "</tr>\n",
       "<tr>\n",
       "  <th>Kurtosis:</th>      <td>34.987</td>  <th>  Cond. No.          </th> <td>2.02e+07</td> \n",
       "</tr>\n",
       "</table><br/><br/>Warnings:<br/>[1] Standard Errors assume that the covariance matrix of the errors is correctly specified.<br/>[2] The condition number is large, 2.02e+07. This might indicate that there are<br/>strong multicollinearity or other numerical problems."
      ],
      "text/plain": [
       "<class 'statsmodels.iolib.summary.Summary'>\n",
       "\"\"\"\n",
       "                            OLS Regression Results                            \n",
       "==============================================================================\n",
       "Dep. Variable:              saleprice   R-squared:                       0.774\n",
       "Model:                            OLS   Adj. R-squared:                  0.771\n",
       "Method:                 Least Squares   F-statistic:                     299.5\n",
       "Date:                Sat, 10 Aug 2019   Prob (F-statistic):               0.00\n",
       "Time:                        14:55:22   Log-Likelihood:                -14819.\n",
       "No. Observations:                1241   AIC:                         2.967e+04\n",
       "Df Residuals:                    1226   BIC:                         2.974e+04\n",
       "Df Model:                          14                                         \n",
       "Covariance Type:            nonrobust                                         \n",
       "=====================================================================================\n",
       "                        coef    std err          t      P>|t|      [0.025      0.975]\n",
       "-------------------------------------------------------------------------------------\n",
       "const              1.389e+06   1.65e+06      0.842      0.400   -1.85e+06    4.63e+06\n",
       "overallqual       -3.145e+05    5.5e+04     -5.716      0.000   -4.22e+05   -2.07e+05\n",
       "grlivarea            47.3434      4.620     10.248      0.000      38.280      56.407\n",
       "garagecars         1.335e+04   3229.351      4.134      0.000    7015.247    1.97e+04\n",
       "garagearea           -0.8675     10.952     -0.079      0.937     -22.354      20.619\n",
       "totalbsmtsf          15.9584      4.681      3.409      0.001       6.775      25.142\n",
       "firstflrsf           14.2637      5.365      2.659      0.008       3.739      24.789\n",
       "exterqual_TA      -1763.9462   3521.273     -0.501      0.617   -8672.336    5144.443\n",
       "fullbath          -7827.4574   2855.578     -2.741      0.006   -1.34e+04   -2225.097\n",
       "totrmsabvgrd        549.8765   1216.673      0.452      0.651   -1837.115    2936.868\n",
       "yearbuilt          -781.6076    174.706     -4.474      0.000   -1124.363    -438.852\n",
       "kitchenqual_TA    -6047.3092   3070.038     -1.970      0.049   -1.21e+04     -24.199\n",
       "yearremodadd        210.4399     72.172      2.916      0.004      68.845     352.035\n",
       "yrsold             -162.1736    800.545     -0.203      0.839   -1732.763    1408.416\n",
       "overalqual_x_year   169.6125     27.992      6.059      0.000     114.695     224.531\n",
       "==============================================================================\n",
       "Omnibus:                      464.575   Durbin-Watson:                   2.035\n",
       "Prob(Omnibus):                  0.000   Jarque-Bera (JB):            53008.653\n",
       "Skew:                          -0.700   Prob(JB):                         0.00\n",
       "Kurtosis:                      34.987   Cond. No.                     2.02e+07\n",
       "==============================================================================\n",
       "\n",
       "Warnings:\n",
       "[1] Standard Errors assume that the covariance matrix of the errors is correctly specified.\n",
       "[2] The condition number is large, 2.02e+07. This might indicate that there are\n",
       "strong multicollinearity or other numerical problems.\n",
       "\"\"\""
      ]
     },
     "execution_count": 20,
     "metadata": {},
     "output_type": "execute_result"
    }
   ],
   "source": [
    "X_trainsm = sm.add_constant(X_train)\n",
    "linear_m = sm.OLS(y_train, X_trainsm).fit()\n",
    "linear_m.summary()"
   ]
  },
  {
   "cell_type": "code",
   "execution_count": 21,
   "metadata": {},
   "outputs": [
    {
     "data": {
      "text/plain": [
       "const                1.388727e+06\n",
       "overallqual          3.145134e+05\n",
       "garagecars           1.335091e+04\n",
       "fullbath             7.827457e+03\n",
       "kitchenqual_TA       6.047309e+03\n",
       "exterqual_TA         1.763946e+03\n",
       "yearbuilt            7.816076e+02\n",
       "totrmsabvgrd         5.498765e+02\n",
       "yearremodadd         2.104399e+02\n",
       "overalqual_x_year    1.696125e+02\n",
       "yrsold               1.621736e+02\n",
       "grlivarea            4.734338e+01\n",
       "totalbsmtsf          1.595836e+01\n",
       "firstflrsf           1.426374e+01\n",
       "garagearea           8.674739e-01\n",
       "dtype: float64"
      ]
     },
     "execution_count": 21,
     "metadata": {},
     "output_type": "execute_result"
    }
   ],
   "source": [
    "linear_m.params.abs().sort_values(ascending=False)"
   ]
  },
  {
   "cell_type": "markdown",
   "metadata": {},
   "source": [
    "## Lasso"
   ]
  },
  {
   "cell_type": "code",
   "execution_count": 22,
   "metadata": {},
   "outputs": [
    {
     "name": "stdout",
     "output_type": "stream",
     "text": [
      "GridSearchCV(cv=12, error_score='raise-deprecating',\n",
      "             estimator=Lasso(alpha=1.0, copy_X=True, fit_intercept=True,\n",
      "                             max_iter=1000, normalize=False, positive=False,\n",
      "                             precompute=False, random_state=None,\n",
      "                             selection='cyclic', tol=0.5, warm_start=False),\n",
      "             iid='warn', n_jobs=None,\n",
      "             param_grid={'alpha': array([1.e-04, 1.e-03, 1.e-02, 1.e-01, 1.e+00, 1.e+01, 1.e+02, 1.e+03,\n",
      "       1.e+04, 1.e+05])},\n",
      "             pre_dispatch='2*n_jobs', refit=True, return_train_score=False,\n",
      "             scoring=None, verbose=0)\n",
      "best r^2 is: 0.7430272770996719\n",
      "associated lambda value is: 10000.0\n"
     ]
    },
    {
     "name": "stderr",
     "output_type": "stream",
     "text": [
      "c:\\users\\chris\\appdata\\local\\programs\\python\\python37\\lib\\site-packages\\sklearn\\model_selection\\_search.py:813: DeprecationWarning: The default of the `iid` parameter will change from True to False in version 0.22 and will be removed in 0.24. This will change numeric results when test-set sizes are unequal.\n",
      "  DeprecationWarning)\n"
     ]
    }
   ],
   "source": [
    "lasso_model = Lasso(tol=.5)  #increased tol to avoid 'ConvergenceWarning: Objective did not converge'\n",
    "alphas = np.array([.0001, .001, .01, .1, 1, 10, 100, 1_000, 10_000, 100_000])\n",
    "\n",
    "grid_las = GridSearchCV(estimator=lasso_model, param_grid=dict(alpha=alphas), cv=12)\n",
    "grid_las.fit(X_train, y_train)\n",
    "print(grid_las)\n",
    "print(\"best r^2 is: {}\".format(grid_las.best_score_))\n",
    "print(\"associated lambda value is: {}\".format(grid_las.best_estimator_.alpha))"
   ]
  },
  {
   "cell_type": "markdown",
   "metadata": {},
   "source": [
    "## Ridge"
   ]
  },
  {
   "cell_type": "code",
   "execution_count": 23,
   "metadata": {},
   "outputs": [
    {
     "name": "stdout",
     "output_type": "stream",
     "text": [
      "GridSearchCV(cv=7, error_score='raise-deprecating',\n",
      "             estimator=Ridge(alpha=1.0, copy_X=True, fit_intercept=True,\n",
      "                             max_iter=None, normalize=False, random_state=None,\n",
      "                             solver='auto', tol=0.001),\n",
      "             iid='warn', n_jobs=None,\n",
      "             param_grid={'alpha': array([1.e-04, 1.e-03, 1.e-02, 1.e-01, 1.e+00, 1.e+01, 1.e+02, 1.e+03,\n",
      "       1.e+04, 1.e+05])},\n",
      "             pre_dispatch='2*n_jobs', refit=True, return_train_score=False,\n",
      "             scoring=None, verbose=0)\n",
      "best r^2 is: 0.7225525538196117\n",
      "associated lambda value is: 100000.0\n"
     ]
    }
   ],
   "source": [
    "ridge_model = Ridge()\n",
    "alphas = np.array([.0001, .001, .01, .1, 1, 10, 100, 1_000, 10_000, 100_000])\n",
    "\n",
    "grid_ridge = GridSearchCV(estimator=ridge_model, param_grid=dict(alpha=alphas), cv=7)\n",
    "grid_ridge.fit(X_train, y_train)\n",
    "print(grid_ridge)\n",
    "print(\"best r^2 is: {}\".format(grid_ridge.best_score_))\n",
    "print(\"associated lambda value is: {}\".format(grid_ridge.best_estimator_.alpha))"
   ]
  },
  {
   "cell_type": "markdown",
   "metadata": {},
   "source": [
    "## ElasticNet"
   ]
  },
  {
   "cell_type": "code",
   "execution_count": 24,
   "metadata": {},
   "outputs": [
    {
     "name": "stdout",
     "output_type": "stream",
     "text": [
      "GridSearchCV(cv=7, error_score='raise-deprecating',\n",
      "             estimator=ElasticNet(alpha=1.0, copy_X=True, fit_intercept=True,\n",
      "                                  l1_ratio=0.5, max_iter=1000, normalize=False,\n",
      "                                  positive=False, precompute=False,\n",
      "                                  random_state=None, selection='cyclic', tol=1,\n",
      "                                  warm_start=False),\n",
      "             iid='warn', n_jobs=None,\n",
      "             param_grid={'alpha': array([1.e-04, 1.e-03, 1.e-02, 1.e-01, 1.e+00, 1.e+01, 1.e+02]),\n",
      "                         'l1_ratio': array([0.1, 0.5, 0.9])},\n",
      "             pre_dispatch='2*n_jobs', refit=True, return_train_score=False,\n",
      "             scoring=None, verbose=0)\n",
      "best r^2 is: 0.719334437956171\n",
      "associated lambda value is: 1.0\n",
      "associated estimator value is: ElasticNet(alpha=1.0, copy_X=True, fit_intercept=True, l1_ratio=0.9,\n",
      "           max_iter=1000, normalize=False, positive=False, precompute=False,\n",
      "           random_state=None, selection='cyclic', tol=1, warm_start=False)\n"
     ]
    }
   ],
   "source": [
    "elasticnet_model = ElasticNet(tol=1)   #increased tol to avoid 'ConvergenceWarning: Objective did not converge'\n",
    "alphas = np.array([.0001, .001, .01, .1, 1, 10, 100])\n",
    "l1_ratio = np.array([.1, .5, .9])\n",
    "params = {'alpha': alphas, 'l1_ratio': l1_ratio}\n",
    "\n",
    "grid_enet = GridSearchCV(estimator=elasticnet_model, param_grid=params, cv=7)\n",
    "grid_enet.fit(X_train, y_train)\n",
    "print(grid_enet)\n",
    "print(\"best r^2 is: {}\".format(grid_enet.best_score_))\n",
    "print(\"associated lambda value is: {}\".format(grid_enet.best_estimator_.alpha))\n",
    "print(\"associated estimator value is: {}\".format(grid_enet.best_estimator_))"
   ]
  },
  {
   "cell_type": "markdown",
   "metadata": {},
   "source": [
    "# External Factors\n",
    "\n",
    "Realtors may cite Location, Location, Location, but timing is vital when buying and selling assets. The Great Recession had a huge impact on the housing market (and vice-versa.) I am including a feature for the economic condition: annual unemployment rate.\n",
    "\n",
    "I have also included interest rate. Most houses are purchased via mortgage and so, for a given monthly budget, a higher interest rate will result in a lower possible purchase price budget.\n",
    "\n",
    "Citations:\n",
    "Organization for Economic Co-operation and Development, Unemployment Rate: Aged 15-64: All Persons for the United States [LRUN64TTUSA156S], retrieved from FRED, Federal Reserve Bank of St. Louis; https://fred.stlouisfed.org/series/LRUN64TTUSA156S, August 6, 2019.\n",
    "\n",
    "Freddie Mac, 30-Year Fixed Rate Mortgage Average in the United States [MORTGAGE30US], retrieved from FRED, Federal Reserve Bank of St. Louis; https://fred.stlouisfed.org/series/MORTGAGE30US, August 7, 2019."
   ]
  },
  {
   "cell_type": "code",
   "execution_count": 25,
   "metadata": {},
   "outputs": [],
   "source": [
    "econ_df = pd.read_csv(r'../../../data_sets/LRUN64TTUSA156S.csv')"
   ]
  },
  {
   "cell_type": "code",
   "execution_count": 26,
   "metadata": {},
   "outputs": [],
   "source": [
    "econ_df.DATE = pd.to_datetime(econ_df[\"DATE\"])"
   ]
  },
  {
   "cell_type": "code",
   "execution_count": 27,
   "metadata": {},
   "outputs": [
    {
     "data": {
      "text/html": [
       "<div>\n",
       "<style scoped>\n",
       "    .dataframe tbody tr th:only-of-type {\n",
       "        vertical-align: middle;\n",
       "    }\n",
       "\n",
       "    .dataframe tbody tr th {\n",
       "        vertical-align: top;\n",
       "    }\n",
       "\n",
       "    .dataframe thead th {\n",
       "        text-align: right;\n",
       "    }\n",
       "</style>\n",
       "<table border=\"1\" class=\"dataframe\">\n",
       "  <thead>\n",
       "    <tr style=\"text-align: right;\">\n",
       "      <th></th>\n",
       "      <th>DATE</th>\n",
       "      <th>LRUN64TTUSA156S</th>\n",
       "      <th>year</th>\n",
       "    </tr>\n",
       "  </thead>\n",
       "  <tbody>\n",
       "    <tr>\n",
       "      <th>0</th>\n",
       "      <td>1960-01-01</td>\n",
       "      <td>5.617115</td>\n",
       "      <td>1960</td>\n",
       "    </tr>\n",
       "    <tr>\n",
       "      <th>1</th>\n",
       "      <td>1961-01-01</td>\n",
       "      <td>6.770271</td>\n",
       "      <td>1961</td>\n",
       "    </tr>\n",
       "    <tr>\n",
       "      <th>2</th>\n",
       "      <td>1962-01-01</td>\n",
       "      <td>5.596210</td>\n",
       "      <td>1962</td>\n",
       "    </tr>\n",
       "    <tr>\n",
       "      <th>3</th>\n",
       "      <td>1963-01-01</td>\n",
       "      <td>5.739126</td>\n",
       "      <td>1963</td>\n",
       "    </tr>\n",
       "    <tr>\n",
       "      <th>4</th>\n",
       "      <td>1964-01-01</td>\n",
       "      <td>5.246175</td>\n",
       "      <td>1964</td>\n",
       "    </tr>\n",
       "  </tbody>\n",
       "</table>\n",
       "</div>"
      ],
      "text/plain": [
       "        DATE  LRUN64TTUSA156S  year\n",
       "0 1960-01-01         5.617115  1960\n",
       "1 1961-01-01         6.770271  1961\n",
       "2 1962-01-01         5.596210  1962\n",
       "3 1963-01-01         5.739126  1963\n",
       "4 1964-01-01         5.246175  1964"
      ]
     },
     "execution_count": 27,
     "metadata": {},
     "output_type": "execute_result"
    }
   ],
   "source": [
    "econ_df[\"year\"] = econ_df.DATE.dt.year\n",
    "econ_df.head()"
   ]
  },
  {
   "cell_type": "code",
   "execution_count": 28,
   "metadata": {},
   "outputs": [],
   "source": [
    "econ2_df = pd.read_csv(r'../../../data_sets/MORTGAGE30US.csv')"
   ]
  },
  {
   "cell_type": "code",
   "execution_count": 29,
   "metadata": {},
   "outputs": [
    {
     "data": {
      "text/html": [
       "<div>\n",
       "<style scoped>\n",
       "    .dataframe tbody tr th:only-of-type {\n",
       "        vertical-align: middle;\n",
       "    }\n",
       "\n",
       "    .dataframe tbody tr th {\n",
       "        vertical-align: top;\n",
       "    }\n",
       "\n",
       "    .dataframe thead th {\n",
       "        text-align: right;\n",
       "    }\n",
       "</style>\n",
       "<table border=\"1\" class=\"dataframe\">\n",
       "  <thead>\n",
       "    <tr style=\"text-align: right;\">\n",
       "      <th></th>\n",
       "      <th>DATE</th>\n",
       "      <th>MORTGAGE30US</th>\n",
       "    </tr>\n",
       "  </thead>\n",
       "  <tbody>\n",
       "    <tr>\n",
       "      <th>0</th>\n",
       "      <td>1971-04-02</td>\n",
       "      <td>7.33</td>\n",
       "    </tr>\n",
       "    <tr>\n",
       "      <th>1</th>\n",
       "      <td>1971-04-09</td>\n",
       "      <td>7.31</td>\n",
       "    </tr>\n",
       "    <tr>\n",
       "      <th>2</th>\n",
       "      <td>1971-04-16</td>\n",
       "      <td>7.31</td>\n",
       "    </tr>\n",
       "    <tr>\n",
       "      <th>3</th>\n",
       "      <td>1971-04-23</td>\n",
       "      <td>7.31</td>\n",
       "    </tr>\n",
       "    <tr>\n",
       "      <th>4</th>\n",
       "      <td>1971-04-30</td>\n",
       "      <td>7.29</td>\n",
       "    </tr>\n",
       "  </tbody>\n",
       "</table>\n",
       "</div>"
      ],
      "text/plain": [
       "         DATE  MORTGAGE30US\n",
       "0  1971-04-02          7.33\n",
       "1  1971-04-09          7.31\n",
       "2  1971-04-16          7.31\n",
       "3  1971-04-23          7.31\n",
       "4  1971-04-30          7.29"
      ]
     },
     "execution_count": 29,
     "metadata": {},
     "output_type": "execute_result"
    }
   ],
   "source": [
    "econ2_df.head()"
   ]
  },
  {
   "cell_type": "code",
   "execution_count": 30,
   "metadata": {},
   "outputs": [
    {
     "data": {
      "text/html": [
       "<div>\n",
       "<style scoped>\n",
       "    .dataframe tbody tr th:only-of-type {\n",
       "        vertical-align: middle;\n",
       "    }\n",
       "\n",
       "    .dataframe tbody tr th {\n",
       "        vertical-align: top;\n",
       "    }\n",
       "\n",
       "    .dataframe thead th {\n",
       "        text-align: right;\n",
       "    }\n",
       "</style>\n",
       "<table border=\"1\" class=\"dataframe\">\n",
       "  <thead>\n",
       "    <tr style=\"text-align: right;\">\n",
       "      <th></th>\n",
       "      <th>MORTGAGE30US</th>\n",
       "    </tr>\n",
       "    <tr>\n",
       "      <th>year</th>\n",
       "      <th></th>\n",
       "    </tr>\n",
       "  </thead>\n",
       "  <tbody>\n",
       "    <tr>\n",
       "      <th>1971</th>\n",
       "      <td>7.541750</td>\n",
       "    </tr>\n",
       "    <tr>\n",
       "      <th>1972</th>\n",
       "      <td>7.383269</td>\n",
       "    </tr>\n",
       "    <tr>\n",
       "      <th>1973</th>\n",
       "      <td>8.044808</td>\n",
       "    </tr>\n",
       "    <tr>\n",
       "      <th>1974</th>\n",
       "      <td>9.187115</td>\n",
       "    </tr>\n",
       "    <tr>\n",
       "      <th>1975</th>\n",
       "      <td>9.047115</td>\n",
       "    </tr>\n",
       "  </tbody>\n",
       "</table>\n",
       "</div>"
      ],
      "text/plain": [
       "      MORTGAGE30US\n",
       "year              \n",
       "1971      7.541750\n",
       "1972      7.383269\n",
       "1973      8.044808\n",
       "1974      9.187115\n",
       "1975      9.047115"
      ]
     },
     "execution_count": 30,
     "metadata": {},
     "output_type": "execute_result"
    }
   ],
   "source": [
    "#get annual interest rate average\n",
    "econ2_df[\"year\"] = pd.to_datetime(econ2_df.DATE).dt.year\n",
    "econ_rates_df = econ2_df.groupby(\"year\").mean()\n",
    "econ_rates_df.head()"
   ]
  },
  {
   "cell_type": "code",
   "execution_count": 31,
   "metadata": {},
   "outputs": [
    {
     "data": {
      "text/html": [
       "<div>\n",
       "<style scoped>\n",
       "    .dataframe tbody tr th:only-of-type {\n",
       "        vertical-align: middle;\n",
       "    }\n",
       "\n",
       "    .dataframe tbody tr th {\n",
       "        vertical-align: top;\n",
       "    }\n",
       "\n",
       "    .dataframe thead th {\n",
       "        text-align: right;\n",
       "    }\n",
       "</style>\n",
       "<table border=\"1\" class=\"dataframe\">\n",
       "  <thead>\n",
       "    <tr style=\"text-align: right;\">\n",
       "      <th></th>\n",
       "      <th>unemployment</th>\n",
       "      <th>year</th>\n",
       "      <th>mtg_rate</th>\n",
       "    </tr>\n",
       "  </thead>\n",
       "  <tbody>\n",
       "    <tr>\n",
       "      <th>0</th>\n",
       "      <td>6.041505</td>\n",
       "      <td>1971</td>\n",
       "      <td>7.541750</td>\n",
       "    </tr>\n",
       "    <tr>\n",
       "      <th>1</th>\n",
       "      <td>5.688501</td>\n",
       "      <td>1972</td>\n",
       "      <td>7.383269</td>\n",
       "    </tr>\n",
       "    <tr>\n",
       "      <th>2</th>\n",
       "      <td>4.950751</td>\n",
       "      <td>1973</td>\n",
       "      <td>8.044808</td>\n",
       "    </tr>\n",
       "    <tr>\n",
       "      <th>3</th>\n",
       "      <td>5.677059</td>\n",
       "      <td>1974</td>\n",
       "      <td>9.187115</td>\n",
       "    </tr>\n",
       "    <tr>\n",
       "      <th>4</th>\n",
       "      <td>8.561464</td>\n",
       "      <td>1975</td>\n",
       "      <td>9.047115</td>\n",
       "    </tr>\n",
       "  </tbody>\n",
       "</table>\n",
       "</div>"
      ],
      "text/plain": [
       "   unemployment  year  mtg_rate\n",
       "0      6.041505  1971  7.541750\n",
       "1      5.688501  1972  7.383269\n",
       "2      4.950751  1973  8.044808\n",
       "3      5.677059  1974  9.187115\n",
       "4      8.561464  1975  9.047115"
      ]
     },
     "execution_count": 31,
     "metadata": {},
     "output_type": "execute_result"
    }
   ],
   "source": [
    "econ_both_df = pd.merge(left=econ_df, right=econ_rates_df, on='year').drop([\"DATE\"], axis=1)\n",
    "econ_both_df = econ_both_df.rename(columns={'LRUN64TTUSA156S':'unemployment', 'MORTGAGE30US':'mtg_rate'})\n",
    "econ_both_df.head()"
   ]
  },
  {
   "cell_type": "code",
   "execution_count": 32,
   "metadata": {},
   "outputs": [],
   "source": [
    "#combine econ data with house data \n",
    "X_wecon_train = pd.merge(left=X_train, right=econ_both_df, left_on='yrsold', right_on='year', how='left')\n",
    "X_wecon_test = pd.merge(left=X_test, right=econ_both_df, left_on='yrsold', right_on='year', how='left')"
   ]
  },
  {
   "cell_type": "code",
   "execution_count": 33,
   "metadata": {},
   "outputs": [
    {
     "name": "stdout",
     "output_type": "stream",
     "text": [
      "GridSearchCV(cv=7, error_score='raise-deprecating',\n",
      "             estimator=ElasticNet(alpha=1.0, copy_X=True, fit_intercept=True,\n",
      "                                  l1_ratio=0.5, max_iter=1000, normalize=False,\n",
      "                                  positive=False, precompute=False,\n",
      "                                  random_state=None, selection='cyclic', tol=1,\n",
      "                                  warm_start=False),\n",
      "             iid='warn', n_jobs=None,\n",
      "             param_grid={'alpha': array([1.e-04, 1.e-03, 1.e-02, 1.e-01, 1.e+00, 1.e+01, 1.e+02]),\n",
      "                         'l1_ratio': array([0.1, 0.5, 0.9])},\n",
      "             pre_dispatch='2*n_jobs', refit=True, return_train_score=False,\n",
      "             scoring=None, verbose=0)\n",
      "best r^2 is: 0.7191876617136004\n",
      "associated lambda value is: 1.0\n",
      "associated estimator value is: ElasticNet(alpha=1.0, copy_X=True, fit_intercept=True, l1_ratio=0.9,\n",
      "           max_iter=1000, normalize=False, positive=False, precompute=False,\n",
      "           random_state=None, selection='cyclic', tol=1, warm_start=False)\n"
     ]
    }
   ],
   "source": [
    "elasticnet_model2 = ElasticNet(tol=1)   #increased tol to avoid 'ConvergenceWarning: Objective did not converge'\n",
    "alphas = np.array([.0001, .001, .01, .1, 1, 10, 100])\n",
    "l1_ratio = np.array([.1, .5, .9])\n",
    "params = {'alpha': alphas, 'l1_ratio': l1_ratio}\n",
    "\n",
    "grid_enet2 = GridSearchCV(estimator=elasticnet_model2, param_grid=params, cv=7)\n",
    "grid_enet2.fit(X_wecon_train, y_train)\n",
    "print(grid_enet2)\n",
    "print(\"best r^2 is: {}\".format(grid_enet2.best_score_))\n",
    "print(\"associated lambda value is: {}\".format(grid_enet2.best_estimator_.alpha))\n",
    "print(\"associated estimator value is: {}\".format(grid_enet2.best_estimator_))"
   ]
  },
  {
   "cell_type": "code",
   "execution_count": 34,
   "metadata": {},
   "outputs": [
    {
     "name": "stdout",
     "output_type": "stream",
     "text": [
      "GridSearchCV(cv=7, error_score='raise-deprecating',\n",
      "             estimator=Ridge(alpha=1.0, copy_X=True, fit_intercept=True,\n",
      "                             max_iter=None, normalize=False, random_state=None,\n",
      "                             solver='auto', tol=0.001),\n",
      "             iid='warn', n_jobs=None,\n",
      "             param_grid={'alpha': array([1.e-04, 1.e-03, 1.e-02, 1.e-01, 1.e+00, 1.e+01, 1.e+02, 1.e+03,\n",
      "       1.e+04, 1.e+05])},\n",
      "             pre_dispatch='2*n_jobs', refit=True, return_train_score=False,\n",
      "             scoring=None, verbose=0)\n",
      "best r^2 is: 0.722540228394896\n",
      "associated lambda value is: 100000.0\n"
     ]
    }
   ],
   "source": [
    "ridge_model2 = Ridge()\n",
    "alphas = np.array([.0001, .001, .01, .1, 1, 10, 100, 1_000, 10_000, 100_000])\n",
    "\n",
    "grid_ridge2 = GridSearchCV(estimator=ridge_model2, param_grid=dict(alpha=alphas), cv=7)\n",
    "grid_ridge2.fit(X_wecon_train, y_train)\n",
    "print(grid_ridge2)\n",
    "print(\"best r^2 is: {}\".format(grid_ridge2.best_score_))\n",
    "print(\"associated lambda value is: {}\".format(grid_ridge2.best_estimator_.alpha))"
   ]
  },
  {
   "cell_type": "markdown",
   "metadata": {},
   "source": [
    "## Test model on unused data"
   ]
  },
  {
   "cell_type": "code",
   "execution_count": 35,
   "metadata": {},
   "outputs": [
    {
     "data": {
      "text/plain": [
       "0.815506238939019"
      ]
     },
     "execution_count": 35,
     "metadata": {},
     "output_type": "execute_result"
    }
   ],
   "source": [
    "grid_ridge2.score(X_wecon_test, y_test)"
   ]
  },
  {
   "cell_type": "markdown",
   "metadata": {},
   "source": [
    "This is as high as the score on the training data, so the model does not seem to be overfit."
   ]
  },
  {
   "cell_type": "code",
   "execution_count": 36,
   "metadata": {},
   "outputs": [
    {
     "data": {
      "text/plain": [
       "<matplotlib.axes._subplots.AxesSubplot at 0x2ec536a30c8>"
      ]
     },
     "execution_count": 36,
     "metadata": {},
     "output_type": "execute_result"
    },
    {
     "data": {
      "image/png": "[encoded data removed]",
      "text/plain": [
       "<Figure size 432x288 with 1 Axes>"
      ]
     },
     "metadata": {},
     "output_type": "display_data"
    }
   ],
   "source": [
    "sns.scatterplot(grid_ridge2.predict(X_wecon_test), y_test)"
   ]
  },
  {
   "cell_type": "code",
   "execution_count": null,
   "metadata": {},
   "outputs": [],
   "source": []
  },
  {
   "cell_type": "code",
   "execution_count": null,
   "metadata": {},
   "outputs": [],
   "source": []
  }
 ],
 "metadata": {
  "kernelspec": {
   "display_name": "Python 3",
   "language": "python",
   "name": "python3"
  },
  "language_info": {
   "codemirror_mode": {
    "name": "ipython",
    "version": 3
   },
   "file_extension": ".py",
   "mimetype": "text/x-python",
   "name": "python",
   "nbconvert_exporter": "python",
   "pygments_lexer": "ipython3",
   "version": "3.7.4"
  }
 },
 "nbformat": 4,
 "nbformat_minor": 2
}

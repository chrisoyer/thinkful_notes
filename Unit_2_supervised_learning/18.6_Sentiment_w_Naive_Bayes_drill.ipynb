{
 "cells": [
  {
   "cell_type": "code",
   "execution_count": 145,
   "metadata": {},
   "outputs": [],
   "source": [
    "import numpy as np\n",
    "import pandas as pd\n",
    "import matplotlib.pylab as plt\n",
    "import seaborn as sns\n",
    "from zipfile import ZipFile\n",
    "import urllib.request\n",
    "import os\n",
    "from sklearn import naive_bayes"
   ]
  },
  {
   "cell_type": "code",
   "execution_count": 7,
   "metadata": {},
   "outputs": [
    {
     "name": "stdout",
     "output_type": "stream",
     "text": [
      "File Name                                             Modified             Size\n",
      "sentiment labelled sentences/                  2016-07-05 11:32:30            0\n",
      "sentiment labelled sentences/.DS_Store         2016-07-05 11:32:34         6148\n",
      "__MACOSX/                                      2016-07-05 11:39:00            0\n",
      "__MACOSX/sentiment labelled sentences/         2016-07-05 11:39:00            0\n",
      "__MACOSX/sentiment labelled sentences/._.DS_Store 2016-07-05 11:32:34          212\n",
      "sentiment labelled sentences/amazon_cells_labelled.txt 2016-07-05 11:30:22        58226\n",
      "sentiment labelled sentences/imdb_labelled.txt 2015-02-14 16:11:16        85285\n",
      "__MACOSX/sentiment labelled sentences/._imdb_labelled.txt 2015-02-14 16:11:16          212\n",
      "sentiment labelled sentences/readme.txt        2015-05-30 17:29:46         1070\n",
      "__MACOSX/sentiment labelled sentences/._readme.txt 2015-05-30 17:29:46          212\n",
      "sentiment labelled sentences/yelp_labelled.txt 2016-07-05 11:27:32        61320\n",
      "__MACOSX/._sentiment labelled sentences        2016-07-05 11:32:30          212\n"
     ]
    }
   ],
   "source": [
    "#download and extract datasets\n",
    "data_url = f'https://archive.ics.uci.edu/ml/machine-learning-databases/00331/sentiment%20labelled%20sentences.zip'\n",
    "file_name = f'C:/Users/Chris/Documents/thinkful/data_sets/sentiment_sentences.zip'\n",
    "urllib.request.urlretrieve(data_url, file_name)\n",
    "\n",
    "with ZipFile(file_name, 'r') as zip:    #readmode\n",
    "    zip.printdir() \n",
    "    zip.extractall(path=r'C:\\Users\\Chris\\Documents\\thinkful\\data_sets\\sentiment_sentences') "
   ]
  },
  {
   "cell_type": "code",
   "execution_count": 25,
   "metadata": {},
   "outputs": [],
   "source": [
    "os.chdir('../..')"
   ]
  },
  {
   "cell_type": "code",
   "execution_count": 56,
   "metadata": {},
   "outputs": [
    {
     "name": "stderr",
     "output_type": "stream",
     "text": [
      "The system cannot find the path specified.\n"
     ]
    }
   ],
   "source": [
    "!cd sentiment_sentences/; ls"
   ]
  },
  {
   "cell_type": "code",
   "execution_count": 58,
   "metadata": {},
   "outputs": [
    {
     "name": "stdout",
     "output_type": "stream",
     "text": [
      "sentiment labelled sentences\n"
     ]
    }
   ],
   "source": [
    "os.chdir('sentiment_sentences/')\n",
    "!ls"
   ]
  },
  {
   "cell_type": "code",
   "execution_count": 59,
   "metadata": {},
   "outputs": [],
   "source": [
    "!mv 'sentiment labelled sentences/' sentiment_labelled_sentences"
   ]
  },
  {
   "cell_type": "code",
   "execution_count": 60,
   "metadata": {},
   "outputs": [
    {
     "name": "stdout",
     "output_type": "stream",
     "text": [
      "sentiment_labelled_sentences\n"
     ]
    }
   ],
   "source": [
    "!ls"
   ]
  },
  {
   "cell_type": "code",
   "execution_count": 70,
   "metadata": {},
   "outputs": [
    {
     "name": "stdout",
     "output_type": "stream",
     "text": [
      "amazon_cells_labelled.txt\n",
      "imdb_labelled.txt\n",
      "readme.txt\n",
      "yelp_labelled.txt\n"
     ]
    }
   ],
   "source": [
    "os.chdir(r'sentiment_labelled_sentences/')\n",
    "!ls"
   ]
  },
  {
   "cell_type": "code",
   "execution_count": 137,
   "metadata": {},
   "outputs": [],
   "source": [
    "#import data to DF\n",
    "yelp_df = pd.read_csv('yelp_labelled.txt', sep='\\t', header=None)"
   ]
  },
  {
   "cell_type": "code",
   "execution_count": 138,
   "metadata": {},
   "outputs": [],
   "source": [
    "yelp_df.rename(index=str, columns={0:'sentence', 1:'score'}, inplace=True)"
   ]
  },
  {
   "cell_type": "code",
   "execution_count": 139,
   "metadata": {},
   "outputs": [
    {
     "data": {
      "text/html": [
       "<div>\n",
       "<style scoped>\n",
       "    .dataframe tbody tr th:only-of-type {\n",
       "        vertical-align: middle;\n",
       "    }\n",
       "\n",
       "    .dataframe tbody tr th {\n",
       "        vertical-align: top;\n",
       "    }\n",
       "\n",
       "    .dataframe thead th {\n",
       "        text-align: right;\n",
       "    }\n",
       "</style>\n",
       "<table border=\"1\" class=\"dataframe\">\n",
       "  <thead>\n",
       "    <tr style=\"text-align: right;\">\n",
       "      <th></th>\n",
       "      <th>sentence</th>\n",
       "      <th>score</th>\n",
       "    </tr>\n",
       "  </thead>\n",
       "  <tbody>\n",
       "    <tr>\n",
       "      <th>0</th>\n",
       "      <td>Wow... Loved this place.</td>\n",
       "      <td>1</td>\n",
       "    </tr>\n",
       "    <tr>\n",
       "      <th>1</th>\n",
       "      <td>Crust is not good.</td>\n",
       "      <td>0</td>\n",
       "    </tr>\n",
       "    <tr>\n",
       "      <th>2</th>\n",
       "      <td>Not tasty and the texture was just nasty.</td>\n",
       "      <td>0</td>\n",
       "    </tr>\n",
       "    <tr>\n",
       "      <th>3</th>\n",
       "      <td>Stopped by during the late May bank holiday off Rick Steve recommendation and loved it.</td>\n",
       "      <td>1</td>\n",
       "    </tr>\n",
       "    <tr>\n",
       "      <th>4</th>\n",
       "      <td>The selection on the menu was great and so were the prices.</td>\n",
       "      <td>1</td>\n",
       "    </tr>\n",
       "    <tr>\n",
       "      <th>5</th>\n",
       "      <td>Now I am getting angry and I want my damn pho.</td>\n",
       "      <td>0</td>\n",
       "    </tr>\n",
       "    <tr>\n",
       "      <th>6</th>\n",
       "      <td>Honeslty it didn't taste THAT fresh.)</td>\n",
       "      <td>0</td>\n",
       "    </tr>\n",
       "    <tr>\n",
       "      <th>7</th>\n",
       "      <td>The potatoes were like rubber and you could tell they had been made up ahead of time being kept under a warmer.</td>\n",
       "      <td>0</td>\n",
       "    </tr>\n",
       "    <tr>\n",
       "      <th>8</th>\n",
       "      <td>The fries were great too.</td>\n",
       "      <td>1</td>\n",
       "    </tr>\n",
       "    <tr>\n",
       "      <th>9</th>\n",
       "      <td>A great touch.</td>\n",
       "      <td>1</td>\n",
       "    </tr>\n",
       "    <tr>\n",
       "      <th>10</th>\n",
       "      <td>Service was very prompt.</td>\n",
       "      <td>1</td>\n",
       "    </tr>\n",
       "    <tr>\n",
       "      <th>11</th>\n",
       "      <td>Would not go back.</td>\n",
       "      <td>0</td>\n",
       "    </tr>\n",
       "    <tr>\n",
       "      <th>12</th>\n",
       "      <td>The cashier had no care what so ever on what I had to say it still ended up being wayyy overpriced.</td>\n",
       "      <td>0</td>\n",
       "    </tr>\n",
       "    <tr>\n",
       "      <th>13</th>\n",
       "      <td>I tried the Cape Cod ravoli, chicken,with cranberry...mmmm!</td>\n",
       "      <td>1</td>\n",
       "    </tr>\n",
       "    <tr>\n",
       "      <th>14</th>\n",
       "      <td>I was disgusted because I was pretty sure that was human hair.</td>\n",
       "      <td>0</td>\n",
       "    </tr>\n",
       "    <tr>\n",
       "      <th>15</th>\n",
       "      <td>I was shocked because no signs indicate cash only.</td>\n",
       "      <td>0</td>\n",
       "    </tr>\n",
       "    <tr>\n",
       "      <th>16</th>\n",
       "      <td>Highly recommended.</td>\n",
       "      <td>1</td>\n",
       "    </tr>\n",
       "    <tr>\n",
       "      <th>17</th>\n",
       "      <td>Waitress was a little slow in service.</td>\n",
       "      <td>0</td>\n",
       "    </tr>\n",
       "    <tr>\n",
       "      <th>18</th>\n",
       "      <td>This place is not worth your time, let alone Vegas.</td>\n",
       "      <td>0</td>\n",
       "    </tr>\n",
       "    <tr>\n",
       "      <th>19</th>\n",
       "      <td>did not like at all.</td>\n",
       "      <td>0</td>\n",
       "    </tr>\n",
       "  </tbody>\n",
       "</table>\n",
       "</div>"
      ],
      "text/plain": [
       "                                                                                                           sentence  \\\n",
       "0                                                                                          Wow... Loved this place.   \n",
       "1                                                                                                Crust is not good.   \n",
       "2                                                                         Not tasty and the texture was just nasty.   \n",
       "3                           Stopped by during the late May bank holiday off Rick Steve recommendation and loved it.   \n",
       "4                                                       The selection on the menu was great and so were the prices.   \n",
       "5                                                                    Now I am getting angry and I want my damn pho.   \n",
       "6                                                                             Honeslty it didn't taste THAT fresh.)   \n",
       "7   The potatoes were like rubber and you could tell they had been made up ahead of time being kept under a warmer.   \n",
       "8                                                                                         The fries were great too.   \n",
       "9                                                                                                    A great touch.   \n",
       "10                                                                                         Service was very prompt.   \n",
       "11                                                                                               Would not go back.   \n",
       "12              The cashier had no care what so ever on what I had to say it still ended up being wayyy overpriced.   \n",
       "13                                                      I tried the Cape Cod ravoli, chicken,with cranberry...mmmm!   \n",
       "14                                                   I was disgusted because I was pretty sure that was human hair.   \n",
       "15                                                               I was shocked because no signs indicate cash only.   \n",
       "16                                                                                              Highly recommended.   \n",
       "17                                                                           Waitress was a little slow in service.   \n",
       "18                                                              This place is not worth your time, let alone Vegas.   \n",
       "19                                                                                             did not like at all.   \n",
       "\n",
       "    score  \n",
       "0       1  \n",
       "1       0  \n",
       "2       0  \n",
       "3       1  \n",
       "4       1  \n",
       "5       0  \n",
       "6       0  \n",
       "7       0  \n",
       "8       1  \n",
       "9       1  \n",
       "10      1  \n",
       "11      0  \n",
       "12      0  \n",
       "13      1  \n",
       "14      0  \n",
       "15      0  \n",
       "16      1  \n",
       "17      0  \n",
       "18      0  \n",
       "19      0  "
      ]
     },
     "execution_count": 139,
     "metadata": {},
     "output_type": "execute_result"
    }
   ],
   "source": [
    "pd.set_option('display.max_colwidth', 120)\n",
    "yelp_df.head(20)"
   ]
  },
  {
   "cell_type": "code",
   "execution_count": 140,
   "metadata": {},
   "outputs": [
    {
     "data": {
      "text/html": [
       "<div>\n",
       "<style scoped>\n",
       "    .dataframe tbody tr th:only-of-type {\n",
       "        vertical-align: middle;\n",
       "    }\n",
       "\n",
       "    .dataframe tbody tr th {\n",
       "        vertical-align: top;\n",
       "    }\n",
       "\n",
       "    .dataframe thead th {\n",
       "        text-align: right;\n",
       "    }\n",
       "</style>\n",
       "<table border=\"1\" class=\"dataframe\">\n",
       "  <thead>\n",
       "    <tr style=\"text-align: right;\">\n",
       "      <th></th>\n",
       "      <th>sentence</th>\n",
       "      <th>score</th>\n",
       "      <th>loved</th>\n",
       "      <th>prompt</th>\n",
       "      <th>overpriced</th>\n",
       "      <th>slow</th>\n",
       "      <th>tasty</th>\n",
       "      <th>delicious</th>\n",
       "      <th>favorite</th>\n",
       "      <th>angry</th>\n",
       "      <th>great</th>\n",
       "      <th>would not</th>\n",
       "    </tr>\n",
       "  </thead>\n",
       "  <tbody>\n",
       "    <tr>\n",
       "      <th>0</th>\n",
       "      <td>Wow... Loved this place.</td>\n",
       "      <td>1</td>\n",
       "      <td>True</td>\n",
       "      <td>False</td>\n",
       "      <td>False</td>\n",
       "      <td>False</td>\n",
       "      <td>False</td>\n",
       "      <td>False</td>\n",
       "      <td>False</td>\n",
       "      <td>False</td>\n",
       "      <td>False</td>\n",
       "      <td>False</td>\n",
       "    </tr>\n",
       "    <tr>\n",
       "      <th>1</th>\n",
       "      <td>Crust is not good.</td>\n",
       "      <td>0</td>\n",
       "      <td>False</td>\n",
       "      <td>False</td>\n",
       "      <td>False</td>\n",
       "      <td>False</td>\n",
       "      <td>False</td>\n",
       "      <td>False</td>\n",
       "      <td>False</td>\n",
       "      <td>False</td>\n",
       "      <td>False</td>\n",
       "      <td>False</td>\n",
       "    </tr>\n",
       "    <tr>\n",
       "      <th>2</th>\n",
       "      <td>Not tasty and the texture was just nasty.</td>\n",
       "      <td>0</td>\n",
       "      <td>False</td>\n",
       "      <td>False</td>\n",
       "      <td>False</td>\n",
       "      <td>False</td>\n",
       "      <td>True</td>\n",
       "      <td>False</td>\n",
       "      <td>False</td>\n",
       "      <td>False</td>\n",
       "      <td>False</td>\n",
       "      <td>False</td>\n",
       "    </tr>\n",
       "    <tr>\n",
       "      <th>3</th>\n",
       "      <td>Stopped by during the late May bank holiday off Rick Steve recommendation and loved it.</td>\n",
       "      <td>1</td>\n",
       "      <td>True</td>\n",
       "      <td>False</td>\n",
       "      <td>False</td>\n",
       "      <td>False</td>\n",
       "      <td>False</td>\n",
       "      <td>False</td>\n",
       "      <td>False</td>\n",
       "      <td>False</td>\n",
       "      <td>False</td>\n",
       "      <td>False</td>\n",
       "    </tr>\n",
       "    <tr>\n",
       "      <th>4</th>\n",
       "      <td>The selection on the menu was great and so were the prices.</td>\n",
       "      <td>1</td>\n",
       "      <td>False</td>\n",
       "      <td>False</td>\n",
       "      <td>False</td>\n",
       "      <td>False</td>\n",
       "      <td>False</td>\n",
       "      <td>False</td>\n",
       "      <td>False</td>\n",
       "      <td>False</td>\n",
       "      <td>True</td>\n",
       "      <td>False</td>\n",
       "    </tr>\n",
       "  </tbody>\n",
       "</table>\n",
       "</div>"
      ],
      "text/plain": [
       "                                                                                  sentence  \\\n",
       "0                                                                 Wow... Loved this place.   \n",
       "1                                                                       Crust is not good.   \n",
       "2                                                Not tasty and the texture was just nasty.   \n",
       "3  Stopped by during the late May bank holiday off Rick Steve recommendation and loved it.   \n",
       "4                              The selection on the menu was great and so were the prices.   \n",
       "\n",
       "   score  loved  prompt  overpriced   slow  tasty  delicious  favorite  angry  \\\n",
       "0      1   True   False       False  False  False      False     False  False   \n",
       "1      0  False   False       False  False  False      False     False  False   \n",
       "2      0  False   False       False  False   True      False     False  False   \n",
       "3      1   True   False       False  False  False      False     False  False   \n",
       "4      1  False   False       False  False  False      False     False  False   \n",
       "\n",
       "   great  would not  \n",
       "0  False      False  \n",
       "1  False      False  \n",
       "2  False      False  \n",
       "3  False      False  \n",
       "4   True      False  "
      ]
     },
     "execution_count": 140,
     "metadata": {},
     "output_type": "execute_result"
    }
   ],
   "source": [
    "#build classifier\n",
    "keywords = ['loved', 'prompt', 'overpriced', 'slow', 'tasty', 'delicious', 'favorite', 'angry', 'great', 'would not']\n",
    "for kword in keywords:\n",
    "    yelp_df[kword] = yelp_df.sentence.str.contains(' ' + str(kword) + '[ \\.]', case=False)\n",
    "yelp_df.head()"
   ]
  },
  {
   "cell_type": "code",
   "execution_count": 141,
   "metadata": {},
   "outputs": [],
   "source": [
    "yelp_df['yelling'] = yelp_df.sentence.str.isupper()"
   ]
  },
  {
   "cell_type": "code",
   "execution_count": 142,
   "metadata": {},
   "outputs": [
    {
     "data": {
      "text/plain": [
       "(1000, 13)"
      ]
     },
     "execution_count": 142,
     "metadata": {},
     "output_type": "execute_result"
    }
   ],
   "source": [
    "yelp_df.shape"
   ]
  },
  {
   "cell_type": "code",
   "execution_count": 143,
   "metadata": {},
   "outputs": [
    {
     "data": {
      "text/plain": [
       "score         500.0\n",
       "loved           9.0\n",
       "prompt          1.0\n",
       "overpriced      4.0\n",
       "slow           10.0\n",
       "tasty           8.0\n",
       "delicious      11.0\n",
       "favorite        2.0\n",
       "angry           1.0\n",
       "great          43.0\n",
       "would not       6.0\n",
       "dtype: float64"
      ]
     },
     "execution_count": 143,
     "metadata": {},
     "output_type": "execute_result"
    }
   ],
   "source": [
    "yelp_df.iloc[:,1:-1].sum()"
   ]
  },
  {
   "cell_type": "code",
   "execution_count": 144,
   "metadata": {},
   "outputs": [
    {
     "data": {
      "image/png": "[encoded data removed]",
      "text/plain": [
       "<Figure size 432x288 with 2 Axes>"
      ]
     },
     "metadata": {},
     "output_type": "display_data"
    }
   ],
   "source": [
    "#investigate keywords\n",
    "sns.set_style(style='dark')\n",
    "sns.heatmap(yelp_df.corr());"
   ]
  },
  {
   "cell_type": "code",
   "execution_count": 152,
   "metadata": {},
   "outputs": [],
   "source": [
    "data = yelp_df.iloc[:,1:-1]\n",
    "target = yelp_df.score"
   ]
  },
  {
   "cell_type": "code",
   "execution_count": 154,
   "metadata": {},
   "outputs": [
    {
     "name": "stdout",
     "output_type": "stream",
     "text": [
      "model correctly predicted 1000 and missed0\n"
     ]
    }
   ],
   "source": [
    "#model\n",
    "nb_bernou = naive_bayes.BernoulliNB()\n",
    "nb_bernou.fit(data, target)\n",
    "\n",
    "#predict\n",
    "y_predict = nb_bernou.predict(data)\n",
    "\n",
    "#result\n",
    "print('model correctly predicted {} and missed {}'.format((y_predict==target).sum(),(y_predict!=target).sum()))"
   ]
  },
  {
   "cell_type": "code",
   "execution_count": 186,
   "metadata": {},
   "outputs": [
    {
     "data": {
      "text/plain": [
       "0    int64\n",
       "dtype: object"
      ]
     },
     "execution_count": 186,
     "metadata": {},
     "output_type": "execute_result"
    }
   ],
   "source": [
    "y_predict_df.dtypes"
   ]
  },
  {
   "cell_type": "code",
   "execution_count": 178,
   "metadata": {},
   "outputs": [
    {
     "data": {
      "text/plain": [
       "score    int64\n",
       "dtype: object"
      ]
     },
     "execution_count": 178,
     "metadata": {},
     "output_type": "execute_result"
    }
   ],
   "source": [
    "yelp_df[['score']].dtypes"
   ]
  },
  {
   "cell_type": "code",
   "execution_count": 187,
   "metadata": {},
   "outputs": [
    {
     "data": {
      "text/plain": [
       "(0, 2)"
      ]
     },
     "execution_count": 187,
     "metadata": {},
     "output_type": "execute_result"
    }
   ],
   "source": [
    "y_predict_df = pd.DataFrame(y_predict)\n",
    "results = pd.merge(yelp_df[['score']], y_predict_df, left_index=True, right_index=True)\n",
    "results.shape"
   ]
  },
  {
   "cell_type": "code",
   "execution_count": null,
   "metadata": {},
   "outputs": [],
   "source": []
  }
 ],
 "metadata": {
  "kernelspec": {
   "display_name": "Python 3",
   "language": "python",
   "name": "python3"
  },
  "language_info": {
   "codemirror_mode": {
    "name": "ipython",
    "version": 3
   },
   "file_extension": ".py",
   "mimetype": "text/x-python",
   "name": "python",
   "nbconvert_exporter": "python",
   "pygments_lexer": "ipython3",
   "version": "3.7.3"
  }
 },
 "nbformat": 4,
 "nbformat_minor": 2
}

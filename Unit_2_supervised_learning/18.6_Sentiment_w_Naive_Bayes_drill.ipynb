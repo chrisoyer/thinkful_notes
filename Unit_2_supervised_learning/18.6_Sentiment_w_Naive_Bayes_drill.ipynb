{
 "cells": [
  {
   "cell_type": "code",
   "execution_count": 1,
   "metadata": {},
   "outputs": [],
   "source": [
    "import numpy as np\n",
    "import pandas as pd\n",
    "import matplotlib.pylab as plt\n",
    "import seaborn as sns\n",
    "from zipfile import ZipFile\n",
    "import urllib.request\n",
    "import os\n",
    "from sklearn import naive_bayes"
   ]
  },
  {
   "cell_type": "code",
   "execution_count": 5,
   "metadata": {},
   "outputs": [
    {
     "name": "stdout",
     "output_type": "stream",
     "text": [
      "File Name                                             Modified             Size\n",
      "sentiment labelled sentences/                  2016-07-05 11:32:30            0\n",
      "sentiment labelled sentences/.DS_Store         2016-07-05 11:32:34         6148\n",
      "__MACOSX/                                      2016-07-05 11:39:00            0\n",
      "__MACOSX/sentiment labelled sentences/         2016-07-05 11:39:00            0\n",
      "__MACOSX/sentiment labelled sentences/._.DS_Store 2016-07-05 11:32:34          212\n",
      "sentiment labelled sentences/amazon_cells_labelled.txt 2016-07-05 11:30:22        58226\n",
      "sentiment labelled sentences/imdb_labelled.txt 2015-02-14 16:11:16        85285\n",
      "__MACOSX/sentiment labelled sentences/._imdb_labelled.txt 2015-02-14 16:11:16          212\n",
      "sentiment labelled sentences/readme.txt        2015-05-30 17:29:46         1070\n",
      "__MACOSX/sentiment labelled sentences/._readme.txt 2015-05-30 17:29:46          212\n",
      "sentiment labelled sentences/yelp_labelled.txt 2016-07-05 11:27:32        61320\n",
      "__MACOSX/._sentiment labelled sentences        2016-07-05 11:32:30          212\n"
     ]
    }
   ],
   "source": [
    "#download and extract datasets\n",
    "data_url = f'https://archive.ics.uci.edu/ml/machine-learning-databases/00331/sentiment%20labelled%20sentences.zip'\n",
    "file_name = f'../sentiment_sentences.zip'\n",
    "urllib.request.urlretrieve(data_url, file_name)\n",
    "\n",
    "with ZipFile(file_name, 'r') as zip:    #readmode\n",
    "    zip.printdir() \n",
    "    zip.extractall(path=r'\\data_sets\\sentiment_sentences') "
   ]
  },
  {
   "cell_type": "code",
   "execution_count": 6,
   "metadata": {},
   "outputs": [],
   "source": [
    "os.chdir('../..')"
   ]
  },
  {
   "cell_type": "code",
   "execution_count": 7,
   "metadata": {},
   "outputs": [
    {
     "name": "stderr",
     "output_type": "stream",
     "text": [
      "The system cannot find the path specified.\n"
     ]
    }
   ],
   "source": [
    "!cd sentiment_sentences/; ls"
   ]
  },
  {
   "cell_type": "code",
   "execution_count": 8,
   "metadata": {},
   "outputs": [
    {
     "ename": "FileNotFoundError",
     "evalue": "[WinError 2] The system cannot find the file specified: 'sentiment_sentences/'",
     "output_type": "error",
     "traceback": [
      "\u001b[1;31m---------------------------------------------------------------------------\u001b[0m",
      "\u001b[1;31mFileNotFoundError\u001b[0m                         Traceback (most recent call last)",
      "\u001b[1;32m<ipython-input-8-6e6d22f6feb4>\u001b[0m in \u001b[0;36m<module>\u001b[1;34m()\u001b[0m\n\u001b[1;32m----> 1\u001b[1;33m \u001b[0mos\u001b[0m\u001b[1;33m.\u001b[0m\u001b[0mchdir\u001b[0m\u001b[1;33m(\u001b[0m\u001b[1;34m'sentiment_sentences/'\u001b[0m\u001b[1;33m)\u001b[0m\u001b[1;33m\u001b[0m\u001b[0m\n\u001b[0m\u001b[0;32m      2\u001b[0m \u001b[0mget_ipython\u001b[0m\u001b[1;33m(\u001b[0m\u001b[1;33m)\u001b[0m\u001b[1;33m.\u001b[0m\u001b[0msystem\u001b[0m\u001b[1;33m(\u001b[0m\u001b[1;34m'ls'\u001b[0m\u001b[1;33m)\u001b[0m\u001b[1;33m\u001b[0m\u001b[0m\n",
      "\u001b[1;31mFileNotFoundError\u001b[0m: [WinError 2] The system cannot find the file specified: 'sentiment_sentences/'"
     ]
    }
   ],
   "source": [
    "os.chdir('sentiment_sentences/')\n",
    "!ls"
   ]
  },
  {
   "cell_type": "code",
   "execution_count": null,
   "metadata": {},
   "outputs": [],
   "source": [
    "!mv 'sentiment labelled sentences/' sentiment_labelled_sentences"
   ]
  },
  {
   "cell_type": "code",
   "execution_count": 24,
   "metadata": {},
   "outputs": [
    {
     "data": {
      "text/plain": [
       "'c:\\\\Users\\\\User\\\\Documents\\\\Github\\\\thinkful_notes\\\\data_sets'"
      ]
     },
     "execution_count": 24,
     "metadata": {},
     "output_type": "execute_result"
    }
   ],
   "source": [
    "pwd"
   ]
  },
  {
   "cell_type": "code",
   "execution_count": 26,
   "metadata": {},
   "outputs": [
    {
     "name": "stdout",
     "output_type": "stream",
     "text": [
      " Volume in drive C is Windows\n",
      " Volume Serial Number is 48D2-E854\n",
      "\n",
      " Directory of c:\\Users\\User\\Documents\\Github\\thinkful_notes\\data_sets\\sentiment_labelled_sentences\n",
      "\n",
      "07/20/2019  05:10 PM    <DIR>          .\n",
      "07/20/2019  05:10 PM    <DIR>          ..\n",
      "07/20/2019  05:10 PM             6,148 .DS_Store\n",
      "07/20/2019  05:10 PM            58,226 amazon_cells_labelled.txt\n",
      "07/20/2019  05:10 PM            85,285 imdb_labelled.txt\n",
      "07/20/2019  05:10 PM             1,070 readme.txt\n",
      "07/20/2019  05:10 PM            61,320 yelp_labelled.txt\n",
      "               5 File(s)        212,049 bytes\n",
      "               2 Dir(s)  392,819,499,008 bytes free\n"
     ]
    }
   ],
   "source": [
    "#for work computer\n",
    "os.chdir(r'c:/Users/User/Documents/Github/thinkful_notes/data_sets/sentiment_labelled_sentences/')\n",
    "%ls"
   ]
  },
  {
   "cell_type": "code",
   "execution_count": null,
   "metadata": {},
   "outputs": [],
   "source": [
    "#import data to DF\n",
    "yelp_df = pd.read_csv(r'C:\\Users\\Chris\\Documents\\thinkful\\data_sets\\sentiment_sentences\\sentiment_labelled_sentences\\yelp_labelled.txt', sep='\\t', header=None)"
   ]
  },
  {
   "cell_type": "code",
   "execution_count": null,
   "metadata": {},
   "outputs": [],
   "source": [
    "yelp_df.rename(index=str, columns={0:'sentence', 1:'score'}, inplace=True)"
   ]
  },
  {
   "cell_type": "code",
   "execution_count": null,
   "metadata": {},
   "outputs": [],
   "source": [
    "pd.set_option('display.max_colwidth', 120)\n",
    "yelp_df.head(20)"
   ]
  },
  {
   "cell_type": "code",
   "execution_count": null,
   "metadata": {},
   "outputs": [],
   "source": [
    "#build classifier\n",
    "keywords = ['loved', 'prompt', 'overpriced', 'slow', 'tasty', 'delicious', 'favorite', 'angry', 'great', 'would not']\n",
    "for kword in keywords:\n",
    "    yelp_df[kword] = yelp_df.sentence.str.contains(' ' + str(kword) + '[ \\.]', case=False)\n",
    "yelp_df.head()"
   ]
  },
  {
   "cell_type": "code",
   "execution_count": null,
   "metadata": {},
   "outputs": [],
   "source": [
    "yelp_df['yelling'] = yelp_df.sentence.str.isupper()"
   ]
  },
  {
   "cell_type": "code",
   "execution_count": null,
   "metadata": {},
   "outputs": [],
   "source": [
    "yelp_df.shape"
   ]
  },
  {
   "cell_type": "code",
   "execution_count": null,
   "metadata": {},
   "outputs": [],
   "source": [
    "yelp_df.iloc[:,1:-1].sum()"
   ]
  },
  {
   "cell_type": "code",
   "execution_count": null,
   "metadata": {},
   "outputs": [],
   "source": [
    "#investigate keywords\n",
    "sns.set_style(style='dark')\n",
    "sns.heatmap(yelp_df.corr());"
   ]
  },
  {
   "cell_type": "code",
   "execution_count": null,
   "metadata": {},
   "outputs": [],
   "source": [
    "data = yelp_df.iloc[:,1:-1]\n",
    "target = yelp_df.score"
   ]
  },
  {
   "cell_type": "code",
   "execution_count": null,
   "metadata": {},
   "outputs": [],
   "source": [
    "#model\n",
    "nb_bernou = naive_bayes.BernoulliNB()\n",
    "nb_bernou.fit(data, target)\n",
    "\n",
    "#predict\n",
    "y_predict = nb_bernou.predict(data)\n",
    "\n",
    "#result\n",
    "print('model correctly predicted {} and missed {}'.format((y_predict==target).sum(),(y_predict!=target).sum()))"
   ]
  },
  {
   "cell_type": "code",
   "execution_count": null,
   "metadata": {},
   "outputs": [],
   "source": [
    "y_predict_df.head()"
   ]
  },
  {
   "cell_type": "code",
   "execution_count": null,
   "metadata": {},
   "outputs": [],
   "source": [
    "yelp_df[['score']].dtypes"
   ]
  },
  {
   "cell_type": "code",
   "execution_count": null,
   "metadata": {},
   "outputs": [],
   "source": [
    "y_predict_df = pd.DataFrame(y_predict)\n",
    "results = pd.merge(yelp_df[['score']], y_predict_df, left_index=True, right_index=True)#indexes were not named\n",
    "results.head()"
   ]
  },
  {
   "cell_type": "code",
   "execution_count": null,
   "metadata": {},
   "outputs": [],
   "source": [
    "results = pd.concat([yelp_df.reset_index(), y_predict_df.reset_index()], axis=1) #reset_index fixed problem.\n",
    "results.head()\n"
   ]
  },
  {
   "cell_type": "code",
   "execution_count": null,
   "metadata": {},
   "outputs": [],
   "source": []
  },
  {
   "cell_type": "code",
   "execution_count": null,
   "metadata": {},
   "outputs": [],
   "source": []
  }
 ],
 "metadata": {
  "kernelspec": {
   "display_name": "Python 3",
   "language": "python",
   "name": "python3"
  },
  "language_info": {
   "codemirror_mode": {
    "name": "ipython",
    "version": 3
   },
   "file_extension": ".py",
   "mimetype": "text/x-python",
   "name": "python",
   "nbconvert_exporter": "python",
   "pygments_lexer": "ipython3",
   "version": "3.6.4"
  }
 },
 "nbformat": 4,
 "nbformat_minor": 2
}

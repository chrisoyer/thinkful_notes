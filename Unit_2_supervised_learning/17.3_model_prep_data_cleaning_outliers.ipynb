{
 "cells": [
  {
   "cell_type": "markdown",
   "metadata": {
    "colab_type": "text",
    "id": "vG5hOF2duKDJ"
   },
   "source": [
    "In this checkpoint, we continue our discussion on data cleaning with a focus on **outliers**. If you think we've already spent too much time on the tedious and boring topic of data cleaning, we can assure you that we can't exaggerate *enough* the importance of the data cleaning phase for *any* data science project! Even at this checkpoint, we're still immersed in the data cleaning phase of the EDA process:\n",
    "\n",
    "![data_cleaning.png](assets/data_cleaning.png)\n",
    "\n",
    "Another foundational issue in data cleaning is how to handle outliers. According to [Wikipedia](https://en.wikipedia.org/wiki/Outlier):\n",
    "\n",
    "> An outlier is an observation point that is distant from other observations.\n",
    "\n",
    "Understanding what being \"distant from other observations\" means is easy if we think in a two-dimensional space. For example, if we had a dataset of the net worth of the 7 billion people on earth, then the net worth of the richest 1,000 people would be visible outliers as they are way higher than the rest.\n",
    "\n",
    "In general, we get outliers in the data in 2 ways: \n",
    "\n",
    "1. An error in the data collection process may create outliers. Take, for example, a \"Salary\" column in an Excel workbook where the values are stored in thousands. If we mistakenly type 100,000 instead of 100, we created an outlier due to error. That is more broadly called \"measurement error.\"\n",
    "2. Sometimes, the processes that generate the data produce extreme and rare values which can be regarded as true outliers. In this case, the abnormal data is not due to measurement error but to the extreme nature of the observation itself. These cases should be rare.\n",
    "\n",
    "In this checkpoint, we'll cover:\n",
    "\n",
    "* Why we \"don't like\" outliers\n",
    "* How to detect outliers\n",
    "* How to treat outliers\n",
    "\n",
    "Before proceeding further, let's highlight that outliers are defined for continuous variables and not for categorical ones. All discussion in this checkpoint, then, applies only to continuous variables."
   ]
  },
  {
   "cell_type": "markdown",
   "metadata": {
    "colab_type": "text",
    "id": "LxlrYuTuuKDJ"
   },
   "source": [
    "# Do we really \"not like\" outliers? \n",
    "\n",
    "Outliers can contain valuable information and should not be discarded without close consideration of what is causing them. However, for data science models and applications, we often \"don't like\" outliers because:\n",
    "\n",
    "* They skew the descriptive statistics of the data. For example, consider one of the most commonly used descriptive statistics—the mean. This value can be severely skewed by outliers.\n",
    "\n",
    "* Some machine learning models are sensitive to extreme values. In order to get more accurate estimates, we need to eliminate those values from our dataset.\n",
    "\n",
    "To see the effects of outliers, watch the gif below and see how an outlier influences the relationship between the data points (The orange line represents the relationship between the data points):\n",
    "\n",
    "![outlier](assets/outlier.gif \"outlier\")\n",
    "\n",
    "That being said, some tasks in data science are *all about* the outliers. For example, in anomaly detection the main goal is to identify anomalies—which are often outliers themselves! This area of data science, however, is outside the scope of this course. "
   ]
  },
  {
   "cell_type": "markdown",
   "metadata": {
    "colab_type": "text",
    "id": "Yx3HocPbuKDK"
   },
   "source": [
    "# Outlier detection\n",
    "\n",
    "Detecting outliers, of course, is the first step to understanding how to handle them. But, just as with many of our previous tasks, there is no absolute to define what constitutes an outlier. When we talk about outliers, we should make sure that they are **rare** and have **extreme** values. Defining just *how* rare and *how* extreme they are is a judgment call that depends on the task at hand. In light of that, there are some commonly used thresholds for defining outliers. \n",
    "\n",
    "Usually, we will use standard deviation to define the outliers. Values that reside outside the range of **(mean - T*standard deviation, mean + T*standard deviation)** are considered outliers. Here **T** stands for threshold. Depending on the case, it's common to set the threshold to 1.5, 2, 3, or 5. But, as mentioned earlier, the exact threshold value varies depending on the project in question.\n",
    "\n",
    "We will now cover the two main methods of outlier detection: \n",
    "\n",
    "1. Visualize the variables.\n",
    "2. Use statistical techniques.\n",
    "\n",
    "While the latter is more scientific and reliable, the former is easier to apply. Let's begin with the visualization."
   ]
  },
  {
   "cell_type": "markdown",
   "metadata": {
    "colab_type": "text",
    "id": "DpHIeUwMuKDL"
   },
   "source": [
    "## Visually detecting the outliers\n",
    "\n",
    "Several common visualizations will help us identify extreme values in the data. Probably the most famous is the **box plot**. Box plots rest on **interquartile ranges** and feature \"whiskers\" on either end of the \"box.\" The points that lie beyond the whiskers are called **fliers** and are usually regarded as outliers. In Matplotlib the whiskers by default reach to 1.5 * the standard deviation away from the 1st and the 3rd quartiles. We can control this setting using the `whis` argument. So, let's draw a box plot for the *Video views* variable from the YouTube dataset:"
   ]
  },
  {
   "cell_type": "code",
   "execution_count": 1,
   "metadata": {
    "colab": {},
    "colab_type": "code",
    "id": "KYXgl6yUuKDN"
   },
   "outputs": [],
   "source": [
    "import matplotlib.pyplot as plt\n",
    "import numpy as np\n",
    "import pandas as pd\n",
    "from sqlalchemy import create_engine\n",
    "import warnings\n",
    "\n",
    "warnings.filterwarnings('ignore')\n",
    "\n",
    "postgres_user = 'dsbc_student'\n",
    "postgres_pw = '7*.8G9QH21'\n",
    "postgres_host = '142.93.121.174'\n",
    "postgres_port = '5432'\n",
    "postgres_db = 'youtube'\n",
    "\n",
    "engine = create_engine('postgresql://{}:{}@{}:{}/{}'.format(\n",
    "    postgres_user, postgres_pw, postgres_host, postgres_port, postgres_db))\n",
    "\n",
    "youtube_df = pd.read_sql_query('select * from youtube',con=engine)\n",
    "\n",
    "# no need for an open connection, \n",
    "# as we're only doing a single query\n",
    "engine.dispose()"
   ]
  },
  {
   "cell_type": "code",
   "execution_count": 2,
   "metadata": {
    "colab": {
     "base_uri": "https://localhost:8080/",
     "height": 362
    },
    "colab_type": "code",
    "executionInfo": {
     "elapsed": 628,
     "status": "ok",
     "timestamp": 1549825882333,
     "user": {
      "displayName": "George Mount",
      "photoUrl": "https://lh5.googleusercontent.com/-7HHitIt9SRk/AAAAAAAAAAI/AAAAAAAAuAI/dX9-F1ge5z0/s64/photo.jpg",
      "userId": "01427523874165577846"
     },
     "user_tz": 300
    },
    "id": "gnTxNa2TuKDQ",
    "outputId": "d2dfb7d9-fc00-40b6-ccae-ef587d857e1f",
    "scrolled": true
   },
   "outputs": [
    {
     "data": {
      "image/png": "[encoded data removed]",
      "text/plain": [
       "<Figure size 432x288 with 1 Axes>"
      ]
     },
     "metadata": {
      "needs_background": "light"
     },
     "output_type": "display_data"
    }
   ],
   "source": [
    "plt.boxplot(youtube_df[\"Video views\"])\n",
    "plt.title(\"Box plot of video views (whis=1.5)\")\n",
    "plt.show()"
   ]
  },
  {
   "cell_type": "markdown",
   "metadata": {
    "colab_type": "text",
    "id": "K92SDJDVuKDV"
   },
   "source": [
    "The resulting box is quite compressed and there seem to be a lot of outliers in the variable. Let's adjust our threshold to  `whis=20`:"
   ]
  },
  {
   "cell_type": "code",
   "execution_count": 3,
   "metadata": {
    "colab": {
     "base_uri": "https://localhost:8080/",
     "height": 362
    },
    "colab_type": "code",
    "executionInfo": {
     "elapsed": 453,
     "status": "ok",
     "timestamp": 1549825887663,
     "user": {
      "displayName": "George Mount",
      "photoUrl": "https://lh5.googleusercontent.com/-7HHitIt9SRk/AAAAAAAAAAI/AAAAAAAAuAI/dX9-F1ge5z0/s64/photo.jpg",
      "userId": "01427523874165577846"
     },
     "user_tz": 300
    },
    "id": "sVCKt6g4uKDV",
    "outputId": "372bee75-6251-483b-b84b-14b633515d53",
    "scrolled": true
   },
   "outputs": [
    {
     "data": {
      "image/png": "[encoded data removed]",
      "text/plain": [
       "<Figure size 432x288 with 1 Axes>"
      ]
     },
     "metadata": {
      "needs_background": "light"
     },
     "output_type": "display_data"
    }
   ],
   "source": [
    "plt.boxplot(youtube_df[\"Video views\"], whis=20)\n",
    "plt.title(\"Box plot of video views (whis=20)\")\n",
    "plt.show()"
   ]
  },
  {
   "cell_type": "markdown",
   "metadata": {
    "colab_type": "text",
    "id": "3Tcw-YEruKDY"
   },
   "source": [
    "The number of outliers decreased this time because we set the threshold quite high. \n",
    "\n",
    "Another useful chart in detecting the outliers is the histogram. Histograms depict the distribution of the variables. Values that lie at extreme ends of the graph are potential outliers. Let's draw the histogram of the *Video views* variable:"
   ]
  },
  {
   "cell_type": "code",
   "execution_count": 4,
   "metadata": {
    "colab": {
     "base_uri": "https://localhost:8080/",
     "height": 375
    },
    "colab_type": "code",
    "executionInfo": {
     "elapsed": 443,
     "status": "ok",
     "timestamp": 1549825898171,
     "user": {
      "displayName": "George Mount",
      "photoUrl": "https://lh5.googleusercontent.com/-7HHitIt9SRk/AAAAAAAAAAI/AAAAAAAAuAI/dX9-F1ge5z0/s64/photo.jpg",
      "userId": "01427523874165577846"
     },
     "user_tz": 300
    },
    "id": "mnAn0ixSuKDa",
    "outputId": "6d910872-da49-4d54-bda8-35d0a3636648",
    "scrolled": false
   },
   "outputs": [
    {
     "data": {
      "image/png": "[encoded data removed]",
      "text/plain": [
       "<Figure size 432x288 with 1 Axes>"
      ]
     },
     "metadata": {
      "needs_background": "light"
     },
     "output_type": "display_data"
    }
   ],
   "source": [
    "plt.hist(youtube_df[\"Video views\"])\n",
    "plt.title(\"Histogram of video views\")\n",
    "plt.show()"
   ]
  },
  {
   "cell_type": "markdown",
   "metadata": {
    "colab_type": "text",
    "id": "23vWO7R2uKDc"
   },
   "source": [
    "Here we see there are potential outliers on the right-hand range of the data.\n",
    "\n",
    "Visualization is an easy and effective way of detecting the potential outliers. However, it is a subjective and imprecise investigation. Next, we present more formal statistical methods to detect outliers."
   ]
  },
  {
   "cell_type": "markdown",
   "metadata": {
    "colab_type": "text",
    "id": "37J2vgAYuKDd"
   },
   "source": [
    "## Statistical methods to detect outliers\n",
    "\n"
   ]
  },
  {
   "cell_type": "markdown",
   "metadata": {
    "colab_type": "text",
    "id": "G-KqyZzAuKDe"
   },
   "source": [
    "### Z-scores\n",
    "\n",
    "One statistic used to detect the outliers in a variable is the **Z-score**. To calculate Z-scores, we will first scale the variable so that its mean is 0 and its standard deviation is 1. Then we can measure how far a value is far away from the mean (0) in terms of standard deviations (1). The bigger the Z-score of a value, the farther it is from the mean, and the more likely it is an outlier. However, we still need to set a threshold for what Z-score constitutes an outlier.\n",
    "\n",
    "Let's calculate the Z-score's of the *Video views* variable using SciPy's `zscore()` function and determine outliers by setting the threshold to 1, 2, 3, and 4:"
   ]
  },
  {
   "cell_type": "code",
   "execution_count": 5,
   "metadata": {
    "colab": {
     "base_uri": "https://localhost:8080/",
     "height": 1341
    },
    "colab_type": "code",
    "executionInfo": {
     "elapsed": 460,
     "status": "ok",
     "timestamp": 1549676337246,
     "user": {
      "displayName": "George Mount",
      "photoUrl": "https://lh5.googleusercontent.com/-7HHitIt9SRk/AAAAAAAAAAI/AAAAAAAAuAI/dX9-F1ge5z0/s64/photo.jpg",
      "userId": "01427523874165577846"
     },
     "user_tz": 300
    },
    "id": "2_qU0l4xuKDg",
    "outputId": "1c2fda20-2484-4c6c-f3db-c6de48341d6c",
    "scrolled": true
   },
   "outputs": [
    {
     "name": "stdout",
     "output_type": "stream",
     "text": [
      "The score threshold is: 1\n",
      "The indices of the outliers:\n",
      "(array([   0,    1,    2,    3,    4,    5,    6,    7,    8,   10,   11,\n",
      "         13,   14,   15,   16,   18,   19,   21,   22,   25,   26,   27,\n",
      "         35,   37,   38,   39,   40,   41,   42,   43,   44,   46,   47,\n",
      "         48,   49,   50,   51,   52,   53,   54,   57,   58,   59,   61,\n",
      "         62,   63,   64,   66,   67,   68,   70,   72,   74,   75,   77,\n",
      "         78,   81,   82,   83,   84,   85,   87,   88,   91,   93,   95,\n",
      "         98,   99,  105,  106,  111,  112,  113,  114,  116,  120,  121,\n",
      "        122,  123,  125,  126,  127,  130,  131,  135,  137,  138,  143,\n",
      "        145,  146,  147,  149,  151,  154,  155,  158,  165,  167,  170,\n",
      "        171,  172,  174,  176,  182,  184,  187,  193,  198,  200,  201,\n",
      "        208,  210,  212,  218,  224,  227,  228,  229,  241,  242,  244,\n",
      "        245,  248,  249,  254,  256,  257,  260,  261,  264,  265,  266,\n",
      "        268,  269,  270,  271,  273,  277,  282,  283,  284,  287,  288,\n",
      "        297,  298,  299,  300,  301,  302,  304,  305,  306,  308,  309,\n",
      "        310,  313,  319,  332,  341,  344,  348,  353,  355,  359,  360,\n",
      "        362,  365,  367,  369,  373,  374,  381,  385,  386,  388,  394,\n",
      "        395,  398,  400,  406,  408,  416,  426,  435,  438,  448,  449,\n",
      "        450,  463,  467,  472,  477,  480,  488,  491,  493,  496,  500,\n",
      "        504,  505,  508,  518,  522,  523,  526,  533,  537,  552,  560,\n",
      "        562,  576,  595,  596,  599,  610,  613,  615,  630,  636,  642,\n",
      "        643,  648,  650,  651,  653,  656,  665,  667,  682,  690,  696,\n",
      "        704,  735,  748,  761,  765,  774,  778,  782,  785,  793,  808,\n",
      "        817,  822,  830,  831,  834,  840,  847,  881,  887,  894,  901,\n",
      "        903,  912,  931,  938,  952,  956,  960,  978,  986,  987,  995,\n",
      "       1002, 1019, 1020, 1033, 1047, 1072, 1078, 1090, 1095, 1096, 1102,\n",
      "       1121, 1147, 1164, 1171, 1177, 1185, 1198, 1205, 1206, 1232, 1234,\n",
      "       1240, 1245, 1248, 1253, 1277, 1281, 1288, 1289, 1297, 1349, 1364,\n",
      "       1374, 1402, 1418, 1424, 1436, 1460, 1462, 1470, 1521, 1526, 1527,\n",
      "       1536, 1556, 1565, 1601, 1624, 1643, 1649, 1712, 1716, 1725, 1735,\n",
      "       1742, 1753, 1795, 1849, 1853, 1859, 1864, 1867, 1882, 1980, 1986,\n",
      "       2000, 2023, 2033, 2066, 2075, 2131, 2138, 2153, 2165, 2213, 2256,\n",
      "       2276, 2348, 2389, 2585, 2606, 2675, 2706, 2812, 3049, 3062, 3222,\n",
      "       3339, 3402, 3577, 3834, 3931, 3987, 4030, 4311, 4713], dtype=int32),)\n",
      "Number of outliers is: 361\n",
      "The score threshold is: 2\n",
      "The indices of the outliers:\n",
      "(array([   0,    1,    2,    3,    4,    5,    6,    7,    8,   10,   11,\n",
      "         13,   14,   15,   16,   18,   19,   21,   22,   25,   27,   35,\n",
      "         37,   38,   39,   40,   42,   43,   46,   47,   48,   50,   53,\n",
      "         57,   58,   59,   61,   62,   63,   64,   72,   74,   77,   78,\n",
      "         81,   82,   84,   85,   87,   99,  111,  112,  114,  116,  120,\n",
      "        121,  122,  123,  126,  127,  135,  137,  138,  145,  147,  149,\n",
      "        151,  167,  171,  172,  174,  176,  182,  187,  193,  198,  201,\n",
      "        210,  212,  218,  224,  227,  229,  242,  245,  254,  256,  260,\n",
      "        261,  265,  268,  269,  271,  277,  282,  301,  302,  304,  305,\n",
      "        313,  319,  332,  341,  353,  355,  360,  365,  367,  373,  374,\n",
      "        385,  388,  400,  416,  426,  435,  449,  450,  467,  472,  477,\n",
      "        480,  493,  500,  522,  523,  533,  595,  596,  599,  613,  630,\n",
      "        643,  648,  653,  656,  667,  690,  822,  830,  847,  887,  903,\n",
      "        912,  952,  978, 1078, 1121, 1164, 1245, 1281, 1289, 1364, 1470,\n",
      "       1521, 1536, 1556, 1643, 1649, 1712, 1742, 1849, 2131, 2165, 2213,\n",
      "       2812, 3577], dtype=int32),)\n",
      "Number of outliers is: 167\n",
      "The score threshold is: 3\n",
      "The indices of the outliers:\n",
      "(array([   0,    1,    2,    3,    4,    5,    6,    7,    8,   10,   11,\n",
      "         13,   14,   15,   16,   19,   21,   22,   27,   35,   37,   38,\n",
      "         39,   40,   46,   47,   57,   58,   61,   63,   72,   74,   77,\n",
      "         78,   81,   82,   84,   85,   99,  114,  116,  121,  122,  126,\n",
      "        127,  138,  147,  149,  167,  171,  176,  182,  187,  193,  198,\n",
      "        210,  212,  224,  227,  229,  242,  256,  260,  268,  269,  271,\n",
      "        277,  282,  304,  305,  313,  319,  332,  341,  353,  355,  367,\n",
      "        373,  374,  400,  435,  477,  493,  522,  596,  599,  613,  630,\n",
      "        822,  903, 1164, 1470, 1536, 1643, 1712], dtype=int32),)\n",
      "Number of outliers is: 95\n",
      "The score threshold is: 4\n",
      "The indices of the outliers:\n",
      "(array([   0,    1,    2,    3,    4,    5,    6,    7,    8,   11,   14,\n",
      "         15,   16,   19,   21,   22,   27,   38,   57,   58,   61,   63,\n",
      "         74,   78,   81,   82,   84,   99,  114,  121,  122,  126,  127,\n",
      "        149,  171,  176,  187,  193,  198,  210,  212,  227,  229,  242,\n",
      "        256,  268,  269,  271,  277,  282,  304,  313,  332,  341,  353,\n",
      "        355,  373,  435,  599,  630,  822,  903, 1470, 1643], dtype=int32),)\n",
      "Number of outliers is: 64\n"
     ]
    }
   ],
   "source": [
    "from scipy.stats import zscore\n",
    "\n",
    "z_scores = zscore(youtube_df[\"Video views\"])\n",
    "for threshold in range(1,5):\n",
    "    print(\"The score threshold is: {}\".format(threshold))\n",
    "    print(\"The indices of the outliers:\")\n",
    "    print(np.where(z_scores > threshold))\n",
    "    print(\"Number of outliers is: {}\".format(len((np.where(z_scores > threshold)[0]))))"
   ]
  },
  {
   "cell_type": "markdown",
   "metadata": {
    "colab_type": "text",
    "id": "20xjEyKDuKDj"
   },
   "source": [
    "As we can see, the number of outliers decreases as the threshold for the Z-scores increases.\n",
    "\n",
    "### Tukey's method\n",
    "\n",
    "This method is also known as the **Interquartile Range (IQR)** method and we saw this method in action when we talked about box plots. \n",
    "\n",
    "As mentioned earlier, the IQR is the range between the 1st and the 3rd quartiles. This method considers all values that are outside the threshold of 1.5 times the IQR as outliers. However, we can change this threshold to other values.\n",
    "\n",
    "Using 1, 1.5, 2 ... 4.5 as the threshold values, let's find out the number of outliers in the *Video views* variable using Tukey's method:"
   ]
  },
  {
   "cell_type": "code",
   "execution_count": 6,
   "metadata": {
    "colab": {
     "base_uri": "https://localhost:8080/",
     "height": 296
    },
    "colab_type": "code",
    "executionInfo": {
     "elapsed": 414,
     "status": "ok",
     "timestamp": 1549676444966,
     "user": {
      "displayName": "George Mount",
      "photoUrl": "https://lh5.googleusercontent.com/-7HHitIt9SRk/AAAAAAAAAAI/AAAAAAAAuAI/dX9-F1ge5z0/s64/photo.jpg",
      "userId": "01427523874165577846"
     },
     "user_tz": 300
    },
    "id": "TUanBRInuKDj",
    "outputId": "fbd62a44-1512-400c-ccc3-69a1fcc10a15"
   },
   "outputs": [
    {
     "name": "stdout",
     "output_type": "stream",
     "text": [
      "The score threshold is: 1.0\n",
      "Number of outliers is: 624\n",
      "The score threshold is: 1.5\n",
      "Number of outliers is: 475\n",
      "The score threshold is: 2.0\n",
      "Number of outliers is: 371\n",
      "The score threshold is: 2.5\n",
      "Number of outliers is: 296\n",
      "The score threshold is: 3.0\n",
      "Number of outliers is: 242\n",
      "The score threshold is: 3.5\n",
      "Number of outliers is: 209\n",
      "The score threshold is: 4.0\n",
      "Number of outliers is: 182\n",
      "The score threshold is: 4.5\n",
      "Number of outliers is: 151\n"
     ]
    }
   ],
   "source": [
    "# NumPy's percentile() method returns the \n",
    "# values of the given percentiles. In our case,\n",
    "# we give 75 and 25 as parameters which corresponds \n",
    "# to the third and the first quartile.\n",
    "q75, q25 = np.percentile(youtube_df[\"Video views\"], [75 ,25])\n",
    "iqr = q75 - q25\n",
    "\n",
    "for threshold in np.arange(1,5,0.5):\n",
    "    min_val = q25 - (iqr*threshold)\n",
    "    max_val = q75 + (iqr*threshold)\n",
    "    print(\"The score threshold is: {}\".format(threshold))\n",
    "    print(\"Number of outliers is: {}\".format(\n",
    "        len((np.where((youtube_df[\"Video views\"] > max_val) \n",
    "                      | (youtube_df[\"Video views\"] < min_val))[0]))\n",
    "    ))"
   ]
  },
  {
   "cell_type": "markdown",
   "metadata": {
    "colab_type": "text",
    "id": "RKI9bXoXuKDm"
   },
   "source": [
    "# How to treat outliers\n",
    "\n",
    "We've detected the outliers—now what? We need to do something with them so that they do not affect the reliability of our analysis. Broadly speaking, there are 3 approaches we can take in handling outliers:\n",
    "\n",
    "1. We can **drop the outliers** from our dataset. \n",
    "\n",
    "2. We can **cap the values of the outliers** by assigning them new values.\n",
    "\n",
    "3. We can **transform** the outliers into something harmless for our analysis.\n",
    "\n",
    "Let's go over each approach in turn. "
   ]
  },
  {
   "cell_type": "markdown",
   "metadata": {
    "colab_type": "text",
    "id": "zR-f-h5KuKDn"
   },
   "source": [
    "## Dropping outliers from the dataset\n",
    "\n",
    "Dropping the observations with extreme values is probably the easiest way of handling outliers. But, consider our discussion from the previous checkpoint about dropping missing values. By excluding any observations from the dataset, we effectively lose information. This the same case for dropping outliers, especially in small datasets. However, some situations may justify dropping the outliers from the dataset:\n",
    "\n",
    "* If we know that the outliers stem from measurement error or a problem in the data collection process, we should drop them.\n",
    "\n",
    "* If dropping the outliers doesn't make any meaningful change in the following phases of analysis, we can drop them. However, we need to replicate our analysis both with the outliers and without them to confirm this.\n",
    "\n",
    "* If dropping the outliers makes a meaningful change in the following phases, but we can't find a proper way of handling them otherwise, we can drop them from our dataset."
   ]
  },
  {
   "cell_type": "markdown",
   "metadata": {
    "colab_type": "text",
    "id": "SZwr6O2tuKDo"
   },
   "source": [
    "## Limiting the values of the outliers\n",
    "\n",
    "The main problem with the outliers stems from their extreme magnitudes. If we can cap the values of the outliers, their effects on our analysis would be limited. One common way of limiting the outlier values is called **winsorization**. Winsorization can be applied in *one-way* or *two-way* techniques. In one-way winsorization, we either limit the lowest end of the value distribution or the highest end. In two-way winsorization, we set limits on both the lowest end and the highest end. \n",
    "\n",
    "The idea in winsorization is to set the values of the extreme points to the value of a specified percentile. For example, we may set the values of the highest end of the distribution to the value of the 95th percentile. Similarly, we can set the values of the lowest end to the value of the 5th percentile.\n",
    "\n",
    "We can winsorize a variable using SciPy's `winsorize()` method. We give a tuple of values as a parameter to this method where the 1st element of the tuple is the lowest percentile and the 2nd element is the highest percentile in the two-way winsorization. If we want to apply one-way percentile, we can set the corresponding element in this tuple to zero (0). Now, let's winsorize the *Video views* variable:"
   ]
  },
  {
   "cell_type": "code",
   "execution_count": 7,
   "metadata": {
    "colab": {
     "base_uri": "https://localhost:8080/",
     "height": 87
    },
    "colab_type": "code",
    "executionInfo": {
     "elapsed": 451,
     "status": "ok",
     "timestamp": 1549676814553,
     "user": {
      "displayName": "George Mount",
      "photoUrl": "https://lh5.googleusercontent.com/-7HHitIt9SRk/AAAAAAAAAAI/AAAAAAAAuAI/dX9-F1ge5z0/s64/photo.jpg",
      "userId": "01427523874165577846"
     },
     "user_tz": 300
    },
    "id": "ly6y0OjOuKDp",
    "outputId": "e2420391-3864-46fe-9edc-abde62275590"
   },
   "outputs": [
    {
     "data": {
      "text/plain": [
       "masked_array(data=[2468241402, 2468241402, 2468241402, ...,  311758426,\n",
       "                     14563764,   73312511],\n",
       "             mask=False,\n",
       "       fill_value=999999)"
      ]
     },
     "execution_count": 7,
     "metadata": {},
     "output_type": "execute_result"
    }
   ],
   "source": [
    "from scipy.stats.mstats import winsorize\n",
    "\n",
    "# We apply one-way winsorization to the highest end\n",
    "# of the value distribution. As we have a lot of extreme\n",
    "# values, we set the values of the outliers to the \n",
    "# value of the 90th percentile. \n",
    "winsorized_views = winsorize(youtube_df[\"Video views\"], (0, 0.10))\n",
    "\n",
    "winsorized_views"
   ]
  },
  {
   "cell_type": "markdown",
   "metadata": {
    "colab_type": "text",
    "id": "jiiKrZdNuKDs"
   },
   "source": [
    "We can visualize the winsorized data using a box plot:"
   ]
  },
  {
   "cell_type": "code",
   "execution_count": 8,
   "metadata": {
    "colab": {
     "base_uri": "https://localhost:8080/",
     "height": 362
    },
    "colab_type": "code",
    "executionInfo": {
     "elapsed": 653,
     "status": "ok",
     "timestamp": 1549676830629,
     "user": {
      "displayName": "George Mount",
      "photoUrl": "https://lh5.googleusercontent.com/-7HHitIt9SRk/AAAAAAAAAAI/AAAAAAAAuAI/dX9-F1ge5z0/s64/photo.jpg",
      "userId": "01427523874165577846"
     },
     "user_tz": 300
    },
    "id": "OLT8yqm1uKDt",
    "outputId": "3eae3692-e298-4aa4-b54e-4c06251ae580",
    "scrolled": true
   },
   "outputs": [
    {
     "data": {
      "image/png": "[encoded data removed]",
      "text/plain": [
       "<Figure size 432x288 with 1 Axes>"
      ]
     },
     "metadata": {
      "needs_background": "light"
     },
     "output_type": "display_data"
    }
   ],
   "source": [
    "plt.boxplot(winsorized_views)\n",
    "plt.title(\"Box plot of video views (whis=1.5)\")\n",
    "plt.show()"
   ]
  },
  {
   "cell_type": "markdown",
   "metadata": {
    "colab_type": "text",
    "id": "3h5IZ8--uKDw"
   },
   "source": [
    "As we can see, the box plot reveals no outliers after winsorization."
   ]
  },
  {
   "cell_type": "markdown",
   "metadata": {
    "colab_type": "text",
    "id": "x77g5EPDuKDx"
   },
   "source": [
    "## Transforming outliers\n",
    "\n"
   ]
  },
  {
   "cell_type": "markdown",
   "metadata": {
    "colab_type": "text",
    "id": "kT9f9z7YuKDy"
   },
   "source": [
    "Another common way of dealing with outliers is to transform the variable. Transformation not only helps us with outliers but also with variables that are not normally distributed. When transforming the variable, we usually apply **monotonic transformations**. These are transformations that don't change the relative ordering of the values in a variable. **Log transformations** and **square root transformations** are 2 common monotonic transformations in data science.\n",
    "\n",
    "To see the effect of a log transformation on the *Video views* variable, let's sketch the histogram of the original variable and the log transformed version:"
   ]
  },
  {
   "cell_type": "code",
   "execution_count": 9,
   "metadata": {
    "colab": {},
    "colab_type": "code",
    "id": "O7ANIuJzuKDz",
    "outputId": "6d68eef8-f99e-4080-af55-541557bca40b",
    "scrolled": true
   },
   "outputs": [
    {
     "data": {
      "image/png": "[encoded data removed]",
      "text/plain": [
       "<Figure size 1080x360 with 2 Axes>"
      ]
     },
     "metadata": {
      "needs_background": "light"
     },
     "output_type": "display_data"
    }
   ],
   "source": [
    "plt.figure(figsize = (15,5))\n",
    "\n",
    "plt.subplot(1,2,1)\n",
    "plt.hist(youtube_df[\"Video views\"])\n",
    "plt.title(\"Histogram of video views\")\n",
    "\n",
    "plt.subplot(1,2,2)\n",
    "plt.hist(np.log(youtube_df[\"Video views\"]))\n",
    "plt.title(\"Histogram of log transformed video views\")\n",
    "plt.show()"
   ]
  },
  {
   "cell_type": "markdown",
   "metadata": {
    "colab_type": "text",
    "id": "628tzFh7uKD2"
   },
   "source": [
    "As we can see, the log transformed variable more closely matches a normal distribution. This will help us apply statistical techniques for future analysis. But for now, let's look at the box plots of the original variable and its log transformed variant to see whether log transformation has an effect on the outliers:"
   ]
  },
  {
   "cell_type": "code",
   "execution_count": 10,
   "metadata": {
    "colab": {
     "base_uri": "https://localhost:8080/",
     "height": 335
    },
    "colab_type": "code",
    "executionInfo": {
     "elapsed": 651,
     "status": "ok",
     "timestamp": 1549677020765,
     "user": {
      "displayName": "George Mount",
      "photoUrl": "https://lh5.googleusercontent.com/-7HHitIt9SRk/AAAAAAAAAAI/AAAAAAAAuAI/dX9-F1ge5z0/s64/photo.jpg",
      "userId": "01427523874165577846"
     },
     "user_tz": 300
    },
    "id": "7X7VfZ_NuKD4",
    "outputId": "f56104d8-3997-47da-b5cf-d8cd3d828034",
    "scrolled": false
   },
   "outputs": [
    {
     "data": {
      "image/png": "[encoded data removed]",
      "text/plain": [
       "<Figure size 1080x360 with 2 Axes>"
      ]
     },
     "metadata": {
      "needs_background": "light"
     },
     "output_type": "display_data"
    }
   ],
   "source": [
    "plt.figure(figsize = (15,5))\n",
    "\n",
    "plt.subplot(1,2,1)\n",
    "plt.boxplot(youtube_df[\"Video views\"])\n",
    "plt.title(\"Box plot of video views\")\n",
    "\n",
    "plt.subplot(1,2,2)\n",
    "plt.boxplot(np.log(youtube_df[\"Video views\"]))\n",
    "plt.title(\"Box plot of log transformed video views\")\n",
    "plt.show()"
   ]
  },
  {
   "cell_type": "markdown",
   "metadata": {
    "colab_type": "text",
    "id": "MAUSxbS9uKD8"
   },
   "source": [
    "The chart on the right demonstrates that log transformation has narrowed the range of the values. The outliers that lie beyond the whiskers are now different than the ones on the left-hand chart. \n",
    "\n",
    "Next, let's apply Tukey's method to see if the number of outliers has decreased:"
   ]
  },
  {
   "cell_type": "code",
   "execution_count": 11,
   "metadata": {
    "colab": {
     "base_uri": "https://localhost:8080/",
     "height": 296
    },
    "colab_type": "code",
    "executionInfo": {
     "elapsed": 421,
     "status": "ok",
     "timestamp": 1549677075525,
     "user": {
      "displayName": "George Mount",
      "photoUrl": "https://lh5.googleusercontent.com/-7HHitIt9SRk/AAAAAAAAAAI/AAAAAAAAuAI/dX9-F1ge5z0/s64/photo.jpg",
      "userId": "01427523874165577846"
     },
     "user_tz": 300
    },
    "id": "JHinpatyuKD9",
    "outputId": "c55a48d1-9ecb-40d6-b16b-193bba88a0a4"
   },
   "outputs": [
    {
     "name": "stdout",
     "output_type": "stream",
     "text": [
      "The score threshold is: 1.0\n",
      "Number of outliers is: 326\n",
      "The score threshold is: 1.5\n",
      "Number of outliers is: 58\n",
      "The score threshold is: 2.0\n",
      "Number of outliers is: 19\n",
      "The score threshold is: 2.5\n",
      "Number of outliers is: 14\n",
      "The score threshold is: 3.0\n",
      "Number of outliers is: 13\n",
      "The score threshold is: 3.5\n",
      "Number of outliers is: 8\n",
      "The score threshold is: 4.0\n",
      "Number of outliers is: 6\n",
      "The score threshold is: 4.5\n",
      "Number of outliers is: 4\n"
     ]
    }
   ],
   "source": [
    "# now we take the log of the video views and calculate\n",
    "# the quartiles accordingly.\n",
    "q75, q25 = np.percentile(np.log(youtube_df[\"Video views\"]), [75 ,25])\n",
    "iqr = q75 - q25\n",
    "\n",
    "for threshold in np.arange(1,5,0.5):\n",
    "    min_val = q25 - (iqr*threshold)\n",
    "    max_val = q75 + (iqr*threshold)\n",
    "    print(\"The score threshold is: {}\".format(threshold))\n",
    "    print(\"Number of outliers is: {}\".format(\n",
    "        len((np.where((np.log(youtube_df[\"Video views\"]) > max_val) \n",
    "                      | (np.log(youtube_df[\"Video views\"]) < min_val))[0]))\n",
    "    ))"
   ]
  },
  {
   "cell_type": "markdown",
   "metadata": {
    "colab_type": "text",
    "id": "FlnGLHsTuKEB"
   },
   "source": [
    "The number of outliers decreased dramatically after the log transformation."
   ]
  },
  {
   "cell_type": "markdown",
   "metadata": {
    "colab_type": "text",
    "id": "lvEmfmKVuKEB"
   },
   "source": [
    "## Assignment\n",
    "\n",
    "In this assignment, you'll continue working with the [U.S. Education Dataset](https://www.kaggle.com/noriuk/us-education-datasets-unification-project/home) from Kaggle. The data gives detailed state level information on several facets of education on an annual basis. To learn more about the data and the column descriptions, you can view the Kaggle link above. \n",
    "\n",
    "Access this data using the Thinkful database using these credentials:\n",
    "\n",
    "postgres_user = 'dsbc_student'<br>\n",
    "postgres_pw = '7\\*.8G9QH21'<br>\n",
    "postgres_host = '142.93.121.174'<br>\n",
    "postgres_port = '5432'<br>\n",
    "postgres_db = 'useducation'<br>\n",
    "\n",
    "Don't forget to apply the most suitable missing value filling techniques from the previous checkpoint to the data. Provide the answers to the following only *after* you've addressed missing values!\n",
    "\n",
    "To complete this assignment, submit a link to a Jupyter notebook containing your solutions to the following tasks:\n",
    "\n",
    "1. Consider the two variables: *TOTAL_REVENUE* and *TOTAL_EXPENDITURE*. Do these variables have outlier values?\n",
    "2. If you detect outliers in the *TOTAL_REVENUE* and *TOTAL_EXPENDITURE* variables, apply the techniques you learned in this checkpoint to eliminate them and validate that there's no outlier values after you handled them.\n",
    "3. Create another variable by subtracting the original *TOTAL_EXPENDITURE* from *TOTAL_REVENUE* (before you eliminated the outliers). You can think of it as a kind of budget deficit in education. Do you find any outlier values in this new variable? If so, eliminate them using the technique you think most suitable.\n",
    "4. Now create another variable by subtracting the *TOTAL_EXPENDITURE* from *TOTAL_REVENUE*. This time, use the outlier eliminated versions of *TOTAL_EXPENDITURE* from *TOTAL_REVENUE*. In this newly created variable, can you find any outliers? If so, eliminate them.\n",
    "5. Compare some basic descriptive statistics of the budget variables you end up with in the 3rd and the 4th questions. Do you see any differences?\n",
    "6. If our variable of interest is the budget deficit variable, which method do you think is the appropriate in dealing with the outliers in this variable: the method in the 3rd question or the one in the 4th question?\n",
    "\n",
    "Submit your work below, and plan on discussing with your mentor. You can also take a look at this [example solution](https://github.com/Thinkful-Ed/data-201-assignment-solutions/blob/master/model_prep_outliers/solution.ipynb)."
   ]
  },
  {
   "cell_type": "code",
   "execution_count": null,
   "metadata": {},
   "outputs": [],
   "source": []
  }
 ],
 "metadata": {
  "colab": {
   "name": "4.data_cleaning_part3_outliers.ipynb",
   "provenance": [],
   "version": "0.3.2"
  },
  "kernelspec": {
   "display_name": "Python 3",
   "language": "python",
   "name": "python3"
  },
  "language_info": {
   "codemirror_mode": {
    "name": "ipython",
    "version": 3
   },
   "file_extension": ".py",
   "mimetype": "text/x-python",
   "name": "python",
   "nbconvert_exporter": "python",
   "pygments_lexer": "ipython3",
   "version": "3.7.3"
  }
 },
 "nbformat": 4,
 "nbformat_minor": 1
}

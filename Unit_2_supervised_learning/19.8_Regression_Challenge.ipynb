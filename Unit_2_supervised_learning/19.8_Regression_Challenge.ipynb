{
 "cells": [
  {
   "cell_type": "markdown",
   "metadata": {},
   "source": [
    "1. Load the houseprices data from Thinkful's database.\n",
    "2. Do data cleaning, exploratory data analysis, and feature engineering. You can use your previous work in this module. But make sure that your work is satisfactory.\n",
    "3. Now, split your data into train and test sets where 20% of the data resides in the test set.\n",
    "4. Build several linear regression models including Lasso, Ridge, or ElasticNet and train them in the training set. Use k-fold cross-validation to select the best hyperparameters if your models include one!\n",
    "5. Evaluate your best model on the test set.\n",
    "6. So far, you have only used the features in the dataset. However, house prices can be affected by many factors like economic activity and the interest rates at the time they are sold. So, try to find some useful factors that are not included in the dataset. Integrate these factors into your model and assess the prediction performance of your model. Discuss the implications of adding these external variables into your model.\n"
   ]
  },
  {
   "cell_type": "code",
   "execution_count": 1,
   "metadata": {},
   "outputs": [],
   "source": [
    "import numpy as np\n",
    "import pandas as pd\n",
    "import statsmodels.api as sm\n",
    "from sklearn import linear_model\n",
    "from sklearn.preprocessing import StandardScaler\n",
    "import matplotlib.pyplot as plt\n",
    "import seaborn as sns\n",
    "from sqlalchemy import create_engine"
   ]
  },
  {
   "cell_type": "code",
   "execution_count": 3,
   "metadata": {
    "collapsed": true
   },
   "outputs": [
    {
     "data": {
      "text/plain": [
       "{'numpy': '1.16.4',\n",
       " 'pandas': '0.25.0',\n",
       " 'statsmodels': '0.10.1',\n",
       " 'sklearn': '0.0',\n",
       " 'matplotlib': '3.1.1',\n",
       " 'seaborn': '0.9.0',\n",
       " 'sqlalchemy': '1.3.6'}"
      ]
     },
     "execution_count": 3,
     "metadata": {},
     "output_type": "execute_result"
    }
   ],
   "source": [
    "# %load ../utility/overhead.py\n",
    "#record module versions used in cell 1\n",
    "#\n",
    "def version_recorder():\n",
    "    '''\n",
    "    only works if import is first cell run. prints and then returns dictionary with modules:version.\n",
    "    '''\n",
    "    import pkg_resources\n",
    "    resources = In[1].splitlines()\n",
    "    ##ADD: drop lines if not _from_ or _import_\n",
    "    version_dict = { resource.split()[1].split(\".\")[0] : pkg_resources.get_distribution(resource.split()[1].split(\".\")[0]).version for resource in resources }\n",
    "    return version_dict\n",
    "version_recorder()"
   ]
  },
  {
   "cell_type": "code",
   "execution_count": 4,
   "metadata": {},
   "outputs": [],
   "source": [
    "#credentials\n",
    "user = 'dsbc_student'\n",
    "pw = '7*.8G9QH21'\n",
    "host = '142.93.121.174'\n",
    "port = '5432'\n",
    "db = 'houseprices'\n",
    "dialect = 'postgresql'\n",
    "\n",
    "db_addr = f'{dialect}://{user}:{pw}@{host}:{port}/{db}'\n",
    "engine = create_engine(db_addr)\n",
    "\n",
    "query = '''\n",
    "SELECT\n",
    "    *\n",
    "FROM\n",
    "    houseprices\n",
    "'''\n",
    "\n",
    "raw_df = pd.read_sql(query, con=engine)\n",
    "engine.dispose()"
   ]
  },
  {
   "cell_type": "code",
   "execution_count": 5,
   "metadata": {},
   "outputs": [],
   "source": [
    "house_df = raw_df.copy(deep=True)"
   ]
  },
  {
   "cell_type": "markdown",
   "metadata": {},
   "source": [
    "### External Factors\n",
    "\n",
    "Realtors may cite Location, Location, Location, but timing is vital when buying and selling assets. The Great Recession had a huge impact on the housing market (and vice-versa.) I am including a term for housing recession, defined as 2009-2012?. \n",
    "\n",
    "The largest problem with adding this is that it requires finding a separate data set and integrating that information into the extant data in my notebook. One particular issue is that while I found several ways to identify the end of the recession (classically, defined as 2 consecutive quarters), house prices take longer to recover and so there is no clear-cut way to define this term. Because such large-scale macroeconomic factors occur rarely, it is not easy to do testing to avoid overfitting; this I have tried to make the use of this term conservative."
   ]
  },
  {
   "cell_type": "code",
   "execution_count": null,
   "metadata": {},
   "outputs": [],
   "source": []
  }
 ],
 "metadata": {
  "kernelspec": {
   "display_name": "Python 3",
   "language": "python",
   "name": "python3"
  },
  "language_info": {
   "codemirror_mode": {
    "name": "ipython",
    "version": 3
   },
   "file_extension": ".py",
   "mimetype": "text/x-python",
   "name": "python",
   "nbconvert_exporter": "python",
   "pygments_lexer": "ipython3",
   "version": "3.7.4"
  }
 },
 "nbformat": 4,
 "nbformat_minor": 2
}

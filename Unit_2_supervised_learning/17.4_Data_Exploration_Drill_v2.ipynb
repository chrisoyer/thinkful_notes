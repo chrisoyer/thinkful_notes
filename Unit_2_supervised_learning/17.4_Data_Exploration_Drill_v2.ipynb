{
 "cells": [
  {
   "cell_type": "markdown",
   "metadata": {},
   "source": [
    "## Assignment\n",
    "\n",
    "In this assignment, you'll continue working with the [U.S. Education Dataset](https://www.kaggle.com/noriuk/us-education-datasets-unification-project/home) from Kaggle. The data gives detailed state level information on the several facets of the state of education on an annual basis. To learn more about the data and the column descriptions, you can view the Kaggle link above. You should access the data from the Thinkful database. Here's the credentials you can use to connect to the database:\n",
    "\n",
    "postgres_user = 'dsbc_student'<br>\n",
    "postgres_pw = '7\\*.8G9QH21'<br>\n",
    "postgres_host = '142.93.121.174'<br>\n",
    "postgres_port = '5432'<br>\n",
    "postgres_db = 'useducation'<br>\n",
    "\n",
    "Don't forget to apply the most suitable missing value filling techniques you applied in the previous checkpoint to the data. You're supposed to provide your answers to the following questions after you handled the missing values.\n",
    "\n",
    "To complete this assignment, submit a link to a Jupyter notebook containing your solutions to the following tasks:\n",
    "\n",
    "1. Derive the descriptive statistics of the data and discuss the points you find remarkable.\n",
    "2. Choose a state (e.g. California) and draw a line graph of its total revenues and total expenditures along the years. How do these 2 variables evolve during the years? Try to explain the peaks and troughs with some state-wise news and information around those dates.\n",
    "3. In your chosen state, which of the lessons are the students more successful, math or reading?\n",
    "4. What are the distributions of the math and reading scores in the sample?\n",
    "5. Notice there are too many missing values for math and reading scores. Fill out the missing values using mean, median, and linear interpolation. Then compare the effects of these techniques on the distributions of the score variables. \n",
    "\n",
    "Submit your work below, and plan on discussing with your mentor. You can also take a look at these [example solutions](https://github.com/Thinkful-Ed/data-201-assignment-solutions/blob/master/model_prep_data_exploration_1/solution.ipynb)."
   ]
  },
  {
   "cell_type": "code",
   "execution_count": 1,
   "metadata": {},
   "outputs": [],
   "source": [
    "import pandas as pd\n",
    "import numpy as np\n",
    "from sqlalchemy import create_engine\n",
    "import matplotlib.pyplot as plt\n",
    "import seaborn as sns"
   ]
  },
  {
   "cell_type": "code",
   "execution_count": 2,
   "metadata": {},
   "outputs": [],
   "source": [
    "#use previous assignment's code to import and clean data\n",
    "%run us_ed_dataset.py"
   ]
  },
  {
   "cell_type": "markdown",
   "metadata": {},
   "source": [
    "1. Derive the descriptive statistics of the data and discuss the points you find remarkable."
   ]
  },
  {
   "cell_type": "code",
   "execution_count": 3,
   "metadata": {},
   "outputs": [
    {
     "name": "stdout",
     "output_type": "stream",
     "text": [
      "create_engine\t engine\t np\t pd\t plot_nulls\t plt\t postgres_db\t postgres_host\t postgres_port\t \n",
      "postgres_pw\t postgres_user\t remove_nonstate\t sns\t statecolmean\t usedu_df\t usedu_stateonly_df\t \n"
     ]
    }
   ],
   "source": [
    "who"
   ]
  },
  {
   "cell_type": "code",
   "execution_count": 4,
   "metadata": {},
   "outputs": [
    {
     "data": {
      "text/html": [
       "<div>\n",
       "<style scoped>\n",
       "    .dataframe tbody tr th:only-of-type {\n",
       "        vertical-align: middle;\n",
       "    }\n",
       "\n",
       "    .dataframe tbody tr th {\n",
       "        vertical-align: top;\n",
       "    }\n",
       "\n",
       "    .dataframe thead th {\n",
       "        text-align: right;\n",
       "    }\n",
       "</style>\n",
       "<table border=\"1\" class=\"dataframe\">\n",
       "  <thead>\n",
       "    <tr style=\"text-align: right;\">\n",
       "      <th></th>\n",
       "      <th>YEAR</th>\n",
       "      <th>ENROLL</th>\n",
       "      <th>TOTAL_REVENUE</th>\n",
       "      <th>FEDERAL_REVENUE</th>\n",
       "      <th>STATE_REVENUE</th>\n",
       "      <th>LOCAL_REVENUE</th>\n",
       "      <th>TOTAL_EXPENDITURE</th>\n",
       "      <th>INSTRUCTION_EXPENDITURE</th>\n",
       "      <th>SUPPORT_SERVICES_EXPENDITURE</th>\n",
       "      <th>OTHER_EXPENDITURE</th>\n",
       "      <th>...</th>\n",
       "      <th>GRADES_4_G</th>\n",
       "      <th>GRADES_8_G</th>\n",
       "      <th>GRADES_12_G</th>\n",
       "      <th>GRADES_1_8_G</th>\n",
       "      <th>GRADES_9_12_G</th>\n",
       "      <th>GRADES_ALL_G</th>\n",
       "      <th>AVG_MATH_4_SCORE</th>\n",
       "      <th>AVG_MATH_8_SCORE</th>\n",
       "      <th>AVG_READING_4_SCORE</th>\n",
       "      <th>AVG_READING_8_SCORE</th>\n",
       "    </tr>\n",
       "  </thead>\n",
       "  <tbody>\n",
       "    <tr>\n",
       "      <th>count</th>\n",
       "      <td>1229.000000</td>\n",
       "      <td>1.229000e+03</td>\n",
       "      <td>1.229000e+03</td>\n",
       "      <td>1.229000e+03</td>\n",
       "      <td>1.229000e+03</td>\n",
       "      <td>1.229000e+03</td>\n",
       "      <td>1.229000e+03</td>\n",
       "      <td>1.229000e+03</td>\n",
       "      <td>1.229000e+03</td>\n",
       "      <td>1.229000e+03</td>\n",
       "      <td>...</td>\n",
       "      <td>1229.000000</td>\n",
       "      <td>1229.000000</td>\n",
       "      <td>1229.000000</td>\n",
       "      <td>1.229000e+03</td>\n",
       "      <td>1.229000e+03</td>\n",
       "      <td>1.229000e+03</td>\n",
       "      <td>1229.000000</td>\n",
       "      <td>1229.000000</td>\n",
       "      <td>1229.000000</td>\n",
       "      <td>1229.000000</td>\n",
       "    </tr>\n",
       "    <tr>\n",
       "      <th>mean</th>\n",
       "      <td>2004.516680</td>\n",
       "      <td>9.159308e+05</td>\n",
       "      <td>9.279621e+06</td>\n",
       "      <td>7.858487e+05</td>\n",
       "      <td>4.304869e+06</td>\n",
       "      <td>4.188903e+06</td>\n",
       "      <td>9.385206e+06</td>\n",
       "      <td>4.858782e+06</td>\n",
       "      <td>2.734699e+06</td>\n",
       "      <td>4.292046e+05</td>\n",
       "      <td>...</td>\n",
       "      <td>70790.065907</td>\n",
       "      <td>70641.537022</td>\n",
       "      <td>60275.293735</td>\n",
       "      <td>5.694245e+05</td>\n",
       "      <td>2.729849e+05</td>\n",
       "      <td>8.620433e+05</td>\n",
       "      <td>235.033493</td>\n",
       "      <td>278.904501</td>\n",
       "      <td>219.169995</td>\n",
       "      <td>263.428948</td>\n",
       "    </tr>\n",
       "    <tr>\n",
       "      <th>std</th>\n",
       "      <td>6.916022</td>\n",
       "      <td>1.065280e+06</td>\n",
       "      <td>1.190203e+07</td>\n",
       "      <td>1.162471e+06</td>\n",
       "      <td>5.613354e+06</td>\n",
       "      <td>5.557662e+06</td>\n",
       "      <td>1.213844e+07</td>\n",
       "      <td>6.377323e+06</td>\n",
       "      <td>3.395822e+06</td>\n",
       "      <td>5.340693e+05</td>\n",
       "      <td>...</td>\n",
       "      <td>82830.903073</td>\n",
       "      <td>81464.192710</td>\n",
       "      <td>70783.869816</td>\n",
       "      <td>6.633925e+05</td>\n",
       "      <td>3.187398e+05</td>\n",
       "      <td>1.005918e+06</td>\n",
       "      <td>9.179530</td>\n",
       "      <td>9.560445</td>\n",
       "      <td>7.396096</td>\n",
       "      <td>5.437708</td>\n",
       "    </tr>\n",
       "    <tr>\n",
       "      <th>min</th>\n",
       "      <td>1993.000000</td>\n",
       "      <td>4.386600e+04</td>\n",
       "      <td>4.656500e+05</td>\n",
       "      <td>3.367200e+04</td>\n",
       "      <td>0.000000e+00</td>\n",
       "      <td>2.391700e+04</td>\n",
       "      <td>4.816650e+05</td>\n",
       "      <td>2.655490e+05</td>\n",
       "      <td>1.399630e+05</td>\n",
       "      <td>1.154100e+04</td>\n",
       "      <td>...</td>\n",
       "      <td>2548.000000</td>\n",
       "      <td>1485.000000</td>\n",
       "      <td>484.000000</td>\n",
       "      <td>1.922600e+04</td>\n",
       "      <td>2.758000e+03</td>\n",
       "      <td>2.455400e+04</td>\n",
       "      <td>187.134670</td>\n",
       "      <td>232.831510</td>\n",
       "      <td>181.626990</td>\n",
       "      <td>236.379102</td>\n",
       "    </tr>\n",
       "    <tr>\n",
       "      <th>25%</th>\n",
       "      <td>1999.000000</td>\n",
       "      <td>2.583140e+05</td>\n",
       "      <td>2.212104e+06</td>\n",
       "      <td>1.921820e+05</td>\n",
       "      <td>1.185162e+06</td>\n",
       "      <td>7.382910e+05</td>\n",
       "      <td>2.198940e+06</td>\n",
       "      <td>1.189394e+06</td>\n",
       "      <td>6.503950e+05</td>\n",
       "      <td>1.028310e+05</td>\n",
       "      <td>...</td>\n",
       "      <td>19814.000000</td>\n",
       "      <td>20299.000000</td>\n",
       "      <td>17078.000000</td>\n",
       "      <td>1.620700e+05</td>\n",
       "      <td>7.669600e+04</td>\n",
       "      <td>2.419950e+05</td>\n",
       "      <td>230.109324</td>\n",
       "      <td>273.474231</td>\n",
       "      <td>215.119433</td>\n",
       "      <td>260.321697</td>\n",
       "    </tr>\n",
       "    <tr>\n",
       "      <th>50%</th>\n",
       "      <td>2005.000000</td>\n",
       "      <td>6.483130e+05</td>\n",
       "      <td>5.251014e+06</td>\n",
       "      <td>4.208200e+05</td>\n",
       "      <td>2.612740e+06</td>\n",
       "      <td>2.098372e+06</td>\n",
       "      <td>5.397194e+06</td>\n",
       "      <td>2.736786e+06</td>\n",
       "      <td>1.565012e+06</td>\n",
       "      <td>2.715960e+05</td>\n",
       "      <td>...</td>\n",
       "      <td>49603.000000</td>\n",
       "      <td>49580.000000</td>\n",
       "      <td>40034.000000</td>\n",
       "      <td>4.014360e+05</td>\n",
       "      <td>1.835990e+05</td>\n",
       "      <td>6.086530e+05</td>\n",
       "      <td>236.625900</td>\n",
       "      <td>280.821426</td>\n",
       "      <td>220.822688</td>\n",
       "      <td>264.267365</td>\n",
       "    </tr>\n",
       "    <tr>\n",
       "      <th>75%</th>\n",
       "      <td>2010.000000</td>\n",
       "      <td>1.014528e+06</td>\n",
       "      <td>1.113997e+07</td>\n",
       "      <td>8.482540e+05</td>\n",
       "      <td>5.224450e+06</td>\n",
       "      <td>4.803538e+06</td>\n",
       "      <td>1.091791e+07</td>\n",
       "      <td>5.659432e+06</td>\n",
       "      <td>3.313154e+06</td>\n",
       "      <td>5.186000e+05</td>\n",
       "      <td>...</td>\n",
       "      <td>79257.000000</td>\n",
       "      <td>80683.000000</td>\n",
       "      <td>71035.000000</td>\n",
       "      <td>6.399310e+05</td>\n",
       "      <td>3.160620e+05</td>\n",
       "      <td>9.684370e+05</td>\n",
       "      <td>241.480599</td>\n",
       "      <td>285.078103</td>\n",
       "      <td>223.975501</td>\n",
       "      <td>267.030851</td>\n",
       "    </tr>\n",
       "    <tr>\n",
       "      <th>max</th>\n",
       "      <td>2016.000000</td>\n",
       "      <td>6.307022e+06</td>\n",
       "      <td>8.921726e+07</td>\n",
       "      <td>9.990221e+06</td>\n",
       "      <td>5.090457e+07</td>\n",
       "      <td>3.610526e+07</td>\n",
       "      <td>8.532013e+07</td>\n",
       "      <td>4.396452e+07</td>\n",
       "      <td>2.605802e+07</td>\n",
       "      <td>3.995951e+06</td>\n",
       "      <td>...</td>\n",
       "      <td>493415.000000</td>\n",
       "      <td>500143.000000</td>\n",
       "      <td>498403.000000</td>\n",
       "      <td>3.929869e+06</td>\n",
       "      <td>2.013687e+06</td>\n",
       "      <td>5.944746e+06</td>\n",
       "      <td>253.420961</td>\n",
       "      <td>300.568235</td>\n",
       "      <td>236.773867</td>\n",
       "      <td>277.191363</td>\n",
       "    </tr>\n",
       "  </tbody>\n",
       "</table>\n",
       "<p>8 rows × 23 columns</p>\n",
       "</div>"
      ],
      "text/plain": [
       "              YEAR        ENROLL  TOTAL_REVENUE  FEDERAL_REVENUE  \\\n",
       "count  1229.000000  1.229000e+03   1.229000e+03     1.229000e+03   \n",
       "mean   2004.516680  9.159308e+05   9.279621e+06     7.858487e+05   \n",
       "std       6.916022  1.065280e+06   1.190203e+07     1.162471e+06   \n",
       "min    1993.000000  4.386600e+04   4.656500e+05     3.367200e+04   \n",
       "25%    1999.000000  2.583140e+05   2.212104e+06     1.921820e+05   \n",
       "50%    2005.000000  6.483130e+05   5.251014e+06     4.208200e+05   \n",
       "75%    2010.000000  1.014528e+06   1.113997e+07     8.482540e+05   \n",
       "max    2016.000000  6.307022e+06   8.921726e+07     9.990221e+06   \n",
       "\n",
       "       STATE_REVENUE  LOCAL_REVENUE  TOTAL_EXPENDITURE  \\\n",
       "count   1.229000e+03   1.229000e+03       1.229000e+03   \n",
       "mean    4.304869e+06   4.188903e+06       9.385206e+06   \n",
       "std     5.613354e+06   5.557662e+06       1.213844e+07   \n",
       "min     0.000000e+00   2.391700e+04       4.816650e+05   \n",
       "25%     1.185162e+06   7.382910e+05       2.198940e+06   \n",
       "50%     2.612740e+06   2.098372e+06       5.397194e+06   \n",
       "75%     5.224450e+06   4.803538e+06       1.091791e+07   \n",
       "max     5.090457e+07   3.610526e+07       8.532013e+07   \n",
       "\n",
       "       INSTRUCTION_EXPENDITURE  SUPPORT_SERVICES_EXPENDITURE  \\\n",
       "count             1.229000e+03                  1.229000e+03   \n",
       "mean              4.858782e+06                  2.734699e+06   \n",
       "std               6.377323e+06                  3.395822e+06   \n",
       "min               2.655490e+05                  1.399630e+05   \n",
       "25%               1.189394e+06                  6.503950e+05   \n",
       "50%               2.736786e+06                  1.565012e+06   \n",
       "75%               5.659432e+06                  3.313154e+06   \n",
       "max               4.396452e+07                  2.605802e+07   \n",
       "\n",
       "       OTHER_EXPENDITURE  ...     GRADES_4_G     GRADES_8_G    GRADES_12_G  \\\n",
       "count       1.229000e+03  ...    1229.000000    1229.000000    1229.000000   \n",
       "mean        4.292046e+05  ...   70790.065907   70641.537022   60275.293735   \n",
       "std         5.340693e+05  ...   82830.903073   81464.192710   70783.869816   \n",
       "min         1.154100e+04  ...    2548.000000    1485.000000     484.000000   \n",
       "25%         1.028310e+05  ...   19814.000000   20299.000000   17078.000000   \n",
       "50%         2.715960e+05  ...   49603.000000   49580.000000   40034.000000   \n",
       "75%         5.186000e+05  ...   79257.000000   80683.000000   71035.000000   \n",
       "max         3.995951e+06  ...  493415.000000  500143.000000  498403.000000   \n",
       "\n",
       "       GRADES_1_8_G  GRADES_9_12_G  GRADES_ALL_G  AVG_MATH_4_SCORE  \\\n",
       "count  1.229000e+03   1.229000e+03  1.229000e+03       1229.000000   \n",
       "mean   5.694245e+05   2.729849e+05  8.620433e+05        235.033493   \n",
       "std    6.633925e+05   3.187398e+05  1.005918e+06          9.179530   \n",
       "min    1.922600e+04   2.758000e+03  2.455400e+04        187.134670   \n",
       "25%    1.620700e+05   7.669600e+04  2.419950e+05        230.109324   \n",
       "50%    4.014360e+05   1.835990e+05  6.086530e+05        236.625900   \n",
       "75%    6.399310e+05   3.160620e+05  9.684370e+05        241.480599   \n",
       "max    3.929869e+06   2.013687e+06  5.944746e+06        253.420961   \n",
       "\n",
       "       AVG_MATH_8_SCORE  AVG_READING_4_SCORE  AVG_READING_8_SCORE  \n",
       "count       1229.000000          1229.000000          1229.000000  \n",
       "mean         278.904501           219.169995           263.428948  \n",
       "std            9.560445             7.396096             5.437708  \n",
       "min          232.831510           181.626990           236.379102  \n",
       "25%          273.474231           215.119433           260.321697  \n",
       "50%          280.821426           220.822688           264.267365  \n",
       "75%          285.078103           223.975501           267.030851  \n",
       "max          300.568235           236.773867           277.191363  \n",
       "\n",
       "[8 rows x 23 columns]"
      ]
     },
     "execution_count": 4,
     "metadata": {},
     "output_type": "execute_result"
    }
   ],
   "source": [
    "usedu_stateonly_df.describe()"
   ]
  },
  {
   "cell_type": "markdown",
   "metadata": {},
   "source": [
    "reading scientific notation makes it very hard to read a dataframe...\n"
   ]
  },
  {
   "cell_type": "markdown",
   "metadata": {},
   "source": [
    "2. Choose a state (e.g. California) and draw a line graph of its total revenues and total expenditures along the years. How do these 2 variables evolve during the years? Try to explain the peaks and troughs with some state-wise news and information around those dates."
   ]
  },
  {
   "cell_type": "code",
   "execution_count": 5,
   "metadata": {},
   "outputs": [
    {
     "data": {
      "image/png": "[encoded data removed]",
      "text/plain": [
       "<Figure size 648x432 with 1 Axes>"
      ]
     },
     "metadata": {
      "needs_background": "light"
     },
     "output_type": "display_data"
    }
   ],
   "source": [
    "#change data into sns-friendly format\n",
    "cali_df = usedu_stateonly_df[usedu_stateonly_df['STATE'] == 'CALIFORNIA'].melt(id_vars=['STATE', 'YEAR'], value_vars=['TOTAL_REVENUE', 'TOTAL_EXPENDITURE'],\n",
    "                                                                              var_name='Item', value_name='Dollars')\n",
    "fig, ax1 = plt.subplots(figsize=(9, 6))\n",
    "ax1 = sns.lineplot(data=cali_df, x='YEAR', y='Dollars', hue='Item')\n",
    "plt.title(\"California Education Budget\");"
   ]
  },
  {
   "cell_type": "raw",
   "metadata": {},
   "source": [
    "Revenues and expenditures generally track each other though revenue is more volatile. The big event is the Great Recession and subsequent recovery."
   ]
  },
  {
   "cell_type": "markdown",
   "metadata": {},
   "source": [
    "3. In your chosen state, which of the lessons are the students more successful, math or reading?"
   ]
  },
  {
   "cell_type": "code",
   "execution_count": 6,
   "metadata": {},
   "outputs": [
    {
     "name": "stdout",
     "output_type": "stream",
     "text": [
      "California's reading scores are 0.9491801420673607 and 0.994444063156273 at 4th and 8th Grade, and the respective maths scores are 0.9598636681125025 and 0.9640753917633111.\n"
     ]
    }
   ],
   "source": [
    "cali_math4 = usedu_stateonly_df[usedu_stateonly_df[\"STATE\"] == \"CALIFORNIA\"][\"AVG_MATH_4_SCORE\"].mean()/ \\\n",
    "usedu_stateonly_df[\"AVG_MATH_4_SCORE\"].mean()\n",
    "\n",
    "cali_math8 = usedu_stateonly_df[usedu_stateonly_df[\"STATE\"] == \"CALIFORNIA\"][\"AVG_MATH_8_SCORE\"].mean()/ \\\n",
    "usedu_stateonly_df[\"AVG_MATH_8_SCORE\"].mean()\n",
    "\n",
    "cali_read4 = usedu_stateonly_df[usedu_stateonly_df[\"STATE\"] == \"CALIFORNIA\"][\"AVG_READING_4_SCORE\"].mean()/ \\\n",
    "usedu_stateonly_df[\"AVG_READING_4_SCORE\"].mean()\n",
    "\n",
    "cali_read8 = usedu_stateonly_df[usedu_stateonly_df[\"STATE\"] == \"CALIFORNIA\"][\"AVG_READING_8_SCORE\"].mean()/ \\\n",
    "usedu_stateonly_df[\"AVG_READING_8_SCORE\"].mean() \n",
    "\n",
    "print(f\"California's reading scores are {cali_read4} and {cali_read8} at 4th and 8th Grade, and the respective maths \\\n",
    "scores are {cali_math4} and {cali_math8}.\")"
   ]
  },
  {
   "cell_type": "markdown",
   "metadata": {},
   "source": [
    "The scores are not clearly superior in reading or math."
   ]
  },
  {
   "cell_type": "markdown",
   "metadata": {},
   "source": [
    "4. What are the distributions of the math and reading scores in the sample?"
   ]
  },
  {
   "cell_type": "code",
   "execution_count": 7,
   "metadata": {},
   "outputs": [
    {
     "data": {
      "image/png": "[encoded data removed]",
      "text/plain": [
       "<Figure size 648x432 with 1 Axes>"
      ]
     },
     "metadata": {
      "needs_background": "light"
     },
     "output_type": "display_data"
    }
   ],
   "source": [
    "fig2, ax2 = plt.subplots(figsize=(9, 6))\n",
    "ax2 = sns.distplot(usedu_stateonly_df.AVG_MATH_4_SCORE, kde=False, color='red', label='Math4', axlabel=False)\n",
    "ax2 = sns.distplot(usedu_stateonly_df.AVG_MATH_8_SCORE, kde=False, color='blue', label='Math8', axlabel=False)\n",
    "ax2 = sns.distplot(usedu_stateonly_df.AVG_READING_4_SCORE, kde=False, color='green', label='Read4', axlabel=False)\n",
    "ax2 = sns.distplot(usedu_stateonly_df.AVG_READING_8_SCORE, kde=False, color='brown', label='Read8', axlabel=False)\n",
    "plt.xlabel('Score')\n",
    "plt.ylabel('Frequency')\n",
    "plt.legend()\n",
    "plt.show()"
   ]
  },
  {
   "cell_type": "markdown",
   "metadata": {},
   "source": [
    "5. Notice there are too many missing values for math and reading scores. Fill out the missing values using mean, median, and linear interpolation. Then compare the effects of these techniques on the distributions of the score variables. "
   ]
  },
  {
   "cell_type": "markdown",
   "metadata": {},
   "source": [
    "did this last assignment..."
   ]
  },
  {
   "cell_type": "code",
   "execution_count": null,
   "metadata": {},
   "outputs": [],
   "source": []
  }
 ],
 "metadata": {
  "kernelspec": {
   "display_name": "Python 3",
   "language": "python",
   "name": "python3"
  },
  "language_info": {
   "codemirror_mode": {
    "name": "ipython",
    "version": 3
   },
   "file_extension": ".py",
   "mimetype": "text/x-python",
   "name": "python",
   "nbconvert_exporter": "python",
   "pygments_lexer": "ipython3",
   "version": "3.7.3"
  }
 },
 "nbformat": 4,
 "nbformat_minor": 2
}

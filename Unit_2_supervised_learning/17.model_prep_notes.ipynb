{
 "cells": [
  {
   "cell_type": "markdown",
   "metadata": {},
   "source": [
    "variables can be\n",
    "1. Continuous variables:  \n",
    "    a. interval (lack absolute zero point)  \n",
    "    b. ratio variables  \n",
    "2. Categorical variables:  \n",
    "    a. ordinal variables (ordered, but no distance between them)  \n",
    "    b. nominal "
   ]
  },
  {
   "cell_type": "markdown",
   "metadata": {},
   "source": [
    "use data types to find bad values:\n",
    "`# print all values that cannot be converted to float  \n",
    "for column_name in [\"Video Uploads\", \"Subscribers\"]:\n",
    "    print(\"These are the problematic values for the variable: {}\".format(column_name))\n",
    "    for value in youtube_df[\"Video Uploads\"]:\n",
    "        try:\n",
    "            float(value)\n",
    "        except:\n",
    "            print(value)`  \n",
    "            \n",
    "then fix  \n",
    "`\n",
    "youtube_df[\"Video Uploads\"] = youtube_df[\"Video Uploads\"].apply(str.strip).replace(\"--\", np.nan)\n",
    "youtube_df[\"Video Uploads\"] = pd.to_numeric(youtube_df[\"Video Uploads\"], downcast=\"float\")\n",
    "`"
   ]
  },
  {
   "cell_type": "markdown",
   "metadata": {},
   "source": [
    "for categorical values, look at counts\n",
    "`youtube_df.Grade.value_counts()`\n",
    "will show unsual value (usually bad) or typos"
   ]
  },
  {
   "cell_type": "code",
   "execution_count": null,
   "metadata": {},
   "outputs": [],
   "source": []
  }
 ],
 "metadata": {
  "kernelspec": {
   "display_name": "Python 3",
   "language": "python",
   "name": "python3"
  },
  "language_info": {
   "codemirror_mode": {
    "name": "ipython",
    "version": 3
   },
   "file_extension": ".py",
   "mimetype": "text/x-python",
   "name": "python",
   "nbconvert_exporter": "python",
   "pygments_lexer": "ipython3",
   "version": "3.7.3"
  }
 },
 "nbformat": 4,
 "nbformat_minor": 2
}

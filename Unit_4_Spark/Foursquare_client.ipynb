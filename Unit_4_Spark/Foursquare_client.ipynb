{
  "nbformat": 4,
  "nbformat_minor": 0,
  "metadata": {
    "colab": {
      "name": "Foursquare_client.ipynb",
      "provenance": [],
      "collapsed_sections": [],
      "include_colab_link": true
    },
    "kernelspec": {
      "display_name": "Python 3",
      "language": "python",
      "name": "python3"
    },
    "language_info": {
      "codemirror_mode": {
        "name": "ipython",
        "version": 3
      },
      "file_extension": ".py",
      "mimetype": "text/x-python",
      "name": "python",
      "nbconvert_exporter": "python",
      "pygments_lexer": "ipython3",
      "version": "3.7.4"
    },
    "latex_envs": {
      "LaTeX_envs_menu_present": true,
      "autoclose": false,
      "autocomplete": true,
      "bibliofile": "biblio.bib",
      "cite_by": "apalike",
      "current_citInitial": 1,
      "eqLabelWithNumbers": true,
      "eqNumInitial": 1,
      "hotkeys": {
        "equation": "Ctrl-E",
        "itemize": "Ctrl-I"
      },
      "labels_anchors": false,
      "latex_user_defs": false,
      "report_style_numbering": false,
      "user_envs_cfg": false
    },
    "varInspector": {
      "cols": {
        "lenName": 16,
        "lenType": 16,
        "lenVar": 40
      },
      "kernels_config": {
        "python": {
          "delete_cmd_postfix": "",
          "delete_cmd_prefix": "del ",
          "library": "var_list.py",
          "varRefreshCmd": "print(var_dic_list())"
        },
        "r": {
          "delete_cmd_postfix": ") ",
          "delete_cmd_prefix": "rm(",
          "library": "var_list.r",
          "varRefreshCmd": "cat(var_dic_list()) "
        }
      },
      "types_to_exclude": [
        "module",
        "function",
        "builtin_function_or_method",
        "instance",
        "_Feature"
      ],
      "window_display": false
    }
  },
  "cells": [
    {
      "cell_type": "markdown",
      "metadata": {
        "id": "view-in-github",
        "colab_type": "text"
      },
      "source": [
        "<a href=\"https://colab.research.google.com/github/chrisoyer/thinkful_notes/blob/master/Unit_4_Spark/Foursquare_client.ipynb\" target=\"_parent\"><img src=\"https://colab.research.google.com/assets/colab-badge.svg\" alt=\"Open In Colab\"/></a>"
      ]
    },
    {
      "cell_type": "code",
      "metadata": {
        "colab_type": "code",
        "id": "erPF206LC2xJ",
        "outputId": "390b9e03-be08-4418-bc89-d89199afa4b4",
        "colab": {
          "base_uri": "https://localhost:8080/",
          "height": 297
        }
      },
      "source": [
        "!pip install foursquare\n",
        "\n",
        "# mount Google Drive\n",
        "from google.colab import drive"
      ],
      "execution_count": 0,
      "outputs": [
        {
          "output_type": "stream",
          "text": [
            "Collecting foursquare\n",
            "  Downloading https://files.pythonhosted.org/packages/0b/e7/02438dddc98f19f998e1d4b962ab6bb8c37b90fa37e33a6678ce18b85f56/foursquare-1%212019.9.11.tar.gz\n",
            "Requirement already satisfied: requests>=2.1 in /usr/local/lib/python3.6/dist-packages (from foursquare) (2.21.0)\n",
            "Requirement already satisfied: six in /usr/local/lib/python3.6/dist-packages (from foursquare) (1.12.0)\n",
            "Requirement already satisfied: idna<2.9,>=2.5 in /usr/local/lib/python3.6/dist-packages (from requests>=2.1->foursquare) (2.8)\n",
            "Requirement already satisfied: chardet<3.1.0,>=3.0.2 in /usr/local/lib/python3.6/dist-packages (from requests>=2.1->foursquare) (3.0.4)\n",
            "Requirement already satisfied: certifi>=2017.4.17 in /usr/local/lib/python3.6/dist-packages (from requests>=2.1->foursquare) (2019.9.11)\n",
            "Requirement already satisfied: urllib3<1.25,>=1.21.1 in /usr/local/lib/python3.6/dist-packages (from requests>=2.1->foursquare) (1.24.3)\n",
            "Building wheels for collected packages: foursquare\n",
            "  Building wheel for foursquare (setup.py) ... \u001b[?25l\u001b[?25hdone\n",
            "  Created wheel for foursquare: filename=foursquare-1!2019.9.11-cp36-none-any.whl size=20354 sha256=71b4aba8a2cb1ffdd8b9426b46bdf7d60e250788ee8451eadb3c4356865103ac\n",
            "  Stored in directory: /root/.cache/pip/wheels/53/6c/d9/0810f42ef7521037af97032caab9411144ab0efab2aed8300f\n",
            "Successfully built foursquare\n",
            "Installing collected packages: foursquare\n",
            "Successfully installed foursquare-1!2019.9.11\n"
          ],
          "name": "stdout"
        }
      ]
    },
    {
      "cell_type": "code",
      "metadata": {
        "id": "_JaIZqNfHjZJ",
        "colab_type": "code",
        "outputId": "6184ea97-cd58-4974-d88e-6e935ce6c6a3",
        "colab": {
          "base_uri": "https://localhost:8080/",
          "height": 124
        }
      },
      "source": [
        "drive.mount('/content/gdrive')"
      ],
      "execution_count": 0,
      "outputs": [
        {
          "output_type": "stream",
          "text": [
            "Go to this URL in a browser: https://accounts.google.com/o/oauth2/auth?client_id=947318989803-6bn6qk8qdgf4n4g3pfee6491hc0brc4i.apps.googleusercontent.com&redirect_uri=urn%3Aietf%3Awg%3Aoauth%3A2.0%3Aoob&scope=email%20https%3A%2F%2Fwww.googleapis.com%2Fauth%2Fdocs.test%20https%3A%2F%2Fwww.googleapis.com%2Fauth%2Fdrive%20https%3A%2F%2Fwww.googleapis.com%2Fauth%2Fdrive.photos.readonly%20https%3A%2F%2Fwww.googleapis.com%2Fauth%2Fpeopleapi.readonly&response_type=code\n",
            "\n",
            "Enter your authorization code:\n",
            "··········\n",
            "Mounted at /content/gdrive\n"
          ],
          "name": "stdout"
        }
      ]
    },
    {
      "cell_type": "code",
      "metadata": {
        "colab_type": "code",
        "id": "wSGrWQ6bPJZ9",
        "colab": {}
      },
      "source": [
        "import foursquare\n",
        "import datetime\n",
        "import time\n",
        "\n",
        "client_id = \"PVZQUN033W52TETKNGTU2RO3BFETKE3AIQ3OAEKUGGEVAVS3\"\n",
        "client_secret = \"13VTTQTGPEPZS04T4D13YK11QD11XQA4GOR05IKJESPUHGT3\"\n",
        "client = foursquare.Foursquare(client_id=client_id, client_secret=client_secret)\n",
        "\n",
        "cities = [\"New York\",\"Los Angeles\",\"Chicago\",\"Houston\",\"Phoenix\",\"Philadelphia\",\n",
        "          \"San Antonio\",\"San Diego\",\"Dallas\",\"San Jose\",\"Austin\",\"Jacksonville\",\n",
        "          \"San Francisco\",\"Columbus\",\"Fort Worth\",\"Indianapolis\",\"Charlotte\",\n",
        "          \"Seattle\",\"Denver\",\"Washington\",\"Boston\",\"El Paso\",\"Detroit\",\n",
        "          \"Nashville\",\"Memphis\",\"Portland\",\"Oklahoma City\",\"Las Vegas\",\n",
        "          \"Louisville\",\"Baltimore\",\"Milwaukee\",\"Albuquerque\",\"Tucson\",\"Fresno\",\n",
        "          \"Sacramento\",\"Mesa\",\"Kansas City\",\"Atlanta\",\"Long Beach\",\"Omaha\",\n",
        "          \"Raleigh\",\"Colorado Springs\",\"Miami\",\"Virginia Beach\",\"Oakland\",\n",
        "          \"Minneapolis\",\"Tulsa\",\"Arlington\",\"New Orleans\",\"Wichita\",\"Cleveland\",\n",
        "          \"Tampa\",\"Bakersfield\",\"Aurora\",\"Anaheim\",\"Honolulu\",\"Santa Ana\",\n",
        "          \"Riverside\",\"Corpus Christi\",\"Lexington\",\"Stockton\",\"St. Louis\",\n",
        "          \"Saint Paul\",\"Henderson\",\"Pittsburgh\",\"Cincinnati\",\"Anchorage\",\n",
        "          \"Greensboro\",\"Plano\",\"Newark\",\"Lincoln\",\"Orlando\",\"Irvine\",\"Toledo\",\n",
        "          \"Jersey City\",\"Chula Vista\",\"Durham\",\"Fort Wayne\",\"St. Petersburg\",\n",
        "          \"Laredo\",\"Buffalo\",\"Madison\",\"Lubbock\",\"Chandler\",\"Scottsdale\",\"Reno\",\n",
        "          \"Glendale\",\"Norfolk\",\"North Las Vegas\",\"Gilbert\",\"Chesapeake\",\"Irving\",\n",
        "          \"Hialeah\",\"Garland\",\"Fremont\",\"Richmond\",\"Boise\",\"Baton Rouge\",\n",
        "          \"Des Moines\",\"Spokane\",\"San Bernardino\",\"Modesto\",\"Tacoma\",\"Fontana\",\n",
        "          \"Santa Clarita\",\"Birmingham\",\"Oxnard\",\"Fayetteville\",\"Rochester\",\n",
        "          \"Moreno Valley\",\"Glendale\",\"Yonkers\",\"Huntington Beach\",\"Aurora\",\n",
        "          \"Salt Lake City\",\"Amarillo\",\"Montgomery\",\"Grand Rapids\",\"Little Rock\",\n",
        "          \"Akron\",\"Augusta\",\"Huntsville\",\"Columbus\",\"Grand Prairie\",\"Shreveport\",\n",
        "          \"Overland Park\",\"Tallahassee\",\"Mobile\",\"Port St. Lucie\",\"Knoxville\",\n",
        "          \"Worcester\",\"Tempe\",\"Cape Coral\",\"Brownsville\",\"McKinney\",\"Providence\",\n",
        "          \"Fort Lauderdale\",\"Newport News\",\"Chattanooga\",\"Rancho Cucamonga\",\n",
        "          \"Frisco\",\"Sioux Falls\",\"Oceanside\",\"Ontario\",\"Vancouver\",\"Santa Rosa\",\n",
        "          \"Garden Grove\",\"Elk Grove\",\"Pembroke Pines\",\"Salem\",\"Eugene\",\"Peoria\",\n",
        "          \"Corona\",\"Springfield\",\"Jackson\",\"Cary\",\"Fort Collins\",\"Hayward\",\n",
        "          \"Lancaster\",\"Alexandria\",\"Salinas\",\"Palmdale\",\"Lakewood\",\"Springfield\",\n",
        "          \"Sunnyvale\",\"Hollywood\",\"Pasadena\",\"Clarksville\",\"Pomona\",\n",
        "          \"Kansas City\",\"Macon\",\"Escondido\",\"Paterson\",\"Joliet\",\"Naperville\",\n",
        "          \"Rockford\",\"Torrance\",\"Bridgeport\",\"Savannah\",\"Killeen\",\"Bellevue\",\n",
        "          \"Mesquite\",\"Syracuse\",\"McAllen\",\"Pasadena\",\"Orange\",\"Fullerton\",\n",
        "          \"Dayton\",\"Miramar\",\"Olathe\",\"Thornton\",\"Waco\",\"Murfreesboro\",\"Denton\",\n",
        "          \"West Valley City\",\"Midland\",\"Carrollton\",\"Roseville\",\"Warren\",\n",
        "          \"Charleston\",\"Hampton\",\"Surprise\",\"Columbia\",\"Coral Springs\",\"Visalia\",\n",
        "          \"Sterling Heights\",\"Gainesville\",\"Cedar Rapids\",\"New Haven\",\"Stamford\",\n",
        "          \"Elizabeth\",\"Concord\",\"Thousand Oaks\",\"Kent\",\"Santa Clara\",\"Simi Valley\",\n",
        "          \"Lafayette\",\"Topeka\",\"Athens\",\"Round Rock\",\"Hartford\",\"Norman\",\"Victorville\",\n",
        "          \"Fargo\",\"Berkeley\",\"Vallejo\",\"Abilene\",\"Columbia\",\"Ann Arbor\",\"Allentown\",\n",
        "          \"Pearland\",\"Beaumont\",\"Wilmington\",\"Evansville\",\"Arvada\",\"Provo\",\n",
        "          \"Independence\",\"Lansing\",\"Odessa\",\"Richardson\",\"Fairfield\",\"El Monte\",\n",
        "          \"Rochester\",\"Clearwater\",\"Carlsbad\",\"Springfield\",\"Temecula\",\n",
        "          \"West Jordan\",\"Costa Mesa\",\"Miami Gardens\",\"Cambridge\",\"College Station\",\n",
        "          \"Murrieta\",\"Downey\",\"Peoria\",\"Westminster\",\"Elgin\",\"Antioch\",\"Palm Bay\",\n",
        "          \"High Point\",\"Lowell\",\"Manchester\",\"Pueblo\",\"Gresham\",\"North Charleston\",\n",
        "          \"Ventura\",\"Inglewood\",\"Pompano Beach\",\"Centennial\",\"West Palm Beach\",\n",
        "          \"Everett\",\"Richmond\",\"Clovis\",\"Billings\",\"Waterbury\",\"Broken Arrow\",\n",
        "          \"Lakeland\",\"West Covina\",\"Boulder\",\"Daly City\",\"Santa Maria\",\"Hillsboro\",\n",
        "          \"Sandy Springs\",\"Norwalk\",\"Lewisville\",\"Greeley\",\"Davie\",\"Green Bay\",\n",
        "          \"Tyler\",\"League City\",\"Burbank\",\"San Mateo\",\"Wichita Falls\",\"El Cajon\",\n",
        "          \"Rialto\",\"Lakewood\",\"Edison\",\"Davenport\",\"South Bend\",\"Woodbridge\",\n",
        "          \"Las Cruces\",\"Vista\",\"Renton\",\"Sparks\",\"Clinton\",\"Allen\",\"Tuscaloosa\",\n",
        "          \"San Angelo\",\"Vacaville\"]"
      ],
      "execution_count": 0,
      "outputs": []
    },
    {
      "cell_type": "code",
      "metadata": {
        "colab_type": "code",
        "id": "C1Oca4OhDA_6",
        "outputId": "94c8e2fc-036b-4d20-983d-7e2f714b7512",
        "colab": {
          "base_uri": "https://localhost:8080/",
          "height": 412
        }
      },
      "source": [
        "for city in cities:\n",
        "  try:\n",
        "    with open(\"/content/gdrive/My Drive/thinkful/colab_datasets/foursquare_logs/log_\"+\"\".join(\n",
        "        city.split(\" \"))+str(datetime.datetime.now().time().strftime(\"%Y%m%d%H%m%s\"))+\".txt\", \"w\") as f:\n",
        "      trending_venues = client.venues.trending(params={\"near\":city, \"limit\":10})\n",
        "\n",
        "      for venue in trending_venues[\"venues\"]:\n",
        "        try:\n",
        "          venue_data = client.venues(venue['id'])\n",
        "          f.write(venue[\"categories\"][0][\"name\"] + \",\" + str(venue_data['venue']['hereNow']['count'])+ \\\n",
        "                  + \",\" + str(venue_data['venue']['stats']) + \"\\n\")\n",
        "        except KeyError: #due to no hereNow field, I think because it can be blank\n",
        "          continue\n",
        "  except FailedGeocode:\n",
        "    continue"
      ],
      "execution_count": 0,
      "outputs": [
        {
          "output_type": "error",
          "ename": "NameError",
          "evalue": "ignored",
          "traceback": [
            "\u001b[0;31m---------------------------------------------------------------------------\u001b[0m",
            "\u001b[0;31mTypeError\u001b[0m                                 Traceback (most recent call last)",
            "\u001b[0;32m<ipython-input-4-a838dcf23de1>\u001b[0m in \u001b[0;36m<module>\u001b[0;34m()\u001b[0m\n\u001b[1;32m      9\u001b[0m           \u001b[0mvenue_data\u001b[0m \u001b[0;34m=\u001b[0m \u001b[0mclient\u001b[0m\u001b[0;34m.\u001b[0m\u001b[0mvenues\u001b[0m\u001b[0;34m(\u001b[0m\u001b[0mvenue\u001b[0m\u001b[0;34m[\u001b[0m\u001b[0;34m'id'\u001b[0m\u001b[0;34m]\u001b[0m\u001b[0;34m)\u001b[0m\u001b[0;34m\u001b[0m\u001b[0;34m\u001b[0m\u001b[0m\n\u001b[0;32m---> 10\u001b[0;31m           \u001b[0mf\u001b[0m\u001b[0;34m.\u001b[0m\u001b[0mwrite\u001b[0m\u001b[0;34m(\u001b[0m\u001b[0mvenue\u001b[0m\u001b[0;34m[\u001b[0m\u001b[0;34m\"categories\"\u001b[0m\u001b[0;34m]\u001b[0m\u001b[0;34m[\u001b[0m\u001b[0;36m0\u001b[0m\u001b[0;34m]\u001b[0m\u001b[0;34m[\u001b[0m\u001b[0;34m\"name\"\u001b[0m\u001b[0;34m]\u001b[0m \u001b[0;34m+\u001b[0m \u001b[0;34m\",\"\u001b[0m \u001b[0;34m+\u001b[0m \u001b[0mstr\u001b[0m\u001b[0;34m(\u001b[0m\u001b[0mvenue_data\u001b[0m\u001b[0;34m[\u001b[0m\u001b[0;34m'venue'\u001b[0m\u001b[0;34m]\u001b[0m\u001b[0;34m[\u001b[0m\u001b[0;34m'hereNow'\u001b[0m\u001b[0;34m]\u001b[0m\u001b[0;34m[\u001b[0m\u001b[0;34m'count'\u001b[0m\u001b[0;34m]\u001b[0m\u001b[0;34m)\u001b[0m\u001b[0;34m+\u001b[0m                   \u001b[0;34m+\u001b[0m \u001b[0;34m\",\"\u001b[0m \u001b[0;34m+\u001b[0m \u001b[0mstr\u001b[0m\u001b[0;34m(\u001b[0m\u001b[0mvenue_data\u001b[0m\u001b[0;34m[\u001b[0m\u001b[0;34m'venue'\u001b[0m\u001b[0;34m]\u001b[0m\u001b[0;34m[\u001b[0m\u001b[0;34m'stats'\u001b[0m\u001b[0;34m]\u001b[0m\u001b[0;34m)\u001b[0m \u001b[0;34m+\u001b[0m \u001b[0;34m\"\\n\"\u001b[0m\u001b[0;34m)\u001b[0m\u001b[0;34m\u001b[0m\u001b[0;34m\u001b[0m\u001b[0m\n\u001b[0m\u001b[1;32m     11\u001b[0m         \u001b[0;32mexcept\u001b[0m \u001b[0mKeyError\u001b[0m\u001b[0;34m:\u001b[0m \u001b[0;31m#due to no hereNow field, I think because it can be blank\u001b[0m\u001b[0;34m\u001b[0m\u001b[0;34m\u001b[0m\u001b[0m\n",
            "\u001b[0;31mTypeError\u001b[0m: bad operand type for unary +: 'str'",
            "\nDuring handling of the above exception, another exception occurred:\n",
            "\u001b[0;31mNameError\u001b[0m                                 Traceback (most recent call last)",
            "\u001b[0;32m<ipython-input-4-a838dcf23de1>\u001b[0m in \u001b[0;36m<module>\u001b[0;34m()\u001b[0m\n\u001b[1;32m     11\u001b[0m         \u001b[0;32mexcept\u001b[0m \u001b[0mKeyError\u001b[0m\u001b[0;34m:\u001b[0m \u001b[0;31m#due to no hereNow field, I think because it can be blank\u001b[0m\u001b[0;34m\u001b[0m\u001b[0;34m\u001b[0m\u001b[0m\n\u001b[1;32m     12\u001b[0m           \u001b[0;32mcontinue\u001b[0m\u001b[0;34m\u001b[0m\u001b[0;34m\u001b[0m\u001b[0m\n\u001b[0;32m---> 13\u001b[0;31m   \u001b[0;32mexcept\u001b[0m \u001b[0mFailedGeocode\u001b[0m\u001b[0;34m:\u001b[0m\u001b[0;34m\u001b[0m\u001b[0;34m\u001b[0m\u001b[0m\n\u001b[0m\u001b[1;32m     14\u001b[0m     \u001b[0;32mcontinue\u001b[0m\u001b[0;34m\u001b[0m\u001b[0;34m\u001b[0m\u001b[0m\n",
            "\u001b[0;31mNameError\u001b[0m: name 'FailedGeocode' is not defined"
          ]
        }
      ]
    }
  ]
}
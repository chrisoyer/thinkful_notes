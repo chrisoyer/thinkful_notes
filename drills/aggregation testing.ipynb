{
 "cells": [
  {
   "cell_type": "code",
   "execution_count": 5,
   "metadata": {},
   "outputs": [],
   "source": [
    "import pandas as pd\n",
    "import numpy as np"
   ]
  },
  {
   "cell_type": "code",
   "execution_count": 27,
   "metadata": {},
   "outputs": [],
   "source": [
    "df = pd.DataFrame({\"User\": [\"user1\", \"user2\", \"user2\", \"user3\", \"user2\", \"user1\", \"user3\"],\n",
    "                  \"Amount\": [10.0, 5.0, 8.0, 10.5, 7.5, 8.0, 9],\n",
    "                  'Score': [9, 1, 8, 7, 7, 6, 9]})\n"
   ]
  },
  {
   "cell_type": "code",
   "execution_count": 39,
   "metadata": {},
   "outputs": [
    {
     "data": {
      "text/plain": [
       "Index(['mean', 'sum', 'max', 'std'], dtype='object')"
      ]
     },
     "execution_count": 39,
     "metadata": {},
     "output_type": "execute_result"
    }
   ],
   "source": [
    "df = pd.DataFrame({\"User\": [\"user1\", \"user2\", \"user2\", \"user3\", \"user2\", \"user1\"],\n",
    "              \"Amount\": [10.0, 5.0, 8.0, 10.5, 7.5, 8.0],\n",
    "              'Other': [1,2,3,4,5,6]})\n",
    "\n",
    "df2 = df.groupby('User').agg({'Amount' : ['mean', 'sum'], 'Other':['max', 'std']}).#.rename('average', 'sum', 'maximum', 'stdev')\n",
    "#df.groupby('User').agg(np.mean)\n",
    "#df2.columns = df2.columns.get_level_values(0).rename(columns={1:'user', 2:'amount mean', 3:'amount sum', 4:'other sum', 5:'other max'})\n",
    "df2\n"
   ]
  },
  {
   "cell_type": "code",
   "execution_count": null,
   "metadata": {},
   "outputs": [],
   "source": []
  }
 ],
 "metadata": {
  "kernelspec": {
   "display_name": "Python 3",
   "language": "python",
   "name": "python3"
  },
  "language_info": {
   "codemirror_mode": {
    "name": "ipython",
    "version": 3
   },
   "file_extension": ".py",
   "mimetype": "text/x-python",
   "name": "python",
   "nbconvert_exporter": "python",
   "pygments_lexer": "ipython3",
   "version": "3.7.3"
  }
 },
 "nbformat": 4,
 "nbformat_minor": 2
}

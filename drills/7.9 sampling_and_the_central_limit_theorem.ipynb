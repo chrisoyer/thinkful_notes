{
 "cells": [
  {
   "cell_type": "markdown",
   "metadata": {},
   "source": [
    "So far, we've mainly focused on normal distributions in descriptive statistics. Out there in the real world though, there are many processes involving non-normal distributions. In this checkpoint, we'll explore the central limit theorem, which shows that normal distributions can still be used to analyze samples of data from non-normally distributed populations.\n",
    "\n",
    "When sampling from a population (of any distribution), as the sample size gets larger the sample means tend to follow a normal probability distribution, clustering around the true population mean. The more non-normal the population the larger the samples need to be, but ultimately this means that statistics can be calculated, and population parameters estimated, even when the distribution of a population is unknown.\n",
    "\n",
    "Given that statistics are generally used to discover information about populations, data scientists need to be able to start doing statistics on a population without knowing much about it. The central limit theorem demonstrates that this is possible, and by doing so, unlocks the door to all the statistics we have discussed so far (mean, median, variance, standard deviation, standard error) and many of the statistics we will be discussing from this point forward.\n",
    "\n",
    "Here are the topics we'll cover:\n",
    "\n",
    "* Comparing groups in a sample\n",
    "* sample means\n",
    "* t-values\n",
    "\n",
    "\n",
    "This checkpoint ends with an assignment where you'll practice working with the central limit theorem."
   ]
  },
  {
   "cell_type": "markdown",
   "metadata": {},
   "source": [
    "## Comparing Groups in a Sample: The Central Limit Theorem in Action\n",
    "\n",
    "For an example of the central limit theorem in action, we can compare the means of two samples, drawn from two populations.  To compare two means, we want to calculate the mean and standard deviation of each sample.  Then, we subtract one mean from the other, and look at the size of the difference in the context of the combined variance of the two samples.  The larger the difference is relative to the variance, the less likely the difference is to be due to random chance, and the more likely it is to reflect meaningful differences between the two populations.\n",
    "\n",
    "$$\\bar y = \\bar x_2- \\bar x_1$$\n",
    "\n",
    "To combine the variances, the squared standard deviations are divided by the sample size and summed, then we take the square root of the sum.  This is the standard error of the difference, representing the variance in the sample differences around the population difference, and you can see the formula written below.\n",
    "\n",
    "$$se=\\sqrt{\\frac {s_1^2 } n_1 + \\frac {s_2^2 } n_2}$$\n",
    "\n",
    "The difference divided by the standard error is a ratio called the **t-value**.  T-values put the difference in context by telling us how large the difference is relative to the amount of variance, or noise, in the data.  In very noisy data, small differences are more likely to result from the noise rather than from real differences between the population means.\n",
    "\n",
    "$$t-value=\\frac{\\bar y}{se}$$\n",
    "\n",
    "Given a t-value, we can calculate the probability that a t-value at least this extreme would occur by chance, called a **p-value**.  This tells us how likely it is that we would get the sampling data we observe if the two population means were not, in fact, different from one another.\n",
    "The p-value runs between 0 (It is impossible to get a difference of this size or greater in the absence of a real population difference) and 1 (we will always get a difference of this size or greater in the absence of a real population difference).  The lower the p-value, the more confidently we can conclude that there is a meaningful difference between the means of the two groups in the population.\n",
    "\n",
    "Let’s spin up some population data and give this a try. We’ll make two variables to represent two different populations: one a binomially distributed variable with p of 0.2, n=10, and 10000 datapoints (`group1`), and another binomially distributed variable with p of 0.5, n=10, and 10000 datapoints (`group2`). The true population difference between the two populations is 0.3.\n"
   ]
  },
  {
   "cell_type": "code",
   "execution_count": 1,
   "metadata": {},
   "outputs": [],
   "source": [
    "import numpy as np\n",
    "import pandas as pd\n",
    "import scipy\n",
    "import matplotlib.pyplot as plt\n",
    "%matplotlib inline"
   ]
  },
  {
   "cell_type": "code",
   "execution_count": 2,
   "metadata": {},
   "outputs": [
    {
     "data": {
      "image/png": "[encoded data removed]",
      "text/plain": [
       "<Figure size 432x288 with 1 Axes>"
      ]
     },
     "metadata": {
      "needs_background": "light"
     },
     "output_type": "display_data"
    }
   ],
   "source": [
    "pop1 = np.random.binomial(10, 0.2, 10000)\n",
    "pop2 = np.random.binomial(10,0.5, 10000) \n",
    "\n",
    "# Let’s make histograms for the two groups. \n",
    "\n",
    "plt.hist(pop1, alpha=0.6, label='Population 1') \n",
    "plt.hist(pop2, alpha=0.6, label='Population 2') \n",
    "plt.legend(loc='upper right') \n",
    "plt.show()"
   ]
  },
  {
   "cell_type": "markdown",
   "metadata": {},
   "source": [
    "The populations are not normal. Next, take a sample of 100 from each population and plot them."
   ]
  },
  {
   "cell_type": "code",
   "execution_count": 3,
   "metadata": {},
   "outputs": [
    {
     "data": {
      "image/png": "[encoded data removed]",
      "text/plain": [
       "<Figure size 432x288 with 1 Axes>"
      ]
     },
     "metadata": {
      "needs_background": "light"
     },
     "output_type": "display_data"
    }
   ],
   "source": [
    "sample1 = np.random.choice(pop1, 100, replace=True)\n",
    "sample2 = np.random.choice(pop2, 100, replace=True)\n",
    "\n",
    "plt.hist(sample1, alpha=0.5, label='sample 1') \n",
    "plt.hist(sample2, alpha=0.5, label='sample 2') \n",
    "plt.legend(loc='upper right') \n",
    "plt.show()"
   ]
  },
  {
   "cell_type": "markdown",
   "metadata": {},
   "source": [
    "Next, compute the means  and standard deviations for each group.  Note that the mean represents `n * p`: the probability of an event occurring (`p`) multiplied by the number of repetitions (`n`).  To get p for each sample, divide by `n`, which we set to 10 when generating the populations."
   ]
  },
  {
   "cell_type": "code",
   "execution_count": 4,
   "metadata": {},
   "outputs": [
    {
     "name": "stdout",
     "output_type": "stream",
     "text": [
      "1.9\n",
      "4.9\n",
      "1.1532562594670794\n",
      "1.5905973720586868\n",
      "3.0000000000000004\n"
     ]
    }
   ],
   "source": [
    "print(sample1.mean())\n",
    "print(sample2.mean())\n",
    "print(sample1.std())\n",
    "print(sample2.std())\n",
    "\n",
    "# Compute the difference between the two sample means.\n",
    "diff=sample2.mean( ) -sample1.mean()\n",
    "print(diff)"
   ]
  },
  {
   "cell_type": "markdown",
   "metadata": {},
   "source": [
    "Next, calculate the standard error of the sampling distribution of the difference of the means.  First, create an array with the size of each variable and another with the standard deviation of each variable.  In this case, the sizes are already known since you provided them earlier, but let’s calculate them anyway."
   ]
  },
  {
   "cell_type": "code",
   "execution_count": 5,
   "metadata": {},
   "outputs": [
    {
     "name": "stdout",
     "output_type": "stream",
     "text": [
      "15.269597956778629\n",
      "size is [100 100] and sd is [1.15325626 1.59059737] and diff_se is 0.19646882704388502\n"
     ]
    }
   ],
   "source": [
    "size = np.array([len(sample1), len(sample2)])\n",
    "sd = np.array([sample1.std(), sample2.std()])\n",
    "\n",
    "# The squared standard deviations are divided by the sample size and summed, then we take\n",
    "# the square root of the sum. \n",
    "diff_se = (sum(sd ** 2 / size)) ** 0.5  \n",
    "\n",
    "#The difference between the means divided by the standard error: T-value.  \n",
    "print(diff/diff_se)\n",
    "\n",
    "print('size is {} and sd is {} and diff_se is {}'.format(size, sd, diff_se))"
   ]
  },
  {
   "cell_type": "markdown",
   "metadata": {},
   "source": [
    "Finally, we import the function `ttest_ind` from scipy.stats, which calculates the t-value for us (called “statistic”) and also provides the probability calculation (called “pvalue”).  The t-value we calculated and the t-value given by the function may differ slightly after the hundredth decimal place.  This is due to differences of rounding caused by our multiple-step approach to calculating the t-value.  "
   ]
  },
  {
   "cell_type": "code",
   "execution_count": 6,
   "metadata": {},
   "outputs": [
    {
     "name": "stdout",
     "output_type": "stream",
     "text": [
      "Ttest_indResult(statistic=15.193058136663648, pvalue=4.0764582262739825e-34)\n"
     ]
    }
   ],
   "source": [
    "from scipy.stats import ttest_ind\n",
    "print(ttest_ind(sample2, sample1, equal_var=False))"
   ]
  },
  {
   "cell_type": "markdown",
   "metadata": {},
   "source": [
    "The t-value scales the difference between the two groups by the amount of variance in the two samples.  High variability in samples can lead to groups with means that look very different, but when we look at the histogram we see that most of the values in the sample groups overlap.  The groups are so variable that the distribution of values is quite broad.  For example, Olympic races are split into men’s races and women’s races because men are, on average, faster than women.  However, looking at [the distribution of running speed in the New York marathon](http://www.warandgender.com/wggendif.htm), where women and men run together, it’s clear that running speed has a high degree of variability, and that the distributions for men and women overlap a great deal.  \n",
    "\n",
    "One way to interpret a t-value is as the number of standard errors worth of space separating the group means.  A t-value of 2 would indicate that the means are two standard errors apart.\n",
    "\n",
    "The p-value associated with a t-test indicates the likelihood of getting a difference this large or larger in the samples if the populations were not different.  The smaller the p-value, the more likely the difference we see in the samples meaningfully reflects the populations.  The p-value in the test you did above is really small, so we can be fairly confident that the difference in means we see is due to a real difference in the population and not due to variability in the samples."
   ]
  },
  {
   "cell_type": "markdown",
   "metadata": {},
   "source": [
    "## Assignments\n",
    "\n",
    "Now that you have some code to create your own populations, sample them, and compare the samples to the populations, it's time to experiment. Using your own Jupyter notebook, or a copy of the notebook above, reproduce the `pop1` and `pop2` populations and samples using numpy's binomial function. Specifically, create two binomially distributed populations with `n` equal to `10` and size equal to `10000`. The p-value of `pop1` should be `0.2` and the p-value of `pop2` should be `0.5`. Using a sample size of `100`, calculate the means and standard deviations of your samples.\n",
    "\n",
    "For each of the following tasks, first write what you expect will happen, then code the changes and observe what does happen.  Discuss the results with your mentor.\n",
    "\n",
    " 1. Increase the size of your samples from 100 to 1000, then calculate the means and standard deviations for your new samples and create histograms for each.  Repeat this again, decreasing the size of your samples to 20.  What values change, and what remain the same?\n",
    "\n",
    " 2. Change the probability value (`p` in the [NumPy documentation](https://docs.scipy.org/doc/numpy/reference/generated/numpy.random.binomial.html)) for `pop1` to 0.3, then take new samples and compute the t-statistic and p-value.  Then change the probability value p for group 1 to 0.4, and do it again.  What changes, and why?\n",
    " \n",
    " 3. Change the distribution of your populations from binomial to a distribution of your choice.  Do the sample mean values still accurately represent the population values?\n",
    "\n",
    "When you've given it a try, you can find a sample solution [here](https://github.com/Thinkful-Ed/data-201-resources/blob/master/solutions/Prep%20course/3.3.7.ipynb).\n"
   ]
  },
  {
   "cell_type": "code",
   "execution_count": 7,
   "metadata": {},
   "outputs": [],
   "source": [
    "import numpy as np\n",
    "import pandas as pd\n",
    "import scipy\n",
    "import matplotlib.pyplot as plt\n",
    "%matplotlib inline"
   ]
  },
  {
   "cell_type": "code",
   "execution_count": 8,
   "metadata": {},
   "outputs": [],
   "source": [
    "pop1 = np.random.binomial(10, .2, 10000)\n",
    "pop2 = np.random.binomial(10, .5, 10000)"
   ]
  },
  {
   "cell_type": "code",
   "execution_count": 9,
   "metadata": {},
   "outputs": [],
   "source": [
    "samp1_frompop1 = np.random.choice(pop1, 100, replace=True)\n",
    "samp1_frompop2 = np.random.choice(pop2, 100, replace=True)"
   ]
  },
  {
   "cell_type": "code",
   "execution_count": 10,
   "metadata": {},
   "outputs": [
    {
     "name": "stdout",
     "output_type": "stream",
     "text": [
      "mean for first sample of pop1 is 1.96 and mean for first sample of pop2 is 4.61\n",
      "standard deviation for first sample of pop1 is 1.3410443691392169 and standard deviation for first sample of pop2 is 1.580474612260507\n"
     ]
    }
   ],
   "source": [
    "print('mean for first sample of pop1 is {} and mean for first sample of pop2 is {}'.format(samp1_frompop1.mean(), samp1_frompop2.mean()))\n",
    "print('standard deviation for first sample of pop1 is {} and standard deviation for first sample of pop2 is {}'.format(samp1_frompop1.std(), samp1_frompop2.std()))"
   ]
  },
  {
   "cell_type": "markdown",
   "metadata": {},
   "source": [
    "__Q. 1.__  \n",
    "__A:__ the mean should increase by roughly a factor of 10, to aproximately 20 and aprx. 50, since the sample means are computed as odds of positive result * number of draws. The first samples give us a small amount of information about the population means (e.g., the first mean for pop1 was 1.91, which is below 2, so the population mean is _slightly_ more likely than not to be below 2000). The larger sample size makes the mean more likely to be closer to the true mean.    \n",
    "\n",
    "Standard Deviations should decrease given the larger sample size.  \n",
    "\n",
    "For the smaller sample, the reverse will be true. "
   ]
  },
  {
   "cell_type": "code",
   "execution_count": 11,
   "metadata": {},
   "outputs": [],
   "source": [
    "sampn1000_frpop1 = np.random.choice(pop1, 1000, replace=True)\n",
    "sampn1000_frpop2 = np.random.choice(pop2, 1000, replace=True)"
   ]
  },
  {
   "cell_type": "code",
   "execution_count": 12,
   "metadata": {
    "scrolled": false
   },
   "outputs": [
    {
     "data": {
      "image/png": "[encoded data removed]",
      "text/plain": [
       "<Figure size 576x432 with 1 Axes>"
      ]
     },
     "metadata": {
      "needs_background": "light"
     },
     "output_type": "display_data"
    }
   ],
   "source": [
    "fig = plt.figure(figsize=(8,6))\n",
    "\n",
    "plt.hist(sampn1000_frpop1, orientation='vertical', color='r', alpha=.4, label=\"pop1\")\n",
    "plt.xlabel('Frequency')\n",
    "plt.ylabel('result')\n",
    "plt.title('Histogram for sample of 1,000')\n",
    "\n",
    "plt.hist(sampn1000_frpop2, orientation='vertical', color='g', alpha=.4, label=\"pop2\")\n",
    "plt.xlabel('Frequency')\n",
    "plt.ylabel('result')\n",
    "plt.title('Histogram for sample of 1,000')\n",
    "\n",
    "plt.legend(loc='right') \n",
    "\n",
    "plt.show(fig)"
   ]
  },
  {
   "cell_type": "code",
   "execution_count": 13,
   "metadata": {},
   "outputs": [
    {
     "name": "stdout",
     "output_type": "stream",
     "text": [
      "mean for second sample of pop1 is 2.063 and mean for first sample of pop2 is 4.885\n",
      "standard deviation for second sample of pop1 is 1.2825876188393524 and standard deviation for second sample of pop2 is 1.5433000356379183\n"
     ]
    }
   ],
   "source": [
    "print('mean for second sample of pop1 is {} and mean for first sample of pop2 is {}'.format(sampn1000_frpop1.mean(), sampn1000_frpop2.mean()))\n",
    "print('standard deviation for second sample of pop1 is {} and standard deviation for second sample of pop2 is {}'.format(sampn1000_frpop1.std(), sampn1000_frpop2.std()))"
   ]
  },
  {
   "cell_type": "markdown",
   "metadata": {},
   "source": [
    "I was mistaken about means for samples of binomial distributions: the n that the mean refers to is the number in the population, not the sample.  \n",
    "\n",
    "The st. dev.s did not decrease.\n",
    "\n",
    "\n",
    "# Issue 1:   \n",
    "\n",
    "Also, I would have assumed that for 10,000 in the population and sample of 1k the distribution would have bene much smoother - in the sample I have it shows there 0 observations of 5? I think I need to customize the bin sizing because looking at the actual values in the sample, it contains integers from 0-5."
   ]
  },
  {
   "cell_type": "code",
   "execution_count": 14,
   "metadata": {},
   "outputs": [],
   "source": [
    "sampn20_frpop1 = np.random.choice(pop1, 20, replace=True)\n",
    "sampn20_frpop2 = np.random.choice(pop2, 20, replace=True)"
   ]
  },
  {
   "cell_type": "code",
   "execution_count": 15,
   "metadata": {},
   "outputs": [
    {
     "data": {
      "image/png": "[encoded data removed]",
      "text/plain": [
       "<Figure size 720x432 with 2 Axes>"
      ]
     },
     "metadata": {
      "needs_background": "light"
     },
     "output_type": "display_data"
    }
   ],
   "source": [
    "fig2=plt.figure(figsize=(10,6))\n",
    "\n",
    "plt.subplot(1, 2, 1)\n",
    "plt.hist(sampn20_frpop1, color='r', alpha=.4, label='pop2')\n",
    "plt.ylabel('instances')\n",
    "plt.xlabel('value')\n",
    "plt.legend(loc='upper right')\n",
    "\n",
    "plt.subplot(1, 2, 2)\n",
    "plt.hist(sampn20_frpop2, color='g', alpha=.4, label='pop2')\n",
    "plt.legend(loc='upper right')\n",
    "plt.ylabel('instances')\n",
    "plt.xlabel('value')\n",
    "plt.show(fig2)"
   ]
  },
  {
   "cell_type": "code",
   "execution_count": 16,
   "metadata": {},
   "outputs": [
    {
     "name": "stdout",
     "output_type": "stream",
     "text": [
      "mean for second sample of pop1 is 2.4 and mean for first sample of pop2 is 4.35\n",
      "standard deviation for second sample of pop1 is 1.42828568570857 and standard deviation for second sample of pop2 is 1.0618380290797649\n"
     ]
    }
   ],
   "source": [
    "print('mean for second sample of pop1 is {} and mean for first sample of pop2 is {}'.format(sampn20_frpop1.mean(), sampn20_frpop2.mean()))\n",
    "print('standard deviation for second sample of pop1 is {} and standard deviation for second sample of pop2 is {}'.format(sampn20_frpop1.std(), sampn20_frpop2.std()))"
   ]
  },
  {
   "cell_type": "markdown",
   "metadata": {},
   "source": [
    "Note: The standard deviation are smaller than I was expecting compared to the last sample. "
   ]
  },
  {
   "cell_type": "markdown",
   "metadata": {},
   "source": [
    "#### Q. 2 Change the probability value (p in the NumPy documentation) for pop1 to 0.3, then take new samples and compute the t-statistic and p-value. Then change the probability value p for group 1 to 0.4, and do it again. What changes, and why?"
   ]
  },
  {
   "cell_type": "code",
   "execution_count": 17,
   "metadata": {},
   "outputs": [],
   "source": [
    "pop1_q2a = np.random.binomial(10, .3, 10000)\n",
    "pop2_q2a = np.random.binomial(10, .5, 10000)\n"
   ]
  },
  {
   "cell_type": "code",
   "execution_count": 18,
   "metadata": {},
   "outputs": [],
   "source": [
    "sampn1000_frpop1_q2a = np.random.choice(pop1_q2a, 1000)\n",
    "sampn1000_frpop2_q2a = np.random.choice(pop2_q2a, 1000)\n"
   ]
  },
  {
   "cell_type": "code",
   "execution_count": 19,
   "metadata": {},
   "outputs": [
    {
     "data": {
      "text/plain": [
       "Ttest_indResult(statistic=-27.74062072381915, pvalue=1.7653492691291062e-143)"
      ]
     },
     "execution_count": 19,
     "metadata": {},
     "output_type": "execute_result"
    }
   ],
   "source": [
    "ttest_ind(sampn1000_frpop1_q2a, sampn1000_frpop2_q2a, equal_var=False)"
   ]
  },
  {
   "cell_type": "code",
   "execution_count": 20,
   "metadata": {},
   "outputs": [],
   "source": [
    "pop1_q2b = np.random.binomial(10, .4, 10000)\n",
    "pop2_q2b = np.random.binomial(10, .5, 10000)\n"
   ]
  },
  {
   "cell_type": "code",
   "execution_count": 21,
   "metadata": {},
   "outputs": [],
   "source": [
    "sampn1000_frpop1_q2b = np.random.choice(pop1_q2b, 1000)\n",
    "sampn1000_frpop2_q2b = np.random.choice(pop2_q2b, 1000)\n"
   ]
  },
  {
   "cell_type": "code",
   "execution_count": 22,
   "metadata": {},
   "outputs": [
    {
     "data": {
      "text/plain": [
       "Ttest_indResult(statistic=-14.952158720069237, pvalue=5.3988423091907015e-48)"
      ]
     },
     "execution_count": 22,
     "metadata": {},
     "output_type": "execute_result"
    }
   ],
   "source": [
    "ttest_ind(sampn1000_frpop1_q2b, sampn1000_frpop2_q2b, equal_var=False)"
   ]
  },
  {
   "cell_type": "markdown",
   "metadata": {},
   "source": [
    "A: The t-statistic become much smaller. For the second set of populations, the means were much closer so there was more overlap in between the distribution. The new value's absolute value is much smaller, but still of a good size. Similarly, the absolute value of the p-value became much smaller, though still very significant.\n",
    "\n",
    "## Issue 2\n",
    "__note: 3. Using variable names in braces in the print statement... If you only want one of the two values a function returns?__ \n",
    "\n",
    "As per the cell above, ttest_ind returns two values, but how do i only print statistic? cell below has what I tried."
   ]
  },
  {
   "cell_type": "code",
   "execution_count": 23,
   "metadata": {},
   "outputs": [
    {
     "ename": "KeyError",
     "evalue": "'statistic'",
     "output_type": "error",
     "traceback": [
      "\u001b[1;31m------------------------------------------------------------------\u001b[0m",
      "\u001b[1;31mKeyError\u001b[0m                         Traceback (most recent call last)",
      "\u001b[1;32m<ipython-input-23-bf431fc175ab>\u001b[0m in \u001b[0;36m<module>\u001b[1;34m\u001b[0m\n\u001b[1;32m----> 1\u001b[1;33m \u001b[0mprint\u001b[0m\u001b[1;33m(\u001b[0m\u001b[1;34m'the t value is {statistic}'\u001b[0m\u001b[1;33m.\u001b[0m\u001b[0mformat\u001b[0m\u001b[1;33m(\u001b[0m\u001b[0mttest_ind\u001b[0m\u001b[1;33m(\u001b[0m\u001b[0msampn1000_frpop1_q2a\u001b[0m\u001b[1;33m,\u001b[0m \u001b[0msampn1000_frpop2_q2a\u001b[0m\u001b[1;33m,\u001b[0m \u001b[0mequal_var\u001b[0m\u001b[1;33m=\u001b[0m\u001b[1;32mFalse\u001b[0m\u001b[1;33m)\u001b[0m\u001b[1;33m)\u001b[0m\u001b[1;33m)\u001b[0m\u001b[1;33m\u001b[0m\u001b[1;33m\u001b[0m\u001b[0m\n\u001b[0m",
      "\u001b[1;31mKeyError\u001b[0m: 'statistic'"
     ]
    }
   ],
   "source": [
    "print('the t value is {statistic}'.format(ttest_ind(sampn1000_frpop1_q2a, sampn1000_frpop2_q2a, equal_var=False)))"
   ]
  },
  {
   "cell_type": "markdown",
   "metadata": {},
   "source": [
    "#### Q3. Change the distribution of your populations from binomial to a distribution of your choice. Do the sample mean values still accurately represent the population values?"
   ]
  },
  {
   "cell_type": "code",
   "execution_count": 24,
   "metadata": {},
   "outputs": [],
   "source": [
    "pop1_q3 = np.random.exponential(2, 10000)\n",
    "pop2_q3 = np.random.exponential(4.5, 10000)"
   ]
  },
  {
   "cell_type": "code",
   "execution_count": 25,
   "metadata": {},
   "outputs": [],
   "source": [
    "sampn1000_frpop1_q3 = np.random.choice(pop1_q3, 1000)\n",
    "sampn1000_frpop2_q3 = np.random.choice(pop2_q3, 1000)"
   ]
  },
  {
   "cell_type": "code",
   "execution_count": 26,
   "metadata": {},
   "outputs": [
    {
     "data": {
      "image/png": "[encoded data removed]",
      "text/plain": [
       "<Figure size 720x432 with 1 Axes>"
      ]
     },
     "metadata": {
      "needs_background": "light"
     },
     "output_type": "display_data"
    }
   ],
   "source": [
    "plt.figure(figsize=(10,6))\n",
    "plt.hist(sampn1000_frpop1_q3, alpha=.4, color='m', label='pop1')\n",
    "\n",
    "plt.hist(sampn1000_frpop2_q3, alpha=.3, color='g', label='pop2')\n",
    "plt.legend(loc='upper right')\n",
    "plt.axvline(sampn1000_frpop1_q3.mean(), color='m', linestyle='dashed', linewidth=1)\n",
    "plt.axvline(sampn1000_frpop2_q3.mean(), color='g', linestyle='dashed', linewidth=1)\n",
    "\n",
    "plt.show()"
   ]
  },
  {
   "cell_type": "markdown",
   "metadata": {},
   "source": [
    "A: I think the sample means do represent the population values, but in a different way since the distribution is different; they are not indentical but can be used for comparing the populations. "
   ]
  },
  {
   "cell_type": "code",
   "execution_count": null,
   "metadata": {},
   "outputs": [],
   "source": []
  }
 ],
 "metadata": {
  "kernelspec": {
   "display_name": "Python 3",
   "language": "python",
   "name": "python3"
  },
  "language_info": {
   "codemirror_mode": {
    "name": "ipython",
    "version": 3
   },
   "file_extension": ".py",
   "mimetype": "text/x-python",
   "name": "python",
   "nbconvert_exporter": "python",
   "pygments_lexer": "ipython3",
   "version": "3.7.3"
  }
 },
 "nbformat": 4,
 "nbformat_minor": 2
}

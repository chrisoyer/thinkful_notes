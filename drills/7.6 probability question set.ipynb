{
 "cells": [
  {
   "cell_type": "markdown",
   "metadata": {},
   "source": [
    "1. Calculate the probability of flipping a balanced coin four times and getting each pattern: HTTH, HHHH and TTHH.  \n",
    "A:  These are independent, so:\n",
    "(1/2)^4  \n",
    "= 1/16  \n",
    "2. If a list of people has 24 women and 21 men, then the probability of choosing a man from the list is 21/45. What is the probability of not choosing a man?  \n",
    "A:\n",
    "(45-21)/45  \n",
    "24/45  \n",
    "\n",
    "3. The probability that Bernice will travel by plane sometime in the next year is 10%. The probability of a plane crash at any time is .005%. What is the probability that Bernice will be in a plane crash sometime in the next year?  \n",
    "A:\n",
    "P(Bernice_by_plane) = .10<br>.\n",
    "P(Plane_crashes) = .00005<br>.\n",
    "P(Bernice_by_plane ∩ Plane_crashes) = P(Bernice_by_plane)\\*P(Plane_crashes)<br>.\n",
    "=.1*.00005<br>.\n",
    "=.000005<br>.\n",
    "<br>.\n",
    "4. A data scientist wants to study the behavior of users on the company website. Each time a user clicks on a link on the website, there is a 5% chance that the user will be asked to complete a short survey about their behavior on the website. The data scientist uses the survey data to conclude that, on average, users spend 15 minutes surfing the company website before moving on to other things. What is wrong with this conclusion?  \n",
    "A: The sample is biased towards including people who click around the website longer, as they are put into the 5% chance of survey prompt more times than other users.\n",
    "\n"
   ]
  },
  {
   "cell_type": "markdown",
   "metadata": {},
   "source": [
    "SET 2\n",
    "\n",
    "1. be positive:  \n",
    "guess: 10.01%  \n",
    "answer:\n",
    "false positives + true positives\n"
   ]
  },
  {
   "cell_type": "code",
   "execution_count": 5,
   "metadata": {},
   "outputs": [
    {
     "data": {
      "text/plain": [
       "0.1044"
      ]
     },
     "execution_count": 5,
     "metadata": {},
     "output_type": "execute_result"
    }
   ],
   "source": [
    "answer = .10*.995 + .98*.005\n",
    "answer"
   ]
  },
  {
   "cell_type": "markdown",
   "metadata": {},
   "source": [
    "2. Correctly diagnose suffers:  \n",
    "guess:  \n",
    "99%  \n",
    "answer = P(_true positive_|_has Thripshaw's_)  \n",
    "answer = 98%  \n",
    "This is just given in the first line..."
   ]
  },
  {
   "cell_type": "markdown",
   "metadata": {},
   "source": [
    "3. Correctly identify non-sufferers:  \n",
    "90%  \n",
    "answer = P(Negative result|~Thripshaw's)\n",
    "90%"
   ]
  },
  {
   "cell_type": "markdown",
   "metadata": {},
   "source": [
    "4. Misclassify a person:\n",
    "guess: 9.1%  \n",
    "answer:\n",
    "P(Thripshaw's) \\*P(false negative) + P(~Thripshaw's) \\* P(false positive)  \n"
   ]
  },
  {
   "cell_type": "code",
   "execution_count": 4,
   "metadata": {},
   "outputs": [
    {
     "data": {
      "text/plain": [
       "0.09960000000000001"
      ]
     },
     "execution_count": 4,
     "metadata": {},
     "output_type": "execute_result"
    }
   ],
   "source": [
    "answer = .005 * .02 + .995 * .1\n",
    "answer"
   ]
  },
  {
   "cell_type": "code",
   "execution_count": null,
   "metadata": {},
   "outputs": [],
   "source": []
  }
 ],
 "metadata": {
  "kernelspec": {
   "display_name": "Python 3",
   "language": "python",
   "name": "python3"
  },
  "language_info": {
   "codemirror_mode": {
    "name": "ipython",
    "version": 3
   },
   "file_extension": ".py",
   "mimetype": "text/x-python",
   "name": "python",
   "nbconvert_exporter": "python",
   "pygments_lexer": "ipython3",
   "version": "3.7.3"
  }
 },
 "nbformat": 4,
 "nbformat_minor": 2
}

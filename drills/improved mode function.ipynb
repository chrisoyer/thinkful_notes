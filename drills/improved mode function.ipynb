{
 "cells": [
  {
   "cell_type": "code",
   "execution_count": 1,
   "metadata": {},
   "outputs": [],
   "source": [
    "import numpy as np\n",
    "import pandas as pd"
   ]
  },
  {
   "cell_type": "code",
   "execution_count": 6,
   "metadata": {},
   "outputs": [],
   "source": [
    "rawdata={'name': ['Same', 'Jose', 'Oliver', 'Bertrice', 'Jen'],\n",
    "        'age': [20, 20, 30, 30, 36]}\n",
    "\n",
    "df=pd.DataFrame(rawdata)"
   ]
  },
  {
   "cell_type": "code",
   "execution_count": 8,
   "metadata": {},
   "outputs": [],
   "source": [
    "#updated function to return all modes\n",
    "def mode_f(dataset, mode={}):\n",
    "\n",
    "    # Generate a list of unique elements along with how often they occur.\n",
    "    [values, counts] = np.unique(dataset, return_counts=True)\n",
    "    \n",
    "    # The location in the values list of the most-frequently-occurring element.\n",
    "    ind = np.argmax(counts)\n",
    "    \n",
    "    #see if value found is as large as known known mode. \n",
    "    try:\n",
    "        counts[ind] == list(mode.keys())[0]\n",
    "\n",
    "        #add new mode found to list\n",
    "        try: mode.append(values[ind])\n",
    "        except: mode = values[ind]\n",
    "    # Base Case: if value found is not as high, no more modes exist\n",
    "    except:\n",
    "        return mode\n",
    "        \n",
    "    #remove from dataset so next mode can be found\n",
    "    del values[ind]\n",
    "    del counts[ind]\n",
    "    \n",
    "    #recursively call function to fin next mode\n",
    "    mode_f(dataset, mode)\n",
    "    \n"
   ]
  },
  {
   "cell_type": "code",
   "execution_count": 9,
   "metadata": {},
   "outputs": [
    {
     "data": {
      "text/plain": [
       "{}"
      ]
     },
     "execution_count": 9,
     "metadata": {},
     "output_type": "execute_result"
    }
   ],
   "source": [
    "#call function    \n",
    "mode_f(df['age'])    "
   ]
  },
  {
   "cell_type": "code",
   "execution_count": null,
   "metadata": {},
   "outputs": [],
   "source": []
  }
 ],
 "metadata": {
  "kernelspec": {
   "display_name": "Python 3",
   "language": "python",
   "name": "python3"
  },
  "language_info": {
   "codemirror_mode": {
    "name": "ipython",
    "version": 3
   },
   "file_extension": ".py",
   "mimetype": "text/x-python",
   "name": "python",
   "nbconvert_exporter": "python",
   "pygments_lexer": "ipython3",
   "version": "3.7.3"
  }
 },
 "nbformat": 4,
 "nbformat_minor": 2
}

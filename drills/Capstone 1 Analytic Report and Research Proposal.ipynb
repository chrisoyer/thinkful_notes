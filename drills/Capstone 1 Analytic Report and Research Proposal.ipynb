{
 "cells": [
  {
   "cell_type": "markdown",
   "metadata": {},
   "source": [
    "### Requirements for report:  \n",
    "    Your Report should accomplish these three goals:\n",
    "\n",
    "-  Describe your dataset. Describe and explore your dataset in the initial section of your Report. What does your data contain and what is its background? Where does it come from? Why is it interesting or significant? Conduct summary statistics and produce visualizations for the particular variables from the dataset that you will use.\n",
    "\n",
    "- Ask and answer analytic questions. Ask _three_ analytic questions and answer each one with a combination of statistics and visualizations. These analytic questions can focus on individuals behaviors or comparisons of the population.\n",
    "\n",
    "-  Propose further research. Lastly, make a proposal for a realistic future research project on this dataset that would use some data science techniques you'd like to learn in the bootcamp. Just like your earlier questions, your research proposal should present one or more clear questions. Then you should describe the techniques you would apply in order to arrive at an answer."
   ]
  },
  {
   "cell_type": "markdown",
   "metadata": {},
   "source": [
    "### Report guidelines  \n",
    "__Length.__ Your Report should be three to five pages long with visualizations. Short and clear is better than long and opaque.  \n",
    "__Structure.__ Pay attention to the narrative structure of your Report. Each section should flow into the next and make a logical, readable text. Don't simply create a list of bullet points or present code without explanation.  \n",
    "__Format.__ The best format for your Report is an interactive Jupyter notebook ipynb file. However, you are welcome to use any format you like, so long as you're able to include visualizations and include (or link to) the code you use to generate your visualizations and summary statistics. If a Jupyter notebook would be too much overhead or unduly distract you from creating good content, markdown files (hosted perhaps on GitHub or as a gist), blog posts, or even Word or Google documents are acceptable."
   ]
  },
  {
   "cell_type": "markdown",
   "metadata": {},
   "source": [
    "Tasks:\n",
    "    \n",
    "    - Find data source  \n",
    "    - decide what questions could be asked  \n",
    "    - use statistics to answer questions  \n",
    "    - draw graphs to clarify answers  \n",
    "    - proof code and text"
   ]
  },
  {
   "cell_type": "markdown",
   "metadata": {},
   "source": [
    "ideas:\n",
    "   * look at kaggle  \n",
    "   * family friends coworkers  \n",
    "   * something that is interesting for you, but with a twist  \n",
    "    \n"
   ]
  },
  {
   "cell_type": "markdown",
   "metadata": {},
   "source": [
    "* could marry spotify and weather dataset\n",
    "* dog data?  \n",
    "* last.fm data?"
   ]
  },
  {
   "cell_type": "markdown",
   "metadata": {},
   "source": [
    "   * focus on readme file on the github\n",
    "   * make the github great and show what you're going to work on next - shows project managment skillz\n",
    "   \n",
    "look at local industries for what kind of things companies are doing - doing what they want you to do shows you could start on their work right away"
   ]
  },
  {
   "cell_type": "code",
   "execution_count": 2,
   "metadata": {},
   "outputs": [
    {
     "name": "stdout",
     "output_type": "stream",
     "text": [
      "Collecting matplotlib_venn\n",
      "  Downloading https://files.pythonhosted.org/packages/c7/05/e084c8331ff7ab8b0e01c7cdb7c18854852340bf3096193510c902ffa1f1/matplotlib-venn-0.11.5.zip (40kB)\n",
      "Requirement already satisfied: matplotlib in c:\\users\\chris\\appdata\\local\\programs\\python\\python37-32\\lib\\site-packages (from matplotlib_venn) (3.0.3)\n",
      "Requirement already satisfied: numpy in c:\\users\\chris\\appdata\\local\\programs\\python\\python37-32\\lib\\site-packages (from matplotlib_venn) (1.16.2)\n",
      "Requirement already satisfied: scipy in c:\\users\\chris\\appdata\\local\\programs\\python\\python37-32\\lib\\site-packages (from matplotlib_venn) (1.2.1)\n",
      "Requirement already satisfied: cycler>=0.10 in c:\\users\\chris\\appdata\\local\\programs\\python\\python37-32\\lib\\site-packages (from matplotlib->matplotlib_venn) (0.10.0)\n",
      "Requirement already satisfied: kiwisolver>=1.0.1 in c:\\users\\chris\\appdata\\local\\programs\\python\\python37-32\\lib\\site-packages (from matplotlib->matplotlib_venn) (1.0.1)\n",
      "Requirement already satisfied: python-dateutil>=2.1 in c:\\users\\chris\\appdata\\local\\programs\\python\\python37-32\\lib\\site-packages (from matplotlib->matplotlib_venn) (2.8.0)\n",
      "Requirement already satisfied: pyparsing!=2.0.4,!=2.1.2,!=2.1.6,>=2.0.1 in c:\\users\\chris\\appdata\\local\\programs\\python\\python37-32\\lib\\site-packages (from matplotlib->matplotlib_venn) (2.4.0)\n",
      "Requirement already satisfied: six in c:\\users\\chris\\appdata\\local\\programs\\python\\python37-32\\lib\\site-packages (from cycler>=0.10->matplotlib->matplotlib_venn) (1.12.0)\n",
      "Requirement already satisfied: setuptools in c:\\users\\chris\\appdata\\local\\programs\\python\\python37-32\\lib\\site-packages (from kiwisolver>=1.0.1->matplotlib->matplotlib_venn) (40.8.0)\n",
      "Installing collected packages: matplotlib-venn\n",
      "  Running setup.py install for matplotlib-venn: started\n",
      "    Running setup.py install for matplotlib-venn: finished with status 'done'\n",
      "Successfully installed matplotlib-venn-0.11.5\n",
      "Note: you may need to restart the kernel to use updated packages.\n"
     ]
    },
    {
     "name": "stderr",
     "output_type": "stream",
     "text": [
      "You are using pip version 19.0.3, however version 19.1.1 is available.\n",
      "You should consider upgrading via the 'python -m pip install --upgrade pip' command.\n"
     ]
    }
   ],
   "source": [
    "pip install matplotlib_venn"
   ]
  },
  {
   "cell_type": "code",
   "execution_count": null,
   "metadata": {},
   "outputs": [],
   "source": []
  }
 ],
 "metadata": {
  "kernelspec": {
   "display_name": "Python 3",
   "language": "python",
   "name": "python3"
  },
  "language_info": {
   "codemirror_mode": {
    "name": "ipython",
    "version": 3
   },
   "file_extension": ".py",
   "mimetype": "text/x-python",
   "name": "python",
   "nbconvert_exporter": "python",
   "pygments_lexer": "ipython3",
   "version": "3.7.3"
  }
 },
 "nbformat": 4,
 "nbformat_minor": 2
}

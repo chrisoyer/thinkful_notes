{
 "cells": [
  {
   "cell_type": "markdown",
   "metadata": {},
   "source": [
    "__Data Source: Amsterdam availability data scraped from AirBnB on December 24th. Question: What are the popular neighborhoods in Amsterdam?__\n",
    "\n",
    "This will be influenced by holiday travel. This data would be specific to what Amsterdam neighborhoods people sleep in during the Christmas holiday. You might be able to check other data sources to see if accomodations are in 'popular' neighborhoods for other ways of defining popular, such as where people eat or sightsee. \n",
    "\n",
    "__Data Source: Mental health services use on September 12, 2001 in San Francisco, CA and New York City, NY. Question: How do patterns of mental health service use vary between cities?__  \n",
    "\n",
    "NYC, and to a lesser degree SF usage would be affected by the WTC attack the day prior. One could pick another day to pull data for, or making this question about how terrorism affects local vs national mental health service use.\n",
    "\n",
    "\n",
    "__Data Source: Armenian Pub Survey. Question: What are the most common reasons Armenians visit local pubs?__ \n",
    "It appears the answers are in english, and was conducted by the American School in Armenia. This would limit responses to those who speak English, which is probably not universal in Armenia.  \n",
    "It is not clear how the data was collected, and that could bias who responded: online (biased to those able to go online and who spend more time online);  \n",
    "phone poll (biased to those who pick up and respond to random phone callers)  \n",
    "etc.  \n",
    "Most respondants are students, which is probably a subpopulation who frequents pubs more than the average Armenian, but this data set probably vastly overrepresents students. "
   ]
  },
  {
   "cell_type": "code",
   "execution_count": null,
   "metadata": {},
   "outputs": [],
   "source": []
  }
 ],
 "metadata": {
  "kernelspec": {
   "display_name": "Python 3",
   "language": "python",
   "name": "python3"
  },
  "language_info": {
   "codemirror_mode": {
    "name": "ipython",
    "version": 3
   },
   "file_extension": ".py",
   "mimetype": "text/x-python",
   "name": "python",
   "nbconvert_exporter": "python",
   "pygments_lexer": "ipython3",
   "version": "3.7.3"
  }
 },
 "nbformat": 4,
 "nbformat_minor": 2
}

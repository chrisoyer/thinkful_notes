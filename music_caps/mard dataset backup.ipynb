{
 "cells": [
  {
   "cell_type": "code",
   "execution_count": null,
   "metadata": {},
   "outputs": [],
   "source": [
    "#load mard dataset - part 1, review records\n",
    "file_loc = 'C:/Users/Chris/Documents/thinkful/thinkful_notes/music_caps/mard/mard/mard_reviews.json'\n",
    "\n",
    "mard_df = pd.DataFrame()\n",
    "for mard_chunk in pd.read_json(file_loc, lines=True, chunksize=1000):\n",
    "    mard_df = pd.concat([mard_df, mard_chunk])"
   ]
  },
  {
   "cell_type": "code",
   "execution_count": null,
   "metadata": {},
   "outputs": [],
   "source": [
    "#load mard part 2 - Album & artist table\n",
    "file_loc2 = 'C:/Users/Chris/Documents/thinkful/thinkful_notes/music_caps/mard/mard/mard_metadata.json'\n",
    "\n",
    "mard_meta_df = pd.DataFrame()\n",
    "for mard_chunk in pd.read_json(file_loc2, lines=True, chunksize=1000):\n",
    "    mard_meta_df = pd.concat([mard_meta_df, mard_chunk], sort=True)"
   ]
  },
  {
   "cell_type": "code",
   "execution_count": 1,
   "metadata": {},
   "outputs": [
    {
     "ename": "NameError",
     "evalue": "name 'mard_df' is not defined",
     "output_type": "error",
     "traceback": [
      "\u001b[1;31m------------------------------------------------------------------\u001b[0m",
      "\u001b[1;31mNameError\u001b[0m                        Traceback (most recent call last)",
      "\u001b[1;32m<ipython-input-1-f20ab6a501e3>\u001b[0m in \u001b[0;36m<module>\u001b[1;34m\u001b[0m\n\u001b[0;32m      2\u001b[0m \u001b[1;33m\u001b[0m\u001b[0m\n\u001b[0;32m      3\u001b[0m \u001b[1;31m#collapse reviews\u001b[0m\u001b[1;33m\u001b[0m\u001b[1;33m\u001b[0m\u001b[1;33m\u001b[0m\u001b[0m\n\u001b[1;32m----> 4\u001b[1;33m \u001b[0mmard_review_summ_df\u001b[0m \u001b[1;33m=\u001b[0m \u001b[0mmard_df\u001b[0m\u001b[1;33m.\u001b[0m\u001b[0mgroupby\u001b[0m\u001b[1;33m(\u001b[0m\u001b[1;34m'amazon-id'\u001b[0m\u001b[1;33m)\u001b[0m\u001b[1;33m[\u001b[0m\u001b[1;34m'overall'\u001b[0m\u001b[1;33m]\u001b[0m\u001b[1;33m.\u001b[0m\u001b[0magg\u001b[0m\u001b[1;33m(\u001b[0m\u001b[1;33m{\u001b[0m\u001b[1;34m'mean_score'\u001b[0m\u001b[1;33m:\u001b[0m \u001b[0mnp\u001b[0m\u001b[1;33m.\u001b[0m\u001b[0mmean\u001b[0m\u001b[1;33m}\u001b[0m\u001b[1;33m)\u001b[0m\u001b[1;33m\u001b[0m\u001b[1;33m\u001b[0m\u001b[0m\n\u001b[0m",
      "\u001b[1;31mNameError\u001b[0m: name 'mard_df' is not defined"
     ]
    }
   ],
   "source": [
    "#Collapse Mard reviews to array of review numbers\n",
    "\n",
    "#collapse reviews\n",
    "mard_review_summ_df = mard_df.groupby('amazon-id')['overall'].agg({'mean_score': np.mean})"
   ]
  },
  {
   "cell_type": "code",
   "execution_count": null,
   "metadata": {},
   "outputs": [],
   "source": [
    "#join summarized mard review scores to artist/album names\n",
    "mard_meta_df = pd.merge(mard_meta_df, mard_review_summ_df, on='amazon-id', how='inner')\n"
   ]
  },
  {
   "cell_type": "code",
   "execution_count": null,
   "metadata": {},
   "outputs": [],
   "source": []
  }
 ],
 "metadata": {
  "kernelspec": {
   "display_name": "Python 3",
   "language": "python",
   "name": "python3"
  },
  "language_info": {
   "codemirror_mode": {
    "name": "ipython",
    "version": 3
   },
   "file_extension": ".py",
   "mimetype": "text/x-python",
   "name": "python",
   "nbconvert_exporter": "python",
   "pygments_lexer": "ipython3",
   "version": "3.7.3"
  }
 },
 "nbformat": 4,
 "nbformat_minor": 2
}

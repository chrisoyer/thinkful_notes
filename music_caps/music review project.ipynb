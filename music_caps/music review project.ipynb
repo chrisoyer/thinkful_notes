{
 "cells": [
  {
   "cell_type": "markdown",
   "metadata": {},
   "source": [
    "# Music Reviews:\n",
    "\n",
    "## Intro\n",
    "This report will look at several music review publishers. What music do they focus on? Although they both use a 0-10 numeric scoring system, does one use give higher average marks?\n"
   ]
  },
  {
   "cell_type": "code",
   "execution_count": 1,
   "metadata": {},
   "outputs": [],
   "source": [
    "#importing modules \n",
    "import pandas as pd\n",
    "import numpy as np\n",
    "import matplotlib.pyplot as plt\n",
    "import scipy.stats\n",
    "import sqlite3\n",
    "import json"
   ]
  },
  {
   "cell_type": "markdown",
   "metadata": {},
   "source": [
    "## Importing and Cleaning Data\n",
    "\n",
    "### Fantano Reviews"
   ]
  },
  {
   "cell_type": "code",
   "execution_count": 2,
   "metadata": {},
   "outputs": [],
   "source": [
    "#loading first dataset\n",
    "fantano_reviewdf = pd.read_csv('C:/Users/Chris/Documents/thinkful/thinkful_notes/music_caps/fantano_reviews.csv', encoding='latin_1')"
   ]
  },
  {
   "cell_type": "code",
   "execution_count": 3,
   "metadata": {},
   "outputs": [
    {
     "data": {
      "text/html": [
       "<div>\n",
       "<style scoped>\n",
       "    .dataframe tbody tr th:only-of-type {\n",
       "        vertical-align: middle;\n",
       "    }\n",
       "\n",
       "    .dataframe tbody tr th {\n",
       "        vertical-align: top;\n",
       "    }\n",
       "\n",
       "    .dataframe thead th {\n",
       "        text-align: right;\n",
       "    }\n",
       "</style>\n",
       "<table border=\"1\" class=\"dataframe\">\n",
       "  <thead>\n",
       "    <tr style=\"text-align: right;\">\n",
       "      <th></th>\n",
       "      <th>Unnamed: 0</th>\n",
       "      <th>title</th>\n",
       "      <th>artist</th>\n",
       "      <th>review_date</th>\n",
       "      <th>review_type</th>\n",
       "      <th>score</th>\n",
       "      <th>word_score</th>\n",
       "      <th>best_tracks</th>\n",
       "      <th>worst_track</th>\n",
       "      <th>link</th>\n",
       "    </tr>\n",
       "  </thead>\n",
       "  <tbody>\n",
       "    <tr>\n",
       "      <th>0</th>\n",
       "      <td>0</td>\n",
       "      <td>Cosmogramma</td>\n",
       "      <td>Flying Lotus</td>\n",
       "      <td>2010-05-05</td>\n",
       "      <td>Album</td>\n",
       "      <td>8.0</td>\n",
       "      <td>NaN</td>\n",
       "      <td>[]</td>\n",
       "      <td>NaN</td>\n",
       "      <td>https://www.youtube.com/watch?v=KCuamde9Atc</td>\n",
       "    </tr>\n",
       "    <tr>\n",
       "      <th>1</th>\n",
       "      <td>1</td>\n",
       "      <td>Throat</td>\n",
       "      <td>Little Women</td>\n",
       "      <td>2010-05-09</td>\n",
       "      <td>Album</td>\n",
       "      <td>9.0</td>\n",
       "      <td>NaN</td>\n",
       "      <td>[]</td>\n",
       "      <td>NaN</td>\n",
       "      <td>https://www.youtube.com/watch?v=cndwH6byJnk</td>\n",
       "    </tr>\n",
       "    <tr>\n",
       "      <th>2</th>\n",
       "      <td>2</td>\n",
       "      <td>Latin</td>\n",
       "      <td>Holy Fuck</td>\n",
       "      <td>2010-05-10</td>\n",
       "      <td>Album</td>\n",
       "      <td>7.0</td>\n",
       "      <td>NaN</td>\n",
       "      <td>[]</td>\n",
       "      <td>NaN</td>\n",
       "      <td>https://www.youtube.com/watch?v=ySXryTlo9Ac</td>\n",
       "    </tr>\n",
       "    <tr>\n",
       "      <th>3</th>\n",
       "      <td>3</td>\n",
       "      <td>High Violet</td>\n",
       "      <td>The National</td>\n",
       "      <td>2010-05-11</td>\n",
       "      <td>Album</td>\n",
       "      <td>6.0</td>\n",
       "      <td>NaN</td>\n",
       "      <td>[]</td>\n",
       "      <td>NaN</td>\n",
       "      <td>https://www.youtube.com/watch?v=DuMUDldrG3g</td>\n",
       "    </tr>\n",
       "    <tr>\n",
       "      <th>4</th>\n",
       "      <td>4</td>\n",
       "      <td>At Echo Lake</td>\n",
       "      <td>Woods</td>\n",
       "      <td>2010-05-12</td>\n",
       "      <td>Album</td>\n",
       "      <td>8.0</td>\n",
       "      <td>NaN</td>\n",
       "      <td>[]</td>\n",
       "      <td>NaN</td>\n",
       "      <td>https://www.youtube.com/watch?v=ncrpTX6jR5w</td>\n",
       "    </tr>\n",
       "  </tbody>\n",
       "</table>\n",
       "</div>"
      ],
      "text/plain": [
       "   Unnamed: 0         title        artist review_date review_type  score  \\\n",
       "0           0   Cosmogramma  Flying Lotus  2010-05-05       Album    8.0   \n",
       "1           1        Throat  Little Women  2010-05-09       Album    9.0   \n",
       "2           2         Latin     Holy Fuck  2010-05-10       Album    7.0   \n",
       "3           3   High Violet  The National  2010-05-11       Album    6.0   \n",
       "4           4  At Echo Lake         Woods  2010-05-12       Album    8.0   \n",
       "\n",
       "  word_score best_tracks worst_track  \\\n",
       "0        NaN          []         NaN   \n",
       "1        NaN          []         NaN   \n",
       "2        NaN          []         NaN   \n",
       "3        NaN          []         NaN   \n",
       "4        NaN          []         NaN   \n",
       "\n",
       "                                          link  \n",
       "0  https://www.youtube.com/watch?v=KCuamde9Atc  \n",
       "1  https://www.youtube.com/watch?v=cndwH6byJnk  \n",
       "2  https://www.youtube.com/watch?v=ySXryTlo9Ac  \n",
       "3  https://www.youtube.com/watch?v=DuMUDldrG3g  \n",
       "4  https://www.youtube.com/watch?v=ncrpTX6jR5w  "
      ]
     },
     "execution_count": 3,
     "metadata": {},
     "output_type": "execute_result"
    }
   ],
   "source": [
    "fantano_reviewdf.head()"
   ]
  },
  {
   "cell_type": "code",
   "execution_count": 4,
   "metadata": {},
   "outputs": [
    {
     "data": {
      "text/plain": [
       "(157, 10)"
      ]
     },
     "execution_count": 4,
     "metadata": {},
     "output_type": "execute_result"
    }
   ],
   "source": [
    "#remove reviews with null values - if a review does not include a score, it is not considered.\n",
    "#check for nulls\n",
    "fantano_reviewdf[fantano_reviewdf['score'].isnull()].shape\n"
   ]
  },
  {
   "cell_type": "code",
   "execution_count": 5,
   "metadata": {},
   "outputs": [
    {
     "data": {
      "text/plain": [
       "(1577, 10)"
      ]
     },
     "execution_count": 5,
     "metadata": {},
     "output_type": "execute_result"
    }
   ],
   "source": [
    "#remove nulls\n",
    "fantano_reviewdf = fantano_reviewdf[fantano_reviewdf['score'].notnull()]\n",
    "fantano_reviewdf.shape"
   ]
  },
  {
   "cell_type": "markdown",
   "metadata": {},
   "source": [
    "### Import MARD dataset"
   ]
  },
  {
   "cell_type": "code",
   "execution_count": 6,
   "metadata": {},
   "outputs": [],
   "source": [
    "#load mard dataset - part 1, review records\n",
    "file_loc = 'C:/Users/Chris/Documents/thinkful/thinkful_notes/music_caps/mard/mard/mard_reviews.json'\n",
    "\n",
    "mard_df = pd.DataFrame()\n",
    "for mard_chunk in pd.read_json(file_loc, lines=True, chunksize=1000):\n",
    "    mard_df = pd.concat([mard_df, mard_chunk])"
   ]
  },
  {
   "cell_type": "code",
   "execution_count": 7,
   "metadata": {},
   "outputs": [
    {
     "data": {
      "text/html": [
       "<div>\n",
       "<style scoped>\n",
       "    .dataframe tbody tr th:only-of-type {\n",
       "        vertical-align: middle;\n",
       "    }\n",
       "\n",
       "    .dataframe tbody tr th {\n",
       "        vertical-align: top;\n",
       "    }\n",
       "\n",
       "    .dataframe thead th {\n",
       "        text-align: right;\n",
       "    }\n",
       "</style>\n",
       "<table border=\"1\" class=\"dataframe\">\n",
       "  <thead>\n",
       "    <tr style=\"text-align: right;\">\n",
       "      <th></th>\n",
       "      <th>amazon-id</th>\n",
       "      <th>helpful</th>\n",
       "      <th>overall</th>\n",
       "      <th>reviewText</th>\n",
       "      <th>reviewTime</th>\n",
       "      <th>reviewerID</th>\n",
       "      <th>reviewerName</th>\n",
       "      <th>summary</th>\n",
       "      <th>unixReviewTime</th>\n",
       "    </tr>\n",
       "  </thead>\n",
       "  <tbody>\n",
       "    <tr>\n",
       "      <th>0</th>\n",
       "      <td>0026197898</td>\n",
       "      <td>[2, 2]</td>\n",
       "      <td>5</td>\n",
       "      <td>Buy this album. Now.  Don't worry about the re...</td>\n",
       "      <td>12 17, 2012</td>\n",
       "      <td>A1OFY4ATO7D13W</td>\n",
       "      <td>Jacob Shepich \"Neo-Luddite\"</td>\n",
       "      <td>PITCHFORK Eat your heart out!</td>\n",
       "      <td>1355702400</td>\n",
       "    </tr>\n",
       "    <tr>\n",
       "      <th>1</th>\n",
       "      <td>0026197898</td>\n",
       "      <td>[1, 1]</td>\n",
       "      <td>5</td>\n",
       "      <td>The Sudden Passion did a great job with this o...</td>\n",
       "      <td>01 14, 2013</td>\n",
       "      <td>A2KH83L1F70QR8</td>\n",
       "      <td>John Stockton \"JLS\"</td>\n",
       "      <td>Americana from the Southlands</td>\n",
       "      <td>1358121600</td>\n",
       "    </tr>\n",
       "    <tr>\n",
       "      <th>2</th>\n",
       "      <td>0615205399</td>\n",
       "      <td>[0, 0]</td>\n",
       "      <td>5</td>\n",
       "      <td>I received this CD as a gift a few weeks ago f...</td>\n",
       "      <td>06 26, 2008</td>\n",
       "      <td>A1KGXC7IRLVJR3</td>\n",
       "      <td>Amy Elizabeth \"Amy\"</td>\n",
       "      <td>It really works!</td>\n",
       "      <td>1214438400</td>\n",
       "    </tr>\n",
       "    <tr>\n",
       "      <th>3</th>\n",
       "      <td>0615205399</td>\n",
       "      <td>[1, 1]</td>\n",
       "      <td>5</td>\n",
       "      <td>I am a beginner and have tried a couple of med...</td>\n",
       "      <td>06 25, 2008</td>\n",
       "      <td>A1BT6LQ9NY6RO3</td>\n",
       "      <td>Jasa Swaze \"Jasa Swaze\"</td>\n",
       "      <td>Change Your LIfe for the Better!</td>\n",
       "      <td>1214352000</td>\n",
       "    </tr>\n",
       "    <tr>\n",
       "      <th>4</th>\n",
       "      <td>0615205399</td>\n",
       "      <td>[1, 1]</td>\n",
       "      <td>5</td>\n",
       "      <td>This is coming from a person that didn't belie...</td>\n",
       "      <td>12 14, 2008</td>\n",
       "      <td>A206OKO2FE2IPL</td>\n",
       "      <td>J. Jenson</td>\n",
       "      <td>Mediation couldn't get any easier</td>\n",
       "      <td>1229212800</td>\n",
       "    </tr>\n",
       "  </tbody>\n",
       "</table>\n",
       "</div>"
      ],
      "text/plain": [
       "    amazon-id helpful  overall  \\\n",
       "0  0026197898  [2, 2]        5   \n",
       "1  0026197898  [1, 1]        5   \n",
       "2  0615205399  [0, 0]        5   \n",
       "3  0615205399  [1, 1]        5   \n",
       "4  0615205399  [1, 1]        5   \n",
       "\n",
       "                                          reviewText   reviewTime  \\\n",
       "0  Buy this album. Now.  Don't worry about the re...  12 17, 2012   \n",
       "1  The Sudden Passion did a great job with this o...  01 14, 2013   \n",
       "2  I received this CD as a gift a few weeks ago f...  06 26, 2008   \n",
       "3  I am a beginner and have tried a couple of med...  06 25, 2008   \n",
       "4  This is coming from a person that didn't belie...  12 14, 2008   \n",
       "\n",
       "       reviewerID                 reviewerName  \\\n",
       "0  A1OFY4ATO7D13W  Jacob Shepich \"Neo-Luddite\"   \n",
       "1  A2KH83L1F70QR8          John Stockton \"JLS\"   \n",
       "2  A1KGXC7IRLVJR3          Amy Elizabeth \"Amy\"   \n",
       "3  A1BT6LQ9NY6RO3      Jasa Swaze \"Jasa Swaze\"   \n",
       "4  A206OKO2FE2IPL                    J. Jenson   \n",
       "\n",
       "                             summary  unixReviewTime  \n",
       "0      PITCHFORK Eat your heart out!      1355702400  \n",
       "1      Americana from the Southlands      1358121600  \n",
       "2                   It really works!      1214438400  \n",
       "3   Change Your LIfe for the Better!      1214352000  \n",
       "4  Mediation couldn't get any easier      1229212800  "
      ]
     },
     "execution_count": 7,
     "metadata": {},
     "output_type": "execute_result"
    }
   ],
   "source": [
    "mard_df.head()"
   ]
  },
  {
   "cell_type": "code",
   "execution_count": 8,
   "metadata": {},
   "outputs": [],
   "source": [
    "#load mard part 2 - Album & artist table\n",
    "file_loc2 = 'C:/Users/Chris/Documents/thinkful/thinkful_notes/music_caps/mard/mard/mard_metadata.json'\n",
    "\n",
    "mard_meta_df = pd.DataFrame()\n",
    "for mard_chunk in pd.read_json(file_loc2, lines=True, chunksize=1000):\n",
    "    mard_meta_df = pd.concat([mard_meta_df, mard_chunk], sort=True)"
   ]
  },
  {
   "cell_type": "code",
   "execution_count": 9,
   "metadata": {
    "scrolled": true
   },
   "outputs": [
    {
     "data": {
      "text/html": [
       "<div>\n",
       "<style scoped>\n",
       "    .dataframe tbody tr th:only-of-type {\n",
       "        vertical-align: middle;\n",
       "    }\n",
       "\n",
       "    .dataframe tbody tr th {\n",
       "        vertical-align: top;\n",
       "    }\n",
       "\n",
       "    .dataframe thead th {\n",
       "        text-align: right;\n",
       "    }\n",
       "</style>\n",
       "<table border=\"1\" class=\"dataframe\">\n",
       "  <thead>\n",
       "    <tr style=\"text-align: right;\">\n",
       "      <th></th>\n",
       "      <th>amazon-id</th>\n",
       "      <th>artist</th>\n",
       "      <th>artist-mbid</th>\n",
       "      <th>artist_url</th>\n",
       "      <th>brand</th>\n",
       "      <th>categories</th>\n",
       "      <th>confidence</th>\n",
       "      <th>first-release-year</th>\n",
       "      <th>imUrl</th>\n",
       "      <th>label</th>\n",
       "      <th>price</th>\n",
       "      <th>related</th>\n",
       "      <th>release-group-mbid</th>\n",
       "      <th>release-mbid</th>\n",
       "      <th>root-genre</th>\n",
       "      <th>salesRank</th>\n",
       "      <th>songs</th>\n",
       "      <th>title</th>\n",
       "    </tr>\n",
       "  </thead>\n",
       "  <tbody>\n",
       "    <tr>\n",
       "      <th>0</th>\n",
       "      <td>0026197898</td>\n",
       "      <td>The Sudden Passion</td>\n",
       "      <td>6ce5815b-b277-48b0-94c9-a87a8f0422b3</td>\n",
       "      <td>/s?ie=UTF8&amp;field-artist=The+Sudden+Passion&amp;sea...</td>\n",
       "      <td>NaN</td>\n",
       "      <td>[[CDs &amp; Vinyl, Alternative Rock, Indie &amp; Lo-Fi...</td>\n",
       "      <td>1.0</td>\n",
       "      <td>2012</td>\n",
       "      <td>http://ecx.images-amazon.com/images/I/6139OLQU...</td>\n",
       "      <td>Black Hearts &amp; Pink Parts Records</td>\n",
       "      <td>14.23</td>\n",
       "      <td>NaN</td>\n",
       "      <td>b05be7e9-6bc4-422b-8198-32945b0d1c76</td>\n",
       "      <td>359b564b-3db4-44ad-9481-0b45f24aa53e</td>\n",
       "      <td>Alternative Rock</td>\n",
       "      <td>NaN</td>\n",
       "      <td>[{'mbid': '308af531-5fa7-4dd8-969c-6bb7a204eb1...</td>\n",
       "      <td>Southern Fashion</td>\n",
       "    </tr>\n",
       "    <tr>\n",
       "      <th>1</th>\n",
       "      <td>1902593375</td>\n",
       "      <td>Jello Biafra</td>\n",
       "      <td>NaN</td>\n",
       "      <td>/Jello-Biafra/e/B000APYL8M</td>\n",
       "      <td>NaN</td>\n",
       "      <td>[[CDs &amp; Vinyl, Alternative Rock, American Alte...</td>\n",
       "      <td>NaN</td>\n",
       "      <td>NaN</td>\n",
       "      <td>http://ecx.images-amazon.com/images/I/51rKlhSe...</td>\n",
       "      <td>AK Press</td>\n",
       "      <td>29.98</td>\n",
       "      <td>NaN</td>\n",
       "      <td>NaN</td>\n",
       "      <td>NaN</td>\n",
       "      <td>Alternative Rock</td>\n",
       "      <td>{'Music': 902130}</td>\n",
       "      <td>NaN</td>\n",
       "      <td>Become the Media</td>\n",
       "    </tr>\n",
       "    <tr>\n",
       "      <th>2</th>\n",
       "      <td>630251228X</td>\n",
       "      <td>Geoffrey Oryema</td>\n",
       "      <td>eb0cd72f-0235-47ec-9d0b-f244a2afc3b7</td>\n",
       "      <td>/Geoffrey-Oryema/e/B000APWJ7M</td>\n",
       "      <td>NaN</td>\n",
       "      <td>[[CDs &amp; Vinyl, Alternative Rock]]</td>\n",
       "      <td>1.0</td>\n",
       "      <td>1990</td>\n",
       "      <td>http://ecx.images-amazon.com/images/I/51x8skEG...</td>\n",
       "      <td>emi france</td>\n",
       "      <td>7.18</td>\n",
       "      <td>{'also_bought': ['B000000HOX', 'B008B2IJ02', '...</td>\n",
       "      <td>bc2acb6a-4998-3cd3-97e2-61025ed8a562</td>\n",
       "      <td>2bbfcc1d-d1a3-460c-bb45-ca1b2b48c8c4</td>\n",
       "      <td>Alternative Rock</td>\n",
       "      <td>{'Music': 530408}</td>\n",
       "      <td>[{'mbid': '2995847a-95ce-4182-aebd-92499e98f73...</td>\n",
       "      <td>Exile</td>\n",
       "    </tr>\n",
       "    <tr>\n",
       "      <th>3</th>\n",
       "      <td>B00000007O</td>\n",
       "      <td>Kent 3</td>\n",
       "      <td>NaN</td>\n",
       "      <td>/Kent-3/e/B000APW5GM</td>\n",
       "      <td>NaN</td>\n",
       "      <td>[[CDs &amp; Vinyl, Alternative Rock]]</td>\n",
       "      <td>NaN</td>\n",
       "      <td>NaN</td>\n",
       "      <td>http://ecx.images-amazon.com/images/I/217zrfsw...</td>\n",
       "      <td>Super Electro</td>\n",
       "      <td>16.18</td>\n",
       "      <td>NaN</td>\n",
       "      <td>NaN</td>\n",
       "      <td>NaN</td>\n",
       "      <td>Alternative Rock</td>\n",
       "      <td>{'Music': 776497}</td>\n",
       "      <td>NaN</td>\n",
       "      <td>Stories of the New West</td>\n",
       "    </tr>\n",
       "    <tr>\n",
       "      <th>4</th>\n",
       "      <td>B0000004JL</td>\n",
       "      <td>Wesley Willis</td>\n",
       "      <td>b0a16d0c-3d99-487d-be88-902131ad03d3</td>\n",
       "      <td>/Wesley-Willis/e/B000APWAAI</td>\n",
       "      <td>NaN</td>\n",
       "      <td>[[CDs &amp; Vinyl, Alternative Rock, Indie &amp; Lo-Fi...</td>\n",
       "      <td>1.0</td>\n",
       "      <td>1995</td>\n",
       "      <td>http://ecx.images-amazon.com/images/I/51OK3665...</td>\n",
       "      <td>Fuse Records</td>\n",
       "      <td>NaN</td>\n",
       "      <td>{'also_viewed': ['B00004Y6SW', 'B000002MBE', '...</td>\n",
       "      <td>410326cf-4a38-35d3-93d9-a63f8fb77b5b</td>\n",
       "      <td>d22e418c-679d-42c0-991f-7ca12df854e8</td>\n",
       "      <td>Alternative Rock</td>\n",
       "      <td>{'Music': 844130}</td>\n",
       "      <td>[{'mbid': '0dccf187-7b1e-47a0-8b44-1844b9243ee...</td>\n",
       "      <td>Wesley Willis</td>\n",
       "    </tr>\n",
       "  </tbody>\n",
       "</table>\n",
       "</div>"
      ],
      "text/plain": [
       "    amazon-id              artist                           artist-mbid  \\\n",
       "0  0026197898  The Sudden Passion  6ce5815b-b277-48b0-94c9-a87a8f0422b3   \n",
       "1  1902593375        Jello Biafra                                   NaN   \n",
       "2  630251228X     Geoffrey Oryema  eb0cd72f-0235-47ec-9d0b-f244a2afc3b7   \n",
       "3  B00000007O              Kent 3                                   NaN   \n",
       "4  B0000004JL       Wesley Willis  b0a16d0c-3d99-487d-be88-902131ad03d3   \n",
       "\n",
       "                                          artist_url brand  \\\n",
       "0  /s?ie=UTF8&field-artist=The+Sudden+Passion&sea...   NaN   \n",
       "1                         /Jello-Biafra/e/B000APYL8M   NaN   \n",
       "2                      /Geoffrey-Oryema/e/B000APWJ7M   NaN   \n",
       "3                               /Kent-3/e/B000APW5GM   NaN   \n",
       "4                        /Wesley-Willis/e/B000APWAAI   NaN   \n",
       "\n",
       "                                          categories  confidence  \\\n",
       "0  [[CDs & Vinyl, Alternative Rock, Indie & Lo-Fi...         1.0   \n",
       "1  [[CDs & Vinyl, Alternative Rock, American Alte...         NaN   \n",
       "2                  [[CDs & Vinyl, Alternative Rock]]         1.0   \n",
       "3                  [[CDs & Vinyl, Alternative Rock]]         NaN   \n",
       "4  [[CDs & Vinyl, Alternative Rock, Indie & Lo-Fi...         1.0   \n",
       "\n",
       "  first-release-year                                              imUrl  \\\n",
       "0               2012  http://ecx.images-amazon.com/images/I/6139OLQU...   \n",
       "1                NaN  http://ecx.images-amazon.com/images/I/51rKlhSe...   \n",
       "2               1990  http://ecx.images-amazon.com/images/I/51x8skEG...   \n",
       "3                NaN  http://ecx.images-amazon.com/images/I/217zrfsw...   \n",
       "4               1995  http://ecx.images-amazon.com/images/I/51OK3665...   \n",
       "\n",
       "                               label  price  \\\n",
       "0  Black Hearts & Pink Parts Records  14.23   \n",
       "1                           AK Press  29.98   \n",
       "2                         emi france   7.18   \n",
       "3                      Super Electro  16.18   \n",
       "4                       Fuse Records    NaN   \n",
       "\n",
       "                                             related  \\\n",
       "0                                                NaN   \n",
       "1                                                NaN   \n",
       "2  {'also_bought': ['B000000HOX', 'B008B2IJ02', '...   \n",
       "3                                                NaN   \n",
       "4  {'also_viewed': ['B00004Y6SW', 'B000002MBE', '...   \n",
       "\n",
       "                     release-group-mbid                          release-mbid  \\\n",
       "0  b05be7e9-6bc4-422b-8198-32945b0d1c76  359b564b-3db4-44ad-9481-0b45f24aa53e   \n",
       "1                                   NaN                                   NaN   \n",
       "2  bc2acb6a-4998-3cd3-97e2-61025ed8a562  2bbfcc1d-d1a3-460c-bb45-ca1b2b48c8c4   \n",
       "3                                   NaN                                   NaN   \n",
       "4  410326cf-4a38-35d3-93d9-a63f8fb77b5b  d22e418c-679d-42c0-991f-7ca12df854e8   \n",
       "\n",
       "         root-genre          salesRank  \\\n",
       "0  Alternative Rock                NaN   \n",
       "1  Alternative Rock  {'Music': 902130}   \n",
       "2  Alternative Rock  {'Music': 530408}   \n",
       "3  Alternative Rock  {'Music': 776497}   \n",
       "4  Alternative Rock  {'Music': 844130}   \n",
       "\n",
       "                                               songs                    title  \n",
       "0  [{'mbid': '308af531-5fa7-4dd8-969c-6bb7a204eb1...         Southern Fashion  \n",
       "1                                                NaN         Become the Media  \n",
       "2  [{'mbid': '2995847a-95ce-4182-aebd-92499e98f73...                    Exile  \n",
       "3                                                NaN  Stories of the New West  \n",
       "4  [{'mbid': '0dccf187-7b1e-47a0-8b44-1844b9243ee...            Wesley Willis  "
      ]
     },
     "execution_count": 9,
     "metadata": {},
     "output_type": "execute_result"
    }
   ],
   "source": [
    "mard_meta_df.head()"
   ]
  },
  {
   "cell_type": "code",
   "execution_count": 10,
   "metadata": {},
   "outputs": [
    {
     "name": "stderr",
     "output_type": "stream",
     "text": [
      "c:\\users\\chris\\appdata\\local\\programs\\python\\python37-32\\lib\\site-packages\\ipykernel_launcher.py:4: FutureWarning: using a dict on a Series for aggregation\n",
      "is deprecated and will be removed in a future version\n",
      "  after removing the cwd from sys.path.\n"
     ]
    }
   ],
   "source": [
    "#Collapse Mard reviews to array of review numbers\n",
    "\n",
    "#collapse reviews\n",
    "mard_review_summ_df = mard_df.groupby('amazon-id')['overall'].agg({'mean_score': np.mean})"
   ]
  },
  {
   "cell_type": "code",
   "execution_count": 11,
   "metadata": {},
   "outputs": [
    {
     "data": {
      "text/html": [
       "<div>\n",
       "<style scoped>\n",
       "    .dataframe tbody tr th:only-of-type {\n",
       "        vertical-align: middle;\n",
       "    }\n",
       "\n",
       "    .dataframe tbody tr th {\n",
       "        vertical-align: top;\n",
       "    }\n",
       "\n",
       "    .dataframe thead th {\n",
       "        text-align: right;\n",
       "    }\n",
       "</style>\n",
       "<table border=\"1\" class=\"dataframe\">\n",
       "  <thead>\n",
       "    <tr style=\"text-align: right;\">\n",
       "      <th></th>\n",
       "      <th>mean_score</th>\n",
       "    </tr>\n",
       "    <tr>\n",
       "      <th>amazon-id</th>\n",
       "      <th></th>\n",
       "    </tr>\n",
       "  </thead>\n",
       "  <tbody>\n",
       "    <tr>\n",
       "      <th>0026197898</th>\n",
       "      <td>5.0</td>\n",
       "    </tr>\n",
       "    <tr>\n",
       "      <th>0615205399</th>\n",
       "      <td>5.0</td>\n",
       "    </tr>\n",
       "    <tr>\n",
       "      <th>0692002855</th>\n",
       "      <td>1.0</td>\n",
       "    </tr>\n",
       "    <tr>\n",
       "      <th>0739356046</th>\n",
       "      <td>5.0</td>\n",
       "    </tr>\n",
       "    <tr>\n",
       "      <th>0741301679</th>\n",
       "      <td>2.0</td>\n",
       "    </tr>\n",
       "  </tbody>\n",
       "</table>\n",
       "</div>"
      ],
      "text/plain": [
       "            mean_score\n",
       "amazon-id             \n",
       "0026197898         5.0\n",
       "0615205399         5.0\n",
       "0692002855         1.0\n",
       "0739356046         5.0\n",
       "0741301679         2.0"
      ]
     },
     "execution_count": 11,
     "metadata": {},
     "output_type": "execute_result"
    }
   ],
   "source": [
    "mard_review_summ_df.head()"
   ]
  },
  {
   "cell_type": "code",
   "execution_count": 12,
   "metadata": {},
   "outputs": [],
   "source": [
    "#join summarized mard review scores to artist/album names\n",
    "\n",
    "mard_meta_df = pd.merge(mard_meta_df, mard_review_summ_df, on='amazon-id', how='inner')"
   ]
  },
  {
   "cell_type": "code",
   "execution_count": 13,
   "metadata": {},
   "outputs": [
    {
     "data": {
      "text/html": [
       "<div>\n",
       "<style scoped>\n",
       "    .dataframe tbody tr th:only-of-type {\n",
       "        vertical-align: middle;\n",
       "    }\n",
       "\n",
       "    .dataframe tbody tr th {\n",
       "        vertical-align: top;\n",
       "    }\n",
       "\n",
       "    .dataframe thead th {\n",
       "        text-align: right;\n",
       "    }\n",
       "</style>\n",
       "<table border=\"1\" class=\"dataframe\">\n",
       "  <thead>\n",
       "    <tr style=\"text-align: right;\">\n",
       "      <th></th>\n",
       "      <th>amazon-id</th>\n",
       "      <th>artist</th>\n",
       "      <th>artist-mbid</th>\n",
       "      <th>artist_url</th>\n",
       "      <th>brand</th>\n",
       "      <th>categories</th>\n",
       "      <th>confidence</th>\n",
       "      <th>first-release-year</th>\n",
       "      <th>imUrl</th>\n",
       "      <th>label</th>\n",
       "      <th>price</th>\n",
       "      <th>related</th>\n",
       "      <th>release-group-mbid</th>\n",
       "      <th>release-mbid</th>\n",
       "      <th>root-genre</th>\n",
       "      <th>salesRank</th>\n",
       "      <th>songs</th>\n",
       "      <th>title</th>\n",
       "      <th>mean_score</th>\n",
       "    </tr>\n",
       "  </thead>\n",
       "  <tbody>\n",
       "    <tr>\n",
       "      <th>0</th>\n",
       "      <td>0026197898</td>\n",
       "      <td>The Sudden Passion</td>\n",
       "      <td>6ce5815b-b277-48b0-94c9-a87a8f0422b3</td>\n",
       "      <td>/s?ie=UTF8&amp;field-artist=The+Sudden+Passion&amp;sea...</td>\n",
       "      <td>NaN</td>\n",
       "      <td>[[CDs &amp; Vinyl, Alternative Rock, Indie &amp; Lo-Fi...</td>\n",
       "      <td>1.0</td>\n",
       "      <td>2012</td>\n",
       "      <td>http://ecx.images-amazon.com/images/I/6139OLQU...</td>\n",
       "      <td>Black Hearts &amp; Pink Parts Records</td>\n",
       "      <td>14.23</td>\n",
       "      <td>NaN</td>\n",
       "      <td>b05be7e9-6bc4-422b-8198-32945b0d1c76</td>\n",
       "      <td>359b564b-3db4-44ad-9481-0b45f24aa53e</td>\n",
       "      <td>Alternative Rock</td>\n",
       "      <td>NaN</td>\n",
       "      <td>[{'mbid': '308af531-5fa7-4dd8-969c-6bb7a204eb1...</td>\n",
       "      <td>Southern Fashion</td>\n",
       "      <td>5.000000</td>\n",
       "    </tr>\n",
       "    <tr>\n",
       "      <th>1</th>\n",
       "      <td>1902593375</td>\n",
       "      <td>Jello Biafra</td>\n",
       "      <td>NaN</td>\n",
       "      <td>/Jello-Biafra/e/B000APYL8M</td>\n",
       "      <td>NaN</td>\n",
       "      <td>[[CDs &amp; Vinyl, Alternative Rock, American Alte...</td>\n",
       "      <td>NaN</td>\n",
       "      <td>NaN</td>\n",
       "      <td>http://ecx.images-amazon.com/images/I/51rKlhSe...</td>\n",
       "      <td>AK Press</td>\n",
       "      <td>29.98</td>\n",
       "      <td>NaN</td>\n",
       "      <td>NaN</td>\n",
       "      <td>NaN</td>\n",
       "      <td>Alternative Rock</td>\n",
       "      <td>{'Music': 902130}</td>\n",
       "      <td>NaN</td>\n",
       "      <td>Become the Media</td>\n",
       "      <td>2.000000</td>\n",
       "    </tr>\n",
       "    <tr>\n",
       "      <th>2</th>\n",
       "      <td>630251228X</td>\n",
       "      <td>Geoffrey Oryema</td>\n",
       "      <td>eb0cd72f-0235-47ec-9d0b-f244a2afc3b7</td>\n",
       "      <td>/Geoffrey-Oryema/e/B000APWJ7M</td>\n",
       "      <td>NaN</td>\n",
       "      <td>[[CDs &amp; Vinyl, Alternative Rock]]</td>\n",
       "      <td>1.0</td>\n",
       "      <td>1990</td>\n",
       "      <td>http://ecx.images-amazon.com/images/I/51x8skEG...</td>\n",
       "      <td>emi france</td>\n",
       "      <td>7.18</td>\n",
       "      <td>{'also_bought': ['B000000HOX', 'B008B2IJ02', '...</td>\n",
       "      <td>bc2acb6a-4998-3cd3-97e2-61025ed8a562</td>\n",
       "      <td>2bbfcc1d-d1a3-460c-bb45-ca1b2b48c8c4</td>\n",
       "      <td>Alternative Rock</td>\n",
       "      <td>{'Music': 530408}</td>\n",
       "      <td>[{'mbid': '2995847a-95ce-4182-aebd-92499e98f73...</td>\n",
       "      <td>Exile</td>\n",
       "      <td>4.916667</td>\n",
       "    </tr>\n",
       "    <tr>\n",
       "      <th>3</th>\n",
       "      <td>B00000007O</td>\n",
       "      <td>Kent 3</td>\n",
       "      <td>NaN</td>\n",
       "      <td>/Kent-3/e/B000APW5GM</td>\n",
       "      <td>NaN</td>\n",
       "      <td>[[CDs &amp; Vinyl, Alternative Rock]]</td>\n",
       "      <td>NaN</td>\n",
       "      <td>NaN</td>\n",
       "      <td>http://ecx.images-amazon.com/images/I/217zrfsw...</td>\n",
       "      <td>Super Electro</td>\n",
       "      <td>16.18</td>\n",
       "      <td>NaN</td>\n",
       "      <td>NaN</td>\n",
       "      <td>NaN</td>\n",
       "      <td>Alternative Rock</td>\n",
       "      <td>{'Music': 776497}</td>\n",
       "      <td>NaN</td>\n",
       "      <td>Stories of the New West</td>\n",
       "      <td>5.000000</td>\n",
       "    </tr>\n",
       "    <tr>\n",
       "      <th>4</th>\n",
       "      <td>B0000004JL</td>\n",
       "      <td>Wesley Willis</td>\n",
       "      <td>b0a16d0c-3d99-487d-be88-902131ad03d3</td>\n",
       "      <td>/Wesley-Willis/e/B000APWAAI</td>\n",
       "      <td>NaN</td>\n",
       "      <td>[[CDs &amp; Vinyl, Alternative Rock, Indie &amp; Lo-Fi...</td>\n",
       "      <td>1.0</td>\n",
       "      <td>1995</td>\n",
       "      <td>http://ecx.images-amazon.com/images/I/51OK3665...</td>\n",
       "      <td>Fuse Records</td>\n",
       "      <td>NaN</td>\n",
       "      <td>{'also_viewed': ['B00004Y6SW', 'B000002MBE', '...</td>\n",
       "      <td>410326cf-4a38-35d3-93d9-a63f8fb77b5b</td>\n",
       "      <td>d22e418c-679d-42c0-991f-7ca12df854e8</td>\n",
       "      <td>Alternative Rock</td>\n",
       "      <td>{'Music': 844130}</td>\n",
       "      <td>[{'mbid': '0dccf187-7b1e-47a0-8b44-1844b9243ee...</td>\n",
       "      <td>Wesley Willis</td>\n",
       "      <td>4.000000</td>\n",
       "    </tr>\n",
       "  </tbody>\n",
       "</table>\n",
       "</div>"
      ],
      "text/plain": [
       "    amazon-id              artist                           artist-mbid  \\\n",
       "0  0026197898  The Sudden Passion  6ce5815b-b277-48b0-94c9-a87a8f0422b3   \n",
       "1  1902593375        Jello Biafra                                   NaN   \n",
       "2  630251228X     Geoffrey Oryema  eb0cd72f-0235-47ec-9d0b-f244a2afc3b7   \n",
       "3  B00000007O              Kent 3                                   NaN   \n",
       "4  B0000004JL       Wesley Willis  b0a16d0c-3d99-487d-be88-902131ad03d3   \n",
       "\n",
       "                                          artist_url brand  \\\n",
       "0  /s?ie=UTF8&field-artist=The+Sudden+Passion&sea...   NaN   \n",
       "1                         /Jello-Biafra/e/B000APYL8M   NaN   \n",
       "2                      /Geoffrey-Oryema/e/B000APWJ7M   NaN   \n",
       "3                               /Kent-3/e/B000APW5GM   NaN   \n",
       "4                        /Wesley-Willis/e/B000APWAAI   NaN   \n",
       "\n",
       "                                          categories  confidence  \\\n",
       "0  [[CDs & Vinyl, Alternative Rock, Indie & Lo-Fi...         1.0   \n",
       "1  [[CDs & Vinyl, Alternative Rock, American Alte...         NaN   \n",
       "2                  [[CDs & Vinyl, Alternative Rock]]         1.0   \n",
       "3                  [[CDs & Vinyl, Alternative Rock]]         NaN   \n",
       "4  [[CDs & Vinyl, Alternative Rock, Indie & Lo-Fi...         1.0   \n",
       "\n",
       "  first-release-year                                              imUrl  \\\n",
       "0               2012  http://ecx.images-amazon.com/images/I/6139OLQU...   \n",
       "1                NaN  http://ecx.images-amazon.com/images/I/51rKlhSe...   \n",
       "2               1990  http://ecx.images-amazon.com/images/I/51x8skEG...   \n",
       "3                NaN  http://ecx.images-amazon.com/images/I/217zrfsw...   \n",
       "4               1995  http://ecx.images-amazon.com/images/I/51OK3665...   \n",
       "\n",
       "                               label  price  \\\n",
       "0  Black Hearts & Pink Parts Records  14.23   \n",
       "1                           AK Press  29.98   \n",
       "2                         emi france   7.18   \n",
       "3                      Super Electro  16.18   \n",
       "4                       Fuse Records    NaN   \n",
       "\n",
       "                                             related  \\\n",
       "0                                                NaN   \n",
       "1                                                NaN   \n",
       "2  {'also_bought': ['B000000HOX', 'B008B2IJ02', '...   \n",
       "3                                                NaN   \n",
       "4  {'also_viewed': ['B00004Y6SW', 'B000002MBE', '...   \n",
       "\n",
       "                     release-group-mbid                          release-mbid  \\\n",
       "0  b05be7e9-6bc4-422b-8198-32945b0d1c76  359b564b-3db4-44ad-9481-0b45f24aa53e   \n",
       "1                                   NaN                                   NaN   \n",
       "2  bc2acb6a-4998-3cd3-97e2-61025ed8a562  2bbfcc1d-d1a3-460c-bb45-ca1b2b48c8c4   \n",
       "3                                   NaN                                   NaN   \n",
       "4  410326cf-4a38-35d3-93d9-a63f8fb77b5b  d22e418c-679d-42c0-991f-7ca12df854e8   \n",
       "\n",
       "         root-genre          salesRank  \\\n",
       "0  Alternative Rock                NaN   \n",
       "1  Alternative Rock  {'Music': 902130}   \n",
       "2  Alternative Rock  {'Music': 530408}   \n",
       "3  Alternative Rock  {'Music': 776497}   \n",
       "4  Alternative Rock  {'Music': 844130}   \n",
       "\n",
       "                                               songs                    title  \\\n",
       "0  [{'mbid': '308af531-5fa7-4dd8-969c-6bb7a204eb1...         Southern Fashion   \n",
       "1                                                NaN         Become the Media   \n",
       "2  [{'mbid': '2995847a-95ce-4182-aebd-92499e98f73...                    Exile   \n",
       "3                                                NaN  Stories of the New West   \n",
       "4  [{'mbid': '0dccf187-7b1e-47a0-8b44-1844b9243ee...            Wesley Willis   \n",
       "\n",
       "   mean_score  \n",
       "0    5.000000  \n",
       "1    2.000000  \n",
       "2    4.916667  \n",
       "3    5.000000  \n",
       "4    4.000000  "
      ]
     },
     "execution_count": 13,
     "metadata": {},
     "output_type": "execute_result"
    }
   ],
   "source": [
    "mard_meta_df.head()"
   ]
  },
  {
   "cell_type": "markdown",
   "metadata": {},
   "source": [
    "### Loading Pitchfork Dataset"
   ]
  },
  {
   "cell_type": "code",
   "execution_count": 14,
   "metadata": {},
   "outputs": [],
   "source": [
    "#load pitchfork database\n",
    "conn = sqlite3.connect('C:/Users/Chris/Documents/thinkful/thinkful_notes/music_caps/pf_database.sqlite')\n",
    "c = conn.cursor()\n",
    "#c.execute('SELECT * FROM reviews ORDER BY score')"
   ]
  },
  {
   "cell_type": "code",
   "execution_count": 15,
   "metadata": {
    "scrolled": true
   },
   "outputs": [
    {
     "name": "stdout",
     "output_type": "stream",
     "text": [
      "(10571, 'this is next', 'various artists', 'http://pitchfork.com/reviews/albums/10571-this-is-next/', 0.0, 0, 'matt lemay', 'contributor', '2007-08-22', 2, 22, 8, 2007)\n",
      "(9464, 'shine on', 'jet', 'http://pitchfork.com/reviews/albums/9464-shine-on/', 0.0, 0, 'ray suzuki', 'contributor', '2006-10-02', 0, 2, 10, 2006)\n",
      "(6383, 'relaxation of the asshole', 'robert pollard', 'http://pitchfork.com/reviews/albums/6383-relaxation-of-the-asshole/', 0.0, 0, 'eric carr', 'contributor', '2005-04-20', 2, 20, 4, 2005)\n",
      "(5607, 'travistan', 'travis morrison', 'http://pitchfork.com/reviews/albums/5607-travistan/', 0.0, 0, 'chris dahlen', None, '2004-09-27', 0, 27, 9, 2004)\n",
      "(6255, 'liz phair', 'liz phair', 'http://pitchfork.com/reviews/albums/6255-liz-phair/', 0.0, 0, 'matt lemay', 'contributor', '2003-06-24', 1, 24, 6, 2003)\n",
      "(7342, 'nyc ghosts & flowers', 'sonic youth', 'http://pitchfork.com/reviews/albums/7342-nyc-ghosts-flowers/', 0.0, 0, 'brent dicrescenzo', 'contributor', '2000-04-30', 6, 30, 4, 2000)\n",
      "(6516, 'feel no fade', 'push kings', 'http://pitchfork.com/reviews/albums/6516-feel-no-fade/', 0.1, 0, 'alison fields', None, '2002-01-13', 6, 13, 1, 2002)\n"
     ]
    }
   ],
   "source": [
    "#check data for relevant information\n",
    "for rowx, row in enumerate(c.execute('SELECT * FROM reviews ORDER BY score')):\n",
    "        print(row)\n",
    "        if rowx > 5:\n",
    "            break\n",
    "            \n"
   ]
  },
  {
   "cell_type": "code",
   "execution_count": 16,
   "metadata": {},
   "outputs": [],
   "source": [
    "#read pf reviews into a dataframe\n",
    "pf_reviews_df = pd.read_sql('SELECT reviewid, title, artist ,score, best_new_music FROM reviews', conn)"
   ]
  },
  {
   "cell_type": "code",
   "execution_count": 17,
   "metadata": {},
   "outputs": [
    {
     "data": {
      "text/html": [
       "<div>\n",
       "<style scoped>\n",
       "    .dataframe tbody tr th:only-of-type {\n",
       "        vertical-align: middle;\n",
       "    }\n",
       "\n",
       "    .dataframe tbody tr th {\n",
       "        vertical-align: top;\n",
       "    }\n",
       "\n",
       "    .dataframe thead th {\n",
       "        text-align: right;\n",
       "    }\n",
       "</style>\n",
       "<table border=\"1\" class=\"dataframe\">\n",
       "  <thead>\n",
       "    <tr style=\"text-align: right;\">\n",
       "      <th></th>\n",
       "      <th>reviewid</th>\n",
       "      <th>title</th>\n",
       "      <th>artist</th>\n",
       "      <th>score</th>\n",
       "      <th>best_new_music</th>\n",
       "    </tr>\n",
       "  </thead>\n",
       "  <tbody>\n",
       "    <tr>\n",
       "      <th>0</th>\n",
       "      <td>22703</td>\n",
       "      <td>mezzanine</td>\n",
       "      <td>massive attack</td>\n",
       "      <td>9.3</td>\n",
       "      <td>0</td>\n",
       "    </tr>\n",
       "    <tr>\n",
       "      <th>1</th>\n",
       "      <td>22721</td>\n",
       "      <td>prelapsarian</td>\n",
       "      <td>krallice</td>\n",
       "      <td>7.9</td>\n",
       "      <td>0</td>\n",
       "    </tr>\n",
       "    <tr>\n",
       "      <th>2</th>\n",
       "      <td>22659</td>\n",
       "      <td>all of them naturals</td>\n",
       "      <td>uranium club</td>\n",
       "      <td>7.3</td>\n",
       "      <td>0</td>\n",
       "    </tr>\n",
       "    <tr>\n",
       "      <th>3</th>\n",
       "      <td>22661</td>\n",
       "      <td>first songs</td>\n",
       "      <td>kleenex, liliput</td>\n",
       "      <td>9.0</td>\n",
       "      <td>1</td>\n",
       "    </tr>\n",
       "    <tr>\n",
       "      <th>4</th>\n",
       "      <td>22725</td>\n",
       "      <td>new start</td>\n",
       "      <td>taso</td>\n",
       "      <td>8.1</td>\n",
       "      <td>0</td>\n",
       "    </tr>\n",
       "    <tr>\n",
       "      <th>5</th>\n",
       "      <td>22722</td>\n",
       "      <td>insecure (music from the hbo original series)</td>\n",
       "      <td>various artists</td>\n",
       "      <td>7.4</td>\n",
       "      <td>0</td>\n",
       "    </tr>\n",
       "    <tr>\n",
       "      <th>6</th>\n",
       "      <td>22704</td>\n",
       "      <td>stillness in wonderland</td>\n",
       "      <td>little simz</td>\n",
       "      <td>7.1</td>\n",
       "      <td>0</td>\n",
       "    </tr>\n",
       "  </tbody>\n",
       "</table>\n",
       "</div>"
      ],
      "text/plain": [
       "   reviewid                                          title            artist  \\\n",
       "0     22703                                      mezzanine    massive attack   \n",
       "1     22721                                   prelapsarian          krallice   \n",
       "2     22659                           all of them naturals      uranium club   \n",
       "3     22661                                    first songs  kleenex, liliput   \n",
       "4     22725                                      new start              taso   \n",
       "5     22722  insecure (music from the hbo original series)   various artists   \n",
       "6     22704                        stillness in wonderland       little simz   \n",
       "\n",
       "   score  best_new_music  \n",
       "0    9.3               0  \n",
       "1    7.9               0  \n",
       "2    7.3               0  \n",
       "3    9.0               1  \n",
       "4    8.1               0  \n",
       "5    7.4               0  \n",
       "6    7.1               0  "
      ]
     },
     "execution_count": 17,
     "metadata": {},
     "output_type": "execute_result"
    }
   ],
   "source": [
    "#check data is in dataframe\n",
    "pf_reviews_df.head(7)"
   ]
  },
  {
   "cell_type": "code",
   "execution_count": 18,
   "metadata": {},
   "outputs": [],
   "source": [
    "#add genre data to dataframe\n",
    "pf_reviews_df_genre = pd.read_sql('SELECT * FROM genres', conn)\n",
    "pf_reviews_df = pd.merge(pf_reviews_df, pf_reviews_df_genre, on='reviewid', how='inner')"
   ]
  },
  {
   "cell_type": "code",
   "execution_count": 19,
   "metadata": {
    "scrolled": true
   },
   "outputs": [
    {
     "data": {
      "text/html": [
       "<div>\n",
       "<style scoped>\n",
       "    .dataframe tbody tr th:only-of-type {\n",
       "        vertical-align: middle;\n",
       "    }\n",
       "\n",
       "    .dataframe tbody tr th {\n",
       "        vertical-align: top;\n",
       "    }\n",
       "\n",
       "    .dataframe thead th {\n",
       "        text-align: right;\n",
       "    }\n",
       "</style>\n",
       "<table border=\"1\" class=\"dataframe\">\n",
       "  <thead>\n",
       "    <tr style=\"text-align: right;\">\n",
       "      <th></th>\n",
       "      <th>reviewid</th>\n",
       "      <th>title</th>\n",
       "      <th>artist</th>\n",
       "      <th>score</th>\n",
       "      <th>best_new_music</th>\n",
       "      <th>genre</th>\n",
       "    </tr>\n",
       "  </thead>\n",
       "  <tbody>\n",
       "    <tr>\n",
       "      <th>0</th>\n",
       "      <td>22703</td>\n",
       "      <td>mezzanine</td>\n",
       "      <td>massive attack</td>\n",
       "      <td>9.3</td>\n",
       "      <td>0</td>\n",
       "      <td>electronic</td>\n",
       "    </tr>\n",
       "    <tr>\n",
       "      <th>1</th>\n",
       "      <td>22721</td>\n",
       "      <td>prelapsarian</td>\n",
       "      <td>krallice</td>\n",
       "      <td>7.9</td>\n",
       "      <td>0</td>\n",
       "      <td>metal</td>\n",
       "    </tr>\n",
       "    <tr>\n",
       "      <th>2</th>\n",
       "      <td>22659</td>\n",
       "      <td>all of them naturals</td>\n",
       "      <td>uranium club</td>\n",
       "      <td>7.3</td>\n",
       "      <td>0</td>\n",
       "      <td>rock</td>\n",
       "    </tr>\n",
       "    <tr>\n",
       "      <th>3</th>\n",
       "      <td>22661</td>\n",
       "      <td>first songs</td>\n",
       "      <td>kleenex, liliput</td>\n",
       "      <td>9.0</td>\n",
       "      <td>1</td>\n",
       "      <td>rock</td>\n",
       "    </tr>\n",
       "    <tr>\n",
       "      <th>4</th>\n",
       "      <td>22725</td>\n",
       "      <td>new start</td>\n",
       "      <td>taso</td>\n",
       "      <td>8.1</td>\n",
       "      <td>0</td>\n",
       "      <td>electronic</td>\n",
       "    </tr>\n",
       "    <tr>\n",
       "      <th>5</th>\n",
       "      <td>22722</td>\n",
       "      <td>insecure (music from the hbo original series)</td>\n",
       "      <td>various artists</td>\n",
       "      <td>7.4</td>\n",
       "      <td>0</td>\n",
       "      <td>None</td>\n",
       "    </tr>\n",
       "    <tr>\n",
       "      <th>6</th>\n",
       "      <td>22704</td>\n",
       "      <td>stillness in wonderland</td>\n",
       "      <td>little simz</td>\n",
       "      <td>7.1</td>\n",
       "      <td>0</td>\n",
       "      <td>rap</td>\n",
       "    </tr>\n",
       "    <tr>\n",
       "      <th>7</th>\n",
       "      <td>22694</td>\n",
       "      <td>tehillim</td>\n",
       "      <td>yotam avni</td>\n",
       "      <td>7.0</td>\n",
       "      <td>0</td>\n",
       "      <td>electronic</td>\n",
       "    </tr>\n",
       "    <tr>\n",
       "      <th>8</th>\n",
       "      <td>22714</td>\n",
       "      <td>reflection</td>\n",
       "      <td>brian eno</td>\n",
       "      <td>7.7</td>\n",
       "      <td>0</td>\n",
       "      <td>experimental</td>\n",
       "    </tr>\n",
       "    <tr>\n",
       "      <th>9</th>\n",
       "      <td>22724</td>\n",
       "      <td>filthy america its beautiful</td>\n",
       "      <td>the lox</td>\n",
       "      <td>5.3</td>\n",
       "      <td>0</td>\n",
       "      <td>rap</td>\n",
       "    </tr>\n",
       "    <tr>\n",
       "      <th>10</th>\n",
       "      <td>22715</td>\n",
       "      <td>clear sounds/perfetta</td>\n",
       "      <td>harry bertoia</td>\n",
       "      <td>8.0</td>\n",
       "      <td>0</td>\n",
       "      <td>experimental</td>\n",
       "    </tr>\n",
       "    <tr>\n",
       "      <th>11</th>\n",
       "      <td>22745</td>\n",
       "      <td>run the jewels 3</td>\n",
       "      <td>run the jewels</td>\n",
       "      <td>8.6</td>\n",
       "      <td>1</td>\n",
       "      <td>rap</td>\n",
       "    </tr>\n",
       "    <tr>\n",
       "      <th>12</th>\n",
       "      <td>22700</td>\n",
       "      <td>nadir</td>\n",
       "      <td>steven warwick</td>\n",
       "      <td>7.6</td>\n",
       "      <td>0</td>\n",
       "      <td>electronic</td>\n",
       "    </tr>\n",
       "    <tr>\n",
       "      <th>13</th>\n",
       "      <td>22720</td>\n",
       "      <td>december 99th</td>\n",
       "      <td>yasiin bey</td>\n",
       "      <td>3.5</td>\n",
       "      <td>0</td>\n",
       "      <td>rap</td>\n",
       "    </tr>\n",
       "    <tr>\n",
       "      <th>14</th>\n",
       "      <td>22699</td>\n",
       "      <td>don't smoke rock</td>\n",
       "      <td>smoke dza, pete rock</td>\n",
       "      <td>7.4</td>\n",
       "      <td>0</td>\n",
       "      <td>rap</td>\n",
       "    </tr>\n",
       "    <tr>\n",
       "      <th>15</th>\n",
       "      <td>22665</td>\n",
       "      <td>punk45: les punks: the french connection (the ...</td>\n",
       "      <td>various artists</td>\n",
       "      <td>6.6</td>\n",
       "      <td>0</td>\n",
       "      <td>None</td>\n",
       "    </tr>\n",
       "    <tr>\n",
       "      <th>16</th>\n",
       "      <td>22666</td>\n",
       "      <td>brnshj (puncak)</td>\n",
       "      <td>senyawa</td>\n",
       "      <td>7.4</td>\n",
       "      <td>0</td>\n",
       "      <td>experimental</td>\n",
       "    </tr>\n",
       "    <tr>\n",
       "      <th>17</th>\n",
       "      <td>22719</td>\n",
       "      <td>merry christmas lil mama</td>\n",
       "      <td>chance the rapper, jeremih</td>\n",
       "      <td>8.1</td>\n",
       "      <td>0</td>\n",
       "      <td>rap</td>\n",
       "    </tr>\n",
       "    <tr>\n",
       "      <th>18</th>\n",
       "      <td>22719</td>\n",
       "      <td>merry christmas lil mama</td>\n",
       "      <td>chance the rapper, jeremih</td>\n",
       "      <td>8.1</td>\n",
       "      <td>0</td>\n",
       "      <td>pop/r&amp;b</td>\n",
       "    </tr>\n",
       "    <tr>\n",
       "      <th>19</th>\n",
       "      <td>22667</td>\n",
       "      <td>///// effectual</td>\n",
       "      <td>jamire williams</td>\n",
       "      <td>7.2</td>\n",
       "      <td>0</td>\n",
       "      <td>experimental</td>\n",
       "    </tr>\n",
       "  </tbody>\n",
       "</table>\n",
       "</div>"
      ],
      "text/plain": [
       "    reviewid                                              title  \\\n",
       "0      22703                                          mezzanine   \n",
       "1      22721                                       prelapsarian   \n",
       "2      22659                               all of them naturals   \n",
       "3      22661                                        first songs   \n",
       "4      22725                                          new start   \n",
       "5      22722      insecure (music from the hbo original series)   \n",
       "6      22704                            stillness in wonderland   \n",
       "7      22694                                           tehillim   \n",
       "8      22714                                         reflection   \n",
       "9      22724                       filthy america its beautiful   \n",
       "10     22715                              clear sounds/perfetta   \n",
       "11     22745                                   run the jewels 3   \n",
       "12     22700                                              nadir   \n",
       "13     22720                                      december 99th   \n",
       "14     22699                                   don't smoke rock   \n",
       "15     22665  punk45: les punks: the french connection (the ...   \n",
       "16     22666                                    brnshj (puncak)   \n",
       "17     22719                           merry christmas lil mama   \n",
       "18     22719                           merry christmas lil mama   \n",
       "19     22667                                    ///// effectual   \n",
       "\n",
       "                        artist  score  best_new_music         genre  \n",
       "0               massive attack    9.3               0    electronic  \n",
       "1                     krallice    7.9               0         metal  \n",
       "2                 uranium club    7.3               0          rock  \n",
       "3             kleenex, liliput    9.0               1          rock  \n",
       "4                         taso    8.1               0    electronic  \n",
       "5              various artists    7.4               0          None  \n",
       "6                  little simz    7.1               0           rap  \n",
       "7                   yotam avni    7.0               0    electronic  \n",
       "8                    brian eno    7.7               0  experimental  \n",
       "9                      the lox    5.3               0           rap  \n",
       "10               harry bertoia    8.0               0  experimental  \n",
       "11              run the jewels    8.6               1           rap  \n",
       "12              steven warwick    7.6               0    electronic  \n",
       "13                  yasiin bey    3.5               0           rap  \n",
       "14        smoke dza, pete rock    7.4               0           rap  \n",
       "15             various artists    6.6               0          None  \n",
       "16                     senyawa    7.4               0  experimental  \n",
       "17  chance the rapper, jeremih    8.1               0           rap  \n",
       "18  chance the rapper, jeremih    8.1               0       pop/r&b  \n",
       "19             jamire williams    7.2               0  experimental  "
      ]
     },
     "execution_count": 19,
     "metadata": {},
     "output_type": "execute_result"
    }
   ],
   "source": [
    "pf_reviews_df.head(20)"
   ]
  },
  {
   "cell_type": "code",
   "execution_count": 20,
   "metadata": {},
   "outputs": [
    {
     "name": "stderr",
     "output_type": "stream",
     "text": [
      "c:\\users\\chris\\appdata\\local\\programs\\python\\python37-32\\lib\\site-packages\\ipykernel_launcher.py:2: FutureWarning: using a dict on a Series for aggregation\n",
      "is deprecated and will be removed in a future version\n",
      "  \n"
     ]
    },
    {
     "data": {
      "text/html": [
       "<div>\n",
       "<style scoped>\n",
       "    .dataframe tbody tr th:only-of-type {\n",
       "        vertical-align: middle;\n",
       "    }\n",
       "\n",
       "    .dataframe tbody tr th {\n",
       "        vertical-align: top;\n",
       "    }\n",
       "\n",
       "    .dataframe thead th {\n",
       "        text-align: right;\n",
       "    }\n",
       "</style>\n",
       "<table border=\"1\" class=\"dataframe\">\n",
       "  <thead>\n",
       "    <tr style=\"text-align: right;\">\n",
       "      <th></th>\n",
       "      <th>mean</th>\n",
       "      <th>standard_d</th>\n",
       "      <th>count</th>\n",
       "    </tr>\n",
       "    <tr>\n",
       "      <th>genre</th>\n",
       "      <th></th>\n",
       "      <th></th>\n",
       "      <th></th>\n",
       "    </tr>\n",
       "  </thead>\n",
       "  <tbody>\n",
       "    <tr>\n",
       "      <th>electronic</th>\n",
       "      <td>6.920702</td>\n",
       "      <td>1.310056</td>\n",
       "      <td>3874.0</td>\n",
       "    </tr>\n",
       "    <tr>\n",
       "      <th>experimental</th>\n",
       "      <td>7.336694</td>\n",
       "      <td>1.106455</td>\n",
       "      <td>1815.0</td>\n",
       "    </tr>\n",
       "    <tr>\n",
       "      <th>folk/country</th>\n",
       "      <td>7.202190</td>\n",
       "      <td>1.064435</td>\n",
       "      <td>685.0</td>\n",
       "    </tr>\n",
       "    <tr>\n",
       "      <th>global</th>\n",
       "      <td>7.429680</td>\n",
       "      <td>1.006076</td>\n",
       "      <td>219.0</td>\n",
       "    </tr>\n",
       "    <tr>\n",
       "      <th>jazz</th>\n",
       "      <td>7.303908</td>\n",
       "      <td>1.251104</td>\n",
       "      <td>435.0</td>\n",
       "    </tr>\n",
       "    <tr>\n",
       "      <th>metal</th>\n",
       "      <td>6.950000</td>\n",
       "      <td>1.387799</td>\n",
       "      <td>862.0</td>\n",
       "    </tr>\n",
       "    <tr>\n",
       "      <th>pop/r&amp;b</th>\n",
       "      <td>6.883799</td>\n",
       "      <td>1.295232</td>\n",
       "      <td>1432.0</td>\n",
       "    </tr>\n",
       "    <tr>\n",
       "      <th>rap</th>\n",
       "      <td>6.900513</td>\n",
       "      <td>1.302703</td>\n",
       "      <td>1559.0</td>\n",
       "    </tr>\n",
       "    <tr>\n",
       "      <th>rock</th>\n",
       "      <td>6.942011</td>\n",
       "      <td>1.360347</td>\n",
       "      <td>9438.0</td>\n",
       "    </tr>\n",
       "  </tbody>\n",
       "</table>\n",
       "</div>"
      ],
      "text/plain": [
       "                  mean  standard_d   count\n",
       "genre                                     \n",
       "electronic    6.920702    1.310056  3874.0\n",
       "experimental  7.336694    1.106455  1815.0\n",
       "folk/country  7.202190    1.064435   685.0\n",
       "global        7.429680    1.006076   219.0\n",
       "jazz          7.303908    1.251104   435.0\n",
       "metal         6.950000    1.387799   862.0\n",
       "pop/r&b       6.883799    1.295232  1432.0\n",
       "rap           6.900513    1.302703  1559.0\n",
       "rock          6.942011    1.360347  9438.0"
      ]
     },
     "execution_count": 20,
     "metadata": {},
     "output_type": "execute_result"
    }
   ],
   "source": [
    "#get summary data by genre\n",
    "pf_bygenre_df = pf_reviews_df.groupby(['genre'])['score'].agg({'mean':np.mean, 'standard_d':np.std, 'count':np.size})\n",
    "pf_bygenre_df"
   ]
  },
  {
   "cell_type": "markdown",
   "metadata": {},
   "source": [
    "## Analytic Questions"
   ]
  },
  {
   "cell_type": "markdown",
   "metadata": {},
   "source": [
    "#### Review Selection\n",
    "\n",
    "Pitchfork - what does the review score distribution look like?"
   ]
  },
  {
   "cell_type": "code",
   "execution_count": 21,
   "metadata": {
    "scrolled": false
   },
   "outputs": [
    {
     "data": {
      "image/png": "[encoded data removed]",
      "text/plain": [
       "<Figure size 576x432 with 1 Axes>"
      ]
     },
     "metadata": {
      "needs_background": "light"
     },
     "output_type": "display_data"
    }
   ],
   "source": [
    "#show dispersion of pitchfork review overall\n",
    "fig = plt.figure(figsize=(8,6))\n",
    "plt.violinplot(pf_reviews_df['score'])\n",
    "plt.title('Distribution of All Pitchfork Review Scores', fontsize=15)\n",
    "plt.xlabel('Density of Distribution')\n",
    "plt.ylabel('Review Score')\n",
    "plt.show(fig)"
   ]
  },
  {
   "cell_type": "markdown",
   "metadata": {},
   "source": [
    "### How do Pitchfork's review vary by genre?"
   ]
  },
  {
   "cell_type": "code",
   "execution_count": 50,
   "metadata": {},
   "outputs": [
    {
     "data": {
      "text/plain": [
       "genre\n",
       "rock            9438\n",
       "electronic      3874\n",
       "experimental    1815\n",
       "rap             1559\n",
       "pop/r&b         1432\n",
       "metal            862\n",
       "folk/country     685\n",
       "jazz             435\n",
       "global           219\n",
       "dtype: int64"
      ]
     },
     "execution_count": 50,
     "metadata": {},
     "output_type": "execute_result"
    }
   ],
   "source": [
    "#summarize each genre to a name and count of reviews\n",
    "pf_bygenre_summarized = pf_reviews_df.groupby(['genre']).size()\n",
    "#sort dataframe so columns are ranked\n",
    "pf_bygenre_summarized.sort_values(ascending=False)"
   ]
  },
  {
   "cell_type": "code",
   "execution_count": 46,
   "metadata": {},
   "outputs": [
    {
     "data": {
      "image/png": "[encoded data removed]",
      "text/plain": [
       "<Figure size 864x288 with 1 Axes>"
      ]
     },
     "metadata": {
      "needs_background": "light"
     },
     "output_type": "display_data"
    }
   ],
   "source": [
    "#plot the results\n",
    "plt.figure(figsize=(12,4)) \n",
    "pf_bygenre_summarized.sort_values(ascending=False).plot.bar()\n",
    "plt.title('Number of Pitchfork Reviews for each Genre', fontsize=20)\n",
    "plt.ylabel('Number of Reviews')\n",
    "plt.xticks(rotation=0)\n",
    "plt.show()"
   ]
  },
  {
   "cell_type": "code",
   "execution_count": 48,
   "metadata": {},
   "outputs": [
    {
     "data": {
      "image/png": "[encoded data removed]",
      "text/plain": [
       "<Figure size 1080x432 with 9 Axes>"
      ]
     },
     "metadata": {
      "needs_background": "light"
     },
     "output_type": "display_data"
    }
   ],
   "source": [
    "#plots of individual genre's score distribution\n",
    "fig2 = plt.figure(figsize=(15,6))\n",
    "plt.ylabel('Score')\n",
    "plt.suptitle('Score Distribution Boxplots for Genres')\n",
    "\n",
    "for genreno, genreiter in enumerate(pf_bygenre_df.itertuples(index=True)):\n",
    "    genrei = genreiter.Index\n",
    "    plt.subplot(1, len(pf_bygenre_df.index), genreno+1) #, sharex='col', sharey='row')\n",
    "    genreset = pf_reviews_df[pf_reviews_df['genre'] == genrei]['score'] #get scores for genre\n",
    "    plt.violinplot(genreset)\n",
    "    plt.xlabel(genrei)\n",
    "\n",
    "    \n",
    "plt.show(fig2)    "
   ]
  },
  {
   "cell_type": "code",
   "execution_count": 55,
   "metadata": {},
   "outputs": [
    {
     "data": {
      "text/plain": [
       "genre\n",
       "global          1.006076\n",
       "folk/country    1.064435\n",
       "experimental    1.106455\n",
       "jazz            1.251104\n",
       "pop/r&b         1.295232\n",
       "rap             1.302703\n",
       "electronic      1.310056\n",
       "rock            1.360347\n",
       "metal           1.387799\n",
       "Name: score, dtype: float64"
      ]
     },
     "execution_count": 55,
     "metadata": {},
     "output_type": "execute_result"
    }
   ],
   "source": [
    "#Genre standard deviations\n",
    "genre_std = pf_reviews_df.groupby(['genre'])['score'].std()\n",
    "genre_std.sort_values()"
   ]
  },
  {
   "cell_type": "markdown",
   "metadata": {},
   "source": [
    "Perhaps because of the focus on rock music, the standard deviation for rock albums is larger. This could be because of a different selection process or different reaction to that style. "
   ]
  },
  {
   "cell_type": "markdown",
   "metadata": {},
   "source": [
    "Pitchfork's focus is on rock music, and so I will look at rock compared to all other genres. "
   ]
  },
  {
   "cell_type": "code",
   "execution_count": null,
   "metadata": {},
   "outputs": [],
   "source": []
  },
  {
   "cell_type": "code",
   "execution_count": 47,
   "metadata": {},
   "outputs": [
    {
     "data": {
      "image/png": "[encoded data removed]",
      "text/plain": [
       "<Figure size 504x432 with 2 Axes>"
      ]
     },
     "metadata": {
      "needs_background": "light"
     },
     "output_type": "display_data"
    }
   ],
   "source": [
    "#plot Rock vs Other\n",
    "fig3 = plt.figure(figsize=(7,6))\n",
    "plt.ylabel('Score')\n",
    "plt.suptitle('Score Distribution Boxplots for Rock vs. All Other Genres')\n",
    "\n",
    "ax1 = plt.subplot(121)\n",
    "plt.boxplot(pf_reviews_df[pf_reviews_df['genre'] == 'rock']['score'])\n",
    "plt.xlabel('Rock')\n",
    "\n",
    "ax2 = plt.subplot(122,  sharey=ax1)\n",
    "plt.boxplot(pf_reviews_df[pf_reviews_df['genre'] != 'rock']['score'])\n",
    "plt.xlabel('All Other')\n",
    "plt.setp(ax2.get_yticklabels(), visible=False)\n",
    "    \n",
    "plt.show(fig3)    "
   ]
  },
  {
   "cell_type": "code",
   "execution_count": null,
   "metadata": {},
   "outputs": [],
   "source": []
  },
  {
   "cell_type": "markdown",
   "metadata": {},
   "source": [
    "### Comparison of Review Scores between Pitchfork and Fantano"
   ]
  },
  {
   "cell_type": "code",
   "execution_count": 26,
   "metadata": {},
   "outputs": [],
   "source": [
    "#create low case Artist and Album name columns in both dataframes so they can be used to join Dataframes\n",
    "fantano_reviewdf['artist_lc'] = fantano_reviewdf['artist'].str.lower()\n",
    "fantano_reviewdf['title_lc'] = fantano_reviewdf['title'].str.lower()\n"
   ]
  },
  {
   "cell_type": "code",
   "execution_count": 27,
   "metadata": {},
   "outputs": [
    {
     "data": {
      "text/html": [
       "<div>\n",
       "<style scoped>\n",
       "    .dataframe tbody tr th:only-of-type {\n",
       "        vertical-align: middle;\n",
       "    }\n",
       "\n",
       "    .dataframe tbody tr th {\n",
       "        vertical-align: top;\n",
       "    }\n",
       "\n",
       "    .dataframe thead th {\n",
       "        text-align: right;\n",
       "    }\n",
       "</style>\n",
       "<table border=\"1\" class=\"dataframe\">\n",
       "  <thead>\n",
       "    <tr style=\"text-align: right;\">\n",
       "      <th></th>\n",
       "      <th>Unnamed: 0</th>\n",
       "      <th>title_Fantano</th>\n",
       "      <th>artist_Fantano</th>\n",
       "      <th>review_date</th>\n",
       "      <th>review_type</th>\n",
       "      <th>score_Fantano</th>\n",
       "      <th>word_score</th>\n",
       "      <th>best_tracks</th>\n",
       "      <th>worst_track</th>\n",
       "      <th>link</th>\n",
       "      <th>artist_lc</th>\n",
       "      <th>title_lc</th>\n",
       "      <th>reviewid</th>\n",
       "      <th>title_pf</th>\n",
       "      <th>artist_pf</th>\n",
       "      <th>score_pf</th>\n",
       "      <th>best_new_music</th>\n",
       "      <th>genre</th>\n",
       "    </tr>\n",
       "  </thead>\n",
       "  <tbody>\n",
       "    <tr>\n",
       "      <th>0</th>\n",
       "      <td>0</td>\n",
       "      <td>Cosmogramma</td>\n",
       "      <td>Flying Lotus</td>\n",
       "      <td>2010-05-05</td>\n",
       "      <td>Album</td>\n",
       "      <td>8.0</td>\n",
       "      <td>NaN</td>\n",
       "      <td>[]</td>\n",
       "      <td>NaN</td>\n",
       "      <td>https://www.youtube.com/watch?v=KCuamde9Atc</td>\n",
       "      <td>flying lotus</td>\n",
       "      <td>cosmogramma</td>\n",
       "      <td>14198</td>\n",
       "      <td>cosmogramma</td>\n",
       "      <td>flying lotus</td>\n",
       "      <td>8.8</td>\n",
       "      <td>1</td>\n",
       "      <td>electronic</td>\n",
       "    </tr>\n",
       "    <tr>\n",
       "      <th>1</th>\n",
       "      <td>2</td>\n",
       "      <td>Latin</td>\n",
       "      <td>Holy Fuck</td>\n",
       "      <td>2010-05-10</td>\n",
       "      <td>Album</td>\n",
       "      <td>7.0</td>\n",
       "      <td>NaN</td>\n",
       "      <td>[]</td>\n",
       "      <td>NaN</td>\n",
       "      <td>https://www.youtube.com/watch?v=ySXryTlo9Ac</td>\n",
       "      <td>holy fuck</td>\n",
       "      <td>latin</td>\n",
       "      <td>14207</td>\n",
       "      <td>latin</td>\n",
       "      <td>holy fuck</td>\n",
       "      <td>7.8</td>\n",
       "      <td>0</td>\n",
       "      <td>electronic</td>\n",
       "    </tr>\n",
       "    <tr>\n",
       "      <th>2</th>\n",
       "      <td>3</td>\n",
       "      <td>High Violet</td>\n",
       "      <td>The National</td>\n",
       "      <td>2010-05-11</td>\n",
       "      <td>Album</td>\n",
       "      <td>6.0</td>\n",
       "      <td>NaN</td>\n",
       "      <td>[]</td>\n",
       "      <td>NaN</td>\n",
       "      <td>https://www.youtube.com/watch?v=DuMUDldrG3g</td>\n",
       "      <td>the national</td>\n",
       "      <td>high violet</td>\n",
       "      <td>14203</td>\n",
       "      <td>high violet</td>\n",
       "      <td>the national</td>\n",
       "      <td>8.7</td>\n",
       "      <td>1</td>\n",
       "      <td>rock</td>\n",
       "    </tr>\n",
       "    <tr>\n",
       "      <th>3</th>\n",
       "      <td>5</td>\n",
       "      <td>Together</td>\n",
       "      <td>The New Pornographers</td>\n",
       "      <td>2010-05-13</td>\n",
       "      <td>Album</td>\n",
       "      <td>7.0</td>\n",
       "      <td>NaN</td>\n",
       "      <td>[]</td>\n",
       "      <td>NaN</td>\n",
       "      <td>https://www.youtube.com/watch?v=Lfw6vPZAUtc</td>\n",
       "      <td>the new pornographers</td>\n",
       "      <td>together</td>\n",
       "      <td>14195</td>\n",
       "      <td>together</td>\n",
       "      <td>the new pornographers</td>\n",
       "      <td>7.3</td>\n",
       "      <td>0</td>\n",
       "      <td>rock</td>\n",
       "    </tr>\n",
       "    <tr>\n",
       "      <th>4</th>\n",
       "      <td>6</td>\n",
       "      <td>Sea of Cowards</td>\n",
       "      <td>The Dead Weather</td>\n",
       "      <td>2010-05-16</td>\n",
       "      <td>Album</td>\n",
       "      <td>5.0</td>\n",
       "      <td>NaN</td>\n",
       "      <td>[]</td>\n",
       "      <td>NaN</td>\n",
       "      <td>https://www.youtube.com/watch?v=v_7WlMvv50I</td>\n",
       "      <td>the dead weather</td>\n",
       "      <td>sea of cowards</td>\n",
       "      <td>14237</td>\n",
       "      <td>sea of cowards</td>\n",
       "      <td>the dead weather</td>\n",
       "      <td>7.8</td>\n",
       "      <td>0</td>\n",
       "      <td>rock</td>\n",
       "    </tr>\n",
       "  </tbody>\n",
       "</table>\n",
       "</div>"
      ],
      "text/plain": [
       "   Unnamed: 0   title_Fantano         artist_Fantano review_date review_type  \\\n",
       "0           0     Cosmogramma           Flying Lotus  2010-05-05       Album   \n",
       "1           2           Latin              Holy Fuck  2010-05-10       Album   \n",
       "2           3     High Violet           The National  2010-05-11       Album   \n",
       "3           5        Together  The New Pornographers  2010-05-13       Album   \n",
       "4           6  Sea of Cowards       The Dead Weather  2010-05-16       Album   \n",
       "\n",
       "   score_Fantano word_score best_tracks worst_track  \\\n",
       "0            8.0        NaN          []         NaN   \n",
       "1            7.0        NaN          []         NaN   \n",
       "2            6.0        NaN          []         NaN   \n",
       "3            7.0        NaN          []         NaN   \n",
       "4            5.0        NaN          []         NaN   \n",
       "\n",
       "                                          link              artist_lc  \\\n",
       "0  https://www.youtube.com/watch?v=KCuamde9Atc           flying lotus   \n",
       "1  https://www.youtube.com/watch?v=ySXryTlo9Ac              holy fuck   \n",
       "2  https://www.youtube.com/watch?v=DuMUDldrG3g           the national   \n",
       "3  https://www.youtube.com/watch?v=Lfw6vPZAUtc  the new pornographers   \n",
       "4  https://www.youtube.com/watch?v=v_7WlMvv50I       the dead weather   \n",
       "\n",
       "         title_lc  reviewid        title_pf              artist_pf  score_pf  \\\n",
       "0     cosmogramma     14198     cosmogramma           flying lotus       8.8   \n",
       "1           latin     14207           latin              holy fuck       7.8   \n",
       "2     high violet     14203     high violet           the national       8.7   \n",
       "3        together     14195        together  the new pornographers       7.3   \n",
       "4  sea of cowards     14237  sea of cowards       the dead weather       7.8   \n",
       "\n",
       "   best_new_music       genre  \n",
       "0               1  electronic  \n",
       "1               0  electronic  \n",
       "2               1        rock  \n",
       "3               0        rock  \n",
       "4               0        rock  "
      ]
     },
     "execution_count": 27,
     "metadata": {},
     "output_type": "execute_result"
    }
   ],
   "source": [
    "# join Fantano and PF datasets\n",
    "Fantano_PF_intersec_df = pd.merge(fantano_reviewdf, pf_reviews_df, \n",
    "                               left_on=['artist_lc','title_lc'], right_on=['artist','title'], \n",
    "                               how='inner', suffixes=('_Fantano', '_pf'))\n",
    "# check data is correctly joined\n",
    "Fantano_PF_intersec_df.head()\n",
    "\n"
   ]
  },
  {
   "cell_type": "code",
   "execution_count": 28,
   "metadata": {
    "scrolled": false
   },
   "outputs": [
    {
     "data": {
      "image/png": "[encoded data removed]",
      "text/plain": [
       "<Figure size 720x360 with 1 Axes>"
      ]
     },
     "metadata": {
      "needs_background": "light"
     },
     "output_type": "display_data"
    }
   ],
   "source": [
    "#plot histograms for review scores for mutually reviewed albums \n",
    "plt.figure(figsize=(10,5))\n",
    "plt.hist(Fantano_PF_intersec_df['score_pf'], color='g', alpha=.5, label='Pitchfork', bins=10)\n",
    "plt.axvline(Fantano_PF_intersec_df['score_pf'].mean(), color='g', linestyle='dashed', linewidth=1)\n",
    "\n",
    "plt.hist(Fantano_PF_intersec_df['score_Fantano'], color='b', alpha=.4, label='Fantano', bins=10 )\n",
    "plt.axvline(Fantano_PF_intersec_df['score_Fantano'].mean(), color='b', linestyle='dashed', linewidth=1)\n",
    "\n",
    "plt.legend(loc='upper right')\n",
    "plt.xlabel('Score')\n",
    "plt.ylabel('Albums')\n",
    "plt.title('Histograms of Score for Albums Reviewed by Both Publications', fontsize=15)\n",
    "plt.show()"
   ]
  },
  {
   "cell_type": "markdown",
   "metadata": {},
   "source": [
    "The set of albums that both have reviewed are a sample of the population of albums each has reviewed. Thus, \n",
    "These are both negative-skewed distributions. This creates a problem for comparing the distributions, as the tests assume normality. I will review the standard deviations to see if that will affect the testing. \n",
    "\n",
    "We can also see the Fantano scores have a more narrowly clustered distribution, which should be apparent from the standard deviations. "
   ]
  },
  {
   "cell_type": "code",
   "execution_count": 29,
   "metadata": {},
   "outputs": [
    {
     "name": "stdout",
     "output_type": "stream",
     "text": [
      "The standard deviation for the PF scores is 1.1687681849094667 and the standard deviation for the Fantano scores is 1.5853955816697904\n"
     ]
    }
   ],
   "source": [
    "#find the standard deviation and \n",
    "PF_inter_score_std = np.std(Fantano_PF_intersec_df['score_pf'])\n",
    "Fantano_inter_score_std = np.std(Fantano_PF_intersec_df['score_Fantano'])\n",
    "print(\"The standard deviation for the PF scores is {} and the standard deviation for the Fantano scores is {}\".format(PF_inter_score_std,Fantano_inter_score_std))"
   ]
  },
  {
   "cell_type": "code",
   "execution_count": 30,
   "metadata": {},
   "outputs": [
    {
     "data": {
      "text/html": [
       "<div>\n",
       "<style scoped>\n",
       "    .dataframe tbody tr th:only-of-type {\n",
       "        vertical-align: middle;\n",
       "    }\n",
       "\n",
       "    .dataframe tbody tr th {\n",
       "        vertical-align: top;\n",
       "    }\n",
       "\n",
       "    .dataframe thead th {\n",
       "        text-align: right;\n",
       "    }\n",
       "</style>\n",
       "<table border=\"1\" class=\"dataframe\">\n",
       "  <thead>\n",
       "    <tr style=\"text-align: right;\">\n",
       "      <th></th>\n",
       "      <th>score_pf</th>\n",
       "      <th>score_Fantano</th>\n",
       "    </tr>\n",
       "  </thead>\n",
       "  <tbody>\n",
       "    <tr>\n",
       "      <th>count</th>\n",
       "      <td>821.000000</td>\n",
       "      <td>821.000000</td>\n",
       "    </tr>\n",
       "    <tr>\n",
       "      <th>mean</th>\n",
       "      <td>7.407674</td>\n",
       "      <td>6.280146</td>\n",
       "    </tr>\n",
       "    <tr>\n",
       "      <th>std</th>\n",
       "      <td>1.169481</td>\n",
       "      <td>1.586362</td>\n",
       "    </tr>\n",
       "    <tr>\n",
       "      <th>min</th>\n",
       "      <td>1.000000</td>\n",
       "      <td>0.000000</td>\n",
       "    </tr>\n",
       "    <tr>\n",
       "      <th>25%</th>\n",
       "      <td>6.800000</td>\n",
       "      <td>5.000000</td>\n",
       "    </tr>\n",
       "    <tr>\n",
       "      <th>50%</th>\n",
       "      <td>7.600000</td>\n",
       "      <td>6.000000</td>\n",
       "    </tr>\n",
       "    <tr>\n",
       "      <th>75%</th>\n",
       "      <td>8.200000</td>\n",
       "      <td>7.000000</td>\n",
       "    </tr>\n",
       "    <tr>\n",
       "      <th>max</th>\n",
       "      <td>10.000000</td>\n",
       "      <td>10.000000</td>\n",
       "    </tr>\n",
       "  </tbody>\n",
       "</table>\n",
       "</div>"
      ],
      "text/plain": [
       "         score_pf  score_Fantano\n",
       "count  821.000000     821.000000\n",
       "mean     7.407674       6.280146\n",
       "std      1.169481       1.586362\n",
       "min      1.000000       0.000000\n",
       "25%      6.800000       5.000000\n",
       "50%      7.600000       6.000000\n",
       "75%      8.200000       7.000000\n",
       "max     10.000000      10.000000"
      ]
     },
     "execution_count": 30,
     "metadata": {},
     "output_type": "execute_result"
    }
   ],
   "source": [
    "#get basic stats for both sets of scores\n",
    "Fantano_PF_intersec_df[['score_pf', 'score_Fantano']].describe()"
   ]
  },
  {
   "cell_type": "code",
   "execution_count": 31,
   "metadata": {},
   "outputs": [
    {
     "data": {
      "text/plain": [
       "Ttest_indResult(statistic=16.392540084192476, pvalue=4.816949713842482e-56)"
      ]
     },
     "execution_count": 31,
     "metadata": {},
     "output_type": "execute_result"
    }
   ],
   "source": [
    "scipy.stats.ttest_ind(Fantano_PF_intersec_df['score_pf'], Fantano_PF_intersec_df['score_Fantano'])"
   ]
  },
  {
   "cell_type": "markdown",
   "metadata": {},
   "source": [
    "The number of observations is quite large, so a t-test gives an approximation in this case. This p-value very small and should be considered significant. The Fantano scores are a bit over one unit (both reviewers use a unitles 10 point scale, 0 the worst and 10 being the best.)\n",
    "\n",
    "Because of the skewness and difference in standard deviations, I chose also run a ranked sum test. \n",
    "\n",
    "From this we can conclude that the average score that Fantano gives to an album is significantly higher than the average score pitchfork would give to the same album. "
   ]
  },
  {
   "cell_type": "code",
   "execution_count": 32,
   "metadata": {},
   "outputs": [
    {
     "data": {
      "text/plain": [
       "RanksumsResult(statistic=15.690456762842059, pvalue=1.7578613331609182e-55)"
      ]
     },
     "execution_count": 32,
     "metadata": {},
     "output_type": "execute_result"
    }
   ],
   "source": [
    "scipy.stats.ranksums(Fantano_PF_intersec_df['score_pf'], Fantano_PF_intersec_df['score_Fantano'])"
   ]
  },
  {
   "cell_type": "markdown",
   "metadata": {},
   "source": [
    "The results produced are similar but give slightly lower confidence in the result. \n",
    "\n",
    "##### Interpretation:\n",
    "The Fantano's higher scores can be interpreted to mean that he 'grades easier' than pitchfork. However, this assumes the sample of albums chosen to review is unbiased. There could be reasons this is not true:  \n",
    "    * listening or partially listening to the album but not publishing a review if it one doesn't like it on first listen  \n",
    "    * seeking out albums by bands one already likes, if albums quality has some consistancy for a given band  "
   ]
  },
  {
   "cell_type": "markdown",
   "metadata": {},
   "source": [
    "### Distribution of the difference in score for each album\n",
    "We might also want to know how similar the scores are for any individual album - do the two reviewers give scores that are similar, just with a somewhat higher average for Fantano? \n",
    "\n",
    "Let's visualize where the scores fall for each album between the two reviewers."
   ]
  },
  {
   "cell_type": "code",
   "execution_count": 33,
   "metadata": {
    "scrolled": true
   },
   "outputs": [
    {
     "data": {
      "image/png": "[encoded data removed]",
      "text/plain": [
       "<Figure size 432x288 with 1 Axes>"
      ]
     },
     "metadata": {
      "needs_background": "light"
     },
     "output_type": "display_data"
    }
   ],
   "source": [
    "plt.scatter(Fantano_PF_intersec_df['score_pf'], Fantano_PF_intersec_df['score_Fantano'])\n",
    "plt.xlabel('Fantano Score')\n",
    "plt.ylabel('PF Score')\n",
    "plt.title('Scatter Plot of Album Scores')\n",
    "plt.show()"
   ]
  },
  {
   "cell_type": "markdown",
   "metadata": {},
   "source": [
    "These look like they are spread out. How much does the score vary by for an typical album?"
   ]
  },
  {
   "cell_type": "code",
   "execution_count": 34,
   "metadata": {},
   "outputs": [
    {
     "data": {
      "image/png": "[encoded data removed]",
      "text/plain": [
       "<Figure size 720x360 with 1 Axes>"
      ]
     },
     "metadata": {
      "needs_background": "light"
     },
     "output_type": "display_data"
    }
   ],
   "source": [
    "#create score diff df\n",
    "score_diff_F_min_pf_df = Fantano_PF_intersec_df.loc[:,['artist_Fantano', 'title_Fantano']]\n",
    "score_diff = Fantano_PF_intersec_df['score_Fantano'] - Fantano_PF_intersec_df['score_pf']\n",
    "score_diff_F_min_pf_df['difference']= score_diff\n",
    "\n",
    "#compute values for plot\n",
    "diff_mean = score_diff_F_min_pf_df['difference'].mean()\n",
    "diff_st = score_diff_F_min_pf_df['difference'].std()\n",
    "diff_st_l = diff_mean - diff_st\n",
    "diff_st_u = diff_mean + diff_st\n",
    "\n",
    "#plot\n",
    "plt.figure(figsize=(10,5))\n",
    "plt.hist(score_diff_F_min_pf_df['difference'], color='c', alpha=.5, bins=20, label='Difference in Score')\n",
    "plt.title('Histogram of Difference in Album Scores', fontsize= 15)\n",
    "plt.xlabel('Negative means PF gave a higher score, positive means Fantano gave a higher score')\n",
    "plt.ylabel('Number of Albums')\n",
    "plt.axvline(diff_mean , color='c', linestyle='dashed', linewidth=1, label='Mean: {:5.2f}'.format(diff_mean))\n",
    "plt.axvline(diff_mean - diff_st, color='b', linestyle='dashed', linewidth=1, \n",
    "            label='lower end of standard deviation: {:5.2f}'.format(diff_st_l))\n",
    "plt.axvline(diff_mean + diff_st, color='m', linestyle='dashed', linewidth=1, \n",
    "            label='upper end of standard deviation: {:5.2f}'.format(diff_st_u))\n",
    "plt.legend(loc='upper right')\n",
    "plt.show()\n"
   ]
  },
  {
   "cell_type": "markdown",
   "metadata": {},
   "source": [
    "Let's check this is noramlly distributed. "
   ]
  },
  {
   "cell_type": "code",
   "execution_count": 35,
   "metadata": {},
   "outputs": [],
   "source": [
    "#create normal distribution with same size as Best New Music\n",
    "normal_diff = np.random.normal(40, .1, score_diff_F_min_pf_df['difference'].count())\n",
    "normal_diff.sort()\n"
   ]
  },
  {
   "cell_type": "code",
   "execution_count": 36,
   "metadata": {},
   "outputs": [],
   "source": [
    "differences = score_diff_F_min_pf_df['difference']\n",
    "differences = differences.sort_values()"
   ]
  },
  {
   "cell_type": "code",
   "execution_count": 37,
   "metadata": {},
   "outputs": [
    {
     "data": {
      "image/png": "[encoded data removed]",
      "text/plain": [
       "<Figure size 432x288 with 1 Axes>"
      ]
     },
     "metadata": {
      "needs_background": "light"
     },
     "output_type": "display_data"
    }
   ],
   "source": [
    "#plot normal distribution and Best New Music on QQ\n",
    "plt.plot(normal_diff, differences, \"o\")\n",
    "plt.xlabel('Normal Distribution')\n",
    "plt.ylabel('Distribution Review Scores Differences')\n",
    "plt.title('QQ Plot for Review Score Differences')\n",
    "plt.show()"
   ]
  },
  {
   "cell_type": "markdown",
   "metadata": {},
   "source": [
    "There are a couple of outliers, but this is close to normal."
   ]
  },
  {
   "cell_type": "markdown",
   "metadata": {},
   "source": [
    "### Pitchfork's 'Best New Music'\n",
    "\n",
    "Pitchfork adds some of the albums that it reviews to an ongoing cumulative list call 'Best New Music'. Are the reviews scores for these albums higher than the average review? How much higher?\n",
    "\n",
    "For this question, the reviews are considered as the population, since this is question comparing "
   ]
  },
  {
   "cell_type": "code",
   "execution_count": 38,
   "metadata": {},
   "outputs": [],
   "source": [
    "#slice best new music\n",
    "pf_bnm = pf_reviews_df.loc[pf_reviews_df['best_new_music'] == 1]['score']\n"
   ]
  },
  {
   "cell_type": "code",
   "execution_count": 39,
   "metadata": {},
   "outputs": [
    {
     "data": {
      "image/png": "[encoded data removed]",
      "text/plain": [
       "<Figure size 720x360 with 1 Axes>"
      ]
     },
     "metadata": {
      "needs_background": "light"
     },
     "output_type": "display_data"
    }
   ],
   "source": [
    "#plot results\n",
    "plt.figure(figsize=(10,5))\n",
    "plt.hist(pf_reviews_df['score'], color='b', alpha=.5, label='All Reviews', bins=30, density=True)\n",
    "plt.axvline(pf_reviews_df['score'].mean(), color='b', linestyle='dashed', linewidth=1)\n",
    "\n",
    "plt.hist(pf_bnm, color='m', alpha=.5, label='\"Best New Music\" Only', bins=30, density=True)\n",
    "plt.axvline(pf_bnm.mean(), color='m', linestyle='dashed', linewidth=1)\n",
    "\n",
    "plt.legend(loc='upper right')\n",
    "plt.xlabel('Score')\n",
    "plt.ylabel('Normalize share of Albums')\n",
    "plt.title('Histogram of Pitchfork Review', fontsize=15)\n",
    "plt.show()"
   ]
  },
  {
   "cell_type": "markdown",
   "metadata": {},
   "source": [
    "As described above, the distribution of all reviews appears skewed. The Best New Music scores, while having a much higher mean, is a sample of all reviews and appears to be closer to normal. To test this, we will look at a Quantile-Quantile plot."
   ]
  },
  {
   "cell_type": "code",
   "execution_count": 40,
   "metadata": {},
   "outputs": [],
   "source": [
    "#create normal distribution with same size as Best New Music\n",
    "normal = np.random.normal(40, .1, 1132)\n",
    "\n",
    "#sort bnm values\n",
    "pf_bnm = pf_bnm.sort_values()\n",
    "normal.sort()"
   ]
  },
  {
   "cell_type": "code",
   "execution_count": 41,
   "metadata": {},
   "outputs": [
    {
     "data": {
      "image/png": "[encoded data removed]",
      "text/plain": [
       "<Figure size 432x288 with 1 Axes>"
      ]
     },
     "metadata": {
      "needs_background": "light"
     },
     "output_type": "display_data"
    }
   ],
   "source": [
    "#plot normal distribution and Best New Music on QQ\n",
    "plt.plot(normal, pf_bnm, \"o\")\n",
    "plt.xlabel('Normal Distribution')\n",
    "plt.ylabel('Distribution Review Scores')\n",
    "plt.title('QQ Plot for Best New Music Reviews')\n",
    "plt.show()"
   ]
  },
  {
   "cell_type": "markdown",
   "metadata": {},
   "source": [
    "There is some differences, especially at the extreme ends of the distribution - a very few low scores, and a grouping of perfect 10 scores at the high end. This is likely due to the bounds of the scores - low scores in 'best new music' are contrary to the definition of 'Best' and very rare, and this tail is thin, until around a score of 8. The maximum score of 10 puts a hard limit on the right tail, limiting . "
   ]
  },
  {
   "cell_type": "markdown",
   "metadata": {},
   "source": [
    "## Proposal for Additional Research"
   ]
  },
  {
   "cell_type": "code",
   "execution_count": null,
   "metadata": {},
   "outputs": [],
   "source": []
  }
 ],
 "metadata": {
  "kernelspec": {
   "display_name": "Python 3",
   "language": "python",
   "name": "python3"
  },
  "language_info": {
   "codemirror_mode": {
    "name": "ipython",
    "version": 3
   },
   "file_extension": ".py",
   "mimetype": "text/x-python",
   "name": "python",
   "nbconvert_exporter": "python",
   "pygments_lexer": "ipython3",
   "version": "3.7.3"
  }
 },
 "nbformat": 4,
 "nbformat_minor": 2
}

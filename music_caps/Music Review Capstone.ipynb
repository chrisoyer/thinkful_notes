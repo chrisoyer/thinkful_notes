{
 "cells": [
  {
   "cell_type": "markdown",
   "metadata": {},
   "source": [
    "# Music Reviews: A Look at Numeric Scores\n",
    "\n",
    "## Intro\n",
    "This report will look at several music review publishers. What music do they focus on? Although they both use a 0-10 numeric scoring system, does one give higher average marks? What does the scores of albums included on the \"Best New Music\" list look like?"
   ]
  },
  {
   "cell_type": "markdown",
   "metadata": {},
   "source": [
    "## Description of Data\n",
    "\n",
    "For this report I will import a set of records describing music reviews by Anthony Fantano obtained from Kaggle [here](https://www.kaggle.com/jaredarcilla/anthony-fantano-reviews), and a set of music review scores from Pitchfork Music, also obtained from Kaggle, [here](https://www.kaggle.com/nolanbconaway/pitchfork-data). Anthony Fantano is an independant music reviewer who uploads his reviews to Youtube as [theneedledrop](https://www.youtube.com/theneedledrop), which is where the data was originally obtained (not by me). [Pitchfork](https://pitchfork.com) is a music news and reviews publication, part of Condé Nast. \n",
    "\n",
    "The aspects of the data I will be focusing on are the review scores for albums. Both score albums on a 0-10 scale, with 10 as the best."
   ]
  },
  {
   "cell_type": "code",
   "execution_count": 1,
   "metadata": {},
   "outputs": [],
   "source": [
    "#importing modules \n",
    "import pandas as pd\n",
    "import numpy as np\n",
    "import matplotlib.pyplot as plt\n",
    "import scipy.stats\n",
    "import sqlite3"
   ]
  },
  {
   "cell_type": "markdown",
   "metadata": {},
   "source": [
    "## Importing and Cleaning Data\n",
    "\n",
    "### Fantano Reviews"
   ]
  },
  {
   "cell_type": "code",
   "execution_count": 2,
   "metadata": {},
   "outputs": [],
   "source": [
    "#loading first dataset\n",
    "fantano_reviewdf = pd.read_csv('C:/Users/User/Documents/Github/thinkful_notes/music_caps/fantano_reviews.csv', encoding='latin_1')"
   ]
  },
  {
   "cell_type": "code",
   "execution_count": 3,
   "metadata": {},
   "outputs": [
    {
     "data": {
      "text/html": [
       "<div>\n",
       "<style scoped>\n",
       "    .dataframe tbody tr th:only-of-type {\n",
       "        vertical-align: middle;\n",
       "    }\n",
       "\n",
       "    .dataframe tbody tr th {\n",
       "        vertical-align: top;\n",
       "    }\n",
       "\n",
       "    .dataframe thead th {\n",
       "        text-align: right;\n",
       "    }\n",
       "</style>\n",
       "<table border=\"1\" class=\"dataframe\">\n",
       "  <thead>\n",
       "    <tr style=\"text-align: right;\">\n",
       "      <th></th>\n",
       "      <th>Unnamed: 0</th>\n",
       "      <th>title</th>\n",
       "      <th>artist</th>\n",
       "      <th>review_date</th>\n",
       "      <th>review_type</th>\n",
       "      <th>score</th>\n",
       "      <th>word_score</th>\n",
       "      <th>best_tracks</th>\n",
       "      <th>worst_track</th>\n",
       "      <th>link</th>\n",
       "    </tr>\n",
       "  </thead>\n",
       "  <tbody>\n",
       "    <tr>\n",
       "      <th>0</th>\n",
       "      <td>0</td>\n",
       "      <td>Cosmogramma</td>\n",
       "      <td>Flying Lotus</td>\n",
       "      <td>2010-05-05</td>\n",
       "      <td>Album</td>\n",
       "      <td>8.0</td>\n",
       "      <td>NaN</td>\n",
       "      <td>[]</td>\n",
       "      <td>NaN</td>\n",
       "      <td>https://www.youtube.com/watch?v=KCuamde9Atc</td>\n",
       "    </tr>\n",
       "    <tr>\n",
       "      <th>1</th>\n",
       "      <td>1</td>\n",
       "      <td>Throat</td>\n",
       "      <td>Little Women</td>\n",
       "      <td>2010-05-09</td>\n",
       "      <td>Album</td>\n",
       "      <td>9.0</td>\n",
       "      <td>NaN</td>\n",
       "      <td>[]</td>\n",
       "      <td>NaN</td>\n",
       "      <td>https://www.youtube.com/watch?v=cndwH6byJnk</td>\n",
       "    </tr>\n",
       "    <tr>\n",
       "      <th>2</th>\n",
       "      <td>2</td>\n",
       "      <td>Latin</td>\n",
       "      <td>Holy Fuck</td>\n",
       "      <td>2010-05-10</td>\n",
       "      <td>Album</td>\n",
       "      <td>7.0</td>\n",
       "      <td>NaN</td>\n",
       "      <td>[]</td>\n",
       "      <td>NaN</td>\n",
       "      <td>https://www.youtube.com/watch?v=ySXryTlo9Ac</td>\n",
       "    </tr>\n",
       "  </tbody>\n",
       "</table>\n",
       "</div>"
      ],
      "text/plain": [
       "   Unnamed: 0        title        artist review_date review_type  score  \\\n",
       "0           0  Cosmogramma  Flying Lotus  2010-05-05       Album    8.0   \n",
       "1           1       Throat  Little Women  2010-05-09       Album    9.0   \n",
       "2           2        Latin     Holy Fuck  2010-05-10       Album    7.0   \n",
       "\n",
       "  word_score best_tracks worst_track  \\\n",
       "0        NaN          []         NaN   \n",
       "1        NaN          []         NaN   \n",
       "2        NaN          []         NaN   \n",
       "\n",
       "                                          link  \n",
       "0  https://www.youtube.com/watch?v=KCuamde9Atc  \n",
       "1  https://www.youtube.com/watch?v=cndwH6byJnk  \n",
       "2  https://www.youtube.com/watch?v=ySXryTlo9Ac  "
      ]
     },
     "execution_count": 3,
     "metadata": {},
     "output_type": "execute_result"
    }
   ],
   "source": [
    "#remove nulls\n",
    "fantano_reviewdf = fantano_reviewdf[fantano_reviewdf['score'].notnull()]\n",
    "fantano_reviewdf.head(3)"
   ]
  },
  {
   "cell_type": "markdown",
   "metadata": {},
   "source": [
    "### Loading Pitchfork Dataset"
   ]
  },
  {
   "cell_type": "code",
   "execution_count": 4,
   "metadata": {},
   "outputs": [],
   "source": [
    "#load pitchfork database\n",
    "conn = sqlite3.connect('C:/Users/User/Documents/Github/thinkful_notes/music_caps/pf_database.sqlite')\n",
    "c = conn.cursor()"
   ]
  },
  {
   "cell_type": "code",
   "execution_count": 5,
   "metadata": {},
   "outputs": [],
   "source": [
    "#read pf reviews into a dataframe\n",
    "pf_reviews_df = pd.read_sql('SELECT reviewid, title, artist ,score, best_new_music FROM reviews', conn)"
   ]
  },
  {
   "cell_type": "code",
   "execution_count": 6,
   "metadata": {},
   "outputs": [
    {
     "data": {
      "text/html": [
       "<div>\n",
       "<style scoped>\n",
       "    .dataframe tbody tr th:only-of-type {\n",
       "        vertical-align: middle;\n",
       "    }\n",
       "\n",
       "    .dataframe tbody tr th {\n",
       "        vertical-align: top;\n",
       "    }\n",
       "\n",
       "    .dataframe thead th {\n",
       "        text-align: right;\n",
       "    }\n",
       "</style>\n",
       "<table border=\"1\" class=\"dataframe\">\n",
       "  <thead>\n",
       "    <tr style=\"text-align: right;\">\n",
       "      <th></th>\n",
       "      <th>reviewid</th>\n",
       "      <th>title</th>\n",
       "      <th>artist</th>\n",
       "      <th>score</th>\n",
       "      <th>best_new_music</th>\n",
       "    </tr>\n",
       "  </thead>\n",
       "  <tbody>\n",
       "    <tr>\n",
       "      <th>0</th>\n",
       "      <td>22703</td>\n",
       "      <td>mezzanine</td>\n",
       "      <td>massive attack</td>\n",
       "      <td>9.3</td>\n",
       "      <td>0</td>\n",
       "    </tr>\n",
       "    <tr>\n",
       "      <th>1</th>\n",
       "      <td>22721</td>\n",
       "      <td>prelapsarian</td>\n",
       "      <td>krallice</td>\n",
       "      <td>7.9</td>\n",
       "      <td>0</td>\n",
       "    </tr>\n",
       "    <tr>\n",
       "      <th>2</th>\n",
       "      <td>22659</td>\n",
       "      <td>all of them naturals</td>\n",
       "      <td>uranium club</td>\n",
       "      <td>7.3</td>\n",
       "      <td>0</td>\n",
       "    </tr>\n",
       "    <tr>\n",
       "      <th>3</th>\n",
       "      <td>22661</td>\n",
       "      <td>first songs</td>\n",
       "      <td>kleenex, liliput</td>\n",
       "      <td>9.0</td>\n",
       "      <td>1</td>\n",
       "    </tr>\n",
       "  </tbody>\n",
       "</table>\n",
       "</div>"
      ],
      "text/plain": [
       "   reviewid                 title            artist  score  best_new_music\n",
       "0     22703             mezzanine    massive attack    9.3               0\n",
       "1     22721          prelapsarian          krallice    7.9               0\n",
       "2     22659  all of them naturals      uranium club    7.3               0\n",
       "3     22661           first songs  kleenex, liliput    9.0               1"
      ]
     },
     "execution_count": 6,
     "metadata": {},
     "output_type": "execute_result"
    }
   ],
   "source": [
    "#check data is in dataframe\n",
    "pf_reviews_df.head(4)"
   ]
  },
  {
   "cell_type": "code",
   "execution_count": 7,
   "metadata": {},
   "outputs": [
    {
     "data": {
      "text/html": [
       "<div>\n",
       "<style scoped>\n",
       "    .dataframe tbody tr th:only-of-type {\n",
       "        vertical-align: middle;\n",
       "    }\n",
       "\n",
       "    .dataframe tbody tr th {\n",
       "        vertical-align: top;\n",
       "    }\n",
       "\n",
       "    .dataframe thead th {\n",
       "        text-align: right;\n",
       "    }\n",
       "</style>\n",
       "<table border=\"1\" class=\"dataframe\">\n",
       "  <thead>\n",
       "    <tr style=\"text-align: right;\">\n",
       "      <th></th>\n",
       "      <th>reviewid</th>\n",
       "      <th>title</th>\n",
       "      <th>artist</th>\n",
       "      <th>score</th>\n",
       "      <th>best_new_music</th>\n",
       "      <th>genre</th>\n",
       "    </tr>\n",
       "  </thead>\n",
       "  <tbody>\n",
       "    <tr>\n",
       "      <th>0</th>\n",
       "      <td>22703</td>\n",
       "      <td>mezzanine</td>\n",
       "      <td>massive attack</td>\n",
       "      <td>9.3</td>\n",
       "      <td>0</td>\n",
       "      <td>electronic</td>\n",
       "    </tr>\n",
       "    <tr>\n",
       "      <th>1</th>\n",
       "      <td>22721</td>\n",
       "      <td>prelapsarian</td>\n",
       "      <td>krallice</td>\n",
       "      <td>7.9</td>\n",
       "      <td>0</td>\n",
       "      <td>metal</td>\n",
       "    </tr>\n",
       "    <tr>\n",
       "      <th>2</th>\n",
       "      <td>22659</td>\n",
       "      <td>all of them naturals</td>\n",
       "      <td>uranium club</td>\n",
       "      <td>7.3</td>\n",
       "      <td>0</td>\n",
       "      <td>rock</td>\n",
       "    </tr>\n",
       "    <tr>\n",
       "      <th>3</th>\n",
       "      <td>22661</td>\n",
       "      <td>first songs</td>\n",
       "      <td>kleenex, liliput</td>\n",
       "      <td>9.0</td>\n",
       "      <td>1</td>\n",
       "      <td>rock</td>\n",
       "    </tr>\n",
       "    <tr>\n",
       "      <th>4</th>\n",
       "      <td>22725</td>\n",
       "      <td>new start</td>\n",
       "      <td>taso</td>\n",
       "      <td>8.1</td>\n",
       "      <td>0</td>\n",
       "      <td>electronic</td>\n",
       "    </tr>\n",
       "  </tbody>\n",
       "</table>\n",
       "</div>"
      ],
      "text/plain": [
       "   reviewid                 title            artist  score  best_new_music  \\\n",
       "0     22703             mezzanine    massive attack    9.3               0   \n",
       "1     22721          prelapsarian          krallice    7.9               0   \n",
       "2     22659  all of them naturals      uranium club    7.3               0   \n",
       "3     22661           first songs  kleenex, liliput    9.0               1   \n",
       "4     22725             new start              taso    8.1               0   \n",
       "\n",
       "        genre  \n",
       "0  electronic  \n",
       "1       metal  \n",
       "2        rock  \n",
       "3        rock  \n",
       "4  electronic  "
      ]
     },
     "execution_count": 7,
     "metadata": {},
     "output_type": "execute_result"
    }
   ],
   "source": [
    "#add genre data to dataframe\n",
    "pf_reviews_df_genre = pd.read_sql('SELECT * FROM genres', conn)\n",
    "pf_reviews_df = pd.merge(pf_reviews_df, pf_reviews_df_genre, on='reviewid', how='inner')\n",
    "pf_reviews_df.head()"
   ]
  },
  {
   "cell_type": "code",
   "execution_count": 8,
   "metadata": {},
   "outputs": [
    {
     "data": {
      "text/html": [
       "<div>\n",
       "<style scoped>\n",
       "    .dataframe tbody tr th:only-of-type {\n",
       "        vertical-align: middle;\n",
       "    }\n",
       "\n",
       "    .dataframe tbody tr th {\n",
       "        vertical-align: top;\n",
       "    }\n",
       "\n",
       "    .dataframe thead tr th {\n",
       "        text-align: left;\n",
       "    }\n",
       "\n",
       "    .dataframe thead tr:last-of-type th {\n",
       "        text-align: right;\n",
       "    }\n",
       "</style>\n",
       "<table border=\"1\" class=\"dataframe\">\n",
       "  <thead>\n",
       "    <tr>\n",
       "      <th></th>\n",
       "      <th colspan=\"3\" halign=\"left\">score</th>\n",
       "      <th colspan=\"3\" halign=\"left\">best_new_music</th>\n",
       "    </tr>\n",
       "    <tr>\n",
       "      <th></th>\n",
       "      <th>std</th>\n",
       "      <th>size</th>\n",
       "      <th>mean</th>\n",
       "      <th>std</th>\n",
       "      <th>size</th>\n",
       "      <th>mean</th>\n",
       "    </tr>\n",
       "    <tr>\n",
       "      <th>genre</th>\n",
       "      <th></th>\n",
       "      <th></th>\n",
       "      <th></th>\n",
       "      <th></th>\n",
       "      <th></th>\n",
       "      <th></th>\n",
       "    </tr>\n",
       "  </thead>\n",
       "  <tbody>\n",
       "    <tr>\n",
       "      <th>electronic</th>\n",
       "      <td>1.310056</td>\n",
       "      <td>3874.0</td>\n",
       "      <td>6.920702</td>\n",
       "      <td>0.214365</td>\n",
       "      <td>3874</td>\n",
       "      <td>0.048271</td>\n",
       "    </tr>\n",
       "    <tr>\n",
       "      <th>experimental</th>\n",
       "      <td>1.106455</td>\n",
       "      <td>1815.0</td>\n",
       "      <td>7.336694</td>\n",
       "      <td>0.250468</td>\n",
       "      <td>1815</td>\n",
       "      <td>0.067218</td>\n",
       "    </tr>\n",
       "    <tr>\n",
       "      <th>folk/country</th>\n",
       "      <td>1.064435</td>\n",
       "      <td>685.0</td>\n",
       "      <td>7.202190</td>\n",
       "      <td>0.194725</td>\n",
       "      <td>685</td>\n",
       "      <td>0.039416</td>\n",
       "    </tr>\n",
       "    <tr>\n",
       "      <th>global</th>\n",
       "      <td>1.006076</td>\n",
       "      <td>219.0</td>\n",
       "      <td>7.429680</td>\n",
       "      <td>0.198967</td>\n",
       "      <td>219</td>\n",
       "      <td>0.041096</td>\n",
       "    </tr>\n",
       "    <tr>\n",
       "      <th>jazz</th>\n",
       "      <td>1.251104</td>\n",
       "      <td>435.0</td>\n",
       "      <td>7.303908</td>\n",
       "      <td>0.194010</td>\n",
       "      <td>435</td>\n",
       "      <td>0.039080</td>\n",
       "    </tr>\n",
       "    <tr>\n",
       "      <th>metal</th>\n",
       "      <td>1.387799</td>\n",
       "      <td>862.0</td>\n",
       "      <td>6.950000</td>\n",
       "      <td>0.171133</td>\n",
       "      <td>862</td>\n",
       "      <td>0.030162</td>\n",
       "    </tr>\n",
       "    <tr>\n",
       "      <th>pop/r&amp;b</th>\n",
       "      <td>1.295232</td>\n",
       "      <td>1432.0</td>\n",
       "      <td>6.883799</td>\n",
       "      <td>0.236375</td>\n",
       "      <td>1432</td>\n",
       "      <td>0.059358</td>\n",
       "    </tr>\n",
       "    <tr>\n",
       "      <th>rap</th>\n",
       "      <td>1.302703</td>\n",
       "      <td>1559.0</td>\n",
       "      <td>6.900513</td>\n",
       "      <td>0.219401</td>\n",
       "      <td>1559</td>\n",
       "      <td>0.050674</td>\n",
       "    </tr>\n",
       "    <tr>\n",
       "      <th>rock</th>\n",
       "      <td>1.360347</td>\n",
       "      <td>9438.0</td>\n",
       "      <td>6.942011</td>\n",
       "      <td>0.230235</td>\n",
       "      <td>9438</td>\n",
       "      <td>0.056156</td>\n",
       "    </tr>\n",
       "  </tbody>\n",
       "</table>\n",
       "</div>"
      ],
      "text/plain": [
       "                 score                   best_new_music                \n",
       "                   std    size      mean            std  size      mean\n",
       "genre                                                                  \n",
       "electronic    1.310056  3874.0  6.920702       0.214365  3874  0.048271\n",
       "experimental  1.106455  1815.0  7.336694       0.250468  1815  0.067218\n",
       "folk/country  1.064435   685.0  7.202190       0.194725   685  0.039416\n",
       "global        1.006076   219.0  7.429680       0.198967   219  0.041096\n",
       "jazz          1.251104   435.0  7.303908       0.194010   435  0.039080\n",
       "metal         1.387799   862.0  6.950000       0.171133   862  0.030162\n",
       "pop/r&b       1.295232  1432.0  6.883799       0.236375  1432  0.059358\n",
       "rap           1.302703  1559.0  6.900513       0.219401  1559  0.050674\n",
       "rock          1.360347  9438.0  6.942011       0.230235  9438  0.056156"
      ]
     },
     "execution_count": 8,
     "metadata": {},
     "output_type": "execute_result"
    }
   ],
   "source": [
    "#get summary data by genre\n",
    "pf_bygenre_df = pf_reviews_df.groupby(['genre'])['score', 'best_new_music'].agg({np.mean, np.std, np.size})\n",
    "pf_bygenre_df"
   ]
  },
  {
   "cell_type": "markdown",
   "metadata": {},
   "source": [
    "## Analytic Questions"
   ]
  },
  {
   "cell_type": "markdown",
   "metadata": {},
   "source": [
    "### Review Selection\n",
    "\n",
    "Pitchfork - what does the review score distribution look like? Does this vary by genre?"
   ]
  },
  {
   "cell_type": "code",
   "execution_count": 27,
   "metadata": {},
   "outputs": [
    {
     "name": "stderr",
     "output_type": "stream",
     "text": [
      "C:\\ProgramData\\Anaconda3\\lib\\site-packages\\matplotlib\\cbook\\deprecation.py:106: MatplotlibDeprecationWarning: Adding an axes using the same arguments as a previous axes currently reuses the earlier instance.  In a future version, a new instance will always be created and returned.  Meanwhile, this warning can be suppressed, and the future behavior ensured, by passing a unique label to each axes instance.\n",
      "  warnings.warn(message, mplDeprecation, stacklevel=1)\n",
      "C:\\ProgramData\\Anaconda3\\lib\\site-packages\\matplotlib\\figure.py:418: UserWarning: matplotlib is currently using a non-GUI backend, so cannot show the figure\n",
      "  \"matplotlib is currently using a non-GUI backend, \"\n"
     ]
    },
    {
     "data": {
      "image/png": "[encoded data removed]",
      "text/plain": [
       "<matplotlib.figure.Figure at 0x1447d579d68>"
      ]
     },
     "metadata": {},
     "output_type": "display_data"
    }
   ],
   "source": [
    "#create array of pf scores by genre\n",
    "data = []\n",
    "for genrei in pf_bygenre_df.iterrows():\n",
    "    genre = genrei[0]     #gets index only out of iterrows\n",
    "    data.append(pf_reviews_df[pf_reviews_df['genre'] == genre]['score'].tolist())\n",
    "#plot arrray\n",
    "fig2 = plt.figure(figsize = (16,4))\n",
    "bp = plt.boxplot(data, patch_artist=True)    \n",
    "ax = fig2.add_subplot(111)\n",
    "ax = ax.set_xticklabels(pf_bygenre_df.index)\n",
    "for box in bp['boxes']: #change box color\n",
    "    box.set(facecolor='g', alpha=.3)\n",
    "plt.ylabel('Score', fontsize=15)\n",
    "plt.xlabel('Genre', fontsize=15)\n",
    "plt.title('Pitchfork Album Scores: Distribution Boxplots', fontsize=15)\n",
    "fig2.show()"
   ]
  },
  {
   "cell_type": "code",
   "execution_count": 10,
   "metadata": {},
   "outputs": [
    {
     "data": {
      "text/plain": [
       "genre\n",
       "metal           1.387799\n",
       "rock            1.360347\n",
       "electronic      1.310056\n",
       "rap             1.302703\n",
       "pop/r&b         1.295232\n",
       "jazz            1.251104\n",
       "experimental    1.106455\n",
       "folk/country    1.064435\n",
       "global          1.006076\n",
       "Name: score, dtype: float64"
      ]
     },
     "execution_count": 10,
     "metadata": {},
     "output_type": "execute_result"
    }
   ],
   "source": [
    "#Genre standard deviations\n",
    "genre_std = pf_reviews_df.groupby(['genre'])['score'].std()\n",
    "genre_std.sort_values(ascending=False)"
   ]
  },
  {
   "cell_type": "markdown",
   "metadata": {},
   "source": [
    "While generally similar, with most scores between 6 and 8, the standard deviation for rock albums is larger (though smaller than metal).  \n",
    "Pitchfork's focus is on rock music, and so I will look at rock compared to all other genres. "
   ]
  },
  {
   "cell_type": "code",
   "execution_count": 11,
   "metadata": {},
   "outputs": [
    {
     "data": {
      "image/png": "[encoded data removed]",
      "text/plain": [
       "<matplotlib.figure.Figure at 0x1447b442860>"
      ]
     },
     "metadata": {},
     "output_type": "display_data"
    }
   ],
   "source": [
    "#plot Rock vs Other\n",
    "pf_rock = pf_reviews_df[pf_reviews_df['genre'] == 'rock']\n",
    "pf_nonrock = pf_reviews_df[pf_reviews_df['genre'] != 'rock']\n",
    "\n",
    "fig3 = plt.figure(figsize=(13,5))\n",
    "plt.ylabel('Score')\n",
    "plt.suptitle('Pitchfork Score Distribution Boxplots for Rock vs. All Other Genres', fontsize=15)\n",
    "\n",
    "ax1 = plt.subplot(211)\n",
    "plt.boxplot(pf_rock['score'], vert=False)\n",
    "plt.ylabel('Rock')\n",
    "\n",
    "ax2 = plt.subplot(212,  sharey=ax1)\n",
    "plt.boxplot(pf_nonrock['score'], vert=False)\n",
    "plt.ylabel('All Other')\n",
    "plt.setp(ax2.get_yticklabels(), visible=False)\n",
    "plt.xlabel('Album Scores')    \n",
    "plt.show(fig3)    "
   ]
  },
  {
   "cell_type": "markdown",
   "metadata": {},
   "source": [
    "These boxplots are quite similar."
   ]
  },
  {
   "cell_type": "markdown",
   "metadata": {},
   "source": [
    "### Comparison of Review Scores between Pitchfork and Fantano\n",
    "\n",
    "I will join these two datasets to look at just those albums which both reviewers have published scores for. "
   ]
  },
  {
   "cell_type": "code",
   "execution_count": 12,
   "metadata": {},
   "outputs": [],
   "source": [
    "#create lower case Artist and Album name columns in Fantano dataframe so they can be used to join Dataframes\n",
    "fantano_reviewdf['artist_lc'] = fantano_reviewdf['artist'].str.lower()\n",
    "fantano_reviewdf['title_lc'] = fantano_reviewdf['title'].str.lower()"
   ]
  },
  {
   "cell_type": "code",
   "execution_count": 13,
   "metadata": {},
   "outputs": [
    {
     "data": {
      "text/html": [
       "<div>\n",
       "<style scoped>\n",
       "    .dataframe tbody tr th:only-of-type {\n",
       "        vertical-align: middle;\n",
       "    }\n",
       "\n",
       "    .dataframe tbody tr th {\n",
       "        vertical-align: top;\n",
       "    }\n",
       "\n",
       "    .dataframe thead th {\n",
       "        text-align: right;\n",
       "    }\n",
       "</style>\n",
       "<table border=\"1\" class=\"dataframe\">\n",
       "  <thead>\n",
       "    <tr style=\"text-align: right;\">\n",
       "      <th></th>\n",
       "      <th>title_Fantano</th>\n",
       "      <th>artist_Fantano</th>\n",
       "      <th>score_Fantano</th>\n",
       "      <th>artist_lc</th>\n",
       "      <th>title_lc</th>\n",
       "      <th>title_pf</th>\n",
       "      <th>artist_pf</th>\n",
       "      <th>score_pf</th>\n",
       "      <th>best_new_music</th>\n",
       "      <th>genre</th>\n",
       "    </tr>\n",
       "  </thead>\n",
       "  <tbody>\n",
       "    <tr>\n",
       "      <th>0</th>\n",
       "      <td>Cosmogramma</td>\n",
       "      <td>Flying Lotus</td>\n",
       "      <td>8.0</td>\n",
       "      <td>flying lotus</td>\n",
       "      <td>cosmogramma</td>\n",
       "      <td>cosmogramma</td>\n",
       "      <td>flying lotus</td>\n",
       "      <td>8.8</td>\n",
       "      <td>1</td>\n",
       "      <td>electronic</td>\n",
       "    </tr>\n",
       "    <tr>\n",
       "      <th>1</th>\n",
       "      <td>Latin</td>\n",
       "      <td>Holy Fuck</td>\n",
       "      <td>7.0</td>\n",
       "      <td>holy fuck</td>\n",
       "      <td>latin</td>\n",
       "      <td>latin</td>\n",
       "      <td>holy fuck</td>\n",
       "      <td>7.8</td>\n",
       "      <td>0</td>\n",
       "      <td>electronic</td>\n",
       "    </tr>\n",
       "    <tr>\n",
       "      <th>2</th>\n",
       "      <td>High Violet</td>\n",
       "      <td>The National</td>\n",
       "      <td>6.0</td>\n",
       "      <td>the national</td>\n",
       "      <td>high violet</td>\n",
       "      <td>high violet</td>\n",
       "      <td>the national</td>\n",
       "      <td>8.7</td>\n",
       "      <td>1</td>\n",
       "      <td>rock</td>\n",
       "    </tr>\n",
       "    <tr>\n",
       "      <th>3</th>\n",
       "      <td>Together</td>\n",
       "      <td>The New Pornographers</td>\n",
       "      <td>7.0</td>\n",
       "      <td>the new pornographers</td>\n",
       "      <td>together</td>\n",
       "      <td>together</td>\n",
       "      <td>the new pornographers</td>\n",
       "      <td>7.3</td>\n",
       "      <td>0</td>\n",
       "      <td>rock</td>\n",
       "    </tr>\n",
       "    <tr>\n",
       "      <th>4</th>\n",
       "      <td>Sea of Cowards</td>\n",
       "      <td>The Dead Weather</td>\n",
       "      <td>5.0</td>\n",
       "      <td>the dead weather</td>\n",
       "      <td>sea of cowards</td>\n",
       "      <td>sea of cowards</td>\n",
       "      <td>the dead weather</td>\n",
       "      <td>7.8</td>\n",
       "      <td>0</td>\n",
       "      <td>rock</td>\n",
       "    </tr>\n",
       "  </tbody>\n",
       "</table>\n",
       "</div>"
      ],
      "text/plain": [
       "    title_Fantano         artist_Fantano  score_Fantano  \\\n",
       "0     Cosmogramma           Flying Lotus            8.0   \n",
       "1           Latin              Holy Fuck            7.0   \n",
       "2     High Violet           The National            6.0   \n",
       "3        Together  The New Pornographers            7.0   \n",
       "4  Sea of Cowards       The Dead Weather            5.0   \n",
       "\n",
       "               artist_lc        title_lc        title_pf  \\\n",
       "0           flying lotus     cosmogramma     cosmogramma   \n",
       "1              holy fuck           latin           latin   \n",
       "2           the national     high violet     high violet   \n",
       "3  the new pornographers        together        together   \n",
       "4       the dead weather  sea of cowards  sea of cowards   \n",
       "\n",
       "               artist_pf  score_pf  best_new_music       genre  \n",
       "0           flying lotus       8.8               1  electronic  \n",
       "1              holy fuck       7.8               0  electronic  \n",
       "2           the national       8.7               1        rock  \n",
       "3  the new pornographers       7.3               0        rock  \n",
       "4       the dead weather       7.8               0        rock  "
      ]
     },
     "execution_count": 13,
     "metadata": {},
     "output_type": "execute_result"
    }
   ],
   "source": [
    "# join Fantano and PF datasets\n",
    "Fantano_PF_intersec_df = pd.merge(fantano_reviewdf, pf_reviews_df, \n",
    "                               left_on=['artist_lc','title_lc'], right_on=['artist','title'], \n",
    "                               how='inner', suffixes=('_Fantano', '_pf'))\n",
    "#remove unusued columns\n",
    "Fantano_PF_intersec_df = Fantano_PF_intersec_df.drop(['Unnamed: 0', 'review_date', 'review_type', 'word_score', \n",
    "                                                      'best_tracks', 'worst_track', 'link', 'reviewid'], axis=1)\n",
    "# check data is correctly joined\n",
    "Fantano_PF_intersec_df.head()"
   ]
  },
  {
   "cell_type": "code",
   "execution_count": 14,
   "metadata": {
    "scrolled": false
   },
   "outputs": [
    {
     "data": {
      "image/png": "[encoded data removed]",
      "text/plain": [
       "<matplotlib.figure.Figure at 0x1447bf74b70>"
      ]
     },
     "metadata": {},
     "output_type": "display_data"
    }
   ],
   "source": [
    "#plot histograms for review scores for mutually reviewed albums \n",
    "plt.figure(figsize=(12,4))\n",
    "plt.hist(Fantano_PF_intersec_df['score_pf'], color='g', alpha=.5, label='Pitchfork', bins=10)\n",
    "plt.axvline(Fantano_PF_intersec_df['score_pf'].mean(), color='g', linestyle='dashed', linewidth=1)\n",
    "\n",
    "plt.hist(Fantano_PF_intersec_df['score_Fantano'], color='b', alpha=.4, label='Fantano', bins=10 )\n",
    "plt.axvline(Fantano_PF_intersec_df['score_Fantano'].mean(), color='b', linestyle='dashed', linewidth=1)\n",
    "\n",
    "plt.legend(loc='upper right')\n",
    "plt.xlabel('Score')\n",
    "plt.ylabel('Albums')\n",
    "plt.title('Histograms of Score for Albums Reviewed by Both Publications', fontsize=15)\n",
    "plt.show()"
   ]
  },
  {
   "cell_type": "markdown",
   "metadata": {},
   "source": [
    "The set of albums that both have reviewed are a sample of the population of albums each has reviewed. Thus, \n",
    "These are both negative-skewed distributions. This creates a problem for comparing the distributions, as the tests assume normality. I will review the standard deviations to see if that will affect the testing. \n",
    "\n",
    "We can also see the Fantano scores have a more narrowly clustered distribution, which should be apparent from the standard deviations. "
   ]
  },
  {
   "cell_type": "code",
   "execution_count": 15,
   "metadata": {},
   "outputs": [
    {
     "data": {
      "text/html": [
       "<div>\n",
       "<style scoped>\n",
       "    .dataframe tbody tr th:only-of-type {\n",
       "        vertical-align: middle;\n",
       "    }\n",
       "\n",
       "    .dataframe tbody tr th {\n",
       "        vertical-align: top;\n",
       "    }\n",
       "\n",
       "    .dataframe thead th {\n",
       "        text-align: right;\n",
       "    }\n",
       "</style>\n",
       "<table border=\"1\" class=\"dataframe\">\n",
       "  <thead>\n",
       "    <tr style=\"text-align: right;\">\n",
       "      <th></th>\n",
       "      <th>score_pf</th>\n",
       "      <th>score_Fantano</th>\n",
       "    </tr>\n",
       "  </thead>\n",
       "  <tbody>\n",
       "    <tr>\n",
       "      <th>count</th>\n",
       "      <td>821.000000</td>\n",
       "      <td>821.000000</td>\n",
       "    </tr>\n",
       "    <tr>\n",
       "      <th>mean</th>\n",
       "      <td>7.407674</td>\n",
       "      <td>6.280146</td>\n",
       "    </tr>\n",
       "    <tr>\n",
       "      <th>std</th>\n",
       "      <td>1.169481</td>\n",
       "      <td>1.586362</td>\n",
       "    </tr>\n",
       "    <tr>\n",
       "      <th>min</th>\n",
       "      <td>1.000000</td>\n",
       "      <td>0.000000</td>\n",
       "    </tr>\n",
       "    <tr>\n",
       "      <th>25%</th>\n",
       "      <td>6.800000</td>\n",
       "      <td>5.000000</td>\n",
       "    </tr>\n",
       "    <tr>\n",
       "      <th>50%</th>\n",
       "      <td>7.600000</td>\n",
       "      <td>6.000000</td>\n",
       "    </tr>\n",
       "    <tr>\n",
       "      <th>75%</th>\n",
       "      <td>8.200000</td>\n",
       "      <td>7.000000</td>\n",
       "    </tr>\n",
       "    <tr>\n",
       "      <th>max</th>\n",
       "      <td>10.000000</td>\n",
       "      <td>10.000000</td>\n",
       "    </tr>\n",
       "  </tbody>\n",
       "</table>\n",
       "</div>"
      ],
      "text/plain": [
       "         score_pf  score_Fantano\n",
       "count  821.000000     821.000000\n",
       "mean     7.407674       6.280146\n",
       "std      1.169481       1.586362\n",
       "min      1.000000       0.000000\n",
       "25%      6.800000       5.000000\n",
       "50%      7.600000       6.000000\n",
       "75%      8.200000       7.000000\n",
       "max     10.000000      10.000000"
      ]
     },
     "execution_count": 15,
     "metadata": {},
     "output_type": "execute_result"
    }
   ],
   "source": [
    "#get basic stats for both sets of scores\n",
    "Fantano_PF_intersec_df[['score_pf', 'score_Fantano']].describe()"
   ]
  },
  {
   "cell_type": "code",
   "execution_count": 16,
   "metadata": {},
   "outputs": [
    {
     "data": {
      "text/plain": [
       "Ttest_indResult(statistic=16.392540084192476, pvalue=4.816949713842482e-56)"
      ]
     },
     "execution_count": 16,
     "metadata": {},
     "output_type": "execute_result"
    }
   ],
   "source": [
    "scipy.stats.ttest_ind(Fantano_PF_intersec_df['score_pf'], Fantano_PF_intersec_df['score_Fantano'])"
   ]
  },
  {
   "cell_type": "markdown",
   "metadata": {},
   "source": [
    "##### Interpretation:\n",
    "The Fantano scores are somewhat lower, with a higher standard deviation. One explantation for this would be that as a website with a number of staff reviewers, Pitchfork can assign albums to people who specialize in a style of music, and those who specialize in a style will tend to give that style higher average marks. Thus Pitchfork's scores can be considered a bias sample of the population of reviews that their staff would give the albums, if every writer reveiewed every album. \n",
    "\n",
    "The number of observations is quite large, so a t-test gives an approximation in this case. This p-value very small and indicates the difference between the album scores is very unlikly to be due to chance, son long as the sample is not biased.\n",
    "\n",
    "Because of the skewness and difference in standard deviations, I chose also run a ranked sum test. "
   ]
  },
  {
   "cell_type": "code",
   "execution_count": 17,
   "metadata": {},
   "outputs": [
    {
     "data": {
      "text/plain": [
       "MannwhitneyuResult(statistic=186288.0, pvalue=3.690264676874808e-56)"
      ]
     },
     "execution_count": 17,
     "metadata": {},
     "output_type": "execute_result"
    }
   ],
   "source": [
    "scipy.stats.mannwhitneyu(Fantano_PF_intersec_df['score_pf'], Fantano_PF_intersec_df['score_Fantano'])"
   ]
  },
  {
   "cell_type": "markdown",
   "metadata": {},
   "source": [
    "The results produced similarly result in very high confidence in the result. The very low p-value means the result is not due to chance. This is helped by the large number of reviews in the intersection set. From this we can conclude that the average score that Fantano gives to albums is significantly higher than the average score pitchfork gives to albums. "
   ]
  },
  {
   "cell_type": "markdown",
   "metadata": {},
   "source": [
    "### Distribution of the difference in score for each album\n",
    "We might also want to know how similar the scores are for any individual album - do the two reviewers give scores that are similar, just with a somewhat higher average for Fantano? \n",
    "\n",
    "Let's visualize where the scores fall for each album between the two reviewers."
   ]
  },
  {
   "cell_type": "code",
   "execution_count": 18,
   "metadata": {
    "scrolled": true
   },
   "outputs": [
    {
     "data": {
      "image/png": "[encoded data removed]",
      "text/plain": [
       "<matplotlib.figure.Figure at 0x1447bf746d8>"
      ]
     },
     "metadata": {},
     "output_type": "display_data"
    }
   ],
   "source": [
    "plt.scatter(Fantano_PF_intersec_df['score_pf'], Fantano_PF_intersec_df['score_Fantano'])\n",
    "plt.ylabel('Fantano Score')\n",
    "plt.xlabel('PF Score')\n",
    "plt.title('Scatter Plot of Album Scores')\n",
    "plt.show()"
   ]
  },
  {
   "cell_type": "markdown",
   "metadata": {},
   "source": [
    "These appear to vary widely. How much does the score vary by for an typical album?"
   ]
  },
  {
   "cell_type": "code",
   "execution_count": 19,
   "metadata": {
    "scrolled": true
   },
   "outputs": [
    {
     "data": {
      "image/png": "[encoded data removed]",
      "text/plain": [
       "<matplotlib.figure.Figure at 0x1447c1775f8>"
      ]
     },
     "metadata": {},
     "output_type": "display_data"
    }
   ],
   "source": [
    "#create score diff df\n",
    "score_diff_F_min_pf_df = Fantano_PF_intersec_df.loc[:,['artist_Fantano', 'title_Fantano']]\n",
    "score_diff = Fantano_PF_intersec_df['score_Fantano'] - Fantano_PF_intersec_df['score_pf']\n",
    "score_diff_F_min_pf_df['difference']= score_diff\n",
    "\n",
    "#compute values for plot\n",
    "diff_mean = score_diff_F_min_pf_df['difference'].mean()\n",
    "diff_st = score_diff_F_min_pf_df['difference'].std()\n",
    "diff_st_l = diff_mean - diff_st\n",
    "diff_st_u = diff_mean + diff_st\n",
    "\n",
    "#plot\n",
    "plt.figure(figsize=(10,5))\n",
    "plt.hist(score_diff_F_min_pf_df['difference'], color='c', alpha=.5, bins=20, label='Difference in Score')\n",
    "plt.title('Histogram of Difference in Album Scores', fontsize= 15)\n",
    "plt.xlabel('Negative means PF gave a higher score, positive means Fantano gave a higher score')\n",
    "plt.ylabel('Number of Albums')\n",
    "plt.axvline(diff_mean , color='c', linestyle='dashed', linewidth=1, label='Mean: {:5.2f}'.format(diff_mean))\n",
    "plt.axvline(diff_mean - diff_st, color='b', linestyle='dashed', linewidth=1, \n",
    "            label='lower end of standard deviation: {:5.2f}'.format(diff_st_l))\n",
    "plt.axvline(diff_mean + diff_st, color='m', linestyle='dashed', linewidth=1, \n",
    "            label='upper end of standard deviation: {:5.2f}'.format(diff_st_u))\n",
    "plt.legend(loc='upper right')\n",
    "plt.show()"
   ]
  },
  {
   "cell_type": "markdown",
   "metadata": {},
   "source": [
    "The mean score given by Fantano is lower, but many albums will get a higher score from Fantano than Pitchfork. \n",
    "\n",
    "Let's check this is normally distributed. "
   ]
  },
  {
   "cell_type": "code",
   "execution_count": 20,
   "metadata": {},
   "outputs": [],
   "source": [
    "#create normal distribution with same size as Best New Music\n",
    "normal_diff = np.random.normal(40, .1, score_diff_F_min_pf_df['difference'].count())\n",
    "normal_diff.sort()"
   ]
  },
  {
   "cell_type": "code",
   "execution_count": 21,
   "metadata": {},
   "outputs": [],
   "source": [
    "differences = score_diff_F_min_pf_df['difference']\n",
    "differences = differences.sort_values()"
   ]
  },
  {
   "cell_type": "code",
   "execution_count": 22,
   "metadata": {},
   "outputs": [
    {
     "data": {
      "image/png": "[encoded data removed]",
      "text/plain": [
       "<matplotlib.figure.Figure at 0x1447c1a6b70>"
      ]
     },
     "metadata": {},
     "output_type": "display_data"
    }
   ],
   "source": [
    "#plot normal distribution and Best New Music on QQ\n",
    "plt.plot(normal_diff, differences, \"o\")\n",
    "plt.xlabel('Normal Distribution')\n",
    "plt.ylabel('Distribution Review Scores Differences')\n",
    "plt.title('QQ Plot for Review Score Differences')\n",
    "plt.show()"
   ]
  },
  {
   "cell_type": "markdown",
   "metadata": {},
   "source": [
    "There are a couple of outliers, but this is close to normal."
   ]
  },
  {
   "cell_type": "markdown",
   "metadata": {},
   "source": [
    "### Pitchfork's 'Best New Music'\n",
    "\n",
    "Pitchfork adds some of the albums that it reviews to an ongoing cumulative list call 'Best New Music'. Are the reviews scores for these albums higher than the average review? How much higher?\n",
    "\n",
    "For this question, the reviews are considered as the population, since this is question comparing "
   ]
  },
  {
   "cell_type": "code",
   "execution_count": 23,
   "metadata": {},
   "outputs": [],
   "source": [
    "#slice best new music\n",
    "pf_bnm = pf_reviews_df.loc[pf_reviews_df['best_new_music'] == 1]['score']"
   ]
  },
  {
   "cell_type": "code",
   "execution_count": 24,
   "metadata": {},
   "outputs": [
    {
     "data": {
      "image/png": "[encoded data removed]",
      "text/plain": [
       "<matplotlib.figure.Figure at 0x1447c5325c0>"
      ]
     },
     "metadata": {},
     "output_type": "display_data"
    }
   ],
   "source": [
    "#plot results\n",
    "plt.figure(figsize=(10,5))\n",
    "plt.hist(pf_reviews_df['score'], color='b', alpha=.5, label='All Reviews', bins=30, density=True)\n",
    "plt.axvline(pf_reviews_df['score'].mean(), color='b', linestyle='dashed', linewidth=1)\n",
    "\n",
    "plt.hist(pf_bnm, color='m', alpha=.5, label='\"Best New Music\" Only', bins=30, density=True)\n",
    "plt.axvline(pf_bnm.mean(), color='m', linestyle='dashed', linewidth=1)\n",
    "\n",
    "plt.legend(loc='upper right')\n",
    "plt.xlabel('Score')\n",
    "plt.ylabel('Normalize share of Albums')\n",
    "plt.title('Histogram of Pitchfork Review', fontsize=15)\n",
    "plt.show()"
   ]
  },
  {
   "cell_type": "markdown",
   "metadata": {},
   "source": [
    "As described above, the distribution of all reviews appears skewed. The Best New Music scores, while having a much higher mean, is a sample of all reviews and appears to be closer to normal. To test this, we will look at a Quantile-Quantile plot."
   ]
  },
  {
   "cell_type": "code",
   "execution_count": 25,
   "metadata": {},
   "outputs": [],
   "source": [
    "#create normal distribution with same size as Best New Music\n",
    "normal = np.random.normal(40, .1, 1132)\n",
    "\n",
    "#sort values\n",
    "pf_bnm = pf_bnm.sort_values()\n",
    "normal.sort()"
   ]
  },
  {
   "cell_type": "code",
   "execution_count": 26,
   "metadata": {},
   "outputs": [
    {
     "data": {
      "image/png": "[encoded data removed]",
      "text/plain": [
       "<matplotlib.figure.Figure at 0x1447bf74390>"
      ]
     },
     "metadata": {},
     "output_type": "display_data"
    }
   ],
   "source": [
    "#plot normal distribution and Best New Music on QQ\n",
    "plt.plot(normal, pf_bnm, \"o\")\n",
    "plt.xlabel('Normal Distribution')\n",
    "plt.ylabel('Distribution Review Scores')\n",
    "plt.title('QQ Plot for Best New Music Reviews')\n",
    "plt.show()"
   ]
  },
  {
   "cell_type": "markdown",
   "metadata": {},
   "source": [
    "This diverges from a normal distribution, especially at the extreme ends of the distribution - a very few low scores, and a grouping of perfect 10 scores at the high end. This is likely due to the bounds of the scores - low scores in 'best new music' are contrary to the definition of 'Best' and very rare, and this tail is thin, until around a score of 8. The maximum score of 10 puts a hard limit on the right tail, limiting the extreme values. "
   ]
  },
  {
   "cell_type": "markdown",
   "metadata": {},
   "source": [
    "## Proposal for Additional Research"
   ]
  },
  {
   "cell_type": "markdown",
   "metadata": {},
   "source": [
    "I would be interested in getting in deeper with these data sets by genre and over time. The text of the pitchfork reviews (and the video of the Fantano reviews) seem like they would be interesting to analize for how different albums are describe, including by genre and better vs worse albums. \n",
    "\n",
    "I also looked into another set of reviews which was originally extracted from Amazon reviews. I think it would be interesting cluster analysis to do by looking at people who positively review a given album review other albums, and if adding in profesional reviews adds anything to this. "
   ]
  }
 ],
 "metadata": {
  "kernelspec": {
   "display_name": "Python 3",
   "language": "python",
   "name": "python3"
  },
  "language_info": {
   "codemirror_mode": {
    "name": "ipython",
    "version": 3
   },
   "file_extension": ".py",
   "mimetype": "text/x-python",
   "name": "python",
   "nbconvert_exporter": "python",
   "pygments_lexer": "ipython3",
   "version": "3.7.4"
  }
 },
 "nbformat": 4,
 "nbformat_minor": 2
}

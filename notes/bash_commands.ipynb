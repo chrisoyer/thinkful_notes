{
 "cells": [
  {
   "cell_type": "markdown",
   "metadata": {},
   "source": [
    "to rename: easiest is to move file,:\n",
    "`mv oldfilename.xtn newname.xtn`\n",
    "\n"
   ]
  },
  {
   "cell_type": "markdown",
   "metadata": {},
   "source": [
    "`Jupyter notebook`  \n",
    "`jupyter notebook list` shows running servers   \n",
    "`git status`   \n",
    "\n"
   ]
  },
  {
   "cell_type": "markdown",
   "metadata": {},
   "source": [
    "### Git\n",
    "\n",
    "`git commit -m 'description of change'`\n",
    "\n",
    "to rename file in git repo:\n",
    "`git mv <old_filename> <new_filename>`"
   ]
  },
  {
   "cell_type": "markdown",
   "metadata": {},
   "source": [
    "## directories\n",
    "\n",
    "`ls` or `dir`"
   ]
  },
  {
   "cell_type": "markdown",
   "metadata": {},
   "source": [
    "# bash from jupyter notebook python\n",
    "\n",
    "When you do `!cd`, you launch a new shell, which changes its own current working directory and promptly shuts down. This has no effect on IPython or the shell you launched IPython from.\n",
    "\n",
    "When you do `cd` or `%cd`, you tell IPython to change its own working directory. This will persist for the duration of your IPython session, but it still has no effect on the shell you launched IPython from. When you stop IPython, that shell will still be in whatever directory it was when you started IPython."
   ]
  },
  {
   "cell_type": "markdown",
   "metadata": {},
   "source": [
    "# Chaining\n",
    "- A; B&nbsp;&nbsp;&nbsp;&nbsp;&nbsp;&nbsp;&nbsp;# Run A and then B, regardless of success of A\n",
    "- A && B&nbsp;&nbsp;# Run B if and only if A succeeded\n",
    "- A || B&nbsp;&nbsp;&nbsp;&nbsp;&nbsp;# Run B if and only if A failed\n",
    "- A &&nbsp;&nbsp;&nbsp;&nbsp;&nbsp;&nbsp;&nbsp;&nbsp;# Run A in background."
   ]
  },
  {
   "cell_type": "markdown",
   "metadata": {},
   "source": [
    "### jupyter notebook\n",
    "`pip install jupyterthemes`  \n",
    "`jupyter notebook list` to see list of open servers  \n",
    "`jt -t <themename>`\n",
    "* themes include\n",
    "    * onedork\n",
    "    * grade3\n",
    "    * oceans16\n",
    "    * chesterish\n",
    "    * monokai\n",
    "    * solarizedl\n",
    "    * solarizedd  \n",
    " `jt -r` to revert"
   ]
  },
  {
   "cell_type": "markdown",
   "metadata": {},
   "source": [
    "good settings:\n",
    "    `!jt -t monokai -fs 10 -nfs 10 -tfs 10 -dfs 8 -cellw 95% -ofs 10 -T -N -kl`"
   ]
  },
  {
   "cell_type": "code",
   "execution_count": null,
   "metadata": {},
   "outputs": [],
   "source": []
  }
 ],
 "metadata": {
  "kernelspec": {
   "display_name": "Python 3",
   "language": "python",
   "name": "python3"
  },
  "language_info": {
   "codemirror_mode": {
    "name": "ipython",
    "version": 3
   },
   "file_extension": ".py",
   "mimetype": "text/x-python",
   "name": "python",
   "nbconvert_exporter": "python",
   "pygments_lexer": "ipython3",
   "version": "3.7.4"
  }
 },
 "nbformat": 4,
 "nbformat_minor": 2
}

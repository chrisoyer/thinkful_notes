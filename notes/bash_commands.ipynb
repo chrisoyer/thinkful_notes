{
 "cells": [
  {
   "cell_type": "markdown",
   "metadata": {},
   "source": [
    "# General Bash\n",
    "to rename: easiest is to move file:  \n",
    "`mv oldfilename.xtn newname.xtn`  \n",
    "`$ cp -a v6.2/. ../../Results/Farmers/` copies all contents in 6.2 into Farmers. note period after slash. -a copies recursively & preserves attributes\n",
    "\n",
    "\n"
   ]
  },
  {
   "cell_type": "markdown",
   "metadata": {},
   "source": [
    "## Chaining\n",
    "- A; B&nbsp;&nbsp;&nbsp;&nbsp;&nbsp;&nbsp;&nbsp;# Run A and then B, regardless of success of A\n",
    "- A && B&nbsp;&nbsp;# Run B if and only if A succeeded\n",
    "- A || B&nbsp;&nbsp;&nbsp;&nbsp;&nbsp;# Run B if and only if A failed\n",
    "- A &&nbsp;&nbsp;&nbsp;&nbsp;&nbsp;&nbsp;&nbsp;&nbsp;# Run A in background."
   ]
  },
  {
   "cell_type": "markdown",
   "metadata": {},
   "source": [

    "## Chaining\n",
    "- A; B&nbsp;&nbsp;&nbsp;&nbsp;&nbsp;&nbsp;&nbsp;# Run A and then B, regardless of success of A\n",
    "- A && B&nbsp;&nbsp;# Run B if and only if A succeeded\n",
    "- A || B&nbsp;&nbsp;&nbsp;&nbsp;&nbsp;# Run B if and only if A failed\n",
    "- A &&nbsp;&nbsp;&nbsp;&nbsp;&nbsp;&nbsp;&nbsp;&nbsp;# Run A in background."
=======
    "### Finding and then action\n",
    "`find -name '19.*' ! -name '*checkpoint*' -exec mv -t 19/ {} +` Finds based on names and executes command, expanding each find item and adding to execute  \n",
    "`find -name '*delete*' -exec rm {} +` : deletes all files found with 'delete' in name  \n",
    "`find -maxdepth 1 -name '19.*' -exec mv -t 19/ {} +` : found files only in curret dir, not subdirs\n",
    "\n",
    "### xargs\n",
    "used to clean output for use as input for next utility\n",
    "`$ find . -print | grep -i Capstone_sup | xargs mv -t ../supervised_learning_capstone/`\n"
   ]
  },
  {
   "cell_type": "markdown",
   "metadata": {},
   "source": [
    "### Python\n",
    "`$pip freeze > requirements.txt` : save module list to file  \n",
    "`$pip install -r requirements.txt` : installs from file"
>>>>>>> 5081137e8fa76653d514b4ce2dbba824fa989fa7
   ]
  },
  {
   "cell_type": "markdown",
   "metadata": {},
   "source": [
    "## Git\n",
    "\n",
    "#### to start\n",
    "`git init` : creates new  \n",
    "`git config --global user.name 'chris oyer'`  : sets name  \n",
    "`git config --global user.email 'christopheraoyer@gmail.com'` : sets up acct.  \n",
    "\n",
    "### sequence needed to connect new repot to gihub\n",
    "`git remote set-url origin https://github.com/chrisoyer/[repo name].git`  \n",
    "`git branch --set-upstream-to=origin/master master`  \"Branch 'master' set up to track remote branch 'master' from 'origin'.\"  \n",
    "`git branch -u origin/master master`  \"Branch 'master' set up to track remote branch 'master' from 'origin'.\"  \n",
    "`git pull --allow-unrelated-histories`  \n",
    "`git push`  \n",
    "\n",
    "commit with message\n",
    "`git commit -m 'description of change'`\n",
    "\n",
    "to rename file in git repo:\n",
    "`git mv <old_filename> <new_filename>`\n",
    "\n",
    "#### adding\n",
    "`git add -A`: Stages Everything  \n",
    "`git add -u` : Stages only Modified Files  \n",
    "`git add .` : Stages everything, without Deleted Files  \n",
    "\n",
    "#### get all central changes to your local computer:  \n",
    "`git pull origin master`\n",
    "& if need to switch back to master:  \n",
    "`git checkout master`\n",
    "push changes to new branch:  \n",
    "`git push origin yourbranchname`\n",
    "\n",
    "#### Branching  \n",
    "`git branch <branchname>` : create branch  \n",
    "`git checkout <branchname>` : move to branch  \n",
    "move to master, then `git merge <branchname>` to merge &lt;branchname&gt; changes to master\n",
    "\n",
    "`git pull` is shorthand for `git fetch` followed by `git merge FETCH_HEAD`\n",
    "\n",
    "to update\n",
    "`git update-git-for-windows`\n"
   ]
  },
  {
   "cell_type": "markdown",
   "metadata": {},
   "source": [
    "### Python\n",
    "`$pip freeze > requirements.txt` : save module list to file  \n",
    "`$pip install -r requirements.txt` : installs from file"
   ]
  },
  {
   "cell_type": "markdown",
   "metadata": {},
   "source": [
    "## directories\n",
    "\n",
    "`ls` or `dir`"
   ]
  },
  {
   "cell_type": "markdown",
   "metadata": {},
   "source": [
    "# bash from jupyter notebook python\n",
    "\n",
    "When you do `!cd`, you launch a new shell, which changes its own current working directory and promptly shuts down. This has no effect on IPython or the shell you launched IPython from.\n",
    "\n",
    "When you do `cd` or `%cd`, you tell IPython to change its own working directory. This will persist for the duration of your IPython session, but it still has no effect on the shell you launched IPython from. When you stop IPython, that shell will still be in whatever directory it was when you started IPython."
   ]
  },
  {
   "cell_type": "markdown",
   "metadata": {},
   "source": [
    "### jupyter notebook\n",
    "`pip install jupyterthemes`  \n",
    "`jupyter notebook list` to see list of open servers  \n",
    "`jt -t <themename>`\n",
    "* themes include\n",
    "    * onedork\n",
    "    * grade3\n",
    "    * oceans16\n",
    "    * chesterish\n",
    "    * monokai\n",
    "    * solarizedl\n",
    "    * solarizedd  \n",
    " `jt -r` to revert"
   ]
  },
  {
   "cell_type": "markdown",
   "metadata": {},
   "source": [
    "good settings:\n",
    "    `!jt -t monokai -fs 10 -nfs 10 -tfs 10 -dfs 8 -cellw 95% -ofs 10 -T -N -kl`"
   ]
  },
  {
   "cell_type": "code",
   "execution_count": 2,
   "metadata": {},
   "outputs": [],
   "source": [
    "!jt -t solarizedd -fs 10 -nfs 10 -tfs 10 -dfs 8 -cellw 95% -ofs 10 -T -N -kl"
   ]
  },
  {
   "cell_type": "code",
   "execution_count": 4,
   "metadata": {},
   "outputs": [
    {
     "name": "stdout",
     "output_type": "stream",
     "text": [
      "Available Themes: \n",
      "   chesterish\n",
      "   grade3\n",
      "   gruvboxd\n",
      "   gruvboxl\n",
      "   monokai\n",
      "   oceans16\n",
      "   onedork\n",
      "   solarizedd\n",
      "   solarizedl\n"
     ]
    }
   ],
   "source": [
    "!jt -l\n"
   ]
  },
  {
   "cell_type": "code",
   "execution_count": null,
   "metadata": {},
   "outputs": [],
   "source": []
  }
 ],
 "metadata": {
  "kernelspec": {
   "display_name": "Python 3",
   "language": "python",
   "name": "python3"
  },
  "language_info": {
   "codemirror_mode": {
    "name": "ipython",
    "version": 3
   },
   "file_extension": ".py",
   "mimetype": "text/x-python",
   "name": "python",
   "nbconvert_exporter": "python",
   "pygments_lexer": "ipython3",
   "version": "3.7.4"
  }
 },
 "nbformat": 4,
 "nbformat_minor": 2
}

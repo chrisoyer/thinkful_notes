{
 "cells": [
  {
   "cell_type": "markdown",
   "metadata": {},
   "source": [
    "### multivariate analysis vs univariate analysis, usually bivariate analysis\n"
   ]
  },
  {
   "cell_type": "markdown",
   "metadata": {},
   "source": [
    "We call the variables features if we think they are well-suited to work within our model to explain the target variable. \n",
    "\n",
    "Put the target at the center: there should be one target variable unless model is very complicated."
   ]
  },
  {
   "cell_type": "markdown",
   "metadata": {},
   "source": [
    "common variable transformation reasons:\n",
    "    \n",
    "1. Machine learning models can only work with numeric variables. So, categorical variables that have text values need to be converted to numeric values.  \n",
    "    a. one hot encoding: encoded to x-1 for the number of features. the listed variables are called dummy or indicator variables, the unnamed variable is the reference variable \n",
    "2. Some machine learning models assume the target variable to be normally distributed. In order to use these models, we may need to transform our target to be normally distributed.\n",
    "3. Some machine learning models are very sensitive to the relative magnitude of values. So, we may need to limit the values of the variables to some fixed range. Usually, we do this by normalizing our variables.\n",
    "4. To help our intuition and our understanding of the data, we may want to transform variables to a different unit of measurement. "
   ]
  },
  {
   "cell_type": "markdown",
   "metadata": {},
   "source": [
    "Normalization is the rescaling of a variable into the [0,1] range (including 0 and 1). For this purpose, we'll use SKLearn's `.normalize()` method from the  preprocessing module.\n",
    "Standardization is the rescaling of a variable so its mean becomes 0 and its standard deviation becomes 1. Notice in the standardization we don't apply a maximum value for the variable. To apply standardization, we'll use SKLearn's `.scale()` method from the preprocessing module."
   ]
  },
  {
   "cell_type": "code",
   "execution_count": null,
   "metadata": {},
   "outputs": [],
   "source": []
  }
 ],
 "metadata": {
  "kernelspec": {
   "display_name": "Python 3",
   "language": "python",
   "name": "python3"
  },
  "language_info": {
   "codemirror_mode": {
    "name": "ipython",
    "version": 3
   },
   "file_extension": ".py",
   "mimetype": "text/x-python",
   "name": "python",
   "nbconvert_exporter": "python",
   "pygments_lexer": "ipython3",
   "version": "3.7.3"
  }
 },
 "nbformat": 4,
 "nbformat_minor": 2
}

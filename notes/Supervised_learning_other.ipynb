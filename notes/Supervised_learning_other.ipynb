{
 "cells": [
  {
   "cell_type": "markdown",
   "metadata": {},
   "source": [
    "### Entropy\n",
    "* Shannon Entropy $H$, defined as: $ H = -\\sum_{i=1}^n P(x_i)log_2 P(x_i) $  \n",
    "    * decreases as number of possible outcomes decreases"
   ]
  },
  {
   "cell_type": "code",
   "execution_count": null,
   "metadata": {},
   "outputs": [],
   "source": [
    "#need to do:\n",
    "conda install -c anaconda graphviz"
   ]
  },
  {
   "cell_type": "markdown",
   "metadata": {},
   "source": [
    "### Decision Trees\n",
    "* Downsides:\n",
    "    * ramdomness in generation, which can lead to variance in estimates. Also not built same way each time.\n",
    "    * **they are incredibly prone to overfitting**, especially if  deep or complex. \n",
    "    * Because they work from info gain, they are biased towards the dominant class, so **balanced data is needed**.\n",
    "* ID3 algorithm\n",
    "    * requirements:\n",
    "        * binary outcome\n",
    "        * categorical features\n",
    "    * splits on the most valuable attribute (causes largest drop of H) in each feature\n",
    "* Random forests\n",
    "    * create many trees and use them to vote\n",
    "    * uses bagging to get better diversity\n",
    "    * uses random subspace - only uses some of the features on each tree\n",
    "        * generally for a dataset with x features $\\sqrt{x}$ features are used for classifiers and $x/3$ for regression.\n",
    "    * only works on test values that are within the training values\n",
    "    * black box algo"
   ]
  },
  {
   "cell_type": "markdown",
   "metadata": {},
   "source": [
    "### Ensemble models\n",
    "\n",
    "   * made up of other models\n",
    "   * types:\n",
    "       * bagging aka \"boostrap aggregating\" -drawing with replacement\n",
    "       * boosting - serial models daisy-chained together\n",
    "       * multiple models as first step, then output of these used as input for final model. Combination of other two methods\n",
    "    "
   ]
  },
  {
   "cell_type": "code",
   "execution_count": null,
   "metadata": {},
   "outputs": [],
   "source": []
  }
 ],
 "metadata": {
  "kernelspec": {
   "display_name": "Python 3",
   "language": "python",
   "name": "python3"
  },
  "language_info": {
   "codemirror_mode": {
    "name": "ipython",
    "version": 3
   },
   "file_extension": ".py",
   "mimetype": "text/x-python",
   "name": "python",
   "nbconvert_exporter": "python",
   "pygments_lexer": "ipython3",
   "version": "3.7.4"
  }
 },
 "nbformat": 4,
 "nbformat_minor": 2
}

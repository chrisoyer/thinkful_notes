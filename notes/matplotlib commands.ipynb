{
 "cells": [
  {
   "cell_type": "markdown",
   "metadata": {},
   "source": [
    "## Basics\n"
   ]
  },
  {
   "cell_type": "code",
   "execution_count": null,
   "metadata": {},
   "outputs": [],
   "source": [
    "import matplotlib.pyplot as plt\n",
    "\n",
    "plt.plot(df['rand'], color='purple')\n",
    "plt.ylim([-0.1, 1.1])\n",
    "plt.ylabel('Values')\n",
    "plt.title('Random Series')\n",
    "plt.show()\n",
    "\n",
    "## To show scatter plot:\n",
    "plt.scatter(x=df['rand'], y=df['rand_sq'])\n",
    "plt.show()\n",
    "\n",
    "#multiple plots: create each with this code, rest same as regular:\n",
    "plt.figure(figsize=(12, 4))\n",
    "\n",
    "plt.subplot(1, 2, 1) # repeat changing location parameters, followed by that sub's values\n",
    "\n",
    "#histogram\n",
    "plt.hist(x, bins=40, color='red')\n"
   ]
  },
  {
   "cell_type": "code",
   "execution_count": 26,
   "metadata": {},
   "outputs": [
    {
     "name": "stdout",
     "output_type": "stream",
     "text": [
      "\n",
      "\n"
     ]
    },
    {
     "data": {
      "image/png": "[encoded data removed]",
      "text/plain": [
       "<Figure size 432x288 with 1 Axes>"
      ]
     },
     "metadata": {
      "needs_background": "light"
     },
     "output_type": "display_data"
    }
   ],
   "source": [
    "import numpy as np\n",
    "import pandas as pd\n",
    "import matplotlib.pyplot as plt\n",
    "\n",
    "\n",
    "dataset = np.arange(100)\n",
    "dataset\n",
    "print(\"\\n\")\n",
    "df = pd.DataFrame(dataset.reshape( 20, 5))\n",
    "df.columns = [ \"units\", \"sets\", \"names\", \"country\", \"basic\"]\n",
    "df.index = [\"ca\", \"us\", \"uk\", \"ir\", \"ca\", \"us\", \"uk\", \"ir\", \"ca\", \"us\", \"uk\",\n",
    "            \"ir\", \"ca\", \"us\", \"uk\", \"ir\", \"ga\", \"al\", \"ne\", \"ca\" ]\n",
    "\n",
    "plt.scatter(x=df[\"sets\"], y=df[\"basic\"], color=\"purple\")\n",
    "plt.show()\n",
    "\n",
    "#use integer bins from -10 to 40:\n",
    "plt.hist(x, color='blue', bins=np.arange(-10, 40), alpha=.5) \n"
   ]
  },
  {
   "cell_type": "code",
   "execution_count": null,
   "metadata": {},
   "outputs": [],
   "source": [
    "#Histogram & boxplot\n",
    "fig = plt.figure(figsize=(10,5))\n",
    "\n",
    "plt.subplot(1,2,1)\n",
    "plt.hist(cpidf['cpi_rate'], bins=20)\n",
    "plt.xlabel('CPI Rate')\n",
    "plt.ylabel('Count of Months')\n",
    "\n",
    "plt.subplot(1,2,2)\n",
    "plt.boxplot(cpidf['cpi_rate'],\n",
    "           notch=True,\n",
    "           vert=False)\n",
    "plt.xlabel('CPI Rate')\n",
    "plt.show(fig)\n",
    "\n",
    "\n",
    "#\n",
    "plt.axvline(pop3.mean() - distributionvar.std(), color='b', linestyle='dashed', linewidth=1, label='lower end of standard deviation')\n",
    "plt.legend(loc='upper right')\n",
    "plt.title('combined populations')\n"
   ]
  },
  {
   "cell_type": "code",
   "execution_count": null,
   "metadata": {},
   "outputs": [],
   "source": [
    "For histogram bins, bins=np.linspace(0, 10, 11)) (start, end, number of numbers to produce)"
   ]
  }
 ],
 "metadata": {
  "kernelspec": {
   "display_name": "Python 3",
   "language": "python",
   "name": "python3"
  },
  "language_info": {
   "codemirror_mode": {
    "name": "ipython",
    "version": 3
   },
   "file_extension": ".py",
   "mimetype": "text/x-python",
   "name": "python",
   "nbconvert_exporter": "python",
   "pygments_lexer": "ipython3",
   "version": "3.7.3"
  }
 },
 "nbformat": 4,
 "nbformat_minor": 2
}

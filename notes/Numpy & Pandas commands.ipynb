{
 "cells": [
  {
   "cell_type": "code",
   "execution_count": null,
   "metadata": {},
   "outputs": [],
   "source": [
    "#import modules. Should be at beginning per python style\n",
    "import numpy as np\n",
    "\n",
    "#Ranges\n",
    "w = np.array([[0, 1, 2, 3],[4, 5, 6, 7]])\n",
    "#array range to make array from numbers\n",
    "y = np.arange(24).reshape(8,3)\n",
    "\n",
    "#element-wise functions\n",
    "print(np.square(x))\n",
    "print(np.sqrt(x))\n",
    "print(np.cos(x))\n",
    "\n",
    "#Axes. vertical is 0, horizontal is one.\n",
    "# to drop columns:\n",
    "df = df.drop(['Ticket','Cabin'], axis=1) \n",
    "\n",
    "\n",
    "#aggregator functions\n",
    "x = np.array([0, 1, 2, 300])\n",
    "print(np.max(x))\n",
    "print(np.min(x))\n",
    "print(np.mean(x))\n",
    "print(np.std(x))\n",
    "\n",
    "#pandas dataframes\n",
    "my_array = np.array([['Montgomery','Yellohammer state',52423],\n",
    "                     ['Sacramento','Golden state',163707],\n",
    "                     ['Oklahoma City','Sooner state',69960 ]])\n",
    "df = pd.DataFrame(my_array)\n",
    "df\n",
    "\n",
    "#set names for dataframes\n",
    "df.columns = ['Capital', 'Nickname','Area']\n",
    "df.index = ['Alabama', 'California', 'Oklahoma']\n",
    "\n",
    "#OR\n",
    "colnames = [\"city\", \"state\", \"area\"]\n",
    "df.columns = (colnames)\n",
    "df.index = (['Alabama', 'California', 'Oklahoma'])\n",
    "df\n",
    "\n",
    "#add columns to dataframe:\n",
    "df['country'] = ['US', 'CAN', 'CAN', 'US', 'CAN', 'US', 'US', 'US', 'CAN', 'US']\n",
    "df['ad_views'] = [16, 42, 32, 13, 63, 19, 65, 23, 16, 77]\n",
    "df\n",
    "\n",
    "#not dynamic:\n",
    "purchases['items_purch_per_ad'] = purchases['items_purchased'] / purchases['ad_views']\n",
    "\n",
    "#loc and iloc:\n",
    "#note index no starts at 1\n",
    "df.loc[<row_selection>, <col_selection>]\n",
    "# use:\n",
    "df.iloc[:,:]\n",
    "\n",
    "df.iloc[<row_selection>, <col_selection>]\n",
    "#including integer list, [ 1, 2, 3] , slice [3:6], or single value 1"
   ]
  },
  {
   "cell_type": "markdown",
   "metadata": {},
   "source": [
    "![image of loc and iloc references](https://shanelynnwebsite-mid9n9g1q9y8tt.netdna-ssl.com/wp-content/uploads/2016/10/Pandas-selections-and-indexing.png)"
   ]
  },
  {
   "cell_type": "code",
   "execution_count": null,
   "metadata": {},
   "outputs": [],
   "source": [
    "#conditional selection:\n",
    "purchases.loc[lambda df: purchases['items_purchased'] > 1, :]\n",
    "#also possible, less robust:\n",
    "purchases[purchases['items_purchased'] > 1,:]\n",
    "pf_reviews_df_Sort.loc[pf_reviews_df_Sort['artist'] == 'run the jewels',:]\n",
    "\n",
    "#multiple columns\n",
    "df = evaluations[['score','garden_id']]\n",
    "\n",
    "\n",
    "#Grouping\n",
    "purchases.groupby('country').sum()\n",
    "purchases.groupby('country')['items_purchased'].mean()\n",
    "\n",
    "#groups by year, gets cpi, creates 3 new columns that get passed the cpi value\n",
    "cpidf.groupby(['year'])['cpi'].agg({'cpi_min':min, 'cpi_max':max, 'cpi_mean':np.mean})\n",
    "\n",
    "# Calculate and rename aggregations\n",
    "all_together = (df.groupby(['start_station_name','end_station_name'])\n",
    "                  .agg({'trip_duration_seconds': [np.size, np.mean, np.min, np.max]})\n",
    "                  .rename(columns={'size': 'num_trips', \n",
    "                                   'mean': 'avg_duration_seconds',\n",
    "                                   'amin': 'min_duration_seconds', \n",
    "                                   'amax': 'max_duration_seconds'}))\n",
    "\n",
    "\n",
    "#If you replace the internal dictionary with a list of tuples it gets rid of the warning message\n",
    "df = pd.DataFrame({\"User\": [\"user1\", \"user2\", \"user2\", \"user3\", \"user2\", \"user1\"],\n",
    "                  \"Amount\": [10.0, 5.0, 8.0, 10.5, 7.5, 8.0]})\n",
    "df.groupby([\"User\"]).agg({\"Amount\": [(\"Sum\", \"sum\"), (\"Count\", \"count\")]})\n",
    "\n",
    "#Flatten hierarchical indices created by groupby\n",
    "grouped_df.columns = ['_'.join(col).strip() for col in grouped_df.columns.values]\n",
    "grouped_df = grouped_df.reset_index()\n",
    "\n",
    "\n",
    "#For import issues:\n",
    "jupyter --paths # at the command line\n"
   ]
  },
  {
   "cell_type": "code",
   "execution_count": null,
   "metadata": {},
   "outputs": [],
   "source": [
    "df.to_csv('my_data.csv')\n",
    "df.read_csv(\"purchase.csv\")\n",
    "df.read_json(\"file.json\")\n",
    "\n",
    "#usecase: sending json to web. send to string first.\n",
    "serialized_purchases = df.to_json()\n",
    "\n",
    "# open files with \n",
    "with open('poem.txt') as poem_file:\n",
    "    statements\n",
    "\n",
    "#enumerate use for for statements to show index and item.e.g.:\n",
    "for i in enumerate(['a', 'b']):\n",
    "    print(i[0], i[1])\n",
    "#0 a\n",
    "#1 b"
   ]
  },
  {
   "cell_type": "code",
   "execution_count": null,
   "metadata": {},
   "outputs": [],
   "source": [
    "#aggregation functions\n",
    "# What is the sum of durations, for calls only, to each network\n",
    "data[data['item'] == 'call'].groupby('network')['duration'].sum()\n",
    "\n",
    "#simple\n",
    "gdf = df.groupby('species').agg('mean')\n",
    "\n",
    "#multiple functions on a column\n",
    "gdf = df.groupby('species').agg(['min', 'max'])"
   ]
  },
  {
   "cell_type": "code",
   "execution_count": null,
   "metadata": {},
   "outputs": [],
   "source": [
    "#adding and dropping\n",
    "\n",
    "#drop row by name, frex rows Cochice and Pima\n",
    "df.drop(['Cochice', 'Pima'])\n",
    "\n",
    "\n",
    "#Drop a variable (column)\n",
    "#Note: axis=1 denotes that we are referring to a column, not a row\n",
    "\n",
    "df.drop('reports', axis=1)"
   ]
  },
  {
   "cell_type": "markdown",
   "metadata": {},
   "source": [
    "### formatting options"
   ]
  },
  {
   "cell_type": "code",
   "execution_count": null,
   "metadata": {},
   "outputs": [],
   "source": [
    "pd.options.display.float_format = '{:.3f}'.format"
   ]
  }
 ],
 "metadata": {
  "kernelspec": {
   "display_name": "Python 3",
   "language": "python",
   "name": "python3"
  },
  "language_info": {
   "codemirror_mode": {
    "name": "ipython",
    "version": 3
   },
   "file_extension": ".py",
   "mimetype": "text/x-python",
   "name": "python",
   "nbconvert_exporter": "python",
   "pygments_lexer": "ipython3",
   "version": "3.7.4"
  }
 },
 "nbformat": 4,
 "nbformat_minor": 2
}

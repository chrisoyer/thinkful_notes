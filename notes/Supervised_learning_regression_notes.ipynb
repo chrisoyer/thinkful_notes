{
 "cells": [
  {
   "cell_type": "markdown",
   "metadata": {},
   "source": [
    "multivariable - linear regression models using many features  \n",
    "multivariate - linear regression with multiple targets"
   ]
  },
  {
   "cell_type": "markdown",
   "metadata": {},
   "source": [
    "#### Assumptions of linear regression (violations can be accomdated to some extent)\n",
    "1. The relationship between feature(s) and target(s) is linear.\n",
    "2. The errors of the model should be equal to zero on average.\n",
    "3. The model’s errors are consistently distributed, which is known as **heteroscedasticity**.\n",
    "4. Features are at most only weakly correlated. Put differently there is not strong **multicollinearity**.\n",
    "5. The model’s errors should be uncorrelated with each other.\n",
    "6. The features and model errors are independent of one another."
   ]
  },
  {
   "cell_type": "markdown",
   "metadata": {},
   "source": [
    "OLS is a type of algorithm used to estimate the coefficients in linear regression. (there are other linear regression algorithms) \n",
    "\n",
    "* Estimation for linear regression is determining the coefficients of the test data; \n",
    "* prediction occurs on determining Y values for out-of-sample data points."
   ]
  },
  {
   "cell_type": "markdown",
   "metadata": {},
   "source": [
    "### Gauss Markov Assumptions for Linear Regression\n",
    "1. relationships between each coefficient and target y are linear, holding x and other coeffs constant\n",
    "2. expected error terms is averages of zero; $\\mathbb{E}(\\epsilon) = 0$ . this is violated if you forget to include a constant.\n",
    "3. __Homoscedasticity__: error does not systematically vary across observations\n",
    "    * **Bartlett** and **Levene** tests. The null hypothesis for both tests is that the errors are homoscedastic\n",
    "    * caused by outliers or ommitted variables; fix by transforming dependent variable or including more variables\n",
    "    * if this is violated, estimated coefficients can still be 'consistant'\n",
    "4. __Multicolinearity__: does not affect prediction, but affects interpretation of coefficients.\n",
    "5. __Serial Correlations__: to fix, include ommitted variable\n",
    "6. __Exogeneity__: ___Most Important:___ explanatory variables and errors should be independent. \n",
    "    * Common causes are:\n",
    "        * omitted variables \n",
    "        * simultaneous causation between independent variables and the target (solutions to this not covered in bootcamp)\n",
    "        \n",
    "Not a requirement to run regression, but non-normality of errors indicates possible ommitted variable and can make significance testing of coefficients invalid."
   ]
  },
  {
   "cell_type": "markdown",
   "metadata": {},
   "source": [
    "### coefficients\n",
    "the coefficient of a feature measures the effect of that variable on the outcome variable by holding all other variables constant at their means. \n",
    "\n",
    " if we take the logarithms of a target and a feature and estimate the model after that, we can interpret the \"coefficient\" of that feature like this: a percentage increase in the value of the original feature (not log transformed) results in the \"coefficient\" percentage change in the original target (not log transformed). [why log=%](https://stats.stackexchange.com/questions/244199/why-is-it-that-natural-log-changes-are-percentage-changes-what-is-about-logs-th)"
   ]
  },
  {
   "cell_type": "markdown",
   "metadata": {},
   "source": [
    "## F-test\n",
    "\n",
    "$F=\\dfrac{SSE_F-SSE_R}{df_F-df_R}÷\\dfrac{SSE_F}{df_F}$\n",
    "\n",
    "or $\\dfrac{unexplainedModelVariance-UnexplainedReducedVariance}{differenceInDof}÷\\dfrac{unexplainedReducedVariance}{ModelDoF}$"
   ]
  },
  {
   "cell_type": "code",
   "execution_count": null,
   "metadata": {},
   "outputs": [],
   "source": []
  }
 ],
 "metadata": {
  "kernelspec": {
   "display_name": "Python 3",
   "language": "python",
   "name": "python3"
  },
  "language_info": {
   "codemirror_mode": {
    "name": "ipython",
    "version": 3
   },
   "file_extension": ".py",
   "mimetype": "text/x-python",
   "name": "python",
   "nbconvert_exporter": "python",
   "pygments_lexer": "ipython3",
   "version": "3.7.4"
  }
 },
 "nbformat": 4,
 "nbformat_minor": 2
}

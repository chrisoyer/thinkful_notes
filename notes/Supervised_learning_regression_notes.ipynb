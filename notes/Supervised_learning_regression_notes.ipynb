{
 "cells": [
  {
   "cell_type": "markdown",
   "metadata": {},
   "source": [
    "multivariable - linear regression models using many features  \n",
    "multivariate - linear regression with multiple targets"
   ]
  },
  {
   "cell_type": "markdown",
   "metadata": {},
   "source": [
    "#### Assumptions of linear regression (violations can be accomdated to some extent)\n",
    "1. The relationship between feature(s) and target(s) is linear.\n",
    "2. The errors of the model should be equal to zero on average.\n",
    "3. The model’s errors are consistently distributed, which is known as **heteroscedasticity**.\n",
    "4. Features are at most only weakly correlated. Put differently there is not strong **multicollinearity**.\n",
    "5. The model’s errors should be uncorrelated with each other.\n",
    "6. The features and model errors are independent of one another."
   ]
  },
  {
   "cell_type": "markdown",
   "metadata": {},
   "source": [
    "OLS is a type of algorithm used to estimate the coefficients in linear regression. (there are other linear regression algorithms) \n",
    "\n",
    "* Estimation for linear regression is determining the coefficients of the test data; \n",
    "* prediction occurs on determining Y values for out-of-sample data points."
   ]
  },
  {
   "cell_type": "code",
   "execution_count": null,
   "metadata": {},
   "outputs": [],
   "source": []
  }
 ],
 "metadata": {
  "kernelspec": {
   "display_name": "Python 3",
   "language": "python",
   "name": "python3"
  },
  "language_info": {
   "codemirror_mode": {
    "name": "ipython",
    "version": 3
   },
   "file_extension": ".py",
   "mimetype": "text/x-python",
   "name": "python",
   "nbconvert_exporter": "python",
   "pygments_lexer": "ipython3",
   "version": "3.6.4"
  }
 },
 "nbformat": 4,
 "nbformat_minor": 2
}

{
 "cells": [
  {
   "cell_type": "markdown",
   "metadata": {},
   "source": [
    "# Model Evaluation\n",
    "* stability\n",
    "* see if it works for your final goal\n",
    "* keep eye on complexity (though neural nets often work best with quite a lot of complexity)"
   ]
  },
  {
   "cell_type": "markdown",
   "metadata": {},
   "source": [
    "## When you know ground truth\n",
    "\n",
    "### Rand Index\n",
    "\n",
    "The _Rand Index_ compares how pairs of datapoints relate in the ground truth and in the new solution.  There are four possible types of pair relationships:\n",
    "\n",
    " 1. Members of the same cluster in the ground truth, and members of the same cluster in the new solution.  \n",
    " 2. Members of the same cluster in the ground truth, and members of different clusters in the new solution.  \n",
    " 3. Members of different clusters in the ground truth, and members of the same cluster in the new solution.  \n",
    " 4. Members of different clusters in the ground truth, and members of different clusters in the new solution.  \n",
    "\n",
    "The Rand Index, or $RI$, is the ratio of the number of pairs where the ground truth and the new solution agree, over the total number of pairs.\n",
    "\n",
    "$$RI=\\dfrac{a+c}{a+b+c+d}$$\n",
    "\n",
    "Scores range from 0 to 1, where 1 indicates perfect agreement between the ground truth and the new solution.  \n",
    "  \n",
    "\\n  \n",
    "### Adjusted Rand Index  \n",
    "  \n",
    "The Adjusted Rand Index, or $ARI$, applies the $E(RI)$ (RI of random cluster assigment) as a correction factor.  With $ARI$, it is possible to get values less than 0, but 1 still indicates perfect agreement, and 0 indicates perfect randomness.\n",
    "\n",
    "In a two-cluster solution with an equal number of datapoints in each cluster, just assigning each datapoint to cluster 0 or cluster 1 at random would yield an $RI$ of .5.  To correct for the influence of chance and to yield a metric where 0 indicates random labeling and 1 indicates perfect replication of the ground truth, the Adjusted Rand Index applies a correction factor based on the expected $RI$ from randomness:\n",
    "\n",
    "$$ARI=\\dfrac{RI-E(RI)}{max(RI)-E(RI)}$$\n",
    "\n",
    "can be used for any clustering algo\n"
   ]
  },
  {
   "cell_type": "markdown",
   "metadata": {},
   "source": [
    "## without groundtruth\n",
    "\n",
    "#### look at similarity\n",
    "For each datapoint, the _silhouette coefficient_ is the difference between the mean distance between that datapoint and all other points in its cluster ($a_i$) and the mean distance between that datapoint and all other points in the *nearest other* cluster ($b_i$), divided by whichever of the two values is highest:  \n",
    "\n",
    "$$\\dfrac{b_i-a_i}{max(b_i,a_i)}$$\n",
    "\n",
    "The mean of the silhouette coefficients for all datapoints is the silhouette coefficient for that clustering solution on that data.  Values range from -1 for very bad clusters to +1 for very dense clusters.  However, if clusters employ non-flat geometry, this index will not work well."
   ]
  },
  {
   "cell_type": "code",
   "execution_count": null,
   "metadata": {},
   "outputs": [],
   "source": []
  }
 ],
 "metadata": {
  "kernelspec": {
   "display_name": "Python 3",
   "language": "python",
   "name": "python3"
  },
  "language_info": {
   "codemirror_mode": {
    "name": "ipython",
    "version": 3
   },
   "file_extension": ".py",
   "mimetype": "text/x-python",
   "name": "python",
   "nbconvert_exporter": "python",
   "pygments_lexer": "ipython3",
   "version": "3.7.4"
  }
 },
 "nbformat": 4,
 "nbformat_minor": 2
}

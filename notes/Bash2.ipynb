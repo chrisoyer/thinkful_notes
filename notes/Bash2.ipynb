{
 "cells": [
  {
   "cell_type": "markdown",
   "metadata": {},
   "source": [
    "# General Bash\n",
    "`mv oldfilename.xtn` `newname.xtn` : to rename: easiest is to move file  \n",
    " \n",
    "` cp -a v6.2/. ../../Results/Farmers/` copies all contents in 6.2 into Farmers. note period after slash.  \n",
    "`-a` copies recursively & preserves attributes  \n",
    "\n",
    "### Finding and then action\n",
    "`find -name '19.*' ! -name '*checkpoint*' -exec mv -t 19/ {} +` Finds based on names and executes command, expanding each find item and adding to execute  \n",
    "`find -name '*delete*' -exec rm {} +` : deletes all files found with 'delete' in name  \n",
    "`find -maxdepth 1 -name '19.*' -exec mv -t 19/ {} +` : found files only in curret dir, not subdirs  \n",
    "\n",
    "#### xargs\n",
    "used to clean output for use as input for next utility  \n",
    "`$ find . -print | grep -i Capstone_sup | xargs mv -t ../supervised_learning_capstone/`\n",
    "\n",
    "### Chaining\n",
    "`A; B`       # Run A and then B, regardless of success of A  \n",
    "`A && B`     # Run B if and only if A succeeded  \n",
    "`A || B`     # Run B if and only if A failed  \n",
    "`A &`        # Run A in background.\n",
    "\n",
    "### Opening\n",
    "on linux, `xdg-open [filename]` \n",
    "on windows, `start [filename]`"
   ]
  },
  {
   "cell_type": "markdown",
   "metadata": {},
   "source": [
    "# Git\n",
    "\n",
    "### to start\n",
    "`git init` : creates new  \n",
    "`git config --global user.name 'chris oyer'`   \n",
    "`git config --global user.email 'christopheraoyer@gmail.com'` : sets up acct.  \n",
    "\n",
    "`git commit -m 'description of change'`  commit with message \n",
    "\n",
    "`git mv <old_filename> <new_filename>` to rename file in git repo   \n",
    "\n",
    "### adding\n",
    "`git add -A` : Stages Everything  \n",
    "`git add -u` : Stages only Modified Files  \n",
    "`git add .` : Stages everything, without Deleted Files  \n",
    "\n",
    "get all central changes to your local computer:\n",
    "`git pull origin master` & if need to switch back to master:\n",
    "`git checkout master push` changes to new branch:\n",
    "`git push origin yourbranchname`\n",
    "\n",
    "### Branching\n",
    "`git branch <branchname>` : create branch  \n",
    "`git checkout <branchname>` : move to branch  \n",
    "move to master, then `git merge <branchname>` to merge <branchname> changes to master  \n",
    "\n",
    "`git pull` is shorthand for `git fetch` followed by `git merge FETCH_HEAD`\n",
    "\n",
    "`git checkout -- <filename>` to discard uncommited changes\n",
    "\n",
    "`git update-git-for-windows` : updates git\n",
    "\n",
    "to keep local changes:  \n",
    "`git merge -s ours`  \n",
    "or  \n",
    "`git checkout --ours .`  # checkout our local version of all files  \n",
    "`git add -u`             # mark all conflicted files as merged  \n",
    "`git commit`             # commit the merge  "
   ]
  },
  {
   "cell_type": "markdown",
   "metadata": {},
   "source": [
    "# Python\n",
    "`$pip freeze > requirements.txt` : save module list to file  \n",
    "`$pip install -r requirements.txt` : installs from file  \n",
    "  \n",
    "### directories  \n",
    "`ls` or `dir`  \n",
    "  \n",
    "### bash from jupyter notebook python\n",
    "When you do `!cd`, you launch a new shell, which changes its own current working directory and promptly shuts down. This has no effect on IPython or the shell you launched IPython from.   \n",
    "  \n",
    "When you do `cd` or `%cd`, you tell IPython to change its own working directory. This will persist for the duration of your IPython session, but it still has no effect on the shell you launched IPython from. When you stop IPython, that shell will still be in whatever directory it was when you started IPython.  \n",
    "  \n",
    "### jupyter notebook\n",
    "`pip install jupyterthemes`  \n",
    "`jupyter notebook list to see list of open servers`  \n",
    "`jt -t <themename>`  \n",
    "  \n",
    "themes include\n",
    "* onedork\n",
    "* grade3\n",
    "* oceans16\n",
    "* chesterish\n",
    "* monokai\n",
    "* solarizedl\n",
    "* solarizedd  \n",
    "* gruvboxd\n",
    "* gruvboxl\n",
    "\n",
    "`jt -r` to revert  \n",
    "good settings:  `!jt -t monokai -fs 10 -nfs 10 -tfs 10 -dfs 8 -cellw 95% -ofs 10 -T -N -kl`  \n",
    "`jt -l` : gets list of themes  "
   ]
  },
  {
   "cell_type": "code",
   "execution_count": 10,
   "metadata": {},
   "outputs": [],
   "source": [
    "!jt -t onedork  -fs 9 -nfs 10 -tfs 10 -dfs 8 -cellw 95% -ofs 10 -T -N -kl"
   ]
  },
  {
   "cell_type": "code",
   "execution_count": 9,
   "metadata": {},
   "outputs": [
    {
     "name": "stdout",
     "output_type": "stream",
     "text": [
      "Reset css and font defaults in:\n",
      "C:\\Users\\User\\.jupyter\\custom &\n",
      "C:\\Users\\User\\AppData\\Roaming\\jupyter\\nbextensions\n"
     ]
    }
   ],
   "source": [
    "!jt -r"
   ]
  },
  {
   "cell_type": "code",
   "execution_count": 5,
   "metadata": {},
   "outputs": [
    {
     "name": "stdout",
     "output_type": "stream",
     "text": [
      "Available Themes: \n",
      "   chesterish\n",
      "   grade3\n",
      "   gruvboxd\n",
      "   gruvboxl\n",
      "   monokai\n",
      "   oceans16\n",
      "   onedork\n",
      "   solarizedd\n",
      "   solarizedl\n"
     ]
    }
   ],
   "source": [
    "!jt -l"
   ]
  },
  {
   "cell_type": "code",
   "execution_count": null,
   "metadata": {},
   "outputs": [],
   "source": []
  }
 ],
 "metadata": {
  "kernelspec": {
   "display_name": "Python 3",
   "language": "python",
   "name": "python3"
  },
  "language_info": {
   "codemirror_mode": {
    "name": "ipython",
    "version": 3
   },
   "file_extension": ".py",
   "mimetype": "text/x-python",
   "name": "python",
   "nbconvert_exporter": "python",
   "pygments_lexer": "ipython3",
   "version": "3.7.4"
  }
 },
 "nbformat": 4,
 "nbformat_minor": 2
}

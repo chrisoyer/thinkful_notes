{
 "cells": [
  {
   "cell_type": "markdown",
   "metadata": {},
   "source": [
    "# General Bash\n",
    "`mv oldfilename.xtn` `newname.xtn` : to rename: easiest is to move file  \n",
    " \n",
    "#### cp \n",
    "` cp -a v6.2/. ../../Results/Farmers/` copies all contents in 6.2 into Farmers. note period after slash.  \n",
    "`-a` copies recursively & preserves attributes  \n",
    "  \n",
    "`-a`   `-and` - operator AND  \n",
    "`-o`   `-or` - operator OR  \n",
    "`!` - operator NOT  \n",
    "`\\( \\)` multiple conditions with and/or  \n",
    "use `$` to expand variable  \n",
    "use `{}` to expand multiple entries\n",
    "\n",
    "### Finding and then action\n",
    "`find -name '19.*' ! -name '*checkpoint*' -exec mv -t 19/ {} +` Finds based on names and executes command, expanding each find item and adding to execute  \n",
    "`find -name '*delete*' -exec rm {} +` : deletes all files found with 'delete' in name  \n",
    "`find -maxdepth 1 -name '19.*' -exec mv -t 19/ {} +` : found files only in curret dir, not subdirs  \n",
    "find and rename with wildcards:  \n",
    "`generator | while read line; do something with \"$line\"; done`\n",
    "\n",
    "#### xargs\n",
    "used to clean output for use as input for next utility  \n",
    "`$ find . -print | grep -i Capstone_sup | xargs mv -t ../supervised_learning_capstone/`\n",
    "\n",
    "### Chaining\n",
    "`A; B`       # Run A and then B, regardless of success of A  \n",
    "`A && B`     # Run B if and only if A succeeded  \n",
    "`A || B`     # Run B if and only if A failed  \n",
    "`A &`        # Run A in background.\n",
    "\n",
    "### Opening\n",
    "on linux, `xdg-open [filename]` \n",
    "on windows, `start [filename]`\n",
    "\n",
    "### Archives\n",
    "`tar`  \n",
    "`-x` : Extract a tar ball.  \n",
    "`-v` : Verbose  \n",
    "`-f` : Specify an archive or a tarball filename  \n",
    "`-j` : Decompress and extract from bzip2 program (tar.bz2 extension)  \n",
    "`-z` : Decompress and extract by gzip program (tar.gz extension).  \n",
    "\n",
    "### download\n",
    "* wget just pulls data\n",
    "* curl allows more complex commands  \n",
    "`curl -O $tarurl` or  \n",
    "`curl -o /path/to/local/file http://url.com`  \n",
    "`curl http://url.com > /path/to/local/file`  \n"
   ]
  },
  {
   "cell_type": "markdown",
   "metadata": {},
   "source": [
    "# Git\n",
    "\n",
    "### to start\n",
    "`git init` : creates new  \n",
    "`git config --global user.name 'chris oyer'`   \n",
    "`git config --global user.email 'christopheraoyer@gmail.com'` : sets up acct.  \n",
    "`git commit -m 'description of change'`  commit with message \n",
    "`git mv <old_filename> <new_filename>` to rename file in git repo   \n",
    "\n",
    "### adding\n",
    "`git add -A` : Stages Everything  \n",
    "`git add -u` : Stages only Modified Files  \n",
    "`git add .` : Stages everything, without Deleted Files  \n",
    "`git pull origin master` : get all central changes to your local computer  \n",
    "`git checkout master push` : if need to switch back to master  \n",
    "`git push origin yourbranchname` :changes to new branch  \n",
    " \n",
    " ### init new repo\n",
    " WRONG: create repo with `git init`\n",
    " add and commit files. create .gitignore with vi and include exclusions  \n",
    " create github repo and copy url\n",
    " `git remote add origin https://github.com/chrisoyer/new_repo.gitignore`  :don't forgiet .git!  \n",
    " `git push -u origin master`  \n",
    " if you mess it up, fix by `git remote set-url origin https://github.com/chrisoyer/correcte_repo.gitignore`    \n",
    " RIGHT:\n",
    " create on github, then `git clone https://github.com/roparzhhemon/myremoterepo.git`  \n",
    " if you do it wrong, `git pull --allow-unrelated-histories origin master`    \n",
    "\n",
    "### Branching\n",
    "`git branch <branchname>` : create branch  \n",
    "`git checkout <branchname>` : move to branch  \n",
    "move to master, then `git merge <branchname>` to merge <branchname> changes to master  \n",
    "\n",
    "`git pull` is shorthand for `git fetch` followed by `git merge FETCH_HEAD`\n",
    "\n",
    "`git checkout -- <filename>` to discard uncommited changes\n",
    "\n",
    "`git update-git-for-windows` : updates git\n",
    "\n",
    "to keep local changes:  \n",
    "`git merge -s ours`  \n",
    "or  \n",
    "`git checkout --ours .`  # checkout our local version of all files  \n",
    "`git add -u`             # mark all conflicted files as merged  \n",
    "`git commit`             # commit the merge  \n",
    "\n",
    "  \n",
    "    \n",
    "    \n",
    " `file <filename>` to get filetype info on file"
   ]
  },
  {
   "cell_type": "markdown",
   "metadata": {},
   "source": [
    "# Docker and Spark\n",
    "`docker --version` : get verion no  \n",
    "`docker exec [OPTIONS] CONTAINER COMMAND [ARG...]`\n"
   ]
  },
  {
   "cell_type": "markdown",
   "metadata": {},
   "source": [
    "## AWS config\n",
    "to login to instance, with port forwarding:\n",
    "*  `ssh -i \"~/Google Drive/thinkful/instance1-key-pair-nvirginia.pem\" -L 9999:localhost:8888 ec2-user@ec2-3-82-249-78.compute-1.amazonaws.com -v`  \n",
    "\n",
    "once on ec2 instance:\n",
    "* git:\n",
    "    * `sudo yum install git`\n",
    "    * in ssh folder: ` ssh-keygen -t rsa -b 4096 -C \"christopheraoyer@gmail.com\"`  \n",
    "* install python:\n",
    "    * `sudo yum install python3`\n",
    "* create virtual environment:\n",
    "    * `sudo pip3 install virtualenv`\n",
    "    * `python3 -m venv ./.venv` \n",
    "    * `source ./.venv/bin/activate`\n",
    "    * `pip install pandas numpy matplotlib seaborn scikit-learn statsmodels jupyter`\n",
    "    * `pip freeze > requirements.txt`\n",
    "* to copy files to remote:\n",
    "    * `scp -i <key-pair-file> <data-file> <ec2-username>@<ec2-public-dns>:<ec2-directory>`\n",
    "* aws cli tool:\n",
    "    * `aws ec2 run-instances --image-id ami-xxxxxxxx --count 1 --instance-type t2.micro --key-name MyKeyPair --security-group-ids sg-903004f8`\n",
    "    * `aws ec2 describe-instances`  \n",
    "    * `aws ec2 terminate-instances --instance-ids <instanceID>`\n"
   ]
  },
  {
   "cell_type": "markdown",
   "metadata": {},
   "source": [
    "# Python\n",
    "`$pip freeze > requirements.txt` : save module list to file  \n",
    "`$pip install -r requirements.txt` : installs from file  \n",
    "  \n",
    "### directories  \n",
    "`ls` or `dir`  "
   ]
  },
  {
   "cell_type": "markdown",
   "metadata": {},
   "source": [
    "### virtual env\n",
    "`$virtualenv venv` : creates virtual environment folder  \n",
    "`$source venv/Scripts/activate` : activates venv. Use `/bin/` on linux  \n",
    "`$pip install ipykernel` : installs backend  \n",
    "`$ipython kernel install --user --name=<projectname>` : install jupyter backend  \n",
    "`$pip install pandas numpy matplotlib seaborn scikit-learn statsmodels jupyter autopep8`  \n",
    "`$jupyter notebook` : opens new jupyter instance w/in v.env. Choose <projectname> kernel from jupyter menu  \n",
    "`$deactivate`: ends venv sessions  "
   ]
  },
  {
   "cell_type": "markdown",
   "metadata": {},
   "source": [
    "# IPython  \n",
    "### bash from jupyter notebook python\n",
    "When you do `!cd`, you launch a new shell, which changes its own current working directory and promptly shuts down. This has no effect on IPython or the shell you launched IPython from.   \n",
    "  \n",
    "When you do `cd` or `%cd`, you tell IPython to change its own working directory. This will persist for the duration of your IPython session, but it still has no effect on the shell you launched IPython from. When you stop IPython, that shell will still be in whatever directory it was when you started IPython.  \n",
    "  \n",
    "### jupyter notebook\n",
    "`pip install jupyterthemes`  \n",
    "`jupyter notebook list to see list of open servers`  \n",
    "`jt -t <themename>`  \n",
    "  \n",
    "themes include\n",
    "* onedork\n",
    "* grade3\n",
    "* oceans16\n",
    "* chesterish\n",
    "* monokai\n",
    "* solarizedl\n",
    "* solarizedd  \n",
    "* gruvboxd\n",
    "* gruvboxl\n",
    "\n",
    "`jt -r` to revert  \n",
    "good settings:  `!jt -t monokai -fs 10 -nfs 10 -tfs 10 -dfs 8 -cellw 95% -ofs 10 -T -N -kl`  \n",
    "`jt -l` : gets list of themes  "
   ]
  },
  {
   "cell_type": "code",
   "execution_count": 1,
   "metadata": {},
   "outputs": [],
   "source": [
    "!jt -t oceans16  -fs 9 -nfs 10 -tfs 10 -dfs 8 -cellw 95% -ofs 10 -T -N -kl"
   ]
  },
  {
   "cell_type": "code",
   "execution_count": 1,
   "metadata": {},
   "outputs": [
    {
     "name": "stdout",
     "output_type": "stream",
     "text": [
      "Reset css and font defaults in:\n",
      "C:\\Users\\User\\.jupyter\\custom &\n",
      "C:\\Users\\User\\AppData\\Roaming\\jupyter\\nbextensions\n"
     ]
    }
   ],
   "source": [
    "!jt -r"
   ]
  },
  {
   "cell_type": "code",
   "execution_count": 5,
   "metadata": {},
   "outputs": [
    {
     "name": "stdout",
     "output_type": "stream",
     "text": [
      "Available Themes: \n",
      "   chesterish\n",
      "   grade3\n",
      "   gruvboxd\n",
      "   gruvboxl\n",
      "   monokai\n",
      "   oceans16\n",
      "   onedork\n",
      "   solarizedd\n",
      "   solarizedl\n"
     ]
    }
   ],
   "source": [
    "!jt -l"
   ]
  },
  {
   "cell_type": "markdown",
   "metadata": {},
   "source": [
    "### Notbook fixes\n",
    "When notebook crashes due to excess stdout: use this to clear output from terminal.\n",
    "```shell\n",
    "jupyter nbconvert --ClearOutputPreprocessor.enabled=True \\\n",
    "  --to notebook --output=NewNotebookName.ipynb CrashedNotebookName.ipynb\n",
    "```"
   ]
  },
  {
   "cell_type": "code",
   "execution_count": null,
   "metadata": {},
   "outputs": [],
   "source": []
  }
 ],
 "metadata": {
  "kernelspec": {
   "display_name": "Python 3",
   "language": "python",
   "name": "python3"
  },
  "language_info": {
   "codemirror_mode": {
    "name": "ipython",
    "version": 3
   },
   "file_extension": ".py",
   "mimetype": "text/x-python",
   "name": "python",
   "nbconvert_exporter": "python",
   "pygments_lexer": "ipython3",
   "version": "3.7.4"
  },
  "varInspector": {
   "cols": {
    "lenName": 16,
    "lenType": 16,
    "lenVar": 40
   },
   "kernels_config": {
    "python": {
     "delete_cmd_postfix": "",
     "delete_cmd_prefix": "del ",
     "library": "var_list.py",
     "varRefreshCmd": "print(var_dic_list())"
    },
    "r": {
     "delete_cmd_postfix": ") ",
     "delete_cmd_prefix": "rm(",
     "library": "var_list.r",
     "varRefreshCmd": "cat(var_dic_list()) "
    }
   },
   "types_to_exclude": [
    "module",
    "function",
    "builtin_function_or_method",
    "instance",
    "_Feature"
   ],
   "window_display": false
  }
 },
 "nbformat": 4,
 "nbformat_minor": 2
}

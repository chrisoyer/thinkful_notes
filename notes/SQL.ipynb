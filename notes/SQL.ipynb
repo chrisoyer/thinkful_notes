{
 "cells": [
  {
   "cell_type": "markdown",
   "metadata": {},
   "source": [
    "### avoiding injections"
   ]
  },
  {
   "cell_type": "code",
   "execution_count": null,
   "metadata": {},
   "outputs": [],
   "source": [
    "# Pass data to fill a query placeholders and let Psycopg perform\n",
    "# the correct conversion (no more SQL injections!)\n",
    ">>> cur.execute(\"INSERT INTO test (num, data) VALUES (%s, %s)\",\n",
    "...      (100, \"abc'def\"))"
   ]
  },
  {
   "cell_type": "markdown",
   "metadata": {},
   "source": [
    "# Case\n",
    "```sql\n",
    "CASE Expression\n",
    "When expression1 Then Result1\n",
    "When expression2 Then Result2\n",
    "...\n",
    "ELSE Result\n",
    "END\n",
    "```\n",
    "\n",
    "# WINDOW FUNCTIONS\n",
    "```sql\n",
    "OVER (\n",
    "       [ <PARTITION BY clause> ]\n",
    "       [ <ORDER BY clause> ]\n",
    "       [ <ROW or RANGE clause> ]\n",
    "      )\n",
    "\n",
    "[ROWS | RANGE] BETWEEN <Start expr> AND <End expr>\n",
    "```\n",
    "```sql\n",
    "Where:\n",
    "<Start expr> is one of:\n",
    "UNBOUNDED PRECEDING: The window starts in the first row of the partition\n",
    "CURRENT ROW: The window starts in the current row\n",
    "<unsigned integer literal> PRECEDING or FOLLOWING\n",
    "\n",
    "<End expr> is one of:\n",
    "UNBOUNDED FOLLOWING: The window ends in the last row of the partition\n",
    "CURRENT ROW: The window ends in the current row\n",
    "<unsigned integer literal> PRECEDING or FOLLOWING\n",
    "Where it is not explicitly specified, the default window frame is “range between unbounded preceding and current row“\n",
    "\n",
    "RANGE includes values logically identical; ROWS is physical row\n",
    "\n",
    "\n",
    "FIRST_VALUE()\n",
    "LAG()\n",
    "LAST_VALUE()\n",
    "LEAD()\n",
    "\n",
    "AVG()\n",
    "COUNT()\n",
    "MAX()\n",
    "MIN()\n",
    "SUM()\n",
    "\n",
    "CUME_DIST()\n",
    "DENSE_RANK()\n",
    "NTILE()\n",
    "NTH_VALUE()\n",
    "PERCENT_RANK()\n",
    "RANK()\n",
    "ROW_NUMBER()\n",
    "```\n",
    "\n",
    "# Stored Procedures\n",
    "\n",
    "don't need to @variable because that would be sessions variable; non @variable gets reinitialized each time proc is called  \n",
    "```sql\n",
    "DELIMITER $$\n",
    "\n",
    "DROP PROC IF EXISTS spStoredProc;\n",
    "CREATE PROC spStoredProc(IN countryName VARCHAR(255))\n",
    "BEGIN\n",
    "\tSELECT * \n",
    " \tFROM table\n",
    "\tWHERE country = countryName;\n",
    "END $$\n",
    "\n",
    "DELIMITER ;\n",
    "\n",
    "-- then call procedure by\n",
    "EXEC spStoredProc or CALL spStoredProc('inputvalue')\n",
    "\n",
    "```"
   ]
  },
  {
   "cell_type": "code",
   "execution_count": null,
   "metadata": {},
   "outputs": [],
   "source": []
  }
 ],
 "metadata": {
  "kernelspec": {
   "display_name": "Python 3",
   "language": "python",
   "name": "python3"
  },
  "language_info": {
   "codemirror_mode": {
    "name": "ipython",
    "version": 3
   },
   "file_extension": ".py",
   "mimetype": "text/x-python",
   "name": "python",
   "nbconvert_exporter": "python",
   "pygments_lexer": "ipython3",
   "version": "3.7.4"
  }
 },
 "nbformat": 4,
 "nbformat_minor": 4
}

{
 "cells": [
  {
   "cell_type": "code",
   "execution_count": null,
   "metadata": {},
   "outputs": [],
   "source": [
    "#numpy doesn't have mode function\n",
    "import statistics\n",
    "statistics.mode(df['age'])\n"
   ]
  },
  {
   "cell_type": "code",
   "execution_count": null,
   "metadata": {},
   "outputs": [],
   "source": [
    "#mean\n",
    "# Using built-in Python functionality.\n",
    "sum(df['age']) / len(df['age'])\n",
    "\n",
    "# Using NumPy\n",
    "import numpy as np\n",
    "np.mean(df['age'])\n",
    "\n",
    "# median\n",
    "\n",
    "# Vanilla Python, using the built-in statistics module.\n",
    "import statistics\n",
    "statistics.median(df['age'])\n",
    "\n",
    "# Using NumPy.\n",
    "import numpy as np\n",
    "np.median(df['age'])\n",
    "\n",
    "# Return the mode using the statistics module.\n",
    "import statistics\n",
    "statistics.mode(df['age'])\n",
    "\n",
    "#variance\n",
    "v = sum((x - mean) ** 2) / (n - 1)\n",
    "df['age'].var()\n",
    "np.var(df.age)\n",
    "\n",
    "#standard deviation\n",
    "st_dev = variance ** 0.5\n",
    "np.std(df['age'], ddof=1) #this is for SAMPLE st dev. population does not require delta degrees of freedom parameter\n",
    "\n",
    "#standard error of the mean\n",
    "se = st_dev / (n ** 0.5)\n",
    "np.std(df['age'] ,ddof=1) / np.sqrt(len(df['age']))\n",
    "\n",
    "#\n",
    "value_counts()"
   ]
  },
  {
   "cell_type": "markdown",
   "metadata": {},
   "source": [
    "### quantile-quantile (QQ) plots  \n",
    "\n",
    "should be straight line from bottom left to top right. "
   ]
  },
  {
   "cell_type": "markdown",
   "metadata": {},
   "source": [
    "## other\n"
   ]
  },
  {
   "cell_type": "code",
   "execution_count": 1,
   "metadata": {},
   "outputs": [
    {
     "ename": "NameError",
     "evalue": "name 'pop1' is not defined",
     "output_type": "error",
     "traceback": [
      "\u001b[1;31m------------------------------------------------------------------\u001b[0m",
      "\u001b[1;31mNameError\u001b[0m                        Traceback (most recent call last)",
      "\u001b[1;32m<ipython-input-1-f92d39c333cb>\u001b[0m in \u001b[0;36m<module>\u001b[1;34m\u001b[0m\n\u001b[0;32m      2\u001b[0m \u001b[1;33m\u001b[0m\u001b[0m\n\u001b[0;32m      3\u001b[0m \u001b[1;31m#instead of .head() can use\u001b[0m\u001b[1;33m\u001b[0m\u001b[1;33m\u001b[0m\u001b[1;33m\u001b[0m\u001b[0m\n\u001b[1;32m----> 4\u001b[1;33m \u001b[0mpop1\u001b[0m\u001b[1;33m[\u001b[0m\u001b[1;36m0\u001b[0m\u001b[1;33m:\u001b[0m\u001b[1;36m30\u001b[0m\u001b[1;33m]\u001b[0m\u001b[1;33m\u001b[0m\u001b[1;33m\u001b[0m\u001b[0m\n\u001b[0m\u001b[0;32m      5\u001b[0m \u001b[1;33m\u001b[0m\u001b[0m\n\u001b[0;32m      6\u001b[0m \u001b[1;31m#if something returns too many returns:\u001b[0m\u001b[1;33m\u001b[0m\u001b[1;33m\u001b[0m\u001b[1;33m\u001b[0m\u001b[0m\n",
      "\u001b[1;31mNameError\u001b[0m: name 'pop1' is not defined"
     ]
    }
   ],
   "source": [
    "from scipy.stats import ttest_ind\n",
    "\n",
    "#instead of .head() can use \n",
    "pop1[0:30]\n",
    "\n",
    "#if something returns too many returns:\n",
    "statistic_value= ttest_ind(sampn1000_frpop1_q2a, sampn1000_frpop2_q2a, equal_var=False)\n",
    "print(statistic_value)\n",
    "\n",
    "# this returns Ttest_indResult(statistic=-29.91690729062344, pvalue=1.2827399562260494e-162)\n",
    "\n",
    "\n",
    "statistic_value= ttest_ind(sampn1000_frpop1_q2a, sampn1000_frpop2_q2a, equal_var=False)\n",
    "print(statistic_value)\n",
    "\n",
    "#Then can use \n",
    "statistic_value= ttest_ind(sampn1000_frpop1_q2a, sampn1000_frpop2_q2a, equal_var=False).pvalue\n",
    "statistic_value= ttest_ind(sampn1000_frpop1_q2a, sampn1000_frpop2_q2a, equal_var=False)[1]\n",
    "\n",
    "# or \n",
    "test_value[1]"
   ]
  },
  {
   "cell_type": "code",
   "execution_count": null,
   "metadata": {},
   "outputs": [],
   "source": [
    "T"
   ]
  }
 ],
 "metadata": {
  "kernelspec": {
   "display_name": "Python 3",
   "language": "python",
   "name": "python3"
  },
  "language_info": {
   "codemirror_mode": {
    "name": "ipython",
    "version": 3
   },
   "file_extension": ".py",
   "mimetype": "text/x-python",
   "name": "python",
   "nbconvert_exporter": "python",
   "pygments_lexer": "ipython3",
   "version": "3.7.3"
  }
 },
 "nbformat": 4,
 "nbformat_minor": 2
}

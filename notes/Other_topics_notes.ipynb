{
 "cells": [
  {
   "cell_type": "markdown",
   "metadata": {},
   "source": [
    "## Scrapy\n",
    "\n",
    "built on 'twisted reactor' - event driven. Can only be run once per kernel start. Best to run from command line.\n",
    "### netiquette\n",
    "```python\n",
    "process = CrawlerProcess({'AUTOTHROTTLE_ENABLED': True, # or download delay\n",
    "                          'HTTPCACHE_ENABLED': True, # remove for final scrape to get live data\n",
    "                          'ROBOTSTXT_OBEY': True, \n",
    "                          'USER_AGENT': 'ThinkfulDataScienceBootcampCrawler (thinkful.com)' })```"
   ]
  },
  {
   "cell_type": "markdown",
   "metadata": {},
   "source": [
    "# Data Structures and Algos\n",
    "Binary tree: no more than 2 nodes per parent. 'Perfect' Binary if each parent node has two children (single leaf is ok). Perfect if a full binary tree with all leaves on the same level.\n",
    "    Binary Heap: complete binary tree, that either always increase value or decrease as move from layer to layer"
   ]
  },
  {
   "cell_type": "markdown",
   "metadata": {},
   "source": [
    "# Parametric and Non-Parametric tests\n",
    "Whether comparing two groups or more than two, the logic behind parametric tests comparing groups is the same: Calculate how much information in the data can be explained by belonging to groups (often by computing the difference between group means). Then calculate how much information is in the data overall (often by calculating the standard deviation). Finally, divide the variance explained in the means by the total variance to get a test statistic representing the information explained by group membership in the context of the overall variance."
   ]
  },
  {
   "cell_type": "code",
   "execution_count": null,
   "metadata": {},
   "outputs": [],
   "source": []
  }
 ],
 "metadata": {
  "kernelspec": {
   "display_name": "Python 3",
   "language": "python",
   "name": "python3"
  },
  "language_info": {
   "codemirror_mode": {
    "name": "ipython",
    "version": 3
   },
   "file_extension": ".py",
   "mimetype": "text/x-python",
   "name": "python",
   "nbconvert_exporter": "python",
   "pygments_lexer": "ipython3",
   "version": "3.7.4"
  }
 },
 "nbformat": 4,
 "nbformat_minor": 2
}

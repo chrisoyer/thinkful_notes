{
 "cells": [
  {
   "cell_type": "markdown",
   "metadata": {},
   "source": [
    "## Scrapy\n",
    "\n",
    "built on 'twisted reactor' - event driven. Can only be run once per kernel start. Best to run from command line.\n",
    "### netiquette\n",
    "```python\n",
    "process = CrawlerProcess({'AUTOTHROTTLE_ENABLED': True, # or download delay\n",
    "                          'HTTPCACHE_ENABLED': True, # remove for final scrape to get live data\n",
    "                          'ROBOTSTXT_OBEY': True, \n",
    "                          'USER_AGENT': 'ThinkfulDataScienceBootcampCrawler (thinkful.com)' })```"
   ]
  },
  {
   "cell_type": "markdown",
   "metadata": {},
   "source": [
    "# Data Structures and Algos\n",
    "Binary tree: no more than 2 nodes per parent. 'Perfect' Binary if each parent node has two children (single leaf is ok). Perfect if a full binary tree with all leaves on the same level.\n",
    "    Binary Heap: complete binary tree, that either always increase value or decrease as move from layer to layer"
   ]
  },
  {
   "cell_type": "code",
   "execution_count": null,
   "metadata": {},
   "outputs": [],
   "source": []
  }
 ],
 "metadata": {
  "kernelspec": {
   "display_name": "Python 3",
   "language": "python",
   "name": "python3"
  },
  "language_info": {
   "codemirror_mode": {
    "name": "ipython",
    "version": 3
   },
   "file_extension": ".py",
   "mimetype": "text/x-python",
   "name": "python",
   "nbconvert_exporter": "python",
   "pygments_lexer": "ipython3",
   "version": "3.7.4"
  }
 },
 "nbformat": 4,
 "nbformat_minor": 2
}

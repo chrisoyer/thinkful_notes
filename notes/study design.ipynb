{
 "cells": [
  {
   "cell_type": "markdown",
   "metadata": {},
   "source": [
    "explore dataset and make a few visuals\n",
    "look for q that can be answered with an experiment\n",
    "\tAnalysis that highlights your experimental hypothesis.\n",
    "\tA rollout plan showing how you would implement and rollout the experiment\n",
    "\tAn evaluation plan showing what constitutes success in this experiment\n",
    "target 3-5 pages\n",
    "\n"
   ]
  },
  {
   "cell_type": "code",
   "execution_count": null,
   "metadata": {},
   "outputs": [],
   "source": []
  }
 ],
 "metadata": {
  "kernelspec": {
   "display_name": "Python 3",
   "language": "python",
   "name": "python3"
  },
  "language_info": {
   "codemirror_mode": {
    "name": "ipython",
    "version": 3
   },
   "file_extension": ".py",
   "mimetype": "text/x-python",
   "name": "python",
   "nbconvert_exporter": "python",
   "pygments_lexer": "ipython3",
   "version": "3.7.3"
  }
 },
 "nbformat": 4,
 "nbformat_minor": 2
}

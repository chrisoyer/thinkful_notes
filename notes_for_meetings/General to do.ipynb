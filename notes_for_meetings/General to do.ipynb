{
 "cells": [
  {
   "cell_type": "markdown",
   "metadata": {},
   "source": [
    "Do weekly reflection & email PM about not doing them so far. \n",
    "    - What did you learn in the past week? Is there anything you wish you did differently?\n",
    "    - How did you divide your time between reading, project work, and other activities? How could you achieve your goals more efficiently, improve your process?\n",
    "    - How could the curriculum, the community, and your mentor have been a bigger part of your learning?\n",
    "    - Do you feel good about your progress last week?  \n",
    "\n",
    "\n",
    "figure ouet capstone data set & ideas  \n",
    "\n",
    "attend workshop on capstone  \n",
    "\n"
   ]
  },
  {
   "cell_type": "markdown",
   "metadata": {},
   "source": [
    "Learned: I learned to use statistical test with python and got better at plotting (adding mean lines to histograms, locating legends) and with grouping/aggregation. \n",
    "Time: I spent most of my time \n",
    "Thinkful: I sometimes am not sure what parts of what I'm learning I'm learning well or could use some extra practice on. \n",
    "Progress: I didn't feel great, as I am wondering if i'll be able to complete the capstone project in time. "
   ]
  }
 ],
 "metadata": {
  "kernelspec": {
   "display_name": "Python 3",
   "language": "python",
   "name": "python3"
  },
  "language_info": {
   "codemirror_mode": {
    "name": "ipython",
    "version": 3
   },
   "file_extension": ".py",
   "mimetype": "text/x-python",
   "name": "python",
   "nbconvert_exporter": "python",
   "pygments_lexer": "ipython3",
   "version": "3.7.3"
  }
 },
 "nbformat": 4,
 "nbformat_minor": 2
}

{
 "cells": [
  {
   "cell_type": "markdown",
   "metadata": {},
   "source": [
    "i'm not quite sure what the first line is doing...a dataframe "
   ]
  },
  {
   "cell_type": "code",
   "execution_count": null,
   "metadata": {},
   "outputs": [],
   "source": [
    "(values, counts) = np.unique(df['age'], return_counts=True)\n",
    "\n",
    "# The location in the values list of the most-frequently-occurring element.\n",
    "ind = np.argmax(counts)\n",
    "\n",
    "# The most frequent element.\n",
    "values[ind]\n"
   ]
  }
 ],
 "metadata": {
  "kernelspec": {
   "display_name": "Python 3",
   "language": "python",
   "name": "python3"
  },
  "language_info": {
   "codemirror_mode": {
    "name": "ipython",
    "version": 3
   },
   "file_extension": ".py",
   "mimetype": "text/x-python",
   "name": "python",
   "nbconvert_exporter": "python",
   "pygments_lexer": "ipython3",
   "version": "3.7.3"
  }
 },
 "nbformat": 4,
 "nbformat_minor": 2
}

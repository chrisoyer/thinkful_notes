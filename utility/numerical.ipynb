{
 "cells": [
  {
   "cell_type": "code",
   "execution_count": 1,
   "metadata": {},
   "outputs": [],
   "source": [
    "def winsorize(data=[], lower=.05, upper=.95):\n",
    "    '''Winsorizes an array. Defaults are at .05 and .95 of unit rank. \n",
    "    '''\n",
    "    pcts = np.percentile(data, q=[lower, upper])\n",
    "    w_ized = []\n",
    "    for i in data:\n",
    "        if i<pcts[0]:\n",
    "            w_ized.append(pcts[0])\n",
    "        elif i>pcts[1]:\n",
    "            w_ized.append(pcts[1])\n",
    "        else: \n",
    "            w_ized.append(i)\n",
    "    return w_ized"
   ]
  },
  {
   "cell_type": "code",
   "execution_count": null,
   "metadata": {},
   "outputs": [],
   "source": []
  }
 ],
 "metadata": {
  "kernelspec": {
   "display_name": "Python 3",
   "language": "python",
   "name": "python3"
  },
  "language_info": {
   "codemirror_mode": {
    "name": "ipython",
    "version": 3
   },
   "file_extension": ".py",
   "mimetype": "text/x-python",
   "name": "python",
   "nbconvert_exporter": "python",
   "pygments_lexer": "ipython3",
   "version": "3.7.3"
  }
 },
 "nbformat": 4,
 "nbformat_minor": 2
}

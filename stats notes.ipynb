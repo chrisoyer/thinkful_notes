{
 "cells": [
  {
   "cell_type": "code",
   "execution_count": null,
   "metadata": {},
   "outputs": [],
   "source": [
    "#numpy doesn't have mode function\n",
    "import statistics\n",
    "statistics.mode(df['age'])\n"
   ]
  },
  {
   "cell_type": "code",
   "execution_count": null,
   "metadata": {},
   "outputs": [],
   "source": [
    "#mean\n",
    "# Using built-in Python functionality.\n",
    "sum(df['age']) / len(df['age'])\n",
    "\n",
    "# Using NumPy\n",
    "import numpy as np\n",
    "np.mean(df['age'])\n",
    "\n",
    "# median\n",
    "\n",
    "# Vanilla Python, using the built-in statistics module.\n",
    "import statistics\n",
    "statistics.median(df['age'])\n",
    "\n",
    "# Using NumPy.\n",
    "import numpy as np\n",
    "np.median(df['age'])\n",
    "\n",
    "# Return the mode using the statistics module.\n",
    "import statistics\n",
    "statistics.mode(df['age'])\n",
    "\n",
    "#variance\n",
    "v = sum((x - mean) ** 2) / (n - 1)\n",
    "df['age'].var()\n",
    "np.var(df.age)\n",
    "\n",
    "#standard deviation\n",
    "st_dev = variance ** 0.5\n",
    "np.std(df['age'], ddof=1) #this is for SAMPLE st dev. population does not require delta degrees of freedom parameter\n",
    "\n",
    "#standard error of the mean\n",
    "se = st_dev / (n ** 0.5)\n",
    "np.std(df['age'] ,ddof=1) / np.sqrt(len(df['age']))\n"
   ]
  }
 ],
 "metadata": {
  "kernelspec": {
   "display_name": "Python 3",
   "language": "python",
   "name": "python3"
  },
  "language_info": {
   "codemirror_mode": {
    "name": "ipython",
    "version": 3
   },
   "file_extension": ".py",
   "mimetype": "text/x-python",
   "name": "python",
   "nbconvert_exporter": "python",
   "pygments_lexer": "ipython3",
   "version": "3.7.3"
  }
 },
 "nbformat": 4,
 "nbformat_minor": 2
}

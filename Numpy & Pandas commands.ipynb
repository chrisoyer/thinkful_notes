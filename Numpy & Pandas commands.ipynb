{
 "cells": [
  {
   "cell_type": "code",
   "execution_count": null,
   "metadata": {},
   "outputs": [],
   "source": [
    "#import modules. Should be at beginning per python style\n",
    "import numpy as np\n",
    "\n",
    "#Ranges\n",
    "w = np.array([[0, 1, 2, 3],[4, 5, 6, 7]])\n",
    "#array range to make array from numbers\n",
    "y = np.arange(24).reshape(8,3)\n",
    "\n",
    "#element-wise functions\n",
    "print(np.square(x))\n",
    "print(np.sqrt(x))\n",
    "print(np.cos(x))\n",
    "\n",
    "#aggregator functions\n",
    "x = np.array([0, 1, 2, 300])\n",
    "print(np.max(x))\n",
    "print(np.min(x))\n",
    "print(np.mean(x))\n",
    "print(np.std(x))\n",
    "\n",
    "#pandas dataframes\n",
    "my_array = np.array([['Montgomery','Yellohammer state',52423],\n",
    "                     ['Sacramento','Golden state',163707],\n",
    "                     ['Oklahoma City','Sooner state',69960 ]])\n",
    "df = pd.DataFrame(my_array)\n",
    "df\n",
    "\n",
    "#set names for dataframes\n",
    "df.columns = ['Capital', 'Nickname','Area']\n",
    "df.index = ['Alabama', 'California', 'Oklahoma']\n",
    "\n",
    "#OR\n",
    "colnames = [\"city\", \"state\", \"area\"]\n",
    "df.columns = (colnames)\n",
    "df.index = (['Alabama', 'California', 'Oklahoma'])\n",
    "df\n",
    "\n",
    "#add columns to dataframe:\n",
    "df['country'] = ['US', 'CAN', 'CAN', 'US', 'CAN', 'US', 'US', 'US', 'CAN', 'US']\n",
    "df['ad_views'] = [16, 42, 32, 13, 63, 19, 65, 23, 16, 77]\n",
    "df\n",
    "\n",
    "#not dynamic:\n",
    "purchases['items_purch_per_ad'] = purchases['items_purchased'] / purchases['ad_views']\n",
    "\n",
    "#loc and iloc:\n",
    "#note index no starts at 1\n",
    "df.loc[<row_selection>, <col_selection>]\n",
    "# use:\n",
    "df.iloc[:,:]\n",
    "\n",
    "df.iloc[<row_selection>, <col_selection>]\n",
    "#including integer list, [ 1, 2, 3] , slice [3:6], or single value 1"
   ]
  },
  {
   "cell_type": "markdown",
   "metadata": {},
   "source": [
    "![image of loc and iloc references](https://shanelynnwebsite-mid9n9g1q9y8tt.netdna-ssl.com/wp-content/uploads/2016/10/Pandas-selections-and-indexing.png)"
   ]
  },
  {
   "cell_type": "code",
   "execution_count": null,
   "metadata": {},
   "outputs": [],
   "source": [
    "#conditional selection:\n",
    "purchases.loc[lambda df: purchases['items_purchased'] > 1, :]\n",
    "#also possible, less robust:\n",
    "purchases[purchases['items_purchased'] > 1,:]\n",
    "\n",
    "#Grouping\n",
    "purchases.groupby('country').sum()\n",
    "purchases.groupby('country')['items_purchased'].mean()\n",
    "\n",
    "#For import issues:\n",
    "jupyter --paths # at the command line\n"
   ]
  },
  {
   "cell_type": "code",
   "execution_count": null,
   "metadata": {},
   "outputs": [],
   "source": [
    "df.to_csv('my_data.csv')\n",
    "df.read_csv(\"purchase.csv\")\n",
    "df.read_json(\"file.json\")\n",
    "\n",
    "#usecase: sending json to web. send to string first.\n",
    "serialized_purchases = df.to_json()\n",
    "\n",
    "# open files with \n",
    "with open('poem.txt') as poem_file:\n",
    "    statements\n",
    "\n",
    "#enumerate use for for statements to show index and item.e.g.:\n",
    "for i in enumerate(['a', 'b']):\n",
    "    print(i[0], i[1])\n",
    "#0 a\n",
    "#1 b\n",
    "\n"
   ]
  },
  {
   "cell_type": "code",
   "execution_count": null,
   "metadata": {},
   "outputs": [],
   "source": [
    "#aggregation functions\n",
    "# What is the sum of durations, for calls only, to each network\n",
    "data[data['item'] == 'call'].groupby('network')['duration'].sum()\n",
    "\n",
    "#simple\n",
    "gdf = df.groupby('species').agg('mean')\n",
    "\n",
    "#multiple functions on a column\n",
    "gdf = df.groupby('species').agg(['min', 'max'])\n"
   ]
  }
 ],
 "metadata": {
  "kernelspec": {
   "display_name": "Python 3",
   "language": "python",
   "name": "python3"
  },
  "language_info": {
   "codemirror_mode": {
    "name": "ipython",
    "version": 3
   },
   "file_extension": ".py",
   "mimetype": "text/x-python",
   "name": "python",
   "nbconvert_exporter": "python",
   "pygments_lexer": "ipython3",
   "version": "3.7.3"
  }
 },
 "nbformat": 4,
 "nbformat_minor": 2
}

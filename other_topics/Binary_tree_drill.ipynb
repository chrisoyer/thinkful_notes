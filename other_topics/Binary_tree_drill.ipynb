{
 "cells": [
  {
   "cell_type": "markdown",
   "metadata": {},
   "source": [
    "Implement a binary tree, which is filled with 15 pieces of random data. Your job is to then write a program to traverse the tree using a breadth first traversal. If you want additional practice, try other forms of traversal.\n"
   ]
  },
  {
   "cell_type": "code",
   "execution_count": 19,
   "metadata": {},
   "outputs": [],
   "source": [
    "class bin_tree(object):\n",
    "    class Node(object):\n",
    "        def __init__(self, value):\n",
    "            self.left = None\n",
    "            self.right = None\n",
    "            self.value = value\n",
    "        def __str__(self):\n",
    "            return f\"value is: {self.value}\"\n",
    "\n",
    "    def __init__(self, value):\n",
    "        try:\n",
    "            for val in value:\n",
    "                self.Node(value) \n",
    "        except:\n",
    "            self.value = self.Node(value)\n",
    "    def __str__(self):\n",
    "        return f\" value is {self.value}, left child is {self.left}, right child is {self.right}\"\n",
    "    \n",
    "\n",
    "        def get_value():\n",
    "            pass\n",
    "    def append(self, value):\n",
    "        #fill in \n",
    "        if self.value is None:\n",
    "            self.value = value\n",
    "        #else\n",
    "        if self.value < value:\n",
    "            self.value, value = value, self.value\n",
    "        #create child and add value\n",
    "        if self.left is not None:\n",
    "            self.left = Node(value)\n",
    "        elif self.right is not None:\n",
    "            self.right = Node(value)\n",
    "        #find best child to append to to keep depth even\n",
    "        else:\n",
    "            if self.right.get_max_depth() < self.left.get_max_depth():\n",
    "                self.right.append(value)\n",
    "            else:\n",
    "                self.left.append(value)\n",
    "    def get_max_depth(self):\n",
    "        return 1 \n",
    "        if self.left is None and self.right is None:\n",
    "            return 1\n",
    "        else:\n",
    "             return 1 + max(get_max_depth(self.left), get_max_depth(self.right))\n"
   ]
  },
  {
   "cell_type": "code",
   "execution_count": 20,
   "metadata": {},
   "outputs": [],
   "source": [
    "firsttree = bin_tree(3)"
   ]
  },
  {
   "cell_type": "code",
   "execution_count": 22,
   "metadata": {},
   "outputs": [
    {
     "ename": "AttributeError",
     "evalue": "'bin_tree' object has no attribute 'left'",
     "output_type": "error",
     "traceback": [
      "\u001b[1;31m---------------------------------------------------------------------------\u001b[0m",
      "\u001b[1;31mAttributeError\u001b[0m                            Traceback (most recent call last)",
      "\u001b[1;32m<ipython-input-22-a8f2a1caabb1>\u001b[0m in \u001b[0;36m<module>\u001b[1;34m\u001b[0m\n\u001b[1;32m----> 1\u001b[1;33m \u001b[0mprint\u001b[0m\u001b[1;33m(\u001b[0m\u001b[0mfirsttree\u001b[0m\u001b[1;33m)\u001b[0m\u001b[1;33m\u001b[0m\u001b[1;33m\u001b[0m\u001b[0m\n\u001b[0m",
      "\u001b[1;32m<ipython-input-19-34bc991be4da>\u001b[0m in \u001b[0;36m__str__\u001b[1;34m(self)\u001b[0m\n\u001b[0;32m     15\u001b[0m             \u001b[0mself\u001b[0m\u001b[1;33m.\u001b[0m\u001b[0mvalue\u001b[0m \u001b[1;33m=\u001b[0m \u001b[0mself\u001b[0m\u001b[1;33m.\u001b[0m\u001b[0mNode\u001b[0m\u001b[1;33m(\u001b[0m\u001b[0mvalue\u001b[0m\u001b[1;33m)\u001b[0m\u001b[1;33m\u001b[0m\u001b[1;33m\u001b[0m\u001b[0m\n\u001b[0;32m     16\u001b[0m     \u001b[1;32mdef\u001b[0m \u001b[0m__str__\u001b[0m\u001b[1;33m(\u001b[0m\u001b[0mself\u001b[0m\u001b[1;33m)\u001b[0m\u001b[1;33m:\u001b[0m\u001b[1;33m\u001b[0m\u001b[1;33m\u001b[0m\u001b[0m\n\u001b[1;32m---> 17\u001b[1;33m         \u001b[1;32mreturn\u001b[0m \u001b[1;34mf\" value is {self.value}, left child is {self.left}, right child is {self.right}\"\u001b[0m\u001b[1;33m\u001b[0m\u001b[1;33m\u001b[0m\u001b[0m\n\u001b[0m\u001b[0;32m     18\u001b[0m \u001b[1;33m\u001b[0m\u001b[0m\n\u001b[0;32m     19\u001b[0m \u001b[1;33m\u001b[0m\u001b[0m\n",
      "\u001b[1;31mAttributeError\u001b[0m: 'bin_tree' object has no attribute 'left'"
     ]
    }
   ],
   "source": [
    "print(firsttree)"
   ]
  },
  {
   "cell_type": "code",
   "execution_count": null,
   "metadata": {},
   "outputs": [],
   "source": []
  }
 ],
 "metadata": {
  "kernelspec": {
   "display_name": "Python 3",
   "language": "python",
   "name": "python3"
  },
  "language_info": {
   "codemirror_mode": {
    "name": "ipython",
    "version": 3
   },
   "file_extension": ".py",
   "mimetype": "text/x-python",
   "name": "python",
   "nbconvert_exporter": "python",
   "pygments_lexer": "ipython3",
   "version": "3.7.4"
  }
 },
 "nbformat": 4,
 "nbformat_minor": 2
}

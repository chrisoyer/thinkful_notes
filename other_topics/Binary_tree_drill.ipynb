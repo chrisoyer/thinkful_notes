{
 "cells": [
  {
   "cell_type": "markdown",
   "metadata": {},
   "source": [
    "Implement a binary tree, which is filled with 15 pieces of random data. Your job is to then write a program to traverse the tree using a breadth first traversal. If you want additional practice, try other forms of traversal.\n"
   ]
  },
  {
   "cell_type": "code",
   "execution_count": 418,
   "metadata": {},
   "outputs": [],
   "source": [
    "from functools import total_ordering\n",
    "@total_ordering\n",
    "class BinaryTree(object):\n",
    "    '''recursivly creates binary trees. verticall, numbers sorted from lowest at top to highest at base. \n",
    "    Leaves created left to right.'''\n",
    "    def __init__(self, value):\n",
    "        self.__name__ = 'binary_tree'\n",
    "        self.left = None\n",
    "        self.right = None\n",
    "        try:\n",
    "            len(value)\n",
    "            self.value = value[0]\n",
    "            self.append(value[1:])\n",
    "        except TypeError: \n",
    "            self.value = value\n",
    "\n",
    "    def append(self, value):\n",
    "        for val in value:\n",
    "            self._append(val)\n",
    "\n",
    "    def _append(self, value):\n",
    "        if self.value < value:\n",
    "            self.value, value = value, self.value\n",
    "        leftisblank = rightisblank = False\n",
    "        if self.left is None:\n",
    "            leftisblank = True \n",
    "        if self.right is None:\n",
    "            rightisblank = True \n",
    "        if leftisblank:\n",
    "            self.left = BinaryTree(value)\n",
    "        elif rightisblank:\n",
    "            self.right = BinaryTree(value)\n",
    "         #find best child to append to to keep depth even\n",
    "        else:\n",
    "            if self.right.get_min_depth() < self.left.get_min_depth():\n",
    "                self.right._append(value)\n",
    "            else:\n",
    "                self.left._append(value)\n",
    "        #self.append(leftovers)\n",
    "\n",
    "    def get_min_depth(self):\n",
    "        if self.left is None or self.right is None:\n",
    "            return 1\n",
    "        else:\n",
    "            return 1 + min(self.left.get_min_depth(), self.right.get_min_depth())\n",
    "    def get_min_depth(self):\n",
    "        if self.left is None and self.right is None:\n",
    "            return 1\n",
    "        else:\n",
    "            return 1 + max(self.left.get_min_depth(), self.right.get_min_depth())\n",
    "    def __eq__(self, other):\n",
    "        return ((self.value) == (other.value))\n",
    "    def __lt__(self, other):\n",
    "        return ((self.value) < (other.value))\n",
    "    def __str__(self):\n",
    "        description = f\"\\n Node value is {self.value}, \" if hasattr(self, 'value') else \"blank\"\n",
    "        left_desc = f\"left child is {self.left}, \" if not self.left is None else \"\"\n",
    "        right_desc = f\"right child is {self.right}, \" if not self.right is None else \"\"\n",
    "        return description + left_desc + right_desc\n",
    "    def __repr__(self):\n",
    "        description = f\" value is {self.value}\" if hasattr(self, 'value') else \"blank\"\n",
    "        left_desc = f\"left child is {self.left}\" if hasattr(self, 'left.value') else \"\"\n",
    "        right_desc = f\"right child is {self.right}\" if hasattr(self, 'right.value') else \"\"\n",
    "        return description + left_desc + right_desc\n",
    "    def _breadth_traversal_helper(self):\n",
    "        return (self.value)\n",
    "        remaining_levels =  self.get_max_depth()\n",
    "        if remaining_levels > 0:\n",
    "            _breadth_traversal_helper(self.left)\n",
    "            _breadth_traversal_helper(self.right)\n",
    "    def breadth_traverser(self)\n",
    "        queue = _breadth_traversal_helper()\n"
   ]
  },
  {
   "cell_type": "code",
   "execution_count": 415,
   "metadata": {},
   "outputs": [],
   "source": [
    "test = [3, 5, 7, 8, -4, 4.5, 16, 4, 78, 55, 3, -3, 62, -2, \"ed\"]\n",
    "firsttree = BinaryTree(test)"
   ]
  },
  {
   "cell_type": "code",
   "execution_count": 416,
   "metadata": {},
   "outputs": [
    {
     "name": "stdout",
     "output_type": "stream",
     "text": [
      "\n",
      " Node value is [3, 5, 7, 8, -4, 4.5, 16, 4, 78, 55, 3, -3, 62, -2, 'ed'], left child is \n",
      " Node value is 55, left child is \n",
      " Node value is 7, left child is \n",
      " Node value is 3, , right child is \n",
      " Node value is 4, , , right child is \n",
      " Node value is 16, left child is \n",
      " Node value is -4, , right child is \n",
      " Node value is 3, , , , right child is \n",
      " Node value is 62, left child is \n",
      " Node value is 8, left child is \n",
      " Node value is -3, , right child is \n",
      " Node value is 4.5, , , right child is \n",
      " Node value is 5, left child is \n",
      " Node value is -2, , , , \n"
     ]
    }
   ],
   "source": [
    "print(firsttree)"
   ]
  },
  {
   "cell_type": "code",
   "execution_count": 408,
   "metadata": {},
   "outputs": [
    {
     "data": {
      "text/plain": [
       "[3, 5, 7, 8, -4, 4.5, 16, 4, 78, 55, 3, -3, 62, -2, 'ed']"
      ]
     },
     "execution_count": 408,
     "metadata": {},
     "output_type": "execute_result"
    }
   ],
   "source": [
    "firsttree.value"
   ]
  },
  {
   "cell_type": "code",
   "execution_count": 409,
   "metadata": {},
   "outputs": [
    {
     "data": {
      "text/plain": [
       " value is 55"
      ]
     },
     "execution_count": 409,
     "metadata": {},
     "output_type": "execute_result"
    }
   ],
   "source": [
    "firsttree.left"
   ]
  },
  {
   "cell_type": "code",
   "execution_count": 410,
   "metadata": {},
   "outputs": [
    {
     "data": {
      "text/plain": [
       " value is 62"
      ]
     },
     "execution_count": 410,
     "metadata": {},
     "output_type": "execute_result"
    }
   ],
   "source": [
    "firsttree.right"
   ]
  },
  {
   "cell_type": "code",
   "execution_count": 411,
   "metadata": {},
   "outputs": [
    {
     "data": {
      "text/plain": [
       " value is 8"
      ]
     },
     "execution_count": 411,
     "metadata": {},
     "output_type": "execute_result"
    }
   ],
   "source": [
    "firsttree.right.left"
   ]
  },
  {
   "cell_type": "code",
   "execution_count": 412,
   "metadata": {},
   "outputs": [
    {
     "data": {
      "text/plain": [
       " value is -3"
      ]
     },
     "execution_count": 412,
     "metadata": {},
     "output_type": "execute_result"
    }
   ],
   "source": [
    "firsttree.right.left.left"
   ]
  },
  {
   "cell_type": "code",
   "execution_count": 413,
   "metadata": {},
   "outputs": [
    {
     "data": {
      "text/plain": [
       " value is 7"
      ]
     },
     "execution_count": 413,
     "metadata": {},
     "output_type": "execute_result"
    }
   ],
   "source": [
    "firsttree.left.left"
   ]
  },
  {
   "cell_type": "code",
   "execution_count": 404,
   "metadata": {},
   "outputs": [
    {
     "data": {
      "text/plain": [
       "15"
      ]
     },
     "execution_count": 404,
     "metadata": {},
     "output_type": "execute_result"
    }
   ],
   "source": [
    "len(test)"
   ]
  },
  {
   "cell_type": "code",
   "execution_count": null,
   "metadata": {},
   "outputs": [],
   "source": []
  }
 ],
 "metadata": {
  "kernelspec": {
   "display_name": "Python 3",
   "language": "python",
   "name": "python3"
  },
  "language_info": {
   "codemirror_mode": {
    "name": "ipython",
    "version": 3
   },
   "file_extension": ".py",
   "mimetype": "text/x-python",
   "name": "python",
   "nbconvert_exporter": "python",
   "pygments_lexer": "ipython3",
   "version": "3.7.4"
  }
 },
 "nbformat": 4,
 "nbformat_minor": 2
}

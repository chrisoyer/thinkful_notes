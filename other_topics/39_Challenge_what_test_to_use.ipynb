{
 "cells": [
  {
   "cell_type": "markdown",
   "metadata": {},
   "source": [
    "Using selected questions from the 2012 and 2014 editions of the [European Social Survey](http://www.europeansocialsurvey.org/data/round-index.html), address the following questions. Keep track of your code and results in a Jupyter notebook or other source that you can share with your mentor. For each question, explain why you chose the approach you did.\n",
    "\n",
    "[Here is the data file](https://raw.githubusercontent.com/Thinkful-Ed/data-201-resources/master/ESS_practice_data/ESSdata_Thinkful.csv). [And here is the codebook, with information about the variable coding and content](https://thinkful-ed.github.io/data-201-resources/ESS_practice_data/ESS_codebook.html).\n",
    "\n",
    "In this dataset, the same participants answered questions in 2012 and again 2014.\n",
    "\n",
    "1. Did people become less trusting from 2012 to 2014? Compute results for each country in the sample.\n",
    "2. Did people become happier from 2012 to 2014? Compute results for each country in the sample.\n",
    "1. Who reported watching more TV in 2012, men or women?\n",
    "1. Who was more likely to believe people were fair in 2012, people living with a partner or people living alone?\n",
    "1. Pick three or four of the countries in the sample and compare how often people met socially in 2014. Are there differences, and if so, which countries stand out?\n",
    "1. Pick three or four of the countries in the sample and compare how often people took part in social activities, relative to others their age, in 2014. Are there differences, and if so, which countries stand out?"
   ]
  },
  {
   "cell_type": "code",
   "execution_count": 417,
   "metadata": {},
   "outputs": [],
   "source": [
    "import numpy as np\n",
    "import pandas as pd\n",
    "from scipy.stats import ttest_rel\n",
    "from scipy.stats import ttest_ind\n",
    "from scipy.stats import shapiro\n",
    "from scipy.stats import f_oneway\n",
    "from scipy.stats import mannwhitneyu\n",
    "from scipy.stats.mstats import kruskalwallis\n",
    "import seaborn as sns"
   ]
  },
  {
   "cell_type": "code",
   "execution_count": 342,
   "metadata": {},
   "outputs": [],
   "source": [
    "filepath = r'./Documents/GitHub/thinkful_notes/data_sets/ESSdata_Thinkful.txt'\n",
    "ess_df = pd.read_csv(filepath)"
   ]
  },
  {
   "cell_type": "code",
   "execution_count": 343,
   "metadata": {},
   "outputs": [
    {
     "data": {
      "text/html": [
       "<div>\n",
       "<style scoped>\n",
       "    .dataframe tbody tr th:only-of-type {\n",
       "        vertical-align: middle;\n",
       "    }\n",
       "\n",
       "    .dataframe tbody tr th {\n",
       "        vertical-align: top;\n",
       "    }\n",
       "\n",
       "    .dataframe thead th {\n",
       "        text-align: right;\n",
       "    }\n",
       "</style>\n",
       "<table border=\"1\" class=\"dataframe\">\n",
       "  <thead>\n",
       "    <tr style=\"text-align: right;\">\n",
       "      <th></th>\n",
       "      <th>cntry</th>\n",
       "      <th>idno</th>\n",
       "      <th>year</th>\n",
       "      <th>tvtot</th>\n",
       "      <th>ppltrst</th>\n",
       "      <th>pplfair</th>\n",
       "      <th>pplhlp</th>\n",
       "      <th>happy</th>\n",
       "      <th>sclmeet</th>\n",
       "      <th>sclact</th>\n",
       "      <th>gndr</th>\n",
       "      <th>agea</th>\n",
       "      <th>partner</th>\n",
       "    </tr>\n",
       "  </thead>\n",
       "  <tbody>\n",
       "    <tr>\n",
       "      <th>0</th>\n",
       "      <td>CH</td>\n",
       "      <td>5.0</td>\n",
       "      <td>6</td>\n",
       "      <td>3.0</td>\n",
       "      <td>3.0</td>\n",
       "      <td>10.0</td>\n",
       "      <td>5.0</td>\n",
       "      <td>8.0</td>\n",
       "      <td>5.0</td>\n",
       "      <td>4.0</td>\n",
       "      <td>2.0</td>\n",
       "      <td>60.0</td>\n",
       "      <td>1.0</td>\n",
       "    </tr>\n",
       "    <tr>\n",
       "      <th>1</th>\n",
       "      <td>CH</td>\n",
       "      <td>25.0</td>\n",
       "      <td>6</td>\n",
       "      <td>6.0</td>\n",
       "      <td>5.0</td>\n",
       "      <td>7.0</td>\n",
       "      <td>5.0</td>\n",
       "      <td>9.0</td>\n",
       "      <td>3.0</td>\n",
       "      <td>2.0</td>\n",
       "      <td>2.0</td>\n",
       "      <td>59.0</td>\n",
       "      <td>1.0</td>\n",
       "    </tr>\n",
       "    <tr>\n",
       "      <th>2</th>\n",
       "      <td>CH</td>\n",
       "      <td>26.0</td>\n",
       "      <td>6</td>\n",
       "      <td>1.0</td>\n",
       "      <td>8.0</td>\n",
       "      <td>8.0</td>\n",
       "      <td>8.0</td>\n",
       "      <td>7.0</td>\n",
       "      <td>6.0</td>\n",
       "      <td>3.0</td>\n",
       "      <td>1.0</td>\n",
       "      <td>24.0</td>\n",
       "      <td>2.0</td>\n",
       "    </tr>\n",
       "    <tr>\n",
       "      <th>3</th>\n",
       "      <td>CH</td>\n",
       "      <td>28.0</td>\n",
       "      <td>6</td>\n",
       "      <td>4.0</td>\n",
       "      <td>6.0</td>\n",
       "      <td>6.0</td>\n",
       "      <td>7.0</td>\n",
       "      <td>10.0</td>\n",
       "      <td>6.0</td>\n",
       "      <td>2.0</td>\n",
       "      <td>2.0</td>\n",
       "      <td>64.0</td>\n",
       "      <td>1.0</td>\n",
       "    </tr>\n",
       "    <tr>\n",
       "      <th>4</th>\n",
       "      <td>CH</td>\n",
       "      <td>29.0</td>\n",
       "      <td>6</td>\n",
       "      <td>5.0</td>\n",
       "      <td>6.0</td>\n",
       "      <td>7.0</td>\n",
       "      <td>5.0</td>\n",
       "      <td>8.0</td>\n",
       "      <td>7.0</td>\n",
       "      <td>2.0</td>\n",
       "      <td>2.0</td>\n",
       "      <td>55.0</td>\n",
       "      <td>1.0</td>\n",
       "    </tr>\n",
       "  </tbody>\n",
       "</table>\n",
       "</div>"
      ],
      "text/plain": [
       "  cntry  idno  year  tvtot  ppltrst  pplfair  pplhlp  happy  sclmeet  sclact  \\\n",
       "0    CH   5.0     6    3.0      3.0     10.0     5.0    8.0      5.0     4.0   \n",
       "1    CH  25.0     6    6.0      5.0      7.0     5.0    9.0      3.0     2.0   \n",
       "2    CH  26.0     6    1.0      8.0      8.0     8.0    7.0      6.0     3.0   \n",
       "3    CH  28.0     6    4.0      6.0      6.0     7.0   10.0      6.0     2.0   \n",
       "4    CH  29.0     6    5.0      6.0      7.0     5.0    8.0      7.0     2.0   \n",
       "\n",
       "   gndr  agea  partner  \n",
       "0   2.0  60.0      1.0  \n",
       "1   2.0  59.0      1.0  \n",
       "2   1.0  24.0      2.0  \n",
       "3   2.0  64.0      1.0  \n",
       "4   2.0  55.0      1.0  "
      ]
     },
     "execution_count": 343,
     "metadata": {},
     "output_type": "execute_result"
    }
   ],
   "source": [
    "ess_df.head()"
   ]
  },
  {
   "cell_type": "code",
   "execution_count": 344,
   "metadata": {},
   "outputs": [
    {
     "data": {
      "text/html": [
       "<div>\n",
       "<style scoped>\n",
       "    .dataframe tbody tr th:only-of-type {\n",
       "        vertical-align: middle;\n",
       "    }\n",
       "\n",
       "    .dataframe tbody tr th {\n",
       "        vertical-align: top;\n",
       "    }\n",
       "\n",
       "    .dataframe thead th {\n",
       "        text-align: right;\n",
       "    }\n",
       "</style>\n",
       "<table border=\"1\" class=\"dataframe\">\n",
       "  <thead>\n",
       "    <tr style=\"text-align: right;\">\n",
       "      <th></th>\n",
       "      <th>cntry</th>\n",
       "      <th>year</th>\n",
       "      <th>idno</th>\n",
       "      <th>ppltrst</th>\n",
       "    </tr>\n",
       "  </thead>\n",
       "  <tbody>\n",
       "    <tr>\n",
       "      <th>0</th>\n",
       "      <td>CH</td>\n",
       "      <td>6</td>\n",
       "      <td>5.0</td>\n",
       "      <td>3.0</td>\n",
       "    </tr>\n",
       "    <tr>\n",
       "      <th>1</th>\n",
       "      <td>CH</td>\n",
       "      <td>6</td>\n",
       "      <td>25.0</td>\n",
       "      <td>5.0</td>\n",
       "    </tr>\n",
       "    <tr>\n",
       "      <th>2</th>\n",
       "      <td>CH</td>\n",
       "      <td>6</td>\n",
       "      <td>26.0</td>\n",
       "      <td>8.0</td>\n",
       "    </tr>\n",
       "    <tr>\n",
       "      <th>3</th>\n",
       "      <td>CH</td>\n",
       "      <td>6</td>\n",
       "      <td>28.0</td>\n",
       "      <td>6.0</td>\n",
       "    </tr>\n",
       "    <tr>\n",
       "      <th>4</th>\n",
       "      <td>CH</td>\n",
       "      <td>6</td>\n",
       "      <td>29.0</td>\n",
       "      <td>6.0</td>\n",
       "    </tr>\n",
       "  </tbody>\n",
       "</table>\n",
       "</div>"
      ],
      "text/plain": [
       "  cntry  year  idno  ppltrst\n",
       "0    CH     6   5.0      3.0\n",
       "1    CH     6  25.0      5.0\n",
       "2    CH     6  26.0      8.0\n",
       "3    CH     6  28.0      6.0\n",
       "4    CH     6  29.0      6.0"
      ]
     },
     "execution_count": 344,
     "metadata": {},
     "output_type": "execute_result"
    }
   ],
   "source": [
    "ess_trust_df = pd.DataFrame(ess_df.groupby(['cntry', 'year', 'idno'])['ppltrst'].agg(np.mean)).reset_index()\n",
    "ess_trust_df.head()"
   ]
  },
  {
   "cell_type": "code",
   "execution_count": 345,
   "metadata": {
    "scrolled": false
   },
   "outputs": [
    {
     "data": {
      "text/html": [
       "<div>\n",
       "<style scoped>\n",
       "    .dataframe tbody tr th:only-of-type {\n",
       "        vertical-align: middle;\n",
       "    }\n",
       "\n",
       "    .dataframe tbody tr th {\n",
       "        vertical-align: top;\n",
       "    }\n",
       "\n",
       "    .dataframe thead th {\n",
       "        text-align: right;\n",
       "    }\n",
       "</style>\n",
       "<table border=\"1\" class=\"dataframe\">\n",
       "  <thead>\n",
       "    <tr style=\"text-align: right;\">\n",
       "      <th></th>\n",
       "      <th></th>\n",
       "      <th>year_6</th>\n",
       "      <th>year_7</th>\n",
       "      <th>year_diff</th>\n",
       "    </tr>\n",
       "    <tr>\n",
       "      <th>idno</th>\n",
       "      <th>cntry</th>\n",
       "      <th></th>\n",
       "      <th></th>\n",
       "      <th></th>\n",
       "    </tr>\n",
       "  </thead>\n",
       "  <tbody>\n",
       "  </tbody>\n",
       "</table>\n",
       "</div>"
      ],
      "text/plain": [
       "Empty DataFrame\n",
       "Columns: [year_6, year_7, year_diff]\n",
       "Index: []"
      ]
     },
     "execution_count": 345,
     "metadata": {},
     "output_type": "execute_result"
    }
   ],
   "source": [
    "#rearrange data\n",
    "ess_trust_df = ess_trust_df.pivot_table(index=['idno', 'cntry'], columns=['year'], values=['ppltrst'])\n",
    "ess_trust_df.columns = [\"year_6\", \"year_7\"]\n",
    "ess_trust_df.loc[:,\"year_diff\"] = ess_trust_df[\"year_7\"] - ess_trust_df[\"year_6\"]\n",
    "ess_trust_df.dropna(axis=0, inplace=True)\n",
    "ess_trust_df[ess_trust_df.isnull().any(axis=1)]"
   ]
  },
  {
   "cell_type": "code",
   "execution_count": 346,
   "metadata": {
    "scrolled": true
   },
   "outputs": [],
   "source": [
    "ess_country_df = pd.DataFrame(ess_trust_df.groupby(['cntry'])['year_6', 'year_7'].apply(lambda x: ttest_rel(x['year_6'], x['year_7'])))\\\n",
    ".rename(columns={0: 'ttest'})"
   ]
  },
  {
   "cell_type": "code",
   "execution_count": 235,
   "metadata": {},
   "outputs": [],
   "source": [
    "ess_country_df = pd.concat([ess_country_df, ess_country_df['ttest'].apply(pd.Series).rename(columns={0:'statistic', 1:'pvalue'})], \n",
    "                           axis=1)"
   ]
  },
  {
   "cell_type": "code",
   "execution_count": 236,
   "metadata": {},
   "outputs": [
    {
     "data": {
      "text/html": [
       "<div>\n",
       "<style scoped>\n",
       "    .dataframe tbody tr th:only-of-type {\n",
       "        vertical-align: middle;\n",
       "    }\n",
       "\n",
       "    .dataframe tbody tr th {\n",
       "        vertical-align: top;\n",
       "    }\n",
       "\n",
       "    .dataframe thead th {\n",
       "        text-align: right;\n",
       "    }\n",
       "</style>\n",
       "<table border=\"1\" class=\"dataframe\">\n",
       "  <thead>\n",
       "    <tr style=\"text-align: right;\">\n",
       "      <th></th>\n",
       "      <th>ttest</th>\n",
       "      <th>statistic</th>\n",
       "      <th>pvalue</th>\n",
       "    </tr>\n",
       "    <tr>\n",
       "      <th>cntry</th>\n",
       "      <th></th>\n",
       "      <th></th>\n",
       "      <th></th>\n",
       "    </tr>\n",
       "  </thead>\n",
       "  <tbody>\n",
       "    <tr>\n",
       "      <th>CH</th>\n",
       "      <td>(-0.6586851756725737, 0.5102943511301135)</td>\n",
       "      <td>-0.658685</td>\n",
       "      <td>0.510294</td>\n",
       "    </tr>\n",
       "    <tr>\n",
       "      <th>CZ</th>\n",
       "      <td>(-0.5001638336887216, 0.6171292682404208)</td>\n",
       "      <td>-0.500164</td>\n",
       "      <td>0.617129</td>\n",
       "    </tr>\n",
       "    <tr>\n",
       "      <th>DE</th>\n",
       "      <td>(-0.18399501804849683, 0.8568563797095805)</td>\n",
       "      <td>-0.183995</td>\n",
       "      <td>0.856856</td>\n",
       "    </tr>\n",
       "    <tr>\n",
       "      <th>ES</th>\n",
       "      <td>(2.4561906976601646, 0.014181580725321856)</td>\n",
       "      <td>2.456191</td>\n",
       "      <td>0.014182</td>\n",
       "    </tr>\n",
       "    <tr>\n",
       "      <th>NO</th>\n",
       "      <td>(0.5073077081124404, 0.6120925701518767)</td>\n",
       "      <td>0.507308</td>\n",
       "      <td>0.612093</td>\n",
       "    </tr>\n",
       "    <tr>\n",
       "      <th>SE</th>\n",
       "      <td>(-2.0671082026033982, 0.0390078167095776)</td>\n",
       "      <td>-2.067108</td>\n",
       "      <td>0.039008</td>\n",
       "    </tr>\n",
       "  </tbody>\n",
       "</table>\n",
       "</div>"
      ],
      "text/plain": [
       "                                            ttest  statistic    pvalue\n",
       "cntry                                                                 \n",
       "CH      (-0.6586851756725737, 0.5102943511301135)  -0.658685  0.510294\n",
       "CZ      (-0.5001638336887216, 0.6171292682404208)  -0.500164  0.617129\n",
       "DE     (-0.18399501804849683, 0.8568563797095805)  -0.183995  0.856856\n",
       "ES     (2.4561906976601646, 0.014181580725321856)   2.456191  0.014182\n",
       "NO       (0.5073077081124404, 0.6120925701518767)   0.507308  0.612093\n",
       "SE      (-2.0671082026033982, 0.0390078167095776)  -2.067108  0.039008"
      ]
     },
     "execution_count": 236,
     "metadata": {},
     "output_type": "execute_result"
    }
   ],
   "source": [
    "ess_country_df"
   ]
  },
  {
   "cell_type": "markdown",
   "metadata": {},
   "source": [
    "There does not appear to be any significant changes in trust between the two years, for any of the countries.\n",
    "# 2. \n",
    "Did people become happier from 2012 to 2014? Compute results for each country in the sample."
   ]
  },
  {
   "cell_type": "code",
   "execution_count": 238,
   "metadata": {},
   "outputs": [
    {
     "data": {
      "text/html": [
       "<div>\n",
       "<style scoped>\n",
       "    .dataframe tbody tr th:only-of-type {\n",
       "        vertical-align: middle;\n",
       "    }\n",
       "\n",
       "    .dataframe tbody tr th {\n",
       "        vertical-align: top;\n",
       "    }\n",
       "\n",
       "    .dataframe thead th {\n",
       "        text-align: right;\n",
       "    }\n",
       "</style>\n",
       "<table border=\"1\" class=\"dataframe\">\n",
       "  <thead>\n",
       "    <tr style=\"text-align: right;\">\n",
       "      <th></th>\n",
       "      <th>hap_statistic</th>\n",
       "      <th>hap_pvalue</th>\n",
       "      <th>ttest</th>\n",
       "      <th>statistic</th>\n",
       "      <th>pvalue</th>\n",
       "      <th>ttest</th>\n",
       "    </tr>\n",
       "    <tr>\n",
       "      <th>cntry</th>\n",
       "      <th></th>\n",
       "      <th></th>\n",
       "      <th></th>\n",
       "      <th></th>\n",
       "      <th></th>\n",
       "      <th></th>\n",
       "    </tr>\n",
       "  </thead>\n",
       "  <tbody>\n",
       "    <tr>\n",
       "      <th>CH</th>\n",
       "      <td>-0.319413</td>\n",
       "      <td>0.749500</td>\n",
       "      <td>(-0.6586851756725737, 0.5102943511301135)</td>\n",
       "      <td>-0.658685</td>\n",
       "      <td>0.510294</td>\n",
       "      <td>(-0.319412957862232, 0.7495001355428359)</td>\n",
       "    </tr>\n",
       "    <tr>\n",
       "      <th>CZ</th>\n",
       "      <td>-1.456138</td>\n",
       "      <td>0.145845</td>\n",
       "      <td>(-0.5001638336887216, 0.6171292682404208)</td>\n",
       "      <td>-0.500164</td>\n",
       "      <td>0.617129</td>\n",
       "      <td>(-1.4561384833039597, 0.14584548433894534)</td>\n",
       "    </tr>\n",
       "    <tr>\n",
       "      <th>DE</th>\n",
       "      <td>-0.806226</td>\n",
       "      <td>0.434614</td>\n",
       "      <td>(-0.18399501804849683, 0.8568563797095805)</td>\n",
       "      <td>-0.183995</td>\n",
       "      <td>0.856856</td>\n",
       "      <td>(-0.8062257748298549, 0.4346138707734991)</td>\n",
       "    </tr>\n",
       "    <tr>\n",
       "      <th>ES</th>\n",
       "      <td>1.613832</td>\n",
       "      <td>0.106825</td>\n",
       "      <td>(2.4561906976601646, 0.014181580725321856)</td>\n",
       "      <td>2.456191</td>\n",
       "      <td>0.014182</td>\n",
       "      <td>(1.613832417735418, 0.1068245155648069)</td>\n",
       "    </tr>\n",
       "    <tr>\n",
       "      <th>NO</th>\n",
       "      <td>4.285683</td>\n",
       "      <td>0.000021</td>\n",
       "      <td>(0.5073077081124404, 0.6120925701518767)</td>\n",
       "      <td>0.507308</td>\n",
       "      <td>0.612093</td>\n",
       "      <td>(4.2856826576235925, 2.0674530134057013e-05)</td>\n",
       "    </tr>\n",
       "    <tr>\n",
       "      <th>SE</th>\n",
       "      <td>-0.558164</td>\n",
       "      <td>0.576871</td>\n",
       "      <td>(-2.0671082026033982, 0.0390078167095776)</td>\n",
       "      <td>-2.067108</td>\n",
       "      <td>0.039008</td>\n",
       "      <td>(-0.5581637086030012, 0.5768709591234161)</td>\n",
       "    </tr>\n",
       "  </tbody>\n",
       "</table>\n",
       "</div>"
      ],
      "text/plain": [
       "       hap_statistic  hap_pvalue                                       ttest  \\\n",
       "cntry                                                                          \n",
       "CH         -0.319413    0.749500   (-0.6586851756725737, 0.5102943511301135)   \n",
       "CZ         -1.456138    0.145845   (-0.5001638336887216, 0.6171292682404208)   \n",
       "DE         -0.806226    0.434614  (-0.18399501804849683, 0.8568563797095805)   \n",
       "ES          1.613832    0.106825  (2.4561906976601646, 0.014181580725321856)   \n",
       "NO          4.285683    0.000021    (0.5073077081124404, 0.6120925701518767)   \n",
       "SE         -0.558164    0.576871   (-2.0671082026033982, 0.0390078167095776)   \n",
       "\n",
       "       statistic    pvalue                                         ttest  \n",
       "cntry                                                                     \n",
       "CH     -0.658685  0.510294      (-0.319412957862232, 0.7495001355428359)  \n",
       "CZ     -0.500164  0.617129    (-1.4561384833039597, 0.14584548433894534)  \n",
       "DE     -0.183995  0.856856     (-0.8062257748298549, 0.4346138707734991)  \n",
       "ES      2.456191  0.014182       (1.613832417735418, 0.1068245155648069)  \n",
       "NO      0.507308  0.612093  (4.2856826576235925, 2.0674530134057013e-05)  \n",
       "SE     -2.067108  0.039008     (-0.5581637086030012, 0.5768709591234161)  "
      ]
     },
     "execution_count": 238,
     "metadata": {},
     "output_type": "execute_result"
    }
   ],
   "source": [
    "ess_hap_df = pd.DataFrame(ess_df.groupby(['cntry', 'year', 'idno'])['happy'].agg(np.mean)).reset_index()\n",
    "ess_hap_df = ess_hap_df.pivot_table(index=['idno', 'cntry'], columns=['year'], values=['happy']).dropna(axis=0)\n",
    "ess_hap_df.columns = [\"year_6\", \"year_7\"]\n",
    "ess_hap_sum_df = pd.DataFrame(ess_hap_df.groupby(['cntry'])['year_6', 'year_7'].apply(lambda x: ttest_rel(x['year_6'], x['year_7'])))\n",
    "ess_hap_sum_df = ess_hap_sum_df.rename(columns={0: 'ttest'})\n",
    "ess_country_df = pd.concat([ess_hap_sum_df['ttest'].apply(pd.Series).rename(columns={0:'hap_statistic', 1:'hap_pvalue'}),\n",
    "                            ess_country_df], axis=1)\n",
    "ess_country_df"
   ]
  },
  {
   "cell_type": "code",
   "execution_count": 250,
   "metadata": {},
   "outputs": [
    {
     "data": {
      "text/plain": [
       "year\n",
       "6    8.251719\n",
       "7    7.915185\n",
       "Name: happy, dtype: float64"
      ]
     },
     "execution_count": 250,
     "metadata": {},
     "output_type": "execute_result"
    }
   ],
   "source": [
    "#direction of change\n",
    "ess_df.loc[ess_df.cntry == 'NO',:].groupby(['year'])['happy'].agg(np.mean)"
   ]
  },
  {
   "cell_type": "markdown",
   "metadata": {},
   "source": [
    "There was a significant decrease in happiness in Norway. \n",
    "# 3\n",
    "Who reported watching more TV in 2012, men or women?\n"
   ]
  },
  {
   "cell_type": "code",
   "execution_count": 411,
   "metadata": {},
   "outputs": [
    {
     "data": {
      "text/html": [
       "<div>\n",
       "<style scoped>\n",
       "    .dataframe tbody tr th:only-of-type {\n",
       "        vertical-align: middle;\n",
       "    }\n",
       "\n",
       "    .dataframe tbody tr th {\n",
       "        vertical-align: top;\n",
       "    }\n",
       "\n",
       "    .dataframe thead tr th {\n",
       "        text-align: left;\n",
       "    }\n",
       "\n",
       "    .dataframe thead tr:last-of-type th {\n",
       "        text-align: right;\n",
       "    }\n",
       "</style>\n",
       "<table border=\"1\" class=\"dataframe\">\n",
       "  <thead>\n",
       "    <tr>\n",
       "      <th></th>\n",
       "      <th colspan=\"2\" halign=\"left\">tvtot</th>\n",
       "    </tr>\n",
       "    <tr>\n",
       "      <th></th>\n",
       "      <th>mean</th>\n",
       "      <th>shapiro</th>\n",
       "    </tr>\n",
       "    <tr>\n",
       "      <th>gndr</th>\n",
       "      <th></th>\n",
       "      <th></th>\n",
       "    </tr>\n",
       "  </thead>\n",
       "  <tbody>\n",
       "    <tr>\n",
       "      <th>1.0</th>\n",
       "      <td>3.825603</td>\n",
       "      <td>(0.9438452124595642, 1.0865809543259836e-37)</td>\n",
       "    </tr>\n",
       "    <tr>\n",
       "      <th>2.0</th>\n",
       "      <td>3.892589</td>\n",
       "      <td>(0.9410152435302734, 3.082838965153947e-38)</td>\n",
       "    </tr>\n",
       "  </tbody>\n",
       "</table>\n",
       "</div>"
      ],
      "text/plain": [
       "         tvtot                                              \n",
       "          mean                                       shapiro\n",
       "gndr                                                        \n",
       "1.0   3.825603  (0.9438452124595642, 1.0865809543259836e-37)\n",
       "2.0   3.892589   (0.9410152435302734, 3.082838965153947e-38)"
      ]
     },
     "execution_count": 411,
     "metadata": {},
     "output_type": "execute_result"
    }
   ],
   "source": [
    "ess_df[['tvtot', 'gndr']].dropna(axis=0).groupby('gndr').agg([np.mean, shapiro])"
   ]
  },
  {
   "cell_type": "code",
   "execution_count": 412,
   "metadata": {},
   "outputs": [
    {
     "data": {
      "text/plain": [
       "MannwhitneyuResult(statistic=9014615.5, pvalue=0.057725890580185825)"
      ]
     },
     "execution_count": 412,
     "metadata": {},
     "output_type": "execute_result"
    }
   ],
   "source": [
    "tv_gender = [x for _, x in ess_df[['tvtot', 'gndr']].dropna(axis=0).groupby('gndr')['tvtot']]\n",
    "mannwhitneyu(*tv_gender)"
   ]
  },
  {
   "cell_type": "markdown",
   "metadata": {},
   "source": [
    "Women (code 2) reported slightly higher tv watching. The difference is barely significant.\n",
    "# 4\n",
    "Who was more likely to believe people were fair in 2012, people living with a partner or people living alone?"
   ]
  },
  {
   "cell_type": "code",
   "execution_count": 349,
   "metadata": {},
   "outputs": [
    {
     "data": {
      "text/html": [
       "<div>\n",
       "<style scoped>\n",
       "    .dataframe tbody tr th:only-of-type {\n",
       "        vertical-align: middle;\n",
       "    }\n",
       "\n",
       "    .dataframe tbody tr th {\n",
       "        vertical-align: top;\n",
       "    }\n",
       "\n",
       "    .dataframe thead tr th {\n",
       "        text-align: left;\n",
       "    }\n",
       "\n",
       "    .dataframe thead tr:last-of-type th {\n",
       "        text-align: right;\n",
       "    }\n",
       "</style>\n",
       "<table border=\"1\" class=\"dataframe\">\n",
       "  <thead>\n",
       "    <tr>\n",
       "      <th></th>\n",
       "      <th colspan=\"2\" halign=\"left\">pplfair</th>\n",
       "    </tr>\n",
       "    <tr>\n",
       "      <th></th>\n",
       "      <th>mean</th>\n",
       "      <th>shapiro</th>\n",
       "    </tr>\n",
       "    <tr>\n",
       "      <th>partner</th>\n",
       "      <th></th>\n",
       "      <th></th>\n",
       "    </tr>\n",
       "  </thead>\n",
       "  <tbody>\n",
       "    <tr>\n",
       "      <th>1.0</th>\n",
       "      <td>6.06389</td>\n",
       "      <td>(0.9431131482124329, 5.365711949746157e-41)</td>\n",
       "    </tr>\n",
       "    <tr>\n",
       "      <th>2.0</th>\n",
       "      <td>5.91128</td>\n",
       "      <td>(0.9564833045005798, 3.0214600224609384e-30)</td>\n",
       "    </tr>\n",
       "  </tbody>\n",
       "</table>\n",
       "</div>"
      ],
      "text/plain": [
       "         pplfair                                              \n",
       "            mean                                       shapiro\n",
       "partner                                                       \n",
       "1.0      6.06389   (0.9431131482124329, 5.365711949746157e-41)\n",
       "2.0      5.91128  (0.9564833045005798, 3.0214600224609384e-30)"
      ]
     },
     "execution_count": 349,
     "metadata": {},
     "output_type": "execute_result"
    }
   ],
   "source": [
    "ess_df[['pplfair', 'partner']].dropna(axis=0).groupby(['partner']).agg([np.mean, shapiro])"
   ]
  },
  {
   "cell_type": "code",
   "execution_count": 351,
   "metadata": {},
   "outputs": [
    {
     "data": {
      "text/plain": [
       "MannwhitneyuResult(statistic=8218572.0, pvalue=0.0001017706466531828)"
      ]
     },
     "execution_count": 351,
     "metadata": {},
     "output_type": "execute_result"
    }
   ],
   "source": [
    "partner_fair = [x for _, x in ess_df[['pplfair', 'partner']].dropna(axis=0).groupby(['partner'])['pplfair']]\n",
    "mannwhitneyu(*partner_fair)"
   ]
  },
  {
   "cell_type": "markdown",
   "metadata": {},
   "source": [
    "The distributions were not normal, so mann-whitny test was used. Those living with a partner (code 1) have a significantly higher fairness estimate of others."
   ]
  },
  {
   "cell_type": "markdown",
   "metadata": {},
   "source": [
    "# 5\n",
    "Pick three or four of the countries in the sample and compare how often people met socially in 2014. Are there differences, and if so, which countries stand out?"
   ]
  },
  {
   "cell_type": "code",
   "execution_count": 269,
   "metadata": {
    "scrolled": true
   },
   "outputs": [],
   "source": [
    "ess_meet_df = pd.DataFrame(ess_df[ess_df.year == 7].groupby(['cntry', 'idno'])['sclmeet'].agg(np.mean)).reset_index()"
   ]
  },
  {
   "cell_type": "code",
   "execution_count": 274,
   "metadata": {
    "scrolled": false
   },
   "outputs": [
    {
     "data": {
      "text/html": [
       "<div>\n",
       "<style scoped>\n",
       "    .dataframe tbody tr th:only-of-type {\n",
       "        vertical-align: middle;\n",
       "    }\n",
       "\n",
       "    .dataframe tbody tr th {\n",
       "        vertical-align: top;\n",
       "    }\n",
       "\n",
       "    .dataframe thead tr th {\n",
       "        text-align: left;\n",
       "    }\n",
       "\n",
       "    .dataframe thead tr:last-of-type th {\n",
       "        text-align: right;\n",
       "    }\n",
       "</style>\n",
       "<table border=\"1\" class=\"dataframe\">\n",
       "  <thead>\n",
       "    <tr>\n",
       "      <th></th>\n",
       "      <th colspan=\"2\" halign=\"left\">sclmeet</th>\n",
       "    </tr>\n",
       "    <tr>\n",
       "      <th></th>\n",
       "      <th>shapiro</th>\n",
       "      <th>mean</th>\n",
       "    </tr>\n",
       "    <tr>\n",
       "      <th>cntry</th>\n",
       "      <th></th>\n",
       "      <th></th>\n",
       "    </tr>\n",
       "  </thead>\n",
       "  <tbody>\n",
       "    <tr>\n",
       "      <th>CH</th>\n",
       "      <td>(0.8974164724349976, 2.7436334896806913e-22)</td>\n",
       "      <td>5.160622</td>\n",
       "    </tr>\n",
       "    <tr>\n",
       "      <th>CZ</th>\n",
       "      <td>(0.9451602101325989, 7.663770300607355e-15)</td>\n",
       "      <td>4.445802</td>\n",
       "    </tr>\n",
       "    <tr>\n",
       "      <th>DE</th>\n",
       "      <td>(0.8616600036621094, 0.032099850475788116)</td>\n",
       "      <td>4.428571</td>\n",
       "    </tr>\n",
       "    <tr>\n",
       "      <th>ES</th>\n",
       "      <td>(0.8880351781845093, 9.848293928138278e-29)</td>\n",
       "      <td>5.260116</td>\n",
       "    </tr>\n",
       "    <tr>\n",
       "      <th>NO</th>\n",
       "      <td>(0.8881818056106567, 1.422473605641294e-22)</td>\n",
       "      <td>5.302326</td>\n",
       "    </tr>\n",
       "    <tr>\n",
       "      <th>SE</th>\n",
       "      <td>(0.8798282146453857, 6.682967662559975e-26)</td>\n",
       "      <td>5.426211</td>\n",
       "    </tr>\n",
       "  </tbody>\n",
       "</table>\n",
       "</div>"
      ],
      "text/plain": [
       "                                            sclmeet          \n",
       "                                            shapiro      mean\n",
       "cntry                                                        \n",
       "CH     (0.8974164724349976, 2.7436334896806913e-22)  5.160622\n",
       "CZ      (0.9451602101325989, 7.663770300607355e-15)  4.445802\n",
       "DE       (0.8616600036621094, 0.032099850475788116)  4.428571\n",
       "ES      (0.8880351781845093, 9.848293928138278e-29)  5.260116\n",
       "NO      (0.8881818056106567, 1.422473605641294e-22)  5.302326\n",
       "SE      (0.8798282146453857, 6.682967662559975e-26)  5.426211"
      ]
     },
     "execution_count": 274,
     "metadata": {},
     "output_type": "execute_result"
    }
   ],
   "source": [
    "#null hyp for shapiro is data is from normal dist. looks ok.\n",
    "ess_meet_df[['cntry', 'sclmeet']].dropna(axis=0).groupby('cntry').agg([shapiro, np.mean])"
   ]
  },
  {
   "cell_type": "code",
   "execution_count": 444,
   "metadata": {},
   "outputs": [
    {
     "data": {
      "text/plain": [
       "F_onewayResult(statistic=44.127167288268076, pvalue=1.570803512782812e-44)"
      ]
     },
     "execution_count": 444,
     "metadata": {},
     "output_type": "execute_result"
    }
   ],
   "source": [
    "meeting_by_country = [x for _, x in ess_meet_df[['cntry', 'sclmeet']].dropna(axis=0).groupby('cntry')['sclmeet']]\n",
    "f_oneway(*meeting_by_country)"
   ]
  },
  {
   "cell_type": "code",
   "execution_count": 440,
   "metadata": {
    "scrolled": true
   },
   "outputs": [
    {
     "ename": "ValueError",
     "evalue": "The input should be 2D",
     "output_type": "error",
     "traceback": [
      "\u001b[1;31m---------------------------------------------------------------------------\u001b[0m",
      "\u001b[1;31mValueError\u001b[0m                                Traceback (most recent call last)",
      "\u001b[1;32m<ipython-input-440-c3105d72796e>\u001b[0m in \u001b[0;36m<module>\u001b[1;34m\u001b[0m\n\u001b[0;32m      1\u001b[0m \u001b[0mmeeting_by_country\u001b[0m \u001b[1;33m=\u001b[0m \u001b[1;33m[\u001b[0m\u001b[0mx\u001b[0m \u001b[1;32mfor\u001b[0m \u001b[0m_\u001b[0m\u001b[1;33m,\u001b[0m \u001b[0mx\u001b[0m \u001b[1;32min\u001b[0m \u001b[0mess_meet_df\u001b[0m\u001b[1;33m[\u001b[0m\u001b[1;33m[\u001b[0m\u001b[1;34m'cntry'\u001b[0m\u001b[1;33m,\u001b[0m \u001b[1;34m'sclmeet'\u001b[0m\u001b[1;33m]\u001b[0m\u001b[1;33m]\u001b[0m\u001b[1;33m.\u001b[0m\u001b[0mdropna\u001b[0m\u001b[1;33m(\u001b[0m\u001b[0maxis\u001b[0m\u001b[1;33m=\u001b[0m\u001b[1;36m0\u001b[0m\u001b[1;33m)\u001b[0m\u001b[1;33m.\u001b[0m\u001b[0mgroupby\u001b[0m\u001b[1;33m(\u001b[0m\u001b[1;34m'cntry'\u001b[0m\u001b[1;33m)\u001b[0m\u001b[1;33m[\u001b[0m\u001b[1;34m'sclmeet'\u001b[0m\u001b[1;33m]\u001b[0m\u001b[1;33m]\u001b[0m\u001b[1;33m\u001b[0m\u001b[1;33m\u001b[0m\u001b[0m\n\u001b[1;32m----> 2\u001b[1;33m \u001b[0mkruskalwallis\u001b[0m\u001b[1;33m(\u001b[0m\u001b[1;33m[\u001b[0m\u001b[0mx\u001b[0m \u001b[1;32mfor\u001b[0m \u001b[0mx\u001b[0m \u001b[1;32min\u001b[0m \u001b[0mess_meet_df\u001b[0m\u001b[1;33m[\u001b[0m\u001b[1;33m[\u001b[0m\u001b[1;34m'cntry'\u001b[0m\u001b[1;33m,\u001b[0m \u001b[1;34m'sclmeet'\u001b[0m\u001b[1;33m]\u001b[0m\u001b[1;33m]\u001b[0m\u001b[1;33m.\u001b[0m\u001b[0mdropna\u001b[0m\u001b[1;33m(\u001b[0m\u001b[0maxis\u001b[0m\u001b[1;33m=\u001b[0m\u001b[1;36m0\u001b[0m\u001b[1;33m)\u001b[0m\u001b[1;33m.\u001b[0m\u001b[0mgroupby\u001b[0m\u001b[1;33m(\u001b[0m\u001b[1;34m'cntry'\u001b[0m\u001b[1;33m)\u001b[0m\u001b[1;33m[\u001b[0m\u001b[1;34m'sclmeet'\u001b[0m\u001b[1;33m]\u001b[0m\u001b[1;33m.\u001b[0m\u001b[0magg\u001b[0m\u001b[1;33m(\u001b[0m\u001b[0mlist\u001b[0m\u001b[1;33m)\u001b[0m\u001b[1;33m.\u001b[0m\u001b[0mvalues\u001b[0m\u001b[1;33m]\u001b[0m\u001b[1;33m)\u001b[0m\u001b[1;33m\u001b[0m\u001b[1;33m\u001b[0m\u001b[0m\n\u001b[0m",
      "\u001b[1;32mc:\\users\\user\\appdata\\local\\programs\\python\\python37\\lib\\site-packages\\scipy\\stats\\mstats_basic.py\u001b[0m in \u001b[0;36mkruskal\u001b[1;34m(*args)\u001b[0m\n\u001b[0;32m   1212\u001b[0m \u001b[1;33m\u001b[0m\u001b[0m\n\u001b[0;32m   1213\u001b[0m     \"\"\"\n\u001b[1;32m-> 1214\u001b[1;33m     \u001b[0moutput\u001b[0m \u001b[1;33m=\u001b[0m \u001b[0margstoarray\u001b[0m\u001b[1;33m(\u001b[0m\u001b[1;33m*\u001b[0m\u001b[0margs\u001b[0m\u001b[1;33m)\u001b[0m\u001b[1;33m\u001b[0m\u001b[1;33m\u001b[0m\u001b[0m\n\u001b[0m\u001b[0;32m   1215\u001b[0m     \u001b[0mranks\u001b[0m \u001b[1;33m=\u001b[0m \u001b[0mma\u001b[0m\u001b[1;33m.\u001b[0m\u001b[0mmasked_equal\u001b[0m\u001b[1;33m(\u001b[0m\u001b[0mrankdata\u001b[0m\u001b[1;33m(\u001b[0m\u001b[0moutput\u001b[0m\u001b[1;33m,\u001b[0m \u001b[0muse_missing\u001b[0m\u001b[1;33m=\u001b[0m\u001b[1;32mFalse\u001b[0m\u001b[1;33m)\u001b[0m\u001b[1;33m,\u001b[0m \u001b[1;36m0\u001b[0m\u001b[1;33m)\u001b[0m\u001b[1;33m\u001b[0m\u001b[1;33m\u001b[0m\u001b[0m\n\u001b[0;32m   1216\u001b[0m     \u001b[0msumrk\u001b[0m \u001b[1;33m=\u001b[0m \u001b[0mranks\u001b[0m\u001b[1;33m.\u001b[0m\u001b[0msum\u001b[0m\u001b[1;33m(\u001b[0m\u001b[1;33m-\u001b[0m\u001b[1;36m1\u001b[0m\u001b[1;33m)\u001b[0m\u001b[1;33m\u001b[0m\u001b[1;33m\u001b[0m\u001b[0m\n",
      "\u001b[1;32mc:\\users\\user\\appdata\\local\\programs\\python\\python37\\lib\\site-packages\\scipy\\stats\\mstats_basic.py\u001b[0m in \u001b[0;36margstoarray\u001b[1;34m(*args)\u001b[0m\n\u001b[0;32m    117\u001b[0m         \u001b[0moutput\u001b[0m \u001b[1;33m=\u001b[0m \u001b[0mma\u001b[0m\u001b[1;33m.\u001b[0m\u001b[0masarray\u001b[0m\u001b[1;33m(\u001b[0m\u001b[0margs\u001b[0m\u001b[1;33m[\u001b[0m\u001b[1;36m0\u001b[0m\u001b[1;33m]\u001b[0m\u001b[1;33m)\u001b[0m\u001b[1;33m\u001b[0m\u001b[1;33m\u001b[0m\u001b[0m\n\u001b[0;32m    118\u001b[0m         \u001b[1;32mif\u001b[0m \u001b[0moutput\u001b[0m\u001b[1;33m.\u001b[0m\u001b[0mndim\u001b[0m \u001b[1;33m!=\u001b[0m \u001b[1;36m2\u001b[0m\u001b[1;33m:\u001b[0m\u001b[1;33m\u001b[0m\u001b[1;33m\u001b[0m\u001b[0m\n\u001b[1;32m--> 119\u001b[1;33m             \u001b[1;32mraise\u001b[0m \u001b[0mValueError\u001b[0m\u001b[1;33m(\u001b[0m\u001b[1;34m\"The input should be 2D\"\u001b[0m\u001b[1;33m)\u001b[0m\u001b[1;33m\u001b[0m\u001b[1;33m\u001b[0m\u001b[0m\n\u001b[0m\u001b[0;32m    120\u001b[0m     \u001b[1;32melse\u001b[0m\u001b[1;33m:\u001b[0m\u001b[1;33m\u001b[0m\u001b[1;33m\u001b[0m\u001b[0m\n\u001b[0;32m    121\u001b[0m         \u001b[0mn\u001b[0m \u001b[1;33m=\u001b[0m \u001b[0mlen\u001b[0m\u001b[1;33m(\u001b[0m\u001b[0margs\u001b[0m\u001b[1;33m)\u001b[0m\u001b[1;33m\u001b[0m\u001b[1;33m\u001b[0m\u001b[0m\n",
      "\u001b[1;31mValueError\u001b[0m: The input should be 2D"
     ]
    }
   ],
   "source": [
    "kruskalwallis([x for x in ess_meet_df[['cntry', 'sclmeet']].dropna(axis=0).groupby('cntry')['sclmeet'].agg(list).values])"
   ]
  },
  {
   "cell_type": "markdown",
   "metadata": {},
   "source": [
    "There is definitely some variation in the groups. Ttest shows this but nonparametric test is not accepting input."
   ]
  },
  {
   "cell_type": "markdown",
   "metadata": {},
   "source": [
    "# 6\n",
    "Pick three or four of the countries in the sample and compare how often people took part in social activities, relative to others their age, in 2014. Are there differences, and if so, which countries stand out?"
   ]
  },
  {
   "cell_type": "code",
   "execution_count": 396,
   "metadata": {},
   "outputs": [
    {
     "data": {
      "text/plain": [
       "cntry\n",
       "CH    (0.9381475448608398, 0.0015295783523470163)\n",
       "NO    (0.8524107336997986, 5.989354008306691e-07)\n",
       "SE    (0.9190481901168823, 0.0001941850787261501)\n",
       "dtype: object"
      ]
     },
     "execution_count": 396,
     "metadata": {},
     "output_type": "execute_result"
    }
   ],
   "source": [
    "social = (ess_df[(ess_df.year == 7) & ess_df.cntry.isin(['CH', 'NO', 'SE'])][['cntry', 'sclact', 'agea']]\n",
    "          .groupby(['cntry','agea'])\n",
    "          .agg(np.mean))\n",
    "social = social.unstack().T.dropna(axis=0).droplevel(0).astype(float)\n",
    "social.apply(shapiro)"
   ]
  },
  {
   "cell_type": "markdown",
   "metadata": {},
   "source": [
    "The Distributions are Normal. We can use parametric tests to compare these."
   ]
  },
  {
   "cell_type": "code",
   "execution_count": 398,
   "metadata": {},
   "outputs": [
    {
     "data": {
      "text/plain": [
       "F_onewayResult(statistic=1.5970785038778121, pvalue=0.009326453064557916)"
      ]
     },
     "execution_count": 398,
     "metadata": {},
     "output_type": "execute_result"
    }
   ],
   "source": [
    "f_oneway(*social.values)"
   ]
  },
  {
   "cell_type": "markdown",
   "metadata": {},
   "source": [
    "The means are not all similar."
   ]
  },
  {
   "cell_type": "code",
   "execution_count": 392,
   "metadata": {
    "scrolled": false
   },
   "outputs": [
    {
     "data": {
      "text/plain": [
       "Ttest_relResult(statistic=-1.455086614801216, pvalue=0.1500524894949184)"
      ]
     },
     "execution_count": 392,
     "metadata": {},
     "output_type": "execute_result"
    }
   ],
   "source": [
    "ttest_rel(social.loc[:,'CH'].values, social.loc[:,'NO'].values)"
   ]
  },
  {
   "cell_type": "code",
   "execution_count": 393,
   "metadata": {},
   "outputs": [
    {
     "data": {
      "text/plain": [
       "Ttest_relResult(statistic=-0.8880312297894127, pvalue=0.3775225159813196)"
      ]
     },
     "execution_count": 393,
     "metadata": {},
     "output_type": "execute_result"
    }
   ],
   "source": [
    "ttest_rel(social.loc[:,'CH'].values, social.loc[:,'SE'].values)"
   ]
  },
  {
   "cell_type": "code",
   "execution_count": 394,
   "metadata": {},
   "outputs": [
    {
     "data": {
      "text/plain": [
       "Ttest_relResult(statistic=-0.6752955985470775, pvalue=0.5016813923903858)"
      ]
     },
     "execution_count": 394,
     "metadata": {},
     "output_type": "execute_result"
    }
   ],
   "source": [
    "ttest_rel(social.loc[:,'SE'].values, social.loc[:,'NO'].values)"
   ]
  },
  {
   "cell_type": "markdown",
   "metadata": {},
   "source": [
    "In fact, they all are significantly different."
   ]
  },
  {
   "cell_type": "code",
   "execution_count": 408,
   "metadata": {},
   "outputs": [
    {
     "data": {
      "image/png": "[encoded data removed]",
      "text/plain": [
       "<Figure size 432x288 with 1 Axes>"
      ]
     },
     "metadata": {
      "needs_background": "light"
     },
     "output_type": "display_data"
    }
   ],
   "source": [
    "sns.violinplot(data=social);"
   ]
  },
  {
   "cell_type": "code",
   "execution_count": null,
   "metadata": {},
   "outputs": [],
   "source": []
  }
 ],
 "metadata": {
  "kernelspec": {
   "display_name": "Python 3",
   "language": "python",
   "name": "python3"
  },
  "language_info": {
   "codemirror_mode": {
    "name": "ipython",
    "version": 3
   },
   "file_extension": ".py",
   "mimetype": "text/x-python",
   "name": "python",
   "nbconvert_exporter": "python",
   "pygments_lexer": "ipython3",
   "version": "3.7.4"
  }
 },
 "nbformat": 4,
 "nbformat_minor": 2
}
